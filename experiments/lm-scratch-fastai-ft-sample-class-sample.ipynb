{
 "cells": [
  {
   "cell_type": "markdown",
   "metadata": {},
   "source": [
    "### Imports"
   ]
  },
  {
   "cell_type": "code",
   "execution_count": 1,
   "metadata": {},
   "outputs": [
    {
     "name": "stdout",
     "output_type": "stream",
     "text": [
      "/home/ds/DataScience/home/ademyanchuk/Projects/ulmfit-multilingual\n"
     ]
    }
   ],
   "source": [
    "%cd .."
   ]
  },
  {
   "cell_type": "code",
   "execution_count": 2,
   "metadata": {},
   "outputs": [
    {
     "name": "stdout",
     "output_type": "stream",
     "text": [
      "/home/ds/DataScience/home/ademyanchuk/Projects/ulmfit-multilingual\r\n"
     ]
    }
   ],
   "source": [
    "!pwd"
   ]
  },
  {
   "cell_type": "code",
   "execution_count": 3,
   "metadata": {},
   "outputs": [],
   "source": [
    "%reload_ext autoreload\n",
    "%autoreload 2\n",
    "%matplotlib inline"
   ]
  },
  {
   "cell_type": "code",
   "execution_count": 4,
   "metadata": {},
   "outputs": [],
   "source": [
    "from fastai.text import *"
   ]
  },
  {
   "cell_type": "code",
   "execution_count": 5,
   "metadata": {},
   "outputs": [],
   "source": [
    "from ulmfit.pretrain_lm import *"
   ]
  },
  {
   "cell_type": "code",
   "execution_count": 6,
   "metadata": {},
   "outputs": [],
   "source": [
    "cuda_id = 1\n",
    "torch.cuda.set_device(cuda_id)"
   ]
  },
  {
   "cell_type": "markdown",
   "metadata": {
    "heading_collapsed": true
   },
   "source": [
    "### Preparing data"
   ]
  },
  {
   "cell_type": "code",
   "execution_count": 7,
   "metadata": {
    "hidden": true
   },
   "outputs": [],
   "source": [
    "# batch size\n",
    "bs = 20"
   ]
  },
  {
   "cell_type": "code",
   "execution_count": 8,
   "metadata": {
    "hidden": true
   },
   "outputs": [],
   "source": [
    "# use data from smaller sample of wiki\n",
    "# data is recieved through prepare_wiki.sh script\n",
    "wiki_data_path = Path('data/wiki/ru-2/')"
   ]
  },
  {
   "cell_type": "code",
   "execution_count": 9,
   "metadata": {
    "hidden": true
   },
   "outputs": [
    {
     "data": {
      "text/plain": [
       "[PosixPath('data/wiki/ru-2/ru.wiki.test.tokens'),\n",
       " PosixPath('data/wiki/ru-2/ru.wiki.valid.tokens'),\n",
       " PosixPath('data/wiki/ru-2/ru.wiki.train.tokens'),\n",
       " PosixPath('data/wiki/ru-2/models'),\n",
       " PosixPath('data/wiki/ru-2/tmp_lm')]"
      ]
     },
     "execution_count": 9,
     "metadata": {},
     "output_type": "execute_result"
    }
   ],
   "source": [
    "wiki_data_path.ls()"
   ]
  },
  {
   "cell_type": "code",
   "execution_count": 9,
   "metadata": {
    "hidden": true
   },
   "outputs": [],
   "source": [
    "# provide train and valid path\n",
    "trn_path = wiki_data_path/'ru.wiki.train.tokens'\n",
    "val_path = wiki_data_path/'ru.wiki.valid.tokens'"
   ]
  },
  {
   "cell_type": "code",
   "execution_count": 11,
   "metadata": {
    "hidden": true
   },
   "outputs": [],
   "source": [
    "# create a databunch object from data_frames\n",
    "# data_frames are provided through `read_wiki_articles` function\n",
    "# from `ulmfit.pretrain_lm`\n",
    "data_lm = TextLMDataBunch.from_df(path=wiki_data_path, train_df=read_wiki_articles(trn_path),\n",
    "                                  valid_df=read_wiki_articles(val_path), \n",
    "                                  classes=None, bs=bs, text_cols='texts')"
   ]
  },
  {
   "cell_type": "code",
   "execution_count": 15,
   "metadata": {
    "hidden": true
   },
   "outputs": [
    {
     "name": "stdout",
     "output_type": "stream",
     "text": [
      "Size of vocabulary: 59184\n",
      "First 20 words in vocab: ['xxunk', 'xxpad', 'xxbos', 'xxfld', 'xxmaj', 'xxup', 'xxrep', 'xxwrep', ',', '.', 'в', 'и', '\\n\\n', 'на', '«', '»', '\\n', ')', '(', '—']\n"
     ]
    }
   ],
   "source": [
    "itos, stoi, trn_path = data_lm.vocab.itos, data_lm.vocab.stoi, data_lm.path\n",
    "print('Size of vocabulary:', len(itos))\n",
    "print('First 20 words in vocab:', data_lm.vocab.itos[:20])"
   ]
  },
  {
   "cell_type": "code",
   "execution_count": 32,
   "metadata": {
    "hidden": true
   },
   "outputs": [
    {
     "data": {
      "text/plain": [
       "(3857, 447)"
      ]
     },
     "execution_count": 32,
     "metadata": {},
     "output_type": "execute_result"
    }
   ],
   "source": [
    "len(data_lm.train_ds), len(data_lm.valid_ds)"
   ]
  },
  {
   "cell_type": "code",
   "execution_count": 22,
   "metadata": {
    "hidden": true,
    "scrolled": true
   },
   "outputs": [
    {
     "data": {
      "text/plain": [
       "Text xxbos = xxmaj розовая чайка = \n",
       " xxmaj розовая чайка \n",
       "\n",
       " xxmaj розовая чайка ( ) — вид птиц из семейства xxunk ( xxmaj xxunk ) , единственный в роде розовых чаек ( & ' xxmaj xxunk & ' ) . \n",
       "\n",
       " xxmaj описание . \n",
       " xxmaj длина тела около 35 см . xxmaj спина и верх крыльев серо - xxunk , голова , грудь и xxunk розовые , на шее узкий чёрный xxunk . xxmaj клюв чёрный , ноги красные . xxmaj хвост xxunk формы . \n",
       "\n",
       " xxmaj полёт розовой чайки лёгкий , напоминающий полёт xxunk . xxmaj по отношению к человеку птица обычно мало xxunk и xxunk . xxmaj на море она главным образом держится на плавающих xxunk , а вот в тундре , на озёрах , чайка часто садится на воду и даже купается . \n",
       "\n",
       " xxmaj вокализация . \n",
       " xxmaj голос этого вида гораздо выше и xxunk , чем у других чаек , и отличается большим разнообразием . xxmaj чаще всего xxunk крик вроде « э - у , э - у » ; xxunk , они издают короткий крик « вя , вя , вя » , если очень xxunk — « xxunk - xxunk » , а при нападении другой чайки того же вида или xxunk кричат « э - xxunk , э - xxunk » . \n",
       "\n",
       " xxmaj питание . \n",
       " xxmaj питается насекомыми , мелкими xxunk , в период xxunk — рыбой и ракообразными . \n",
       "\n",
       " xxmaj размножение . \n",
       " xxmaj гнездится розовая чайка в тундре и xxunk по берегам озёр xxmaj восточной xxmaj сибири в xxunk северных рек — xxmaj xxunk , xxmaj xxunk , xxmaj колымы , xxmaj xxunk . xxmaj небольшое поселение ( несколько десятков пар ) существует на xxmaj xxunk . xxmaj места xxunk этих птиц находятся в мокрой равнинной тундре и xxunk , часто на xxunk многочисленных озёр . в кладке 3 , реже 2 яйца . xxmaj xxunk около 3 недель . \n",
       "\n",
       " xxmaj чайка xxunk небольшими , до 20 пар , xxunk колониями , в которых гнездо от гнезда располагается на расстоянии до 100 метров , часто по соседству с другими xxunk видами — xxunk xxunk и полярной xxunk . \n",
       "\n",
       " xxmaj известный орнитолог xxup с. xxup а. xxmaj xxunk так описывает xxunk церемонии розовых чаек : « xxmaj самец всячески выражает xxunk свою xxunk , то как - то xxunk или xxunk ей шею открытым xxunk , то время от времени начинает xxunk перед ней xxunk и вперед , несколько xxunk зоб , и затем с какой - то xxunk или xxunk „ т xxrep 5 р “ xxunk совершенно переднюю половину туловища к земле ( точнее , ко льду и xxunk ) , поднимая высоко вверх заднюю половину с хвостом и сложенными крыльями , и продолжает эту xxunk несколько секунд , делая в этом положении несколько шагов туда и сюда . xxmaj иногда этим упражнениям xxunk и самка » . \n",
       "\n",
       " xxmaj гнездо чайка строит на земле из сухой травы , старых стеблей xxunk , листьев карликовой березы и мха . xxmaj так как все сооружение расположено на болотистых участках , в нём обычно xxunk . в кладке 2 — 3 яйца зеленовато - xxunk цвета с xxunk - коричневыми пятнами . xxmaj xxunk кладку обе птицы . xxmaj родители активно защищают своё гнездо от крупных чаек и xxunk . \n",
       "\n",
       " в конце xxunk полярного лета молодые птицы встают на крыло и начинают xxunk вместе с родителями . в это время они частые гости xxunk поселков , на окраинах которых xxunk . с наступлением xxunk чайки xxunk на север , к xxmaj xxunk океану , где и зимуют , xxunk открытых участков воды . xxmaj на xxunk розовые чайки xxunk мелкой рыбой и ракообразными в отличие от гнездового периода , когда их рацион состоит в основном из насекомых и их личинок . \n",
       "\n",
       " xxmaj места расположения колоний могут меняться время от времени из - за неблагоприятных погодных условий . \n",
       "\n",
       " xxmaj распространение . \n",
       " xxmaj распространена на северо - востоке xxmaj сибири ( от реки xxmaj xxunk до западной окраины xxmaj чукотского полуострова ) и xxmaj западной xxmaj гренландии . xxmaj зимой xxunk в открытых водах xxmaj северного xxmaj ледовитого океана , проникая в xxmaj северную xxmaj xxunk и xxmaj берингово море . \n",
       "\n",
       " в период xxunk розовые чайки иногда xxunk далеко от мест , где они гнездятся или зимуют . xxmaj так , известны случаи появления их в xxmaj xxunk и xxmaj японском морях , xxmaj норвегии , xxmaj франции и xxmaj маньчжурии . xxmaj изредка регистрируются xxunk далеко на юг ( xxmaj ирландия , xxmaj калифорния ) . \n",
       "\n",
       " xxmaj xxunk статус . \n",
       " в годы сильных xxunk и xxunk птицы либо не гнездятся совсем , либо у них бывает всего одно яйцо в кладке . xxmaj как известно , численность мелких грызунов — xxunk в xxunk из года в год сильно меняется . xxmaj бывают периоды , когда эти мелкие xxunk , основной корм xxunk , исчезают совсем . xxmaj тогда xxunk xxunk буквально все живое в тундре . в первую очередь гибнут яйца и птенцы различных видов птиц , в том числе и розовых чаек . \n",
       "\n",
       " xxmaj раньше в xxunk годы xxunk стреляли розовых чаек для xxunk . в начале xxup xx века , когда на xxmaj xxunk довольно часто xxunk американские моряки , xxunk и охотники на морского xxunk , местное население xxunk этих xxunk птиц для изготовления чучел - xxunk . xxmaj тогда один экземпляр xxunk , необычно xxunk чайки стоил до 200 долларов . xxmaj xxunk стад домашних оленей через колонии , xxunk сбор яиц также отрицательно сказываются на численности розовой чайки . xxmaj всё это наряду с тем , что гнездовой ареал птиц весьма ограничен , вызывает серьёзное беспокойство за судьбу этого вида . \n",
       "\n",
       " xxmaj сегодня в xxmaj россии добыча этого вида полностью запрещена . xxmaj ученые xxunk наиболее крупные места xxunk розовой чайки с тем , чтобы в дальнейшем ввести там xxunk режим . \n",
       "\n",
       "\n"
      ]
     },
     "execution_count": 22,
     "metadata": {},
     "output_type": "execute_result"
    }
   ],
   "source": [
    "data_lm.train_ds[0][0]"
   ]
  },
  {
   "cell_type": "code",
   "execution_count": 24,
   "metadata": {
    "hidden": true
   },
   "outputs": [
    {
     "data": {
      "text/plain": [
       "array([    2,    28,     4, 19014, 19015,    28,    16,     4, 19014, 19015])"
      ]
     },
     "execution_count": 24,
     "metadata": {},
     "output_type": "execute_result"
    }
   ],
   "source": [
    "data_lm.train_ds[0][0].data[:10]"
   ]
  },
  {
   "cell_type": "code",
   "execution_count": 11,
   "metadata": {
    "hidden": true,
    "scrolled": true
   },
   "outputs": [
    {
     "data": {
      "text/html": [
       "<table>  <col width='5%'>  <col width='95%'>  <tr>\n",
       "    <th>idx</th>\n",
       "    <th>text</th>\n",
       "  </tr>\n",
       "  <tr>\n",
       "    <th>0</th>\n",
       "    <th>xxbos \\n = xxmaj шишмарёв , xxmaj глеб xxmaj семёнович = \\n xxmaj шишмарёв , xxmaj глеб xxmaj семёнович \\n\\n xxmaj глеб xxmaj семёнович xxmaj шишмарёв ( 1781 — 1835 ) — контр - адмирал , командир гвардейского экипажа , путешественник . \\n\\n xxmaj родился в 1781 году . xxmaj происходил из дворян xxmaj ржевского уезда , воспитывался в xxmaj морском кадетском корпусе , откуда выпущен гардемарином в 1801 году</th>\n",
       "  </tr>\n",
       "  <tr>\n",
       "    <th>1</th>\n",
       "    <th>xxunk землями между двумя государствами . к первым годам самостоятельного правления короля xxmaj альфонсо v относятся и безуспешные попытки графа xxmaj кастилии организовать несколько мятежей своих сторонников в xxmaj леоне . \\n\\n xxmaj окончательный разрыв отношений между графством xxmaj кастилия и королевством xxmaj леон произошёл в xxunk году , когда в xxmaj кастилии начались преследования сторонников союза с xxmaj леоном . xxmaj многие xxunk дворяне бежали ко двору короля xxmaj</th>\n",
       "  </tr>\n",
       "  <tr>\n",
       "    <th>2</th>\n",
       "    <th>войска xxmaj иоанна v xxmaj xxunk , xxmaj иван xxmaj александр сам стремился овладеть городом . в конце 1342 года xxmaj кантакузину пришлось опять просить помощи xxmaj умура , на этот раз против болгар . в начале 1343 года xxmaj умур прибыл со своим флотом в устье xxmaj дуная . xxmaj он высадился в устье xxmaj марицы , поднялся по её течению и xxunk болгар от xxmaj xxunk . xxmaj</th>\n",
       "  </tr>\n",
       "  <tr>\n",
       "    <th>3</th>\n",
       "    <th>верстах от xxmaj xxunk , 40 верстах от xxmaj xxunk . \\n\\n xxmaj культура . \\n 12 июля 2009 прошла встреча бывших жителей деревни . \\n xxbos \\n = xxmaj уилкинсон , xxmaj том = \\n xxmaj уилкинсон , xxmaj том \\n\\n xxmaj то ́ мас xxmaj дже ́ xxunk ( xxmaj том ) xxmaj уи ́ xxunk , известный как xxmaj том xxmaj уилкинсон ( ; род . 5</th>\n",
       "  </tr>\n",
       "  <tr>\n",
       "    <th>4</th>\n",
       "    <th>граф xxmaj суньер xxup ii и епископ xxmaj xxunk в 889 год прибыли ко двору короля xxmaj эда в xxmaj орлеане и получили от него xxunk хартию , согласно которой епископство xxmaj жирона получало значительные владения в графстве xxmaj осона , а покровителями епархии xxmaj жироны объявлялись графы xxmaj ампурьяса . xxmaj это было единственное появление одного из графов xxmaj испанской марки при дворе короля xxmaj эда за всё время</th>\n",
       "  </tr>\n",
       "</table>\n"
      ],
      "text/plain": [
       "<IPython.core.display.HTML object>"
      ]
     },
     "metadata": {},
     "output_type": "display_data"
    }
   ],
   "source": [
    "data_lm.show_batch()"
   ]
  },
  {
   "cell_type": "code",
   "execution_count": 33,
   "metadata": {
    "hidden": true
   },
   "outputs": [],
   "source": [
    "# save databunch\n",
    "data_lm.save('tmp_lm')"
   ]
  },
  {
   "cell_type": "code",
   "execution_count": 10,
   "metadata": {
    "hidden": true
   },
   "outputs": [],
   "source": [
    "# load databunch\n",
    "data_lm = TextLMDataBunch.load(wiki_data_path, 'tmp_lm', bs=bs)"
   ]
  },
  {
   "cell_type": "markdown",
   "metadata": {
    "hidden": true
   },
   "source": [
    "#### Create Learner and train Language Model"
   ]
  },
  {
   "cell_type": "code",
   "execution_count": 18,
   "metadata": {
    "hidden": true
   },
   "outputs": [],
   "source": [
    "# create learner for training on wiki from scratch\n",
    "learner = language_model_learner(data=data_lm, drop_mult=1.0)"
   ]
  },
  {
   "cell_type": "code",
   "execution_count": 19,
   "metadata": {
    "hidden": true
   },
   "outputs": [],
   "source": [
    "# change Adam default params\n",
    "learner.opt_func = partial(optim.Adam, betas=(0.8, 0.99))"
   ]
  },
  {
   "cell_type": "code",
   "execution_count": 20,
   "metadata": {
    "hidden": true
   },
   "outputs": [
    {
     "data": {
      "text/plain": [
       "[<function fastai.metrics.accuracy(input:torch.Tensor, targs:torch.LongTensor) -> <function NewType.<locals>.new_type at 0x7f0e929c6f28>>]"
      ]
     },
     "execution_count": 20,
     "metadata": {},
     "output_type": "execute_result"
    }
   ],
   "source": [
    "learner.metrics"
   ]
  },
  {
   "cell_type": "code",
   "execution_count": 21,
   "metadata": {
    "hidden": true
   },
   "outputs": [],
   "source": [
    "# add save callback\n",
    "learner.callback_fns += [partial(SaveModelCallback, every='epoch', name='lm')]"
   ]
  },
  {
   "cell_type": "code",
   "execution_count": 22,
   "metadata": {
    "hidden": true
   },
   "outputs": [
    {
     "data": {
      "text/plain": [
       "[fastai.basic_train.Recorder,\n",
       " functools.partial(<class 'fastai.callbacks.tracker.SaveModelCallback'>, every='epoch', name='lm')]"
      ]
     },
     "execution_count": 22,
     "metadata": {},
     "output_type": "execute_result"
    }
   ],
   "source": [
    "learner.callback_fns"
   ]
  },
  {
   "cell_type": "code",
   "execution_count": 23,
   "metadata": {
    "hidden": true
   },
   "outputs": [],
   "source": [
    "# unfreeze all layers\n",
    "learner.unfreeze()"
   ]
  },
  {
   "cell_type": "code",
   "execution_count": 24,
   "metadata": {
    "hidden": true,
    "scrolled": true
   },
   "outputs": [
    {
     "name": "stdout",
     "output_type": "stream",
     "text": [
      "LR Finder is complete, type {learner_name}.recorder.plot() to see the graph.\n"
     ]
    }
   ],
   "source": [
    "learner.lr_find()"
   ]
  },
  {
   "cell_type": "code",
   "execution_count": 25,
   "metadata": {
    "hidden": true
   },
   "outputs": [
    {
     "data": {
      "image/png": "[encoded data removed]",
      "text/plain": [
       "<Figure size 432x288 with 1 Axes>"
      ]
     },
     "metadata": {
      "needs_background": "light"
     },
     "output_type": "display_data"
    }
   ],
   "source": [
    "learner.recorder.plot(skip_end=15)"
   ]
  },
  {
   "cell_type": "code",
   "execution_count": 26,
   "metadata": {
    "hidden": true
   },
   "outputs": [],
   "source": [
    "# define non-default momentums\n",
    "moms=(0.8,0.7)"
   ]
  },
  {
   "cell_type": "code",
   "execution_count": 27,
   "metadata": {
    "hidden": true
   },
   "outputs": [
    {
     "data": {
      "text/html": [
       "Total time: 25:13 <p><table style='width:300px; margin-bottom:10px'>\n",
       "  <tr>\n",
       "    <th>epoch</th>\n",
       "    <th>train_loss</th>\n",
       "    <th>valid_loss</th>\n",
       "    <th>accuracy</th>\n",
       "  </tr>\n",
       "  <tr>\n",
       "    <th>1</th>\n",
       "    <th>5.712268</th>\n",
       "    <th>5.179298</th>\n",
       "    <th>0.296366</th>\n",
       "  </tr>\n",
       "  <tr>\n",
       "    <th>2</th>\n",
       "    <th>5.087754</th>\n",
       "    <th>4.683986</th>\n",
       "    <th>0.314654</th>\n",
       "  </tr>\n",
       "  <tr>\n",
       "    <th>3</th>\n",
       "    <th>4.970438</th>\n",
       "    <th>4.417627</th>\n",
       "    <th>0.329775</th>\n",
       "  </tr>\n",
       "  <tr>\n",
       "    <th>4</th>\n",
       "    <th>4.819845</th>\n",
       "    <th>4.289938</th>\n",
       "    <th>0.344446</th>\n",
       "  </tr>\n",
       "  <tr>\n",
       "    <th>5</th>\n",
       "    <th>4.646383</th>\n",
       "    <th>4.191298</th>\n",
       "    <th>0.353953</th>\n",
       "  </tr>\n",
       "  <tr>\n",
       "    <th>6</th>\n",
       "    <th>4.492280</th>\n",
       "    <th>4.109755</th>\n",
       "    <th>0.360973</th>\n",
       "  </tr>\n",
       "  <tr>\n",
       "    <th>7</th>\n",
       "    <th>4.467671</th>\n",
       "    <th>4.042253</th>\n",
       "    <th>0.369003</th>\n",
       "  </tr>\n",
       "  <tr>\n",
       "    <th>8</th>\n",
       "    <th>4.213881</th>\n",
       "    <th>3.995798</th>\n",
       "    <th>0.374132</th>\n",
       "  </tr>\n",
       "  <tr>\n",
       "    <th>9</th>\n",
       "    <th>4.056872</th>\n",
       "    <th>3.986120</th>\n",
       "    <th>0.375951</th>\n",
       "  </tr>\n",
       "  <tr>\n",
       "    <th>10</th>\n",
       "    <th>3.935030</th>\n",
       "    <th>3.984321</th>\n",
       "    <th>0.376229</th>\n",
       "  </tr>\n",
       "</table>\n"
      ],
      "text/plain": [
       "<IPython.core.display.HTML object>"
      ]
     },
     "metadata": {},
     "output_type": "display_data"
    }
   ],
   "source": [
    "learner.fit_one_cycle(10, 5e-3, moms=moms)"
   ]
  },
  {
   "cell_type": "code",
   "execution_count": 28,
   "metadata": {
    "hidden": true
   },
   "outputs": [],
   "source": [
    "# save model\n",
    "learner.save('ru-2-best')"
   ]
  },
  {
   "cell_type": "markdown",
   "metadata": {},
   "source": [
    "### Fine tune on ruSentEval"
   ]
  },
  {
   "cell_type": "code",
   "execution_count": 8,
   "metadata": {},
   "outputs": [],
   "source": [
    "# path for ruSentEval data\n",
    "rusent_data_path = Path('data/ruSentEval/')"
   ]
  },
  {
   "cell_type": "code",
   "execution_count": 9,
   "metadata": {},
   "outputs": [
    {
     "data": {
      "text/plain": [
       "[PosixPath('data/ruSentEval/texts.csv'),\n",
       " PosixPath('data/ruSentEval/models'),\n",
       " PosixPath('data/ruSentEval/tmp_clas'),\n",
       " PosixPath('data/ruSentEval/texts-sample.csv'),\n",
       " PosixPath('data/ruSentEval/tmp_lm'),\n",
       " PosixPath('data/ruSentEval/tmp_clas_sample'),\n",
       " PosixPath('data/ruSentEval/negative.csv'),\n",
       " PosixPath('data/ruSentEval/positive.csv')]"
      ]
     },
     "execution_count": 9,
     "metadata": {},
     "output_type": "execute_result"
    }
   ],
   "source": [
    "rusent_data_path.ls()"
   ]
  },
  {
   "cell_type": "code",
   "execution_count": 10,
   "metadata": {},
   "outputs": [],
   "source": [
    "# create LM DataBunch from csv (sample) which is done by `merge-and-sample-rusent.ipynb`\n",
    "data1_lm = TextLMDataBunch.from_csv(rusent_data_path, 'texts-sample.csv', bs=bs)"
   ]
  },
  {
   "cell_type": "code",
   "execution_count": 11,
   "metadata": {},
   "outputs": [
    {
     "name": "stdout",
     "output_type": "stream",
     "text": [
      "Size of vocabulary: 7797\n",
      "First 20 words in vocab: ['xxunk', 'xxpad', 'xxbos', 'xxfld', 'xxmaj', 'xxup', 'xxrep', 'xxwrep', ',', ')', '(', ':', '/', 'не', '.', 'я', 'и', 'в', '!', '\\n']\n",
      "data/ruSentEval\n"
     ]
    }
   ],
   "source": [
    "itos, stoi, data_path = data1_lm.vocab.itos, data1_lm.vocab.stoi, data1_lm.path\n",
    "print('Size of vocabulary:', len(itos))\n",
    "print('First 20 words in vocab:', itos[:20])\n",
    "print(str(data_path))"
   ]
  },
  {
   "cell_type": "code",
   "execution_count": 12,
   "metadata": {},
   "outputs": [
    {
     "data": {
      "text/plain": [
       "[PosixPath('data/ruSentEval/models/first-sample-cls.pth'),\n",
       " PosixPath('data/ruSentEval/models/third.pth'),\n",
       " PosixPath('data/ruSentEval/models/third-sample-cls.pth'),\n",
       " PosixPath('data/ruSentEval/models/first.pth'),\n",
       " PosixPath('data/ruSentEval/models/fit_head.pth'),\n",
       " PosixPath('data/ruSentEval/models/second-sample-cls.pth'),\n",
       " PosixPath('data/ruSentEval/models/itos.pkl'),\n",
       " PosixPath('data/ruSentEval/models/tmp.pth'),\n",
       " PosixPath('data/ruSentEval/models/fine_tuned_enc.pth'),\n",
       " PosixPath('data/ruSentEval/models/ru-2-best.pth'),\n",
       " PosixPath('data/ruSentEval/models/fine_tuned.pth'),\n",
       " PosixPath('data/ruSentEval/models/second.pth')]"
      ]
     },
     "execution_count": 12,
     "metadata": {},
     "output_type": "execute_result"
    }
   ],
   "source": [
    "(data1_lm.path/'models').ls()"
   ]
  },
  {
   "cell_type": "code",
   "execution_count": 13,
   "metadata": {},
   "outputs": [
    {
     "data": {
      "text/plain": [
       "(18146, 4537)"
      ]
     },
     "execution_count": 13,
     "metadata": {},
     "output_type": "execute_result"
    }
   ],
   "source": [
    "len(data1_lm.train_ds), len(data1_lm.valid_ds)"
   ]
  },
  {
   "cell_type": "code",
   "execution_count": 14,
   "metadata": {},
   "outputs": [],
   "source": [
    "# save data bunch \n",
    "data1_lm.save('tmp_lm_sample')"
   ]
  },
  {
   "cell_type": "code",
   "execution_count": 10,
   "metadata": {},
   "outputs": [],
   "source": [
    "data1_lm = TextLMDataBunch.load(rusent_data_path, 'tmp_lm_sample', bs=bs)"
   ]
  },
  {
   "cell_type": "code",
   "execution_count": 15,
   "metadata": {},
   "outputs": [
    {
     "data": {
      "text/html": [
       "<table>  <col width='5%'>  <col width='95%'>  <tr>\n",
       "    <th>idx</th>\n",
       "    <th>text</th>\n",
       "  </tr>\n",
       "  <tr>\n",
       "    <th>0</th>\n",
       "    <th>xxbos xxunk а я вот давно по этой причине не плакала ( ( ( xxmaj всё какие - то другие причины xxunk ... xxbos xxunk xxunk , ладно . а где ты xxunk ? у меня только xxunk часов будет ) xxbos и осталось пережить самую xxunk неделю в xxunk со всеми xxunk ( ( ( http : / / t.co / xxunk xxbos xxunk все обычно ) мала я</th>\n",
       "  </tr>\n",
       "  <tr>\n",
       "    <th>1</th>\n",
       "    <th>! * ; ( ( xxbos сестра xxunk , сказала маме что хочет xxunk xxunk xxrep 4 ) xxbos xxmaj наши мальчики - зайчики скоро уедут на xxunk xxrep 4 . ( ( 8 баб в одном \" классе \" это ж ужас xxrep 4 . ( ( ( xxbos как всегда на один xxmaj xxunk надежда в европе ) ну еще верим в xxmaj зенит хотя с такой xxunk</th>\n",
       "  </tr>\n",
       "  <tr>\n",
       "    <th>2</th>\n",
       "    <th>xxunk xxbos - xxmaj лёша . - что ? блин , ты меня xxunk . - xxup :d http : / / t.co / xxunk xxbos xxup rt xxunk : xxmaj завтра xxmaj день xxmaj конституции ! \" xxmaj единая xxmaj россия \" xxunk уроки xxunk xxmaj конституции xxup рф для xxunk ! xxmaj по - моему хорошая xxunk ) xxbos # followback а так хочется реветь ( ( приеду</th>\n",
       "  </tr>\n",
       "  <tr>\n",
       "    <th>3</th>\n",
       "    <th>:) xxunk xxunk :) ппц \" русский xxunk , хз кем пишется \" ппц ппц ппц ! xxbos xxup rt @askket : xxunk xxmaj xxunk : * * \\n и xxunk мне xxup бобра ) ) ) xxbos в xxmaj xxunk - xxmaj альфа xxunk и черный xxunk о_о xxbos xxup rt xxunk : xxmaj пиво со сметаной - новое средство набрать килограммы ) ) xxbos xxunk у меня была</th>\n",
       "  </tr>\n",
       "  <tr>\n",
       "    <th>4</th>\n",
       "    <th>там андрей и паша ) ) xxbos xxunk xxunk ну например меня называют xxmaj xxunk , xxmaj xxunk , xxmaj xxunk и тд ) ) ) xxbos xxup rt xxunk : а еще меня бесит , когда его фамилию пишут с xxunk я на конце :| xxmaj он xxunk , друзья . # xxunk # голос xxbos xxunk а я вот xxunk ) а ты я так понимаю будешь ждать</th>\n",
       "  </tr>\n",
       "</table>\n"
      ],
      "text/plain": [
       "<IPython.core.display.HTML object>"
      ]
     },
     "metadata": {},
     "output_type": "display_data"
    }
   ],
   "source": [
    "data1_lm.show_batch()"
   ]
  },
  {
   "cell_type": "markdown",
   "metadata": {},
   "source": [
    "#### Create Learner and Finetune model from pretrained fnames"
   ]
  },
  {
   "cell_type": "code",
   "execution_count": 16,
   "metadata": {},
   "outputs": [],
   "source": [
    "# pretrained model and vocab from first step of training LM\n",
    "pretrained_fnames = ['ru-2-best', 'itos']"
   ]
  },
  {
   "cell_type": "code",
   "execution_count": 17,
   "metadata": {},
   "outputs": [
    {
     "name": "stdout",
     "output_type": "stream",
     "text": [
      "Unknown tokens 3275, first 100: ['rt', 't.co', '\"', ':(', ':)', ':d', 'блин', ';)', ':-)', 'нг', ':((', ':-(', 'ахах', 'сижу', '=(', 'пойду', 'скучаю', 'болит', 'бля', 'ахаха', '=)', ':*', 'эх', ':3', 'о_о', 'смотрю', 'ахахах', 'пиздец', 'ладно', 'ненавижу', 'обидно', 'щас', 'сука', 'прям', 'твиттер', '\\xa0', 'блять', ':))', 'нету', 'жду', ':|', '\\xa0 ', 'капец', 'твит', 'боюсь', 'лень', ':(((', 'весело', 'гулять', '^_^', 'бл', 'євромайдан', 'забыла', 'аж', 'прости', 'посмотрела', 'вставать', 'тви', 'проснулась', 'больно', 'грустно', 'чувак', 'соскучилась', 'делаю', 'твои', 'пишу', 'заболела', ':-d', 'ааа', ':)))', 'сказали', 'o_o', 'ваще', 'иди', 'ddd', 'купила', 'ох', 'устала', 'каникулы', 'нахуй', 'болеть', 'даа', 'фотки', 'безумно', 'нечего', '️', 'иду', '^^', 'ахахаха', 'спокойной', 'смотрела', 'обожаю', 'твиттере', 'молодец', 'офигенный', 'поздравляю', 'лол', '♥', 'дааа', 'бесит']\n"
     ]
    }
   ],
   "source": [
    "# create learner and provide pretrained files to finetune wiki-LM with ruSentEval data\n",
    "learner = language_model_learner(data1_lm, pretrained_fnames=pretrained_fnames, drop_mult=0.3)"
   ]
  },
  {
   "cell_type": "code",
   "execution_count": 18,
   "metadata": {},
   "outputs": [],
   "source": [
    "learner.callback_fns += [partial(SaveModelCallback, every='epoch', name='lm')]"
   ]
  },
  {
   "cell_type": "code",
   "execution_count": 19,
   "metadata": {},
   "outputs": [],
   "source": [
    "learner.opt_func = partial(optim.Adam, betas=(0.8, 0.99))"
   ]
  },
  {
   "cell_type": "code",
   "execution_count": 20,
   "metadata": {},
   "outputs": [
    {
     "data": {
      "text/plain": [
       "[<function fastai.metrics.accuracy(input:torch.Tensor, targs:torch.LongTensor) -> <function NewType.<locals>.new_type at 0x7f2ccf7c3f28>>]"
      ]
     },
     "execution_count": 20,
     "metadata": {},
     "output_type": "execute_result"
    }
   ],
   "source": [
    "learner.metrics"
   ]
  },
  {
   "cell_type": "code",
   "execution_count": 21,
   "metadata": {},
   "outputs": [
    {
     "name": "stdout",
     "output_type": "stream",
     "text": [
      "LR Finder is complete, type {learner_name}.recorder.plot() to see the graph.\n"
     ]
    }
   ],
   "source": [
    "learner.lr_find()"
   ]
  },
  {
   "cell_type": "code",
   "execution_count": 22,
   "metadata": {},
   "outputs": [
    {
     "data": {
      "image/png": "[encoded data removed]",
      "text/plain": [
       "<Figure size 432x288 with 1 Axes>"
      ]
     },
     "metadata": {
      "needs_background": "light"
     },
     "output_type": "display_data"
    }
   ],
   "source": [
    "learner.recorder.plot(skip_end=15)"
   ]
  },
  {
   "cell_type": "code",
   "execution_count": 23,
   "metadata": {},
   "outputs": [],
   "source": [
    "moms = (0.8, 0.7)"
   ]
  },
  {
   "cell_type": "code",
   "execution_count": 24,
   "metadata": {},
   "outputs": [
    {
     "data": {
      "text/html": [
       "Total time: 00:12 <p><table style='width:300px; margin-bottom:10px'>\n",
       "  <tr>\n",
       "    <th>epoch</th>\n",
       "    <th>train_loss</th>\n",
       "    <th>valid_loss</th>\n",
       "    <th>accuracy</th>\n",
       "  </tr>\n",
       "  <tr>\n",
       "    <th>1</th>\n",
       "    <th>4.373447</th>\n",
       "    <th>4.082240</th>\n",
       "    <th>0.304349</th>\n",
       "  </tr>\n",
       "</table>\n"
      ],
      "text/plain": [
       "<IPython.core.display.HTML object>"
      ]
     },
     "metadata": {},
     "output_type": "display_data"
    }
   ],
   "source": [
    "# learning the same way as in fastai v1 examples\n",
    "learner.fit_one_cycle(1, 3e-2, moms=moms)"
   ]
  },
  {
   "cell_type": "code",
   "execution_count": 25,
   "metadata": {},
   "outputs": [],
   "source": [
    "learner.save('fit_head_sample')"
   ]
  },
  {
   "cell_type": "code",
   "execution_count": 34,
   "metadata": {
    "collapsed": true
   },
   "outputs": [
    {
     "data": {
      "text/plain": [
       "LanguageLearner(data=TextLMDataBunch;\n",
       "\n",
       "Train: LabelList\n",
       "y: LMLabel (181467 items)\n",
       "[Category 0, Category 0, Category 0, Category 0, Category 0]...\n",
       "Path: data/ruSentEval\n",
       "x: LMTextList (181467 items)\n",
       "[Text xxbos xxup rt xxunk : 2 часа на санках - xxunk ) прям как в детстве !, Text xxbos xxmaj нашла друга из xxmaj франции , который знает английский и немного xxunk русским ) ) xxmaj он ооочень классный ) ), Text xxbos xxmaj умер xxmaj джонни xxmaj депп . xxmaj проснулась в холодном поту . xxmaj присниться же такое ( ( \n",
       " xxmaj грусть . xxmaj печаль ., Text xxbos каждый раз я боюсь экзаменов \n",
       " и каждый раз нормально их сдаю \n",
       "\n",
       " но сегодня \n",
       " xxup сегодня xxup мне xxup пизда \n",
       " я не знаю нифига (, Text xxbos xxup rt @lisominizul : xxmaj едем , едем е , на военную кафедру :)]...\n",
       "Path: data/ruSentEval;\n",
       "\n",
       "Valid: LabelList\n",
       "y: LMLabel (45367 items)\n",
       "[Category 0, Category 0, Category 0, Category 0, Category 0]...\n",
       "Path: data/ruSentEval\n",
       "x: LMTextList (45367 items)\n",
       "[Text xxbos xxunk выкинуть то придется xxunk ! xxmaj хотя бы xxunk палкой ) ) ), Text xxbos xxmaj пойду почитаю историю , думаю возвращаться не буду . \n",
       " xxmaj спокойной ночи всем : ) \n",
       "  # xxmaj xxunk, Text xxbos @mozartwa почему бы и нет , xxmaj вас такая xxunk анонимных xxunk ) ) ), Text xxbos xxup rt xxunk : xxunk xxmaj это типо круто парень ... :), Text xxbos xxup rt @hazza_love69 : xxunk xxmaj удачной прогулки маньяков попугай ) )]...\n",
       "Path: data/ruSentEval;\n",
       "\n",
       "Test: None, model=SequentialRNN(\n",
       "  (0): RNNCore(\n",
       "    (encoder): Embedding(54221, 400, padding_idx=1)\n",
       "    (encoder_dp): EmbeddingDropout(\n",
       "      (emb): Embedding(54221, 400, padding_idx=1)\n",
       "    )\n",
       "    (rnns): ModuleList(\n",
       "      (0): WeightDropout(\n",
       "        (module): LSTM(400, 1150, batch_first=True)\n",
       "      )\n",
       "      (1): WeightDropout(\n",
       "        (module): LSTM(1150, 1150, batch_first=True)\n",
       "      )\n",
       "      (2): WeightDropout(\n",
       "        (module): LSTM(1150, 400, batch_first=True)\n",
       "      )\n",
       "    )\n",
       "    (input_dp): RNNDropout()\n",
       "    (hidden_dps): ModuleList(\n",
       "      (0): RNNDropout()\n",
       "      (1): RNNDropout()\n",
       "      (2): RNNDropout()\n",
       "    )\n",
       "  )\n",
       "  (1): LinearDecoder(\n",
       "    (decoder): Linear(in_features=400, out_features=54221, bias=True)\n",
       "    (output_dp): RNNDropout()\n",
       "  )\n",
       "), opt_func=functools.partial(<class 'torch.optim.adam.Adam'>, betas=(0.8, 0.99)), loss_func=<fastai.layers.FlattenedLoss object at 0x7f0641092438>, metrics=[<function accuracy at 0x7f0575ea9b70>], true_wd=True, bn_wd=True, wd=0.01, train_bn=True, path=PosixPath('data/ruSentEval'), model_dir='models', callback_fns=[<class 'fastai.basic_train.Recorder'>, functools.partial(<class 'fastai.callbacks.tracker.SaveModelCallback'>, every='epoch', name='lm')], callbacks=[RNNTrainer(learn=LanguageLearner(data=TextLMDataBunch;\n",
       "\n",
       "Train: LabelList\n",
       "y: LMLabel (181467 items)\n",
       "[Category 0, Category 0, Category 0, Category 0, Category 0]...\n",
       "Path: data/ruSentEval\n",
       "x: LMTextList (181467 items)\n",
       "[Text xxbos xxup rt xxunk : 2 часа на санках - xxunk ) прям как в детстве !, Text xxbos xxmaj нашла друга из xxmaj франции , который знает английский и немного xxunk русским ) ) xxmaj он ооочень классный ) ), Text xxbos xxmaj умер xxmaj джонни xxmaj депп . xxmaj проснулась в холодном поту . xxmaj присниться же такое ( ( \n",
       " xxmaj грусть . xxmaj печаль ., Text xxbos каждый раз я боюсь экзаменов \n",
       " и каждый раз нормально их сдаю \n",
       "\n",
       " но сегодня \n",
       " xxup сегодня xxup мне xxup пизда \n",
       " я не знаю нифига (, Text xxbos xxup rt @lisominizul : xxmaj едем , едем е , на военную кафедру :)]...\n",
       "Path: data/ruSentEval;\n",
       "\n",
       "Valid: LabelList\n",
       "y: LMLabel (45367 items)\n",
       "[Category 0, Category 0, Category 0, Category 0, Category 0]...\n",
       "Path: data/ruSentEval\n",
       "x: LMTextList (45367 items)\n",
       "[Text xxbos xxunk выкинуть то придется xxunk ! xxmaj хотя бы xxunk палкой ) ) ), Text xxbos xxmaj пойду почитаю историю , думаю возвращаться не буду . \n",
       " xxmaj спокойной ночи всем : ) \n",
       "  # xxmaj xxunk, Text xxbos @mozartwa почему бы и нет , xxmaj вас такая xxunk анонимных xxunk ) ) ), Text xxbos xxup rt xxunk : xxunk xxmaj это типо круто парень ... :), Text xxbos xxup rt @hazza_love69 : xxunk xxmaj удачной прогулки маньяков попугай ) )]...\n",
       "Path: data/ruSentEval;\n",
       "\n",
       "Test: None, model=SequentialRNN(\n",
       "  (0): RNNCore(\n",
       "    (encoder): Embedding(54221, 400, padding_idx=1)\n",
       "    (encoder_dp): EmbeddingDropout(\n",
       "      (emb): Embedding(54221, 400, padding_idx=1)\n",
       "    )\n",
       "    (rnns): ModuleList(\n",
       "      (0): WeightDropout(\n",
       "        (module): LSTM(400, 1150, batch_first=True)\n",
       "      )\n",
       "      (1): WeightDropout(\n",
       "        (module): LSTM(1150, 1150, batch_first=True)\n",
       "      )\n",
       "      (2): WeightDropout(\n",
       "        (module): LSTM(1150, 400, batch_first=True)\n",
       "      )\n",
       "    )\n",
       "    (input_dp): RNNDropout()\n",
       "    (hidden_dps): ModuleList(\n",
       "      (0): RNNDropout()\n",
       "      (1): RNNDropout()\n",
       "      (2): RNNDropout()\n",
       "    )\n",
       "  )\n",
       "  (1): LinearDecoder(\n",
       "    (decoder): Linear(in_features=400, out_features=54221, bias=True)\n",
       "    (output_dp): RNNDropout()\n",
       "  )\n",
       "), opt_func=functools.partial(<class 'torch.optim.adam.Adam'>, betas=(0.8, 0.99)), loss_func=<fastai.layers.FlattenedLoss object at 0x7f0641092438>, metrics=[<function accuracy at 0x7f0575ea9b70>], true_wd=True, bn_wd=True, wd=0.01, train_bn=True, path=PosixPath('data/ruSentEval'), model_dir='models', callback_fns=[<class 'fastai.basic_train.Recorder'>, functools.partial(<class 'fastai.callbacks.tracker.SaveModelCallback'>, every='epoch', name='lm')], callbacks=[...], layer_groups=[Sequential(\n",
       "  (0): WeightDropout(\n",
       "    (module): LSTM(400, 1150, batch_first=True)\n",
       "  )\n",
       "  (1): RNNDropout()\n",
       "), Sequential(\n",
       "  (0): WeightDropout(\n",
       "    (module): LSTM(1150, 1150, batch_first=True)\n",
       "  )\n",
       "  (1): RNNDropout()\n",
       "), Sequential(\n",
       "  (0): WeightDropout(\n",
       "    (module): LSTM(1150, 400, batch_first=True)\n",
       "  )\n",
       "  (1): RNNDropout()\n",
       "), Sequential(\n",
       "  (0): Embedding(54221, 400, padding_idx=1)\n",
       "  (1): EmbeddingDropout(\n",
       "    (emb): Embedding(54221, 400, padding_idx=1)\n",
       "  )\n",
       "  (2): LinearDecoder(\n",
       "    (decoder): Linear(in_features=400, out_features=54221, bias=True)\n",
       "    (output_dp): RNNDropout()\n",
       "  )\n",
       ")]), bptt=70, alpha=2.0, beta=1.0, adjust=False)], layer_groups=[Sequential(\n",
       "  (0): WeightDropout(\n",
       "    (module): LSTM(400, 1150, batch_first=True)\n",
       "  )\n",
       "  (1): RNNDropout()\n",
       "), Sequential(\n",
       "  (0): WeightDropout(\n",
       "    (module): LSTM(1150, 1150, batch_first=True)\n",
       "  )\n",
       "  (1): RNNDropout()\n",
       "), Sequential(\n",
       "  (0): WeightDropout(\n",
       "    (module): LSTM(1150, 400, batch_first=True)\n",
       "  )\n",
       "  (1): RNNDropout()\n",
       "), Sequential(\n",
       "  (0): Embedding(54221, 400, padding_idx=1)\n",
       "  (1): EmbeddingDropout(\n",
       "    (emb): Embedding(54221, 400, padding_idx=1)\n",
       "  )\n",
       "  (2): LinearDecoder(\n",
       "    (decoder): Linear(in_features=400, out_features=54221, bias=True)\n",
       "    (output_dp): RNNDropout()\n",
       "  )\n",
       ")])"
      ]
     },
     "execution_count": 34,
     "metadata": {},
     "output_type": "execute_result"
    }
   ],
   "source": [
    "learner.load('fit_head_sample')"
   ]
  },
  {
   "cell_type": "code",
   "execution_count": 26,
   "metadata": {},
   "outputs": [],
   "source": [
    "learner.unfreeze()"
   ]
  },
  {
   "cell_type": "code",
   "execution_count": 27,
   "metadata": {},
   "outputs": [
    {
     "name": "stdout",
     "output_type": "stream",
     "text": [
      "LR Finder is complete, type {learner_name}.recorder.plot() to see the graph.\n"
     ]
    }
   ],
   "source": [
    "learner.lr_find()"
   ]
  },
  {
   "cell_type": "code",
   "execution_count": 28,
   "metadata": {},
   "outputs": [
    {
     "data": {
      "image/png": "[encoded data removed]",
      "text/plain": [
       "<Figure size 432x288 with 1 Axes>"
      ]
     },
     "metadata": {
      "needs_background": "light"
     },
     "output_type": "display_data"
    }
   ],
   "source": [
    "learner.recorder.plot(skip_end=15)"
   ]
  },
  {
   "cell_type": "code",
   "execution_count": 29,
   "metadata": {},
   "outputs": [
    {
     "data": {
      "text/html": [
       "Total time: 02:38 <p><table style='width:300px; margin-bottom:10px'>\n",
       "  <tr>\n",
       "    <th>epoch</th>\n",
       "    <th>train_loss</th>\n",
       "    <th>valid_loss</th>\n",
       "    <th>accuracy</th>\n",
       "  </tr>\n",
       "  <tr>\n",
       "    <th>1</th>\n",
       "    <th>4.050154</th>\n",
       "    <th>4.029791</th>\n",
       "    <th>0.308869</th>\n",
       "  </tr>\n",
       "  <tr>\n",
       "    <th>2</th>\n",
       "    <th>3.970905</th>\n",
       "    <th>3.950660</th>\n",
       "    <th>0.316556</th>\n",
       "  </tr>\n",
       "  <tr>\n",
       "    <th>3</th>\n",
       "    <th>3.867994</th>\n",
       "    <th>3.895064</th>\n",
       "    <th>0.323656</th>\n",
       "  </tr>\n",
       "  <tr>\n",
       "    <th>4</th>\n",
       "    <th>3.736855</th>\n",
       "    <th>3.872441</th>\n",
       "    <th>0.326589</th>\n",
       "  </tr>\n",
       "  <tr>\n",
       "    <th>5</th>\n",
       "    <th>3.606239</th>\n",
       "    <th>3.863724</th>\n",
       "    <th>0.327692</th>\n",
       "  </tr>\n",
       "  <tr>\n",
       "    <th>6</th>\n",
       "    <th>3.471198</th>\n",
       "    <th>3.874571</th>\n",
       "    <th>0.327271</th>\n",
       "  </tr>\n",
       "  <tr>\n",
       "    <th>7</th>\n",
       "    <th>3.363645</th>\n",
       "    <th>3.888185</th>\n",
       "    <th>0.326519</th>\n",
       "  </tr>\n",
       "  <tr>\n",
       "    <th>8</th>\n",
       "    <th>3.261220</th>\n",
       "    <th>3.904865</th>\n",
       "    <th>0.325957</th>\n",
       "  </tr>\n",
       "  <tr>\n",
       "    <th>9</th>\n",
       "    <th>3.203301</th>\n",
       "    <th>3.912884</th>\n",
       "    <th>0.324692</th>\n",
       "  </tr>\n",
       "  <tr>\n",
       "    <th>10</th>\n",
       "    <th>3.183055</th>\n",
       "    <th>3.917482</th>\n",
       "    <th>0.324640</th>\n",
       "  </tr>\n",
       "</table>\n"
      ],
      "text/plain": [
       "<IPython.core.display.HTML object>"
      ]
     },
     "metadata": {},
     "output_type": "display_data"
    }
   ],
   "source": [
    "learner.fit_one_cycle(10, 1e-3, moms=moms)"
   ]
  },
  {
   "cell_type": "code",
   "execution_count": 30,
   "metadata": {},
   "outputs": [],
   "source": [
    "# save fine_tuned model\n",
    "learner.save('fine_tuned_sample')"
   ]
  },
  {
   "cell_type": "code",
   "execution_count": 31,
   "metadata": {},
   "outputs": [],
   "source": [
    "# check text generation with LM\n",
    "TEXT = \"сегодня утром я\"\n",
    "N_WORDS = 10\n",
    "N_SENTENCES = 2"
   ]
  },
  {
   "cell_type": "code",
   "execution_count": 32,
   "metadata": {},
   "outputs": [
    {
     "name": "stdout",
     "output_type": "stream",
     "text": [
      "сегодня утром я называется офигеть менять постель убирать проверяет поехать сцены выглядит пам\n",
      "сегодня утром я всë полина тупее невозможно спросил @rykov проезд просто болят федор\n"
     ]
    }
   ],
   "source": [
    "print(\"\\n\".join(learner.predict(TEXT, N_WORDS, temperature=0.75) for _ in range(N_SENTENCES)))"
   ]
  },
  {
   "cell_type": "code",
   "execution_count": 33,
   "metadata": {},
   "outputs": [],
   "source": [
    "# save finetuned models encoder to use for classification task\n",
    "learner.save_encoder('fine_tuned__sample_enc')"
   ]
  },
  {
   "cell_type": "markdown",
   "metadata": {},
   "source": [
    "### Classifier"
   ]
  },
  {
   "cell_type": "code",
   "execution_count": 34,
   "metadata": {},
   "outputs": [
    {
     "data": {
      "text/plain": [
       "[PosixPath('data/ruSentEval/texts.csv'),\n",
       " PosixPath('data/ruSentEval/models'),\n",
       " PosixPath('data/ruSentEval/tmp_clas'),\n",
       " PosixPath('data/ruSentEval/texts-sample.csv'),\n",
       " PosixPath('data/ruSentEval/tmp_lm'),\n",
       " PosixPath('data/ruSentEval/tmp_clas_sample'),\n",
       " PosixPath('data/ruSentEval/negative.csv'),\n",
       " PosixPath('data/ruSentEval/tmp_lm_sample'),\n",
       " PosixPath('data/ruSentEval/positive.csv')]"
      ]
     },
     "execution_count": 34,
     "metadata": {},
     "output_type": "execute_result"
    }
   ],
   "source": [
    "rusent_data_path.ls()"
   ]
  },
  {
   "cell_type": "code",
   "execution_count": 41,
   "metadata": {},
   "outputs": [],
   "source": [
    "# create classification databunch, please note usage of LM vocab\n",
    "data_clas = (TextList.from_csv(path=rusent_data_path, csv_name='texts-sample.csv',\n",
    "                               cols='text', vocab=data1_lm.vocab)\n",
    "             .split_from_df()\n",
    "             .label_from_df(cols='label')\n",
    "             .databunch(bs=96))"
   ]
  },
  {
   "cell_type": "code",
   "execution_count": 42,
   "metadata": {},
   "outputs": [],
   "source": [
    "# save for future use\n",
    "data_clas.save('tmp_ft_clas_sample')"
   ]
  },
  {
   "cell_type": "code",
   "execution_count": 35,
   "metadata": {},
   "outputs": [],
   "source": [
    "data_clas = TextClasDataBunch.load(rusent_data_path, 'tmp_ft_clas_sample', bs=96)"
   ]
  },
  {
   "cell_type": "code",
   "execution_count": 43,
   "metadata": {
    "scrolled": true
   },
   "outputs": [
    {
     "data": {
      "text/plain": [
       "7797"
      ]
     },
     "execution_count": 43,
     "metadata": {},
     "output_type": "execute_result"
    }
   ],
   "source": [
    "len(data_clas.vocab.itos)"
   ]
  },
  {
   "cell_type": "code",
   "execution_count": 44,
   "metadata": {},
   "outputs": [
    {
     "data": {
      "text/html": [
       "<table>  <col width='90%'>  <col width='10%'>  <tr>\n",
       "    <th>text</th>\n",
       "    <th>target</th>\n",
       "  </tr>\n",
       "  <tr>\n",
       "    <th>xxbos и xxup почему именно xxup так xxrep 5 ? xxrep 5 . / / и xxrep 4 . xxup это xxup же ужас xxup просто xxrep 4 . xxrep 5 ( какой - то xxrep 4 . xxup вообще xxrep 4 . / / xxrep 5 ( и xxup что xxup это xxup за xxup хрень , с xxup головой у xxup меня ! ! ? ?</th>\n",
       "    <th>negative</th>\n",
       "  </tr>\n",
       "  <tr>\n",
       "    <th>xxbos мама узнала , xxup какой у меня xxunk xxunk . xxmaj xxunk на меня , пздц . xxup вот , xxup это xxup всё , xxup потому xxup что xxup мясо xxup не xxup ешь . xxup ничо xxup не xxup ешь . и всё в этом xxunk ; (</th>\n",
       "    <th>negative</th>\n",
       "  </tr>\n",
       "  <tr>\n",
       "    <th>xxbos xxup rt xxup xxunk _ : xxup ну xxup xxunk xxup никто xxup xxunk xxup xxunk ? в xxup xxunk xxup раз xxup вас xxup была xxup чуть xxup ле xxup ни xxup xxunk . \\n xxup xxunk xxup xxunk xxup xxunk : ( xxup все # xxup rt</th>\n",
       "    <th>negative</th>\n",
       "  </tr>\n",
       "  <tr>\n",
       "    <th>xxbos xxup rt xxunk : xxup вот xxup что я xxup прочитал xxup xxunk xxup от xxup этого xxup меня и xxup вынесло и xxup стало xxup обидно xxup до xxup слез xxup не xxup дай xxup бог xxup джаред xxup это xxup xxunk xxup ужас ( htt …</th>\n",
       "    <th>negative</th>\n",
       "  </tr>\n",
       "  <tr>\n",
       "    <th>xxbos xxup привет xxup xxunk \\n я xxup пришла xxup домой \\n xxup сегодня xxup настроение \\n xxup не xxup такое xxup как xxup вчера \\n xxup но xxup все xxup равно \\n xxup отличное .. \\n а у xxup вас xxup как xxup дела ? ) \\n ^_^</th>\n",
       "    <th>positive</th>\n",
       "  </tr>\n",
       "</table>\n"
      ],
      "text/plain": [
       "<IPython.core.display.HTML object>"
      ]
     },
     "metadata": {},
     "output_type": "display_data"
    }
   ],
   "source": [
    "data_clas.show_batch()"
   ]
  },
  {
   "cell_type": "code",
   "execution_count": 45,
   "metadata": {},
   "outputs": [
    {
     "data": {
      "text/plain": [
       "(20457, 2226)"
      ]
     },
     "execution_count": 45,
     "metadata": {},
     "output_type": "execute_result"
    }
   ],
   "source": [
    "len(data_clas.train_ds), len(data_clas.valid_ds)"
   ]
  },
  {
   "cell_type": "code",
   "execution_count": 46,
   "metadata": {},
   "outputs": [],
   "source": [
    "# create learner and train\n",
    "# train classifier as in fastai imdb example\n",
    "learner = text_classifier_learner(data=data_clas, drop_mult=0.5)"
   ]
  },
  {
   "cell_type": "code",
   "execution_count": 47,
   "metadata": {},
   "outputs": [],
   "source": [
    "# load fine tuned encoder\n",
    "learner.load_encoder('fine_tuned__sample_enc')"
   ]
  },
  {
   "cell_type": "code",
   "execution_count": 48,
   "metadata": {},
   "outputs": [],
   "source": [
    "learner.freeze()"
   ]
  },
  {
   "cell_type": "code",
   "execution_count": 49,
   "metadata": {},
   "outputs": [
    {
     "name": "stdout",
     "output_type": "stream",
     "text": [
      "LR Finder is complete, type {learner_name}.recorder.plot() to see the graph.\n"
     ]
    }
   ],
   "source": [
    "learner.lr_find()"
   ]
  },
  {
   "cell_type": "code",
   "execution_count": 50,
   "metadata": {},
   "outputs": [
    {
     "data": {
      "image/png": "[encoded data removed]",
      "text/plain": [
       "<Figure size 432x288 with 1 Axes>"
      ]
     },
     "metadata": {
      "needs_background": "light"
     },
     "output_type": "display_data"
    }
   ],
   "source": [
    "learner.recorder.plot()"
   ]
  },
  {
   "cell_type": "code",
   "execution_count": 51,
   "metadata": {},
   "outputs": [],
   "source": [
    "moms=(0.8,0.7)"
   ]
  },
  {
   "cell_type": "code",
   "execution_count": 52,
   "metadata": {},
   "outputs": [
    {
     "data": {
      "text/html": [
       "Total time: 00:07 <p><table style='width:300px; margin-bottom:10px'>\n",
       "  <tr>\n",
       "    <th>epoch</th>\n",
       "    <th>train_loss</th>\n",
       "    <th>valid_loss</th>\n",
       "    <th>accuracy</th>\n",
       "  </tr>\n",
       "  <tr>\n",
       "    <th>1</th>\n",
       "    <th>0.298604</th>\n",
       "    <th>0.225152</th>\n",
       "    <th>0.893980</th>\n",
       "  </tr>\n",
       "</table>\n"
      ],
      "text/plain": [
       "<IPython.core.display.HTML object>"
      ]
     },
     "metadata": {},
     "output_type": "display_data"
    }
   ],
   "source": [
    "learner.fit_one_cycle(1, 1e-2, moms=moms)"
   ]
  },
  {
   "cell_type": "code",
   "execution_count": 53,
   "metadata": {},
   "outputs": [],
   "source": [
    "learner.save('first-ft-class-sample')"
   ]
  },
  {
   "cell_type": "code",
   "execution_count": 38,
   "metadata": {
    "collapsed": true
   },
   "outputs": [
    {
     "data": {
      "text/plain": [
       "RNNLearner(data=TextClasDataBunch;\n",
       "\n",
       "Train: LabelList\n",
       "y: CategoryList (204089 items)\n",
       "[Category positive, Category positive, Category positive, Category positive, Category positive]...\n",
       "Path: .\n",
       "x: TextList (204089 items)\n",
       "[Text xxbos xxunk хоть я и школота , но поверь , у нас то же самое xxup :d общество xxunk предмет типа ), Text xxbos xxmaj да , все - таки он немного похож на него . xxmaj но мой мальчик все равно лучше : d, Text xxbos xxup rt xxunk : xxmaj ну ты идиотка ) я испугалась за тебя ! ! !, Text xxbos xxup rt xxunk : \" xxmaj кто то в углу сидит и погибает от голода , а мы ещё 2 порции взяли , хотя уже и так жрать не хотим \" : xxup dd http : / / t.co / xxunk …, Text xxbos xxunk xxmaj вот что значит xxunk xxup :d \n",
       " xxmaj но блин , посмотрев все части , у тебя xxunk ощущение , что авторы курили что - то xxup :d]...\n",
       "Path: data/ruSentEval;\n",
       "\n",
       "Valid: LabelList\n",
       "y: CategoryList (22745 items)\n",
       "[Category positive, Category positive, Category positive, Category positive, Category positive]...\n",
       "Path: .\n",
       "x: TextList (22745 items)\n",
       "[Text xxbos xxunk xxunk ... наверное ... вдруг его перед этим xxunk ? xxrep 4 ), Text xxbos я р xxrep 7 а д , ведь сегодня впереди вся ночь , сериалы , фильмы , книга и кофе : ) идеальная ночка : ), Text xxbos xxunk xxunk xxunk xxunk сичас фф xxunk xxunk ) -к xxunk ?  , Text xxbos а еще я просрала xxmaj xxunk все xxunk и теперь она хуй в инстаграмм зайдет : ) ), Text xxbos xxmaj перемен ждала . и дождалась ) \n",
       " xxmaj теперь буду ждать лето]...\n",
       "Path: data/ruSentEval;\n",
       "\n",
       "Test: None, model=SequentialRNN(\n",
       "  (0): MultiBatchRNNCore(\n",
       "    (encoder): Embedding(54221, 400, padding_idx=1)\n",
       "    (encoder_dp): EmbeddingDropout(\n",
       "      (emb): Embedding(54221, 400, padding_idx=1)\n",
       "    )\n",
       "    (rnns): ModuleList(\n",
       "      (0): WeightDropout(\n",
       "        (module): LSTM(400, 1150, batch_first=True)\n",
       "      )\n",
       "      (1): WeightDropout(\n",
       "        (module): LSTM(1150, 1150, batch_first=True)\n",
       "      )\n",
       "      (2): WeightDropout(\n",
       "        (module): LSTM(1150, 400, batch_first=True)\n",
       "      )\n",
       "    )\n",
       "    (input_dp): RNNDropout()\n",
       "    (hidden_dps): ModuleList(\n",
       "      (0): RNNDropout()\n",
       "      (1): RNNDropout()\n",
       "      (2): RNNDropout()\n",
       "    )\n",
       "  )\n",
       "  (1): PoolingLinearClassifier(\n",
       "    (layers): Sequential(\n",
       "      (0): BatchNorm1d(1200, eps=1e-05, momentum=0.1, affine=True, track_running_stats=True)\n",
       "      (1): Dropout(p=0.2)\n",
       "      (2): Linear(in_features=1200, out_features=50, bias=True)\n",
       "      (3): ReLU(inplace)\n",
       "      (4): BatchNorm1d(50, eps=1e-05, momentum=0.1, affine=True, track_running_stats=True)\n",
       "      (5): Dropout(p=0.1)\n",
       "      (6): Linear(in_features=50, out_features=2, bias=True)\n",
       "    )\n",
       "  )\n",
       "), opt_func=functools.partial(<class 'torch.optim.adam.Adam'>, betas=(0.9, 0.99)), loss_func=<fastai.layers.FlattenedLoss object at 0x7f23a41475f8>, metrics=[<function accuracy at 0x7f23e0d8cb70>], true_wd=True, bn_wd=True, wd=0.01, train_bn=True, path=PosixPath('data/ruSentEval'), model_dir='models', callback_fns=[<class 'fastai.basic_train.Recorder'>], callbacks=[RNNTrainer(learn=RNNLearner(data=TextClasDataBunch;\n",
       "\n",
       "Train: LabelList\n",
       "y: CategoryList (204089 items)\n",
       "[Category positive, Category positive, Category positive, Category positive, Category positive]...\n",
       "Path: .\n",
       "x: TextList (204089 items)\n",
       "[Text xxbos xxunk хоть я и школота , но поверь , у нас то же самое xxup :d общество xxunk предмет типа ), Text xxbos xxmaj да , все - таки он немного похож на него . xxmaj но мой мальчик все равно лучше : d, Text xxbos xxup rt xxunk : xxmaj ну ты идиотка ) я испугалась за тебя ! ! !, Text xxbos xxup rt xxunk : \" xxmaj кто то в углу сидит и погибает от голода , а мы ещё 2 порции взяли , хотя уже и так жрать не хотим \" : xxup dd http : / / t.co / xxunk …, Text xxbos xxunk xxmaj вот что значит xxunk xxup :d \n",
       " xxmaj но блин , посмотрев все части , у тебя xxunk ощущение , что авторы курили что - то xxup :d]...\n",
       "Path: data/ruSentEval;\n",
       "\n",
       "Valid: LabelList\n",
       "y: CategoryList (22745 items)\n",
       "[Category positive, Category positive, Category positive, Category positive, Category positive]...\n",
       "Path: .\n",
       "x: TextList (22745 items)\n",
       "[Text xxbos xxunk xxunk ... наверное ... вдруг его перед этим xxunk ? xxrep 4 ), Text xxbos я р xxrep 7 а д , ведь сегодня впереди вся ночь , сериалы , фильмы , книга и кофе : ) идеальная ночка : ), Text xxbos xxunk xxunk xxunk xxunk сичас фф xxunk xxunk ) -к xxunk ?  , Text xxbos а еще я просрала xxmaj xxunk все xxunk и теперь она хуй в инстаграмм зайдет : ) ), Text xxbos xxmaj перемен ждала . и дождалась ) \n",
       " xxmaj теперь буду ждать лето]...\n",
       "Path: data/ruSentEval;\n",
       "\n",
       "Test: None, model=SequentialRNN(\n",
       "  (0): MultiBatchRNNCore(\n",
       "    (encoder): Embedding(54221, 400, padding_idx=1)\n",
       "    (encoder_dp): EmbeddingDropout(\n",
       "      (emb): Embedding(54221, 400, padding_idx=1)\n",
       "    )\n",
       "    (rnns): ModuleList(\n",
       "      (0): WeightDropout(\n",
       "        (module): LSTM(400, 1150, batch_first=True)\n",
       "      )\n",
       "      (1): WeightDropout(\n",
       "        (module): LSTM(1150, 1150, batch_first=True)\n",
       "      )\n",
       "      (2): WeightDropout(\n",
       "        (module): LSTM(1150, 400, batch_first=True)\n",
       "      )\n",
       "    )\n",
       "    (input_dp): RNNDropout()\n",
       "    (hidden_dps): ModuleList(\n",
       "      (0): RNNDropout()\n",
       "      (1): RNNDropout()\n",
       "      (2): RNNDropout()\n",
       "    )\n",
       "  )\n",
       "  (1): PoolingLinearClassifier(\n",
       "    (layers): Sequential(\n",
       "      (0): BatchNorm1d(1200, eps=1e-05, momentum=0.1, affine=True, track_running_stats=True)\n",
       "      (1): Dropout(p=0.2)\n",
       "      (2): Linear(in_features=1200, out_features=50, bias=True)\n",
       "      (3): ReLU(inplace)\n",
       "      (4): BatchNorm1d(50, eps=1e-05, momentum=0.1, affine=True, track_running_stats=True)\n",
       "      (5): Dropout(p=0.1)\n",
       "      (6): Linear(in_features=50, out_features=2, bias=True)\n",
       "    )\n",
       "  )\n",
       "), opt_func=functools.partial(<class 'torch.optim.adam.Adam'>, betas=(0.9, 0.99)), loss_func=<fastai.layers.FlattenedLoss object at 0x7f23a41475f8>, metrics=[<function accuracy at 0x7f23e0d8cb70>], true_wd=True, bn_wd=True, wd=0.01, train_bn=True, path=PosixPath('data/ruSentEval'), model_dir='models', callback_fns=[<class 'fastai.basic_train.Recorder'>], callbacks=[...], layer_groups=[Sequential(\n",
       "  (0): Embedding(54221, 400, padding_idx=1)\n",
       "  (1): EmbeddingDropout(\n",
       "    (emb): Embedding(54221, 400, padding_idx=1)\n",
       "  )\n",
       "), Sequential(\n",
       "  (0): WeightDropout(\n",
       "    (module): LSTM(400, 1150, batch_first=True)\n",
       "  )\n",
       "  (1): RNNDropout()\n",
       "), Sequential(\n",
       "  (0): WeightDropout(\n",
       "    (module): LSTM(1150, 1150, batch_first=True)\n",
       "  )\n",
       "  (1): RNNDropout()\n",
       "), Sequential(\n",
       "  (0): WeightDropout(\n",
       "    (module): LSTM(1150, 400, batch_first=True)\n",
       "  )\n",
       "  (1): RNNDropout()\n",
       "), Sequential(\n",
       "  (0): PoolingLinearClassifier(\n",
       "    (layers): Sequential(\n",
       "      (0): BatchNorm1d(1200, eps=1e-05, momentum=0.1, affine=True, track_running_stats=True)\n",
       "      (1): Dropout(p=0.2)\n",
       "      (2): Linear(in_features=1200, out_features=50, bias=True)\n",
       "      (3): ReLU(inplace)\n",
       "      (4): BatchNorm1d(50, eps=1e-05, momentum=0.1, affine=True, track_running_stats=True)\n",
       "      (5): Dropout(p=0.1)\n",
       "      (6): Linear(in_features=50, out_features=2, bias=True)\n",
       "    )\n",
       "  )\n",
       ")]), bptt=70, alpha=2.0, beta=1.0, adjust=False)], layer_groups=[Sequential(\n",
       "  (0): Embedding(54221, 400, padding_idx=1)\n",
       "  (1): EmbeddingDropout(\n",
       "    (emb): Embedding(54221, 400, padding_idx=1)\n",
       "  )\n",
       "), Sequential(\n",
       "  (0): WeightDropout(\n",
       "    (module): LSTM(400, 1150, batch_first=True)\n",
       "  )\n",
       "  (1): RNNDropout()\n",
       "), Sequential(\n",
       "  (0): WeightDropout(\n",
       "    (module): LSTM(1150, 1150, batch_first=True)\n",
       "  )\n",
       "  (1): RNNDropout()\n",
       "), Sequential(\n",
       "  (0): WeightDropout(\n",
       "    (module): LSTM(1150, 400, batch_first=True)\n",
       "  )\n",
       "  (1): RNNDropout()\n",
       "), Sequential(\n",
       "  (0): PoolingLinearClassifier(\n",
       "    (layers): Sequential(\n",
       "      (0): BatchNorm1d(1200, eps=1e-05, momentum=0.1, affine=True, track_running_stats=True)\n",
       "      (1): Dropout(p=0.2)\n",
       "      (2): Linear(in_features=1200, out_features=50, bias=True)\n",
       "      (3): ReLU(inplace)\n",
       "      (4): BatchNorm1d(50, eps=1e-05, momentum=0.1, affine=True, track_running_stats=True)\n",
       "      (5): Dropout(p=0.1)\n",
       "      (6): Linear(in_features=50, out_features=2, bias=True)\n",
       "    )\n",
       "  )\n",
       ")])"
      ]
     },
     "execution_count": 38,
     "metadata": {},
     "output_type": "execute_result"
    }
   ],
   "source": [
    "learner.load('first-ft-class-sample')"
   ]
  },
  {
   "cell_type": "code",
   "execution_count": 54,
   "metadata": {},
   "outputs": [
    {
     "data": {
      "text/html": [
       "Total time: 00:07 <p><table style='width:300px; margin-bottom:10px'>\n",
       "  <tr>\n",
       "    <th>epoch</th>\n",
       "    <th>train_loss</th>\n",
       "    <th>valid_loss</th>\n",
       "    <th>accuracy</th>\n",
       "  </tr>\n",
       "  <tr>\n",
       "    <th>1</th>\n",
       "    <th>0.184554</th>\n",
       "    <th>0.098150</th>\n",
       "    <th>0.955975</th>\n",
       "  </tr>\n",
       "</table>\n"
      ],
      "text/plain": [
       "<IPython.core.display.HTML object>"
      ]
     },
     "metadata": {},
     "output_type": "display_data"
    }
   ],
   "source": [
    "learner.freeze_to(-2)\n",
    "learner.fit_one_cycle(1, slice(1e-2/(2.6**4),1e-2), moms=moms)"
   ]
  },
  {
   "cell_type": "code",
   "execution_count": 55,
   "metadata": {},
   "outputs": [],
   "source": [
    "learner.save('second-ft-class-sample')"
   ]
  },
  {
   "cell_type": "code",
   "execution_count": null,
   "metadata": {},
   "outputs": [],
   "source": [
    "learner.load('second-ft-class-sample')"
   ]
  },
  {
   "cell_type": "code",
   "execution_count": 56,
   "metadata": {},
   "outputs": [
    {
     "data": {
      "text/html": [
       "Total time: 00:11 <p><table style='width:300px; margin-bottom:10px'>\n",
       "  <tr>\n",
       "    <th>epoch</th>\n",
       "    <th>train_loss</th>\n",
       "    <th>valid_loss</th>\n",
       "    <th>accuracy</th>\n",
       "  </tr>\n",
       "  <tr>\n",
       "    <th>1</th>\n",
       "    <th>0.105624</th>\n",
       "    <th>0.052071</th>\n",
       "    <th>0.973046</th>\n",
       "  </tr>\n",
       "</table>\n"
      ],
      "text/plain": [
       "<IPython.core.display.HTML object>"
      ]
     },
     "metadata": {},
     "output_type": "display_data"
    }
   ],
   "source": [
    "learner.freeze_to(-3)\n",
    "learner.fit_one_cycle(1, slice(5e-3/(2.6**4),5e-3), moms=moms)"
   ]
  },
  {
   "cell_type": "code",
   "execution_count": 57,
   "metadata": {},
   "outputs": [],
   "source": [
    "learner.save('third-ft-class-sample')"
   ]
  },
  {
   "cell_type": "code",
   "execution_count": null,
   "metadata": {},
   "outputs": [],
   "source": [
    "learner.load('third-ft-class-sample')"
   ]
  },
  {
   "cell_type": "code",
   "execution_count": 58,
   "metadata": {},
   "outputs": [
    {
     "data": {
      "text/html": [
       "Total time: 00:30 <p><table style='width:300px; margin-bottom:10px'>\n",
       "  <tr>\n",
       "    <th>epoch</th>\n",
       "    <th>train_loss</th>\n",
       "    <th>valid_loss</th>\n",
       "    <th>accuracy</th>\n",
       "  </tr>\n",
       "  <tr>\n",
       "    <th>1</th>\n",
       "    <th>0.079150</th>\n",
       "    <th>0.044806</th>\n",
       "    <th>0.977538</th>\n",
       "  </tr>\n",
       "  <tr>\n",
       "    <th>2</th>\n",
       "    <th>0.080160</th>\n",
       "    <th>0.042172</th>\n",
       "    <th>0.977987</th>\n",
       "  </tr>\n",
       "</table>\n"
      ],
      "text/plain": [
       "<IPython.core.display.HTML object>"
      ]
     },
     "metadata": {},
     "output_type": "display_data"
    }
   ],
   "source": [
    "learner.unfreeze()\n",
    "learner.fit_one_cycle(2, slice(1e-3/(2.6**4),1e-3), moms=moms)"
   ]
  },
  {
   "cell_type": "code",
   "execution_count": 59,
   "metadata": {},
   "outputs": [],
   "source": [
    "# sanity check for accuracy, precision, recall and f1-score\n",
    "preds, targets = learner.get_preds()"
   ]
  },
  {
   "cell_type": "code",
   "execution_count": 60,
   "metadata": {},
   "outputs": [],
   "source": [
    "pred_classes = torch.argmax(preds, dim=1)"
   ]
  },
  {
   "cell_type": "code",
   "execution_count": 61,
   "metadata": {},
   "outputs": [],
   "source": [
    "from sklearn.metrics import classification_report"
   ]
  },
  {
   "cell_type": "code",
   "execution_count": 62,
   "metadata": {},
   "outputs": [
    {
     "name": "stdout",
     "output_type": "stream",
     "text": [
      "              precision    recall  f1-score   support\n",
      "\n",
      "           0       0.98      0.98      0.98      1103\n",
      "           1       0.98      0.98      0.98      1123\n",
      "\n",
      "   micro avg       0.98      0.98      0.98      2226\n",
      "   macro avg       0.98      0.98      0.98      2226\n",
      "weighted avg       0.98      0.98      0.98      2226\n",
      "\n"
     ]
    }
   ],
   "source": [
    "print(classification_report(targets, pred_classes))"
   ]
  },
  {
   "cell_type": "code",
   "execution_count": 67,
   "metadata": {},
   "outputs": [
    {
     "data": {
      "text/plain": [
       "(Category positive, tensor(1), tensor([0.0014, 0.9986]))"
      ]
     },
     "execution_count": 67,
     "metadata": {},
     "output_type": "execute_result"
    }
   ],
   "source": [
    "# check prediction for one example\n",
    "learner.predict(\"Поприветствуем моего нового читателя @Alexey1789 ;)\")"
   ]
  },
  {
   "cell_type": "code",
   "execution_count": null,
   "metadata": {},
   "outputs": [],
   "source": []
  }
 ],
 "metadata": {
  "kernelspec": {
   "display_name": "fastai-py36",
   "language": "python",
   "name": "fastai-py36"
  },
  "language_info": {
   "codemirror_mode": {
    "name": "ipython",
    "version": 3
   },
   "file_extension": ".py",
   "mimetype": "text/x-python",
   "name": "python",
   "nbconvert_exporter": "python",
   "pygments_lexer": "ipython3",
   "version": "3.6.5"
  },
  "toc": {
   "base_numbering": 1,
   "nav_menu": {},
   "number_sections": true,
   "sideBar": true,
   "skip_h1_title": false,
   "title_cell": "Table of Contents",
   "title_sidebar": "Contents",
   "toc_cell": false,
   "toc_position": {},
   "toc_section_display": true,
   "toc_window_display": true
  }
 },
 "nbformat": 4,
 "nbformat_minor": 2
}
