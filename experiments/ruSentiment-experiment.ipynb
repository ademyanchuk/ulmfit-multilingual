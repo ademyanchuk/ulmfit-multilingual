{
 "cells": [
  {
   "cell_type": "markdown",
   "metadata": {},
   "source": [
    "### Imports"
   ]
  },
  {
   "cell_type": "code",
   "execution_count": 1,
   "metadata": {},
   "outputs": [
    {
     "name": "stdout",
     "output_type": "stream",
     "text": [
      "/home/ds/DataScience/home/ademyanchuk/Projects/ulmfit-multilingual\n"
     ]
    }
   ],
   "source": [
    "%cd .."
   ]
  },
  {
   "cell_type": "code",
   "execution_count": 2,
   "metadata": {},
   "outputs": [
    {
     "name": "stdout",
     "output_type": "stream",
     "text": [
      "/home/ds/DataScience/home/ademyanchuk/Projects/ulmfit-multilingual\r\n"
     ]
    }
   ],
   "source": [
    "!pwd"
   ]
  },
  {
   "cell_type": "code",
   "execution_count": 3,
   "metadata": {},
   "outputs": [],
   "source": [
    "%reload_ext autoreload\n",
    "%autoreload 2\n",
    "%matplotlib inline"
   ]
  },
  {
   "cell_type": "code",
   "execution_count": 4,
   "metadata": {},
   "outputs": [],
   "source": [
    "from fastai.text import *"
   ]
  },
  {
   "cell_type": "code",
   "execution_count": 5,
   "metadata": {},
   "outputs": [],
   "source": [
    "from ulmfit.pretrain_lm import *"
   ]
  },
  {
   "cell_type": "code",
   "execution_count": 6,
   "metadata": {},
   "outputs": [],
   "source": [
    "cuda_id = 1\n",
    "torch.cuda.set_device(cuda_id)"
   ]
  },
  {
   "cell_type": "markdown",
   "metadata": {},
   "source": [
    "### Preparing data"
   ]
  },
  {
   "cell_type": "code",
   "execution_count": 7,
   "metadata": {},
   "outputs": [],
   "source": [
    "# batch size\n",
    "bs = 20"
   ]
  },
  {
   "cell_type": "code",
   "execution_count": 8,
   "metadata": {},
   "outputs": [],
   "source": [
    "# use data from smaller sample of wiki\n",
    "# data is recieved through prepare_wiki.sh script\n",
    "wiki_data_path = Path('data/wiki/ru-2/')"
   ]
  },
  {
   "cell_type": "code",
   "execution_count": 9,
   "metadata": {},
   "outputs": [
    {
     "data": {
      "text/plain": [
       "[PosixPath('data/wiki/ru-2/ru.wiki.test.tokens'),\n",
       " PosixPath('data/wiki/ru-2/ru.wiki.valid.tokens'),\n",
       " PosixPath('data/wiki/ru-2/ru.wiki.train.tokens'),\n",
       " PosixPath('data/wiki/ru-2/models'),\n",
       " PosixPath('data/wiki/ru-2/tmp_lm')]"
      ]
     },
     "execution_count": 9,
     "metadata": {},
     "output_type": "execute_result"
    }
   ],
   "source": [
    "wiki_data_path.ls()"
   ]
  },
  {
   "cell_type": "code",
   "execution_count": 9,
   "metadata": {},
   "outputs": [],
   "source": [
    "# provide train and valid path\n",
    "trn_path = wiki_data_path/'ru.wiki.train.tokens'\n",
    "val_path = wiki_data_path/'ru.wiki.valid.tokens'"
   ]
  },
  {
   "cell_type": "code",
   "execution_count": 11,
   "metadata": {},
   "outputs": [],
   "source": [
    "# create a databunch object from data_frames\n",
    "# data_frames are provided through `read_wiki_articles` function\n",
    "# from `ulmfit.pretrain_lm`\n",
    "data_lm = TextLMDataBunch.from_df(path=wiki_data_path, train_df=read_wiki_articles(trn_path),\n",
    "                                  valid_df=read_wiki_articles(val_path), \n",
    "                                  classes=None, bs=bs, text_cols='texts')"
   ]
  },
  {
   "cell_type": "code",
   "execution_count": 15,
   "metadata": {},
   "outputs": [
    {
     "name": "stdout",
     "output_type": "stream",
     "text": [
      "Size of vocabulary: 59184\n",
      "First 20 words in vocab: ['xxunk', 'xxpad', 'xxbos', 'xxfld', 'xxmaj', 'xxup', 'xxrep', 'xxwrep', ',', '.', 'в', 'и', '\\n\\n', 'на', '«', '»', '\\n', ')', '(', '—']\n"
     ]
    }
   ],
   "source": [
    "itos, stoi, trn_path = data_lm.vocab.itos, data_lm.vocab.stoi, data_lm.path\n",
    "print('Size of vocabulary:', len(itos))\n",
    "print('First 20 words in vocab:', data_lm.vocab.itos[:20])"
   ]
  },
  {
   "cell_type": "code",
   "execution_count": 32,
   "metadata": {},
   "outputs": [
    {
     "data": {
      "text/plain": [
       "(3857, 447)"
      ]
     },
     "execution_count": 32,
     "metadata": {},
     "output_type": "execute_result"
    }
   ],
   "source": [
    "len(data_lm.train_ds), len(data_lm.valid_ds)"
   ]
  },
  {
   "cell_type": "code",
   "execution_count": 22,
   "metadata": {
    "scrolled": true
   },
   "outputs": [
    {
     "data": {
      "text/plain": [
       "Text xxbos = xxmaj розовая чайка = \n",
       " xxmaj розовая чайка \n",
       "\n",
       " xxmaj розовая чайка ( ) — вид птиц из семейства xxunk ( xxmaj xxunk ) , единственный в роде розовых чаек ( & ' xxmaj xxunk & ' ) . \n",
       "\n",
       " xxmaj описание . \n",
       " xxmaj длина тела около 35 см . xxmaj спина и верх крыльев серо - xxunk , голова , грудь и xxunk розовые , на шее узкий чёрный xxunk . xxmaj клюв чёрный , ноги красные . xxmaj хвост xxunk формы . \n",
       "\n",
       " xxmaj полёт розовой чайки лёгкий , напоминающий полёт xxunk . xxmaj по отношению к человеку птица обычно мало xxunk и xxunk . xxmaj на море она главным образом держится на плавающих xxunk , а вот в тундре , на озёрах , чайка часто садится на воду и даже купается . \n",
       "\n",
       " xxmaj вокализация . \n",
       " xxmaj голос этого вида гораздо выше и xxunk , чем у других чаек , и отличается большим разнообразием . xxmaj чаще всего xxunk крик вроде « э - у , э - у » ; xxunk , они издают короткий крик « вя , вя , вя » , если очень xxunk — « xxunk - xxunk » , а при нападении другой чайки того же вида или xxunk кричат « э - xxunk , э - xxunk » . \n",
       "\n",
       " xxmaj питание . \n",
       " xxmaj питается насекомыми , мелкими xxunk , в период xxunk — рыбой и ракообразными . \n",
       "\n",
       " xxmaj размножение . \n",
       " xxmaj гнездится розовая чайка в тундре и xxunk по берегам озёр xxmaj восточной xxmaj сибири в xxunk северных рек — xxmaj xxunk , xxmaj xxunk , xxmaj колымы , xxmaj xxunk . xxmaj небольшое поселение ( несколько десятков пар ) существует на xxmaj xxunk . xxmaj места xxunk этих птиц находятся в мокрой равнинной тундре и xxunk , часто на xxunk многочисленных озёр . в кладке 3 , реже 2 яйца . xxmaj xxunk около 3 недель . \n",
       "\n",
       " xxmaj чайка xxunk небольшими , до 20 пар , xxunk колониями , в которых гнездо от гнезда располагается на расстоянии до 100 метров , часто по соседству с другими xxunk видами — xxunk xxunk и полярной xxunk . \n",
       "\n",
       " xxmaj известный орнитолог xxup с. xxup а. xxmaj xxunk так описывает xxunk церемонии розовых чаек : « xxmaj самец всячески выражает xxunk свою xxunk , то как - то xxunk или xxunk ей шею открытым xxunk , то время от времени начинает xxunk перед ней xxunk и вперед , несколько xxunk зоб , и затем с какой - то xxunk или xxunk „ т xxrep 5 р “ xxunk совершенно переднюю половину туловища к земле ( точнее , ко льду и xxunk ) , поднимая высоко вверх заднюю половину с хвостом и сложенными крыльями , и продолжает эту xxunk несколько секунд , делая в этом положении несколько шагов туда и сюда . xxmaj иногда этим упражнениям xxunk и самка » . \n",
       "\n",
       " xxmaj гнездо чайка строит на земле из сухой травы , старых стеблей xxunk , листьев карликовой березы и мха . xxmaj так как все сооружение расположено на болотистых участках , в нём обычно xxunk . в кладке 2 — 3 яйца зеленовато - xxunk цвета с xxunk - коричневыми пятнами . xxmaj xxunk кладку обе птицы . xxmaj родители активно защищают своё гнездо от крупных чаек и xxunk . \n",
       "\n",
       " в конце xxunk полярного лета молодые птицы встают на крыло и начинают xxunk вместе с родителями . в это время они частые гости xxunk поселков , на окраинах которых xxunk . с наступлением xxunk чайки xxunk на север , к xxmaj xxunk океану , где и зимуют , xxunk открытых участков воды . xxmaj на xxunk розовые чайки xxunk мелкой рыбой и ракообразными в отличие от гнездового периода , когда их рацион состоит в основном из насекомых и их личинок . \n",
       "\n",
       " xxmaj места расположения колоний могут меняться время от времени из - за неблагоприятных погодных условий . \n",
       "\n",
       " xxmaj распространение . \n",
       " xxmaj распространена на северо - востоке xxmaj сибири ( от реки xxmaj xxunk до западной окраины xxmaj чукотского полуострова ) и xxmaj западной xxmaj гренландии . xxmaj зимой xxunk в открытых водах xxmaj северного xxmaj ледовитого океана , проникая в xxmaj северную xxmaj xxunk и xxmaj берингово море . \n",
       "\n",
       " в период xxunk розовые чайки иногда xxunk далеко от мест , где они гнездятся или зимуют . xxmaj так , известны случаи появления их в xxmaj xxunk и xxmaj японском морях , xxmaj норвегии , xxmaj франции и xxmaj маньчжурии . xxmaj изредка регистрируются xxunk далеко на юг ( xxmaj ирландия , xxmaj калифорния ) . \n",
       "\n",
       " xxmaj xxunk статус . \n",
       " в годы сильных xxunk и xxunk птицы либо не гнездятся совсем , либо у них бывает всего одно яйцо в кладке . xxmaj как известно , численность мелких грызунов — xxunk в xxunk из года в год сильно меняется . xxmaj бывают периоды , когда эти мелкие xxunk , основной корм xxunk , исчезают совсем . xxmaj тогда xxunk xxunk буквально все живое в тундре . в первую очередь гибнут яйца и птенцы различных видов птиц , в том числе и розовых чаек . \n",
       "\n",
       " xxmaj раньше в xxunk годы xxunk стреляли розовых чаек для xxunk . в начале xxup xx века , когда на xxmaj xxunk довольно часто xxunk американские моряки , xxunk и охотники на морского xxunk , местное население xxunk этих xxunk птиц для изготовления чучел - xxunk . xxmaj тогда один экземпляр xxunk , необычно xxunk чайки стоил до 200 долларов . xxmaj xxunk стад домашних оленей через колонии , xxunk сбор яиц также отрицательно сказываются на численности розовой чайки . xxmaj всё это наряду с тем , что гнездовой ареал птиц весьма ограничен , вызывает серьёзное беспокойство за судьбу этого вида . \n",
       "\n",
       " xxmaj сегодня в xxmaj россии добыча этого вида полностью запрещена . xxmaj ученые xxunk наиболее крупные места xxunk розовой чайки с тем , чтобы в дальнейшем ввести там xxunk режим . \n",
       "\n",
       "\n"
      ]
     },
     "execution_count": 22,
     "metadata": {},
     "output_type": "execute_result"
    }
   ],
   "source": [
    "data_lm.train_ds[0][0]"
   ]
  },
  {
   "cell_type": "code",
   "execution_count": 24,
   "metadata": {},
   "outputs": [
    {
     "data": {
      "text/plain": [
       "array([    2,    28,     4, 19014, 19015,    28,    16,     4, 19014, 19015])"
      ]
     },
     "execution_count": 24,
     "metadata": {},
     "output_type": "execute_result"
    }
   ],
   "source": [
    "data_lm.train_ds[0][0].data[:10]"
   ]
  },
  {
   "cell_type": "code",
   "execution_count": 11,
   "metadata": {
    "scrolled": true
   },
   "outputs": [
    {
     "data": {
      "text/html": [
       "<table>  <col width='5%'>  <col width='95%'>  <tr>\n",
       "    <th>idx</th>\n",
       "    <th>text</th>\n",
       "  </tr>\n",
       "  <tr>\n",
       "    <th>0</th>\n",
       "    <th>xxbos \\n = xxmaj шишмарёв , xxmaj глеб xxmaj семёнович = \\n xxmaj шишмарёв , xxmaj глеб xxmaj семёнович \\n\\n xxmaj глеб xxmaj семёнович xxmaj шишмарёв ( 1781 — 1835 ) — контр - адмирал , командир гвардейского экипажа , путешественник . \\n\\n xxmaj родился в 1781 году . xxmaj происходил из дворян xxmaj ржевского уезда , воспитывался в xxmaj морском кадетском корпусе , откуда выпущен гардемарином в 1801 году</th>\n",
       "  </tr>\n",
       "  <tr>\n",
       "    <th>1</th>\n",
       "    <th>xxunk землями между двумя государствами . к первым годам самостоятельного правления короля xxmaj альфонсо v относятся и безуспешные попытки графа xxmaj кастилии организовать несколько мятежей своих сторонников в xxmaj леоне . \\n\\n xxmaj окончательный разрыв отношений между графством xxmaj кастилия и королевством xxmaj леон произошёл в xxunk году , когда в xxmaj кастилии начались преследования сторонников союза с xxmaj леоном . xxmaj многие xxunk дворяне бежали ко двору короля xxmaj</th>\n",
       "  </tr>\n",
       "  <tr>\n",
       "    <th>2</th>\n",
       "    <th>войска xxmaj иоанна v xxmaj xxunk , xxmaj иван xxmaj александр сам стремился овладеть городом . в конце 1342 года xxmaj кантакузину пришлось опять просить помощи xxmaj умура , на этот раз против болгар . в начале 1343 года xxmaj умур прибыл со своим флотом в устье xxmaj дуная . xxmaj он высадился в устье xxmaj марицы , поднялся по её течению и xxunk болгар от xxmaj xxunk . xxmaj</th>\n",
       "  </tr>\n",
       "  <tr>\n",
       "    <th>3</th>\n",
       "    <th>верстах от xxmaj xxunk , 40 верстах от xxmaj xxunk . \\n\\n xxmaj культура . \\n 12 июля 2009 прошла встреча бывших жителей деревни . \\n xxbos \\n = xxmaj уилкинсон , xxmaj том = \\n xxmaj уилкинсон , xxmaj том \\n\\n xxmaj то ́ мас xxmaj дже ́ xxunk ( xxmaj том ) xxmaj уи ́ xxunk , известный как xxmaj том xxmaj уилкинсон ( ; род . 5</th>\n",
       "  </tr>\n",
       "  <tr>\n",
       "    <th>4</th>\n",
       "    <th>граф xxmaj суньер xxup ii и епископ xxmaj xxunk в 889 год прибыли ко двору короля xxmaj эда в xxmaj орлеане и получили от него xxunk хартию , согласно которой епископство xxmaj жирона получало значительные владения в графстве xxmaj осона , а покровителями епархии xxmaj жироны объявлялись графы xxmaj ампурьяса . xxmaj это было единственное появление одного из графов xxmaj испанской марки при дворе короля xxmaj эда за всё время</th>\n",
       "  </tr>\n",
       "</table>\n"
      ],
      "text/plain": [
       "<IPython.core.display.HTML object>"
      ]
     },
     "metadata": {},
     "output_type": "display_data"
    }
   ],
   "source": [
    "data_lm.show_batch()"
   ]
  },
  {
   "cell_type": "code",
   "execution_count": 33,
   "metadata": {},
   "outputs": [],
   "source": [
    "# save databunch\n",
    "data_lm.save('tmp_lm')"
   ]
  },
  {
   "cell_type": "code",
   "execution_count": 10,
   "metadata": {},
   "outputs": [],
   "source": [
    "# load databunch\n",
    "data_lm = TextLMDataBunch.load(wiki_data_path, 'tmp_lm', bs=bs)"
   ]
  },
  {
   "cell_type": "markdown",
   "metadata": {},
   "source": [
    "#### Create Learner and train Language Model"
   ]
  },
  {
   "cell_type": "code",
   "execution_count": 18,
   "metadata": {},
   "outputs": [],
   "source": [
    "# create learner for training on wiki from scratch\n",
    "learner = language_model_learner(data=data_lm, drop_mult=1.0)"
   ]
  },
  {
   "cell_type": "code",
   "execution_count": 19,
   "metadata": {},
   "outputs": [],
   "source": [
    "# change Adam default params\n",
    "learner.opt_func = partial(optim.Adam, betas=(0.8, 0.99))"
   ]
  },
  {
   "cell_type": "code",
   "execution_count": 20,
   "metadata": {},
   "outputs": [
    {
     "data": {
      "text/plain": [
       "[<function fastai.metrics.accuracy(input:torch.Tensor, targs:torch.LongTensor) -> <function NewType.<locals>.new_type at 0x7f0e929c6f28>>]"
      ]
     },
     "execution_count": 20,
     "metadata": {},
     "output_type": "execute_result"
    }
   ],
   "source": [
    "learner.metrics"
   ]
  },
  {
   "cell_type": "code",
   "execution_count": 21,
   "metadata": {},
   "outputs": [],
   "source": [
    "# add save callback\n",
    "learner.callback_fns += [partial(SaveModelCallback, every='epoch', name='lm')]"
   ]
  },
  {
   "cell_type": "code",
   "execution_count": 22,
   "metadata": {},
   "outputs": [
    {
     "data": {
      "text/plain": [
       "[fastai.basic_train.Recorder,\n",
       " functools.partial(<class 'fastai.callbacks.tracker.SaveModelCallback'>, every='epoch', name='lm')]"
      ]
     },
     "execution_count": 22,
     "metadata": {},
     "output_type": "execute_result"
    }
   ],
   "source": [
    "learner.callback_fns"
   ]
  },
  {
   "cell_type": "code",
   "execution_count": 23,
   "metadata": {},
   "outputs": [],
   "source": [
    "# unfreeze all layers\n",
    "learner.unfreeze()"
   ]
  },
  {
   "cell_type": "code",
   "execution_count": 24,
   "metadata": {
    "scrolled": true
   },
   "outputs": [
    {
     "name": "stdout",
     "output_type": "stream",
     "text": [
      "LR Finder is complete, type {learner_name}.recorder.plot() to see the graph.\n"
     ]
    }
   ],
   "source": [
    "learner.lr_find()"
   ]
  },
  {
   "cell_type": "code",
   "execution_count": 25,
   "metadata": {},
   "outputs": [
    {
     "data": {
      "image/png": "[encoded data removed]",
      "text/plain": [
       "<Figure size 432x288 with 1 Axes>"
      ]
     },
     "metadata": {
      "needs_background": "light"
     },
     "output_type": "display_data"
    }
   ],
   "source": [
    "learner.recorder.plot(skip_end=15)"
   ]
  },
  {
   "cell_type": "code",
   "execution_count": 26,
   "metadata": {},
   "outputs": [],
   "source": [
    "# define non-default momentums\n",
    "moms=(0.8,0.7)"
   ]
  },
  {
   "cell_type": "code",
   "execution_count": 27,
   "metadata": {},
   "outputs": [
    {
     "data": {
      "text/html": [
       "Total time: 25:13 <p><table style='width:300px; margin-bottom:10px'>\n",
       "  <tr>\n",
       "    <th>epoch</th>\n",
       "    <th>train_loss</th>\n",
       "    <th>valid_loss</th>\n",
       "    <th>accuracy</th>\n",
       "  </tr>\n",
       "  <tr>\n",
       "    <th>1</th>\n",
       "    <th>5.712268</th>\n",
       "    <th>5.179298</th>\n",
       "    <th>0.296366</th>\n",
       "  </tr>\n",
       "  <tr>\n",
       "    <th>2</th>\n",
       "    <th>5.087754</th>\n",
       "    <th>4.683986</th>\n",
       "    <th>0.314654</th>\n",
       "  </tr>\n",
       "  <tr>\n",
       "    <th>3</th>\n",
       "    <th>4.970438</th>\n",
       "    <th>4.417627</th>\n",
       "    <th>0.329775</th>\n",
       "  </tr>\n",
       "  <tr>\n",
       "    <th>4</th>\n",
       "    <th>4.819845</th>\n",
       "    <th>4.289938</th>\n",
       "    <th>0.344446</th>\n",
       "  </tr>\n",
       "  <tr>\n",
       "    <th>5</th>\n",
       "    <th>4.646383</th>\n",
       "    <th>4.191298</th>\n",
       "    <th>0.353953</th>\n",
       "  </tr>\n",
       "  <tr>\n",
       "    <th>6</th>\n",
       "    <th>4.492280</th>\n",
       "    <th>4.109755</th>\n",
       "    <th>0.360973</th>\n",
       "  </tr>\n",
       "  <tr>\n",
       "    <th>7</th>\n",
       "    <th>4.467671</th>\n",
       "    <th>4.042253</th>\n",
       "    <th>0.369003</th>\n",
       "  </tr>\n",
       "  <tr>\n",
       "    <th>8</th>\n",
       "    <th>4.213881</th>\n",
       "    <th>3.995798</th>\n",
       "    <th>0.374132</th>\n",
       "  </tr>\n",
       "  <tr>\n",
       "    <th>9</th>\n",
       "    <th>4.056872</th>\n",
       "    <th>3.986120</th>\n",
       "    <th>0.375951</th>\n",
       "  </tr>\n",
       "  <tr>\n",
       "    <th>10</th>\n",
       "    <th>3.935030</th>\n",
       "    <th>3.984321</th>\n",
       "    <th>0.376229</th>\n",
       "  </tr>\n",
       "</table>\n"
      ],
      "text/plain": [
       "<IPython.core.display.HTML object>"
      ]
     },
     "metadata": {},
     "output_type": "display_data"
    }
   ],
   "source": [
    "learner.fit_one_cycle(10, 5e-3, moms=moms)"
   ]
  },
  {
   "cell_type": "code",
   "execution_count": 28,
   "metadata": {},
   "outputs": [],
   "source": [
    "# save model\n",
    "learner.save('ru-2-best')"
   ]
  },
  {
   "cell_type": "markdown",
   "metadata": {},
   "source": [
    "### Fine tune on ruSentiment"
   ]
  },
  {
   "cell_type": "markdown",
   "metadata": {},
   "source": [
    "http://text-machine.cs.uml.edu/projects/rusentiment/"
   ]
  },
  {
   "cell_type": "code",
   "execution_count": 8,
   "metadata": {},
   "outputs": [],
   "source": [
    "# path for ruSentiment data\n",
    "rusent_data_path = Path('data/ruSentiment/')"
   ]
  },
  {
   "cell_type": "code",
   "execution_count": 10,
   "metadata": {},
   "outputs": [],
   "source": [
    "bs = 48"
   ]
  },
  {
   "cell_type": "code",
   "execution_count": 9,
   "metadata": {},
   "outputs": [
    {
     "data": {
      "text/plain": [
       "[PosixPath('data/ruSentiment/rusentiment_random_posts.csv'),\n",
       " PosixPath('data/ruSentiment/rusentiment_test.csv'),\n",
       " PosixPath('data/ruSentiment/rusentiment_preselected_posts.csv')]"
      ]
     },
     "execution_count": 9,
     "metadata": {},
     "output_type": "execute_result"
    }
   ],
   "source": [
    "rusent_data_path.ls()"
   ]
  },
  {
   "cell_type": "code",
   "execution_count": 11,
   "metadata": {},
   "outputs": [],
   "source": [
    "# create LM DataBunch from csv which is done by `merge-and-sample-rusent.ipynb`\n",
    "data1_lm = TextLMDataBunch.from_csv(rusent_data_path, 'rusentiment_random_posts.csv', bs=bs)"
   ]
  },
  {
   "cell_type": "code",
   "execution_count": 12,
   "metadata": {},
   "outputs": [
    {
     "name": "stdout",
     "output_type": "stream",
     "text": [
      "Size of vocabulary: 8717\n",
      "First 20 words in vocab: ['xxunk', 'xxpad', 'xxbos', 'xxfld', 'xxmaj', 'xxup', 'xxrep', 'xxwrep', ',', '!', ')', '.', '\\n', 'и', 'в', '-', 'не', 'с', 'я', '?']\n",
      "data/ruSentiment\n"
     ]
    }
   ],
   "source": [
    "itos, stoi, data_path = data1_lm.vocab.itos, data1_lm.vocab.stoi, data1_lm.path\n",
    "print('Size of vocabulary:', len(itos))\n",
    "print('First 20 words in vocab:', itos[:20])\n",
    "print(str(data_path))"
   ]
  },
  {
   "cell_type": "code",
   "execution_count": 18,
   "metadata": {
    "scrolled": true
   },
   "outputs": [
    {
     "data": {
      "text/plain": [
       "[PosixPath('data/ruSentiment/models'),\n",
       " PosixPath('data/ruSentiment/tmp_lm'),\n",
       " PosixPath('data/ruSentiment/rusentiment_random_posts.csv'),\n",
       " PosixPath('data/ruSentiment/rusentiment_test.csv'),\n",
       " PosixPath('data/ruSentiment/rusentiment_preselected_posts.csv')]"
      ]
     },
     "execution_count": 18,
     "metadata": {},
     "output_type": "execute_result"
    }
   ],
   "source": [
    "(data1_lm.path).ls()"
   ]
  },
  {
   "cell_type": "code",
   "execution_count": 14,
   "metadata": {
    "scrolled": true
   },
   "outputs": [
    {
     "data": {
      "text/plain": [
       "(17014, 4254)"
      ]
     },
     "execution_count": 14,
     "metadata": {},
     "output_type": "execute_result"
    }
   ],
   "source": [
    "len(data1_lm.train_ds), len(data1_lm.valid_ds)"
   ]
  },
  {
   "cell_type": "code",
   "execution_count": 15,
   "metadata": {},
   "outputs": [
    {
     "data": {
      "text/html": [
       "<table>  <col width='5%'>  <col width='95%'>  <tr>\n",
       "    <th>idx</th>\n",
       "    <th>text</th>\n",
       "  </tr>\n",
       "  <tr>\n",
       "    <th>0</th>\n",
       "    <th>xxbos xxmaj все девушки козлы ! и от мужчин им нужен только секс ! =) xxbos ну xxunk xxunk xxbos xxunk : * xxbos xxmaj через 10 дней . \\n xxmaj поезд xxmaj херсон xxunk . \\n xxunk на xxunk . xxbos xxmaj саня ! ! ! с xxmaj днем xxmaj рождения ! xxbos посты ниже порадовали xxunk xxbos xxmaj угадай кто на фото ) ) xxbos с днем рождения</th>\n",
       "  </tr>\n",
       "  <tr>\n",
       "    <th>1</th>\n",
       "    <th>а там он , xxunk , теплый и xxunk xxunk , что ты холодная . xxbos с днём рождения xxrep 5 ) xxbos xxunk позитива перед xxunk xxunk xxrep 7 . xxrep 7 ) xxbos xxmaj вот так у нас проходит математика ; ) xxbos xxmaj дорогие xxmaj друзья ! ! ! подписывайтесь на xxmaj наш xxunk \\n\\n\\n\\n приятного прослушивания ! \\n\\n xxmaj спасибо за максимальный xxup репост записи !</th>\n",
       "  </tr>\n",
       "  <tr>\n",
       "    <th>2</th>\n",
       "    <th>знаю , где твое самое xxunk место на свете . — xxmaj где ? — xxmaj за моей спиной .. xxbos у меня очень мало xxunk : ежедневно 30 минут xxunk xxunk спортом ( это не много , xxunk хорошо выглядеть ) , xxunk xxunk кофе ( обязательно со xxunk ) утром , читать сказку дочке на ночь с xxup xxunk , xxunk в xxunk , xxunk на 10 минут</th>\n",
       "  </tr>\n",
       "  <tr>\n",
       "    <th>3</th>\n",
       "    <th>погулял xxup по - xxup русски ) ) xxbos xxmaj ты очень красивый ... и губы , губы .. ! ! : * : * xxbos xxunk , интересный xxunk оч xxunk xxunk ! ; ) xxbos xxmaj не ищите xxunk , не ищите красивых , а ищите xxunk и навеки любимых … xxmaj не ищите xxunk , не ищите \" xxunk \" и тогда вы xxunk , своих …</th>\n",
       "  </tr>\n",
       "  <tr>\n",
       "    <th>4</th>\n",
       "    <th>не предлагать ;) xxbos я буду скучать ... xxbos xxup максим xxup xxunk xxup xxunk в xxup бассейн ? \\n\\n ещё как ) \\n xxbos с днем рождения , xxunk , счастья и успеха ! 🎉 🎉 🎉 xxbos xxmaj смешной кот xxbos xxmaj xxunk - xxunk xxunk украинского протеста xxbos xxmaj xxunk xxunk ? ? ) ) xxbos xxmaj какой коктейль вам не нравится ? ? ? xxbos xxup</th>\n",
       "  </tr>\n",
       "</table>\n"
      ],
      "text/plain": [
       "<IPython.core.display.HTML object>"
      ]
     },
     "metadata": {},
     "output_type": "display_data"
    }
   ],
   "source": [
    "data1_lm.show_batch()"
   ]
  },
  {
   "cell_type": "code",
   "execution_count": 17,
   "metadata": {},
   "outputs": [],
   "source": [
    "# save data bunch \n",
    "data1_lm.save('tmp_lm')"
   ]
  },
  {
   "cell_type": "code",
   "execution_count": 10,
   "metadata": {},
   "outputs": [],
   "source": [
    "data1_lm = TextLMDataBunch.load(rusent_data_path, 'tmp_lm', bs=bs)"
   ]
  },
  {
   "cell_type": "markdown",
   "metadata": {},
   "source": [
    "#### Create Learner and Finetune model from pretrained fnames"
   ]
  },
  {
   "cell_type": "code",
   "execution_count": 19,
   "metadata": {},
   "outputs": [],
   "source": [
    "# pretrained model and vocab from first step of training LM\n",
    "pretrained_fnames = ['ru-2-best', 'itos']"
   ]
  },
  {
   "cell_type": "code",
   "execution_count": 20,
   "metadata": {},
   "outputs": [
    {
     "name": "stdout",
     "output_type": "stream",
     "text": [
      "Unknown tokens 2989, first 100: ['\"', ':)', '♥', 'поздравляю', '❤', '😊', '😘', '=)', '️', ':d', 'vk.com', 'скучаю', '😂', 'твои', 'наилучшего', ';)', '😍', '💋', 'рожденья', '🎁', 'днюхой', '🎉', '©', '😉', 'блин', '😚', '😃', '😆', 'любишь', 'народження', 'посмотри', 'пиздец', '🎂', 'бля', 'твоих', 'днюшкой', 'благ', '►', 'солнышко', '\\n \\n', '☺', 'пускай', 'оставайся', 'прям', 'жду', 'нахуй', ':3', 'побольше', ':*', 'мужик', 'куплю', 'счастлива', 'сука', '🎈', 'крепкого', 'блять', '💖', '😎', 'варенья', '😄', 'помнишь', 'p.s.', 'узнай', 'ахаха', 'приветик', 'братан', 'весело', 'милая', 'прости', 'репост', 'помогите', 'хуй', 'поздравления', 'грн', '👍', 'эх', 'ахах', 'пожелать', '✌', 'безумно', 'ахахах', 'поздравить', 'будьте', 'чувак', '🌷', '😜', '\\xa0', 'чё', 'иди', ':)))', 'смотрю', 'ищу', 'ето', 'поздравляем', 'обожаю', ':))', 'рождеством', 'счастливой', 'бро', ':(']\n"
     ]
    }
   ],
   "source": [
    "# create learner and provide pretrained files to finetune wiki-LM with ruSentiment data\n",
    "learner = language_model_learner(data1_lm, pretrained_fnames=pretrained_fnames, drop_mult=0.3)"
   ]
  },
  {
   "cell_type": "code",
   "execution_count": 22,
   "metadata": {},
   "outputs": [],
   "source": [
    "learner.callback_fns += [partial(SaveModelCallback, every='epoch', name='lm')]"
   ]
  },
  {
   "cell_type": "code",
   "execution_count": 21,
   "metadata": {},
   "outputs": [],
   "source": [
    "learner.opt_func = partial(optim.Adam, betas=(0.8, 0.99))"
   ]
  },
  {
   "cell_type": "code",
   "execution_count": 22,
   "metadata": {},
   "outputs": [
    {
     "data": {
      "text/plain": [
       "[<function fastai.metrics.accuracy(input:torch.Tensor, targs:torch.LongTensor) -> <function NewType.<locals>.new_type at 0x7f8a91b5bf28>>]"
      ]
     },
     "execution_count": 22,
     "metadata": {},
     "output_type": "execute_result"
    }
   ],
   "source": [
    "learner.metrics"
   ]
  },
  {
   "cell_type": "code",
   "execution_count": 23,
   "metadata": {},
   "outputs": [
    {
     "name": "stdout",
     "output_type": "stream",
     "text": [
      "LR Finder is complete, type {learner_name}.recorder.plot() to see the graph.\n"
     ]
    }
   ],
   "source": [
    "learner.lr_find()"
   ]
  },
  {
   "cell_type": "code",
   "execution_count": 24,
   "metadata": {},
   "outputs": [
    {
     "data": {
      "image/png": "[encoded data removed]",
      "text/plain": [
       "<Figure size 432x288 with 1 Axes>"
      ]
     },
     "metadata": {
      "needs_background": "light"
     },
     "output_type": "display_data"
    }
   ],
   "source": [
    "learner.recorder.plot(skip_end=15)"
   ]
  },
  {
   "cell_type": "code",
   "execution_count": 25,
   "metadata": {},
   "outputs": [],
   "source": [
    "moms = (0.8, 0.7)"
   ]
  },
  {
   "cell_type": "code",
   "execution_count": 26,
   "metadata": {},
   "outputs": [
    {
     "data": {
      "text/html": [
       "Total time: 00:07 <p><table style='width:300px; margin-bottom:10px'>\n",
       "  <tr>\n",
       "    <th>epoch</th>\n",
       "    <th>train_loss</th>\n",
       "    <th>valid_loss</th>\n",
       "    <th>accuracy</th>\n",
       "  </tr>\n",
       "  <tr>\n",
       "    <th>1</th>\n",
       "    <th>4.755524</th>\n",
       "    <th>4.265546</th>\n",
       "    <th>0.280021</th>\n",
       "  </tr>\n",
       "</table>\n"
      ],
      "text/plain": [
       "<IPython.core.display.HTML object>"
      ]
     },
     "metadata": {},
     "output_type": "display_data"
    }
   ],
   "source": [
    "# learning the same way as in fastai v1 examples\n",
    "learner.fit_one_cycle(1, 3e-2, moms=moms)"
   ]
  },
  {
   "cell_type": "code",
   "execution_count": 27,
   "metadata": {},
   "outputs": [],
   "source": [
    "learner.save('fit_head')"
   ]
  },
  {
   "cell_type": "code",
   "execution_count": 28,
   "metadata": {
    "scrolled": true
   },
   "outputs": [
    {
     "data": {
      "text/plain": [
       "LanguageLearner(data=TextLMDataBunch;\n",
       "\n",
       "Train: LabelList\n",
       "y: LMLabel (17014 items)\n",
       "[Category 0, Category 0, Category 0, Category 0, Category 0]...\n",
       "Path: data/ruSentiment\n",
       "x: LMTextList (17014 items)\n",
       "[Text xxbos xxmaj итак \n",
       " xxmaj короче \n",
       " xxmaj мудила xxunk ) \n",
       " я поздравляю тебя с твоим xxunk , возрастом боли и xxunk ) \n",
       " xxmaj желаю тебе , чтобы у тебя появилась xxunk , собака , чтоб ты свалил в xxmaj xxunk , там xxunk группу xxunk - xxunk , а потом свалил , например , в германию ) ) \n",
       " xxmaj ну и сейчас чтобы нашел какую - нибудь нормальную , в меру xxunk мозг xxunk , которая бы тебя любила ) \n",
       " xxmaj вот ), Text xxbos xxmaj xxunk полиции xxunk лучших в xxunk без оружия - xxmaj xxunk \" xxmaj xxunk \", Text xxbos xxmaj вы опять xxunk xxunk ) ) делать не хуй что ли стало ?, Text xxbos xxmaj друзья xxunk в беде xxrep 4 ., Text xxbos xxmaj красивой , нежной и веселой \n",
       " xxmaj очаровательной , xxunk , \n",
       " xxmaj всегда любимой и xxunk , \n",
       " xxmaj душою вечно молодой , \n",
       " с огнем в груди , \n",
       " с xxunk в сердце , \n",
       " xxmaj xxunk , как звезда , \n",
       " и xxunk xxunk \n",
       " xxmaj ты оставайся навсегда ! \n",
       " с днем рождения : * *]...\n",
       "Path: data/ruSentiment;\n",
       "\n",
       "Valid: LabelList\n",
       "y: LMLabel (4254 items)\n",
       "[Category 0, Category 0, Category 0, Category 0, Category 0]...\n",
       "Path: data/ruSentiment\n",
       "x: LMTextList (4254 items)\n",
       "[Text xxbos xxmaj вот так вот надо тебе делать на xxunk xxrep 4 ) xxunk, Text xxbos xxx : xxmaj ну ничего , xxunk знак зодиака , станешь xxunk . \n",
       " xxunk : xxmaj мама с папой сделали меня xxunk и я никогда не стану xxunk ), Text xxbos xxup победила xxrep 5 ! в xxup этот xxup раз xxrep 4 ! xxup xxunk xxrep 4 ! =) ), Text xxbos в xxunk ушел походу ахахах, Text xxbos xxmaj написать сообщение ...]...\n",
       "Path: data/ruSentiment;\n",
       "\n",
       "Test: None, model=SequentialRNN(\n",
       "  (0): RNNCore(\n",
       "    (encoder): Embedding(8717, 400, padding_idx=1)\n",
       "    (encoder_dp): EmbeddingDropout(\n",
       "      (emb): Embedding(8717, 400, padding_idx=1)\n",
       "    )\n",
       "    (rnns): ModuleList(\n",
       "      (0): WeightDropout(\n",
       "        (module): LSTM(400, 1150, batch_first=True)\n",
       "      )\n",
       "      (1): WeightDropout(\n",
       "        (module): LSTM(1150, 1150, batch_first=True)\n",
       "      )\n",
       "      (2): WeightDropout(\n",
       "        (module): LSTM(1150, 400, batch_first=True)\n",
       "      )\n",
       "    )\n",
       "    (input_dp): RNNDropout()\n",
       "    (hidden_dps): ModuleList(\n",
       "      (0): RNNDropout()\n",
       "      (1): RNNDropout()\n",
       "      (2): RNNDropout()\n",
       "    )\n",
       "  )\n",
       "  (1): LinearDecoder(\n",
       "    (decoder): Linear(in_features=400, out_features=8717, bias=True)\n",
       "    (output_dp): RNNDropout()\n",
       "  )\n",
       "), opt_func=functools.partial(<class 'torch.optim.adam.Adam'>, betas=(0.8, 0.99)), loss_func=<fastai.layers.FlattenedLoss object at 0x7f8b5882fda0>, metrics=[<function accuracy at 0x7f8a8b2d0b70>], true_wd=True, bn_wd=True, wd=0.01, train_bn=True, path=PosixPath('data/ruSentiment'), model_dir='models', callback_fns=[<class 'fastai.basic_train.Recorder'>], callbacks=[RNNTrainer(learn=LanguageLearner(data=TextLMDataBunch;\n",
       "\n",
       "Train: LabelList\n",
       "y: LMLabel (17014 items)\n",
       "[Category 0, Category 0, Category 0, Category 0, Category 0]...\n",
       "Path: data/ruSentiment\n",
       "x: LMTextList (17014 items)\n",
       "[Text xxbos xxmaj итак \n",
       " xxmaj короче \n",
       " xxmaj мудила xxunk ) \n",
       " я поздравляю тебя с твоим xxunk , возрастом боли и xxunk ) \n",
       " xxmaj желаю тебе , чтобы у тебя появилась xxunk , собака , чтоб ты свалил в xxmaj xxunk , там xxunk группу xxunk - xxunk , а потом свалил , например , в германию ) ) \n",
       " xxmaj ну и сейчас чтобы нашел какую - нибудь нормальную , в меру xxunk мозг xxunk , которая бы тебя любила ) \n",
       " xxmaj вот ), Text xxbos xxmaj xxunk полиции xxunk лучших в xxunk без оружия - xxmaj xxunk \" xxmaj xxunk \", Text xxbos xxmaj вы опять xxunk xxunk ) ) делать не хуй что ли стало ?, Text xxbos xxmaj друзья xxunk в беде xxrep 4 ., Text xxbos xxmaj красивой , нежной и веселой \n",
       " xxmaj очаровательной , xxunk , \n",
       " xxmaj всегда любимой и xxunk , \n",
       " xxmaj душою вечно молодой , \n",
       " с огнем в груди , \n",
       " с xxunk в сердце , \n",
       " xxmaj xxunk , как звезда , \n",
       " и xxunk xxunk \n",
       " xxmaj ты оставайся навсегда ! \n",
       " с днем рождения : * *]...\n",
       "Path: data/ruSentiment;\n",
       "\n",
       "Valid: LabelList\n",
       "y: LMLabel (4254 items)\n",
       "[Category 0, Category 0, Category 0, Category 0, Category 0]...\n",
       "Path: data/ruSentiment\n",
       "x: LMTextList (4254 items)\n",
       "[Text xxbos xxmaj вот так вот надо тебе делать на xxunk xxrep 4 ) xxunk, Text xxbos xxx : xxmaj ну ничего , xxunk знак зодиака , станешь xxunk . \n",
       " xxunk : xxmaj мама с папой сделали меня xxunk и я никогда не стану xxunk ), Text xxbos xxup победила xxrep 5 ! в xxup этот xxup раз xxrep 4 ! xxup xxunk xxrep 4 ! =) ), Text xxbos в xxunk ушел походу ахахах, Text xxbos xxmaj написать сообщение ...]...\n",
       "Path: data/ruSentiment;\n",
       "\n",
       "Test: None, model=SequentialRNN(\n",
       "  (0): RNNCore(\n",
       "    (encoder): Embedding(8717, 400, padding_idx=1)\n",
       "    (encoder_dp): EmbeddingDropout(\n",
       "      (emb): Embedding(8717, 400, padding_idx=1)\n",
       "    )\n",
       "    (rnns): ModuleList(\n",
       "      (0): WeightDropout(\n",
       "        (module): LSTM(400, 1150, batch_first=True)\n",
       "      )\n",
       "      (1): WeightDropout(\n",
       "        (module): LSTM(1150, 1150, batch_first=True)\n",
       "      )\n",
       "      (2): WeightDropout(\n",
       "        (module): LSTM(1150, 400, batch_first=True)\n",
       "      )\n",
       "    )\n",
       "    (input_dp): RNNDropout()\n",
       "    (hidden_dps): ModuleList(\n",
       "      (0): RNNDropout()\n",
       "      (1): RNNDropout()\n",
       "      (2): RNNDropout()\n",
       "    )\n",
       "  )\n",
       "  (1): LinearDecoder(\n",
       "    (decoder): Linear(in_features=400, out_features=8717, bias=True)\n",
       "    (output_dp): RNNDropout()\n",
       "  )\n",
       "), opt_func=functools.partial(<class 'torch.optim.adam.Adam'>, betas=(0.8, 0.99)), loss_func=<fastai.layers.FlattenedLoss object at 0x7f8b5882fda0>, metrics=[<function accuracy at 0x7f8a8b2d0b70>], true_wd=True, bn_wd=True, wd=0.01, train_bn=True, path=PosixPath('data/ruSentiment'), model_dir='models', callback_fns=[<class 'fastai.basic_train.Recorder'>], callbacks=[...], layer_groups=[Sequential(\n",
       "  (0): WeightDropout(\n",
       "    (module): LSTM(400, 1150, batch_first=True)\n",
       "  )\n",
       "  (1): RNNDropout()\n",
       "), Sequential(\n",
       "  (0): WeightDropout(\n",
       "    (module): LSTM(1150, 1150, batch_first=True)\n",
       "  )\n",
       "  (1): RNNDropout()\n",
       "), Sequential(\n",
       "  (0): WeightDropout(\n",
       "    (module): LSTM(1150, 400, batch_first=True)\n",
       "  )\n",
       "  (1): RNNDropout()\n",
       "), Sequential(\n",
       "  (0): Embedding(8717, 400, padding_idx=1)\n",
       "  (1): EmbeddingDropout(\n",
       "    (emb): Embedding(8717, 400, padding_idx=1)\n",
       "  )\n",
       "  (2): LinearDecoder(\n",
       "    (decoder): Linear(in_features=400, out_features=8717, bias=True)\n",
       "    (output_dp): RNNDropout()\n",
       "  )\n",
       ")]), bptt=70, alpha=2.0, beta=1.0, adjust=False)], layer_groups=[Sequential(\n",
       "  (0): WeightDropout(\n",
       "    (module): LSTM(400, 1150, batch_first=True)\n",
       "  )\n",
       "  (1): RNNDropout()\n",
       "), Sequential(\n",
       "  (0): WeightDropout(\n",
       "    (module): LSTM(1150, 1150, batch_first=True)\n",
       "  )\n",
       "  (1): RNNDropout()\n",
       "), Sequential(\n",
       "  (0): WeightDropout(\n",
       "    (module): LSTM(1150, 400, batch_first=True)\n",
       "  )\n",
       "  (1): RNNDropout()\n",
       "), Sequential(\n",
       "  (0): Embedding(8717, 400, padding_idx=1)\n",
       "  (1): EmbeddingDropout(\n",
       "    (emb): Embedding(8717, 400, padding_idx=1)\n",
       "  )\n",
       "  (2): LinearDecoder(\n",
       "    (decoder): Linear(in_features=400, out_features=8717, bias=True)\n",
       "    (output_dp): RNNDropout()\n",
       "  )\n",
       ")])"
      ]
     },
     "execution_count": 28,
     "metadata": {},
     "output_type": "execute_result"
    }
   ],
   "source": [
    "learner.load('fit_head')"
   ]
  },
  {
   "cell_type": "code",
   "execution_count": 29,
   "metadata": {},
   "outputs": [],
   "source": [
    "learner.unfreeze()"
   ]
  },
  {
   "cell_type": "code",
   "execution_count": 30,
   "metadata": {},
   "outputs": [
    {
     "name": "stdout",
     "output_type": "stream",
     "text": [
      "LR Finder is complete, type {learner_name}.recorder.plot() to see the graph.\n"
     ]
    }
   ],
   "source": [
    "learner.lr_find()"
   ]
  },
  {
   "cell_type": "code",
   "execution_count": 31,
   "metadata": {},
   "outputs": [
    {
     "data": {
      "image/png": "[encoded data removed]",
      "text/plain": [
       "<Figure size 432x288 with 1 Axes>"
      ]
     },
     "metadata": {
      "needs_background": "light"
     },
     "output_type": "display_data"
    }
   ],
   "source": [
    "learner.recorder.plot(skip_end=15)"
   ]
  },
  {
   "cell_type": "code",
   "execution_count": 32,
   "metadata": {},
   "outputs": [
    {
     "data": {
      "text/html": [
       "Total time: 01:37 <p><table style='width:300px; margin-bottom:10px'>\n",
       "  <tr>\n",
       "    <th>epoch</th>\n",
       "    <th>train_loss</th>\n",
       "    <th>valid_loss</th>\n",
       "    <th>accuracy</th>\n",
       "  </tr>\n",
       "  <tr>\n",
       "    <th>1</th>\n",
       "    <th>4.257998</th>\n",
       "    <th>4.212062</th>\n",
       "    <th>0.286961</th>\n",
       "  </tr>\n",
       "  <tr>\n",
       "    <th>2</th>\n",
       "    <th>4.180362</th>\n",
       "    <th>4.124466</th>\n",
       "    <th>0.298159</th>\n",
       "  </tr>\n",
       "  <tr>\n",
       "    <th>3</th>\n",
       "    <th>4.077897</th>\n",
       "    <th>4.061832</th>\n",
       "    <th>0.305724</th>\n",
       "  </tr>\n",
       "  <tr>\n",
       "    <th>4</th>\n",
       "    <th>3.949593</th>\n",
       "    <th>4.023438</th>\n",
       "    <th>0.309089</th>\n",
       "  </tr>\n",
       "  <tr>\n",
       "    <th>5</th>\n",
       "    <th>3.829355</th>\n",
       "    <th>4.004425</th>\n",
       "    <th>0.310196</th>\n",
       "  </tr>\n",
       "  <tr>\n",
       "    <th>6</th>\n",
       "    <th>3.725506</th>\n",
       "    <th>3.993174</th>\n",
       "    <th>0.313259</th>\n",
       "  </tr>\n",
       "  <tr>\n",
       "    <th>7</th>\n",
       "    <th>3.613018</th>\n",
       "    <th>3.999811</th>\n",
       "    <th>0.312865</th>\n",
       "  </tr>\n",
       "  <tr>\n",
       "    <th>8</th>\n",
       "    <th>3.542066</th>\n",
       "    <th>4.004945</th>\n",
       "    <th>0.313406</th>\n",
       "  </tr>\n",
       "  <tr>\n",
       "    <th>9</th>\n",
       "    <th>3.501789</th>\n",
       "    <th>4.005034</th>\n",
       "    <th>0.312803</th>\n",
       "  </tr>\n",
       "  <tr>\n",
       "    <th>10</th>\n",
       "    <th>3.481090</th>\n",
       "    <th>4.008079</th>\n",
       "    <th>0.312818</th>\n",
       "  </tr>\n",
       "</table>\n"
      ],
      "text/plain": [
       "<IPython.core.display.HTML object>"
      ]
     },
     "metadata": {},
     "output_type": "display_data"
    }
   ],
   "source": [
    "learner.fit_one_cycle(10, 1e-3, moms=moms)"
   ]
  },
  {
   "cell_type": "code",
   "execution_count": 33,
   "metadata": {},
   "outputs": [],
   "source": [
    "# save fine_tuned model\n",
    "learner.save('fine_tuned')"
   ]
  },
  {
   "cell_type": "code",
   "execution_count": 34,
   "metadata": {},
   "outputs": [],
   "source": [
    "# check text generation with LM\n",
    "TEXT = \"сегодня утром я\"\n",
    "N_WORDS = 10\n",
    "N_SENTENCES = 2"
   ]
  },
  {
   "cell_type": "code",
   "execution_count": 35,
   "metadata": {},
   "outputs": [
    {
     "name": "stdout",
     "output_type": "stream",
     "text": [
      "сегодня утром я ожидает заполнять телешоу надоели страшных чудная тот символ xd отвечаю\n",
      "сегодня утром я мысленно здорова зайти забирает 😇 роль варить 2012 останутся сплетни\n"
     ]
    }
   ],
   "source": [
    "print(\"\\n\".join(learner.predict(TEXT, N_WORDS, temperature=0.75) for _ in range(N_SENTENCES)))"
   ]
  },
  {
   "cell_type": "code",
   "execution_count": 36,
   "metadata": {},
   "outputs": [],
   "source": [
    "# save finetuned models encoder to use for classification task\n",
    "learner.save_encoder('fine_tuned_enc')"
   ]
  },
  {
   "cell_type": "markdown",
   "metadata": {},
   "source": [
    "### Classifier"
   ]
  },
  {
   "cell_type": "code",
   "execution_count": 37,
   "metadata": {},
   "outputs": [
    {
     "data": {
      "text/plain": [
       "[PosixPath('data/ruSentiment/models'),\n",
       " PosixPath('data/ruSentiment/tmp_lm'),\n",
       " PosixPath('data/ruSentiment/rusentiment_random_posts.csv'),\n",
       " PosixPath('data/ruSentiment/rusentiment_test.csv'),\n",
       " PosixPath('data/ruSentiment/rusentiment_preselected_posts.csv')]"
      ]
     },
     "execution_count": 37,
     "metadata": {},
     "output_type": "execute_result"
    }
   ],
   "source": [
    "rusent_data_path.ls()"
   ]
  },
  {
   "cell_type": "code",
   "execution_count": null,
   "metadata": {},
   "outputs": [],
   "source": [
    "# TODO: change databunch creation to use test.csv for validation"
   ]
  },
  {
   "cell_type": "code",
   "execution_count": 48,
   "metadata": {},
   "outputs": [],
   "source": [
    "# create classification databunch, please note usage of LM vocab\n",
    "data_clas = TextClasDataBunch.from_csv(path=rusent_data_path, csv_name='rusentiment_random_posts.csv',\n",
    "                                       test='rusentiment_test.csv',\n",
    "                                       vocab=data1_lm.vocab, text_cols='text', label_cols='label', bs=bs)"
   ]
  },
  {
   "cell_type": "code",
   "execution_count": 56,
   "metadata": {},
   "outputs": [
    {
     "data": {
      "text/html": [
       "<table>  <col width='90%'>  <col width='10%'>  <tr>\n",
       "    <th>text</th>\n",
       "    <th>target</th>\n",
       "  </tr>\n",
       "  <tr>\n",
       "    <th>xxbos - xxmaj отдать тебе любовь ? \\n - xxmaj отдай . \\n - xxmaj она в грязи . \\n - xxmaj отдай в грязи . \\n - я xxunk хочу . \\n - xxmaj xxunk \\n - xxmaj еще спросить хочу . \\n - xxmaj спроси . \\n - xxmaj допустим , xxunk . \\n - xxmaj xxunk . \\n - xxmaj допустим , xxunk . \\n - xxmaj</th>\n",
       "    <th>neutral</th>\n",
       "  </tr>\n",
       "  <tr>\n",
       "    <th>xxbos xxrep 18 _ @;@ , \\n _ _ _ , xxunk / ) @;@ ; \\n _ _ , ; xxunk _ / @ xxunk .. e \\ \\n _ ( xxunk \\ xxunk ( _ _ \\ \\n _ _ ' xxunk ' \\n _ _ _ ' @;@ ; / ; @ ; / ; @ ; ' \\n  xxrep 5 _ ) / / _</th>\n",
       "    <th>speech</th>\n",
       "  </tr>\n",
       "  <tr>\n",
       "    <th>xxbos в xxup xxunk xxup состоянии xxup сложно xxup произнести : \\n 1 . xxmaj xxunk . \\n 2 . xxmaj xxunk . \\n 3 . xxmaj xxunk . \\n 4 . xxmaj xxunk . \\n xxup очень xxup сложно xxup произнести : \\n 1 . xxmaj xxunk . \\n 2 . xxmaj xxunk . \\n 3 . xxmaj xxunk . \\n 4 . xxmaj xxunk . \\n и xxup</th>\n",
       "    <th>skip</th>\n",
       "  </tr>\n",
       "  <tr>\n",
       "    <th>xxbos xxmaj быть может я вернусь домой , \\n xxmaj на радость xxunk xxunk . \\n и чтобы грусть xxunk долой , \\n xxmaj xxunk немного xxunk , \\n xxmaj по старой xxunk xxunk . \\n и на xxunk xxunk , \\n xxmaj из \" xxunk \" магазина \\n xxmaj ты выйдешь ... xxmaj xxunk лицо \\n xxmaj xxunk к xxunk пива ... \\n xxmaj на xxunk вижу я кольцо</th>\n",
       "    <th>negative</th>\n",
       "  </tr>\n",
       "  <tr>\n",
       "    <th>xxbos « – xxmaj эй , что xxunk ? – xxunk его xxmaj кенет . – xxmaj уходить не хочется ? \\n – xxmaj да не в том дело , – xxunk xxmaj кэссин . – xxmaj просто я себя чувствую … даже и сам не знаю кем . xxmaj очень хочется поступить правильно … вот только не знаю , как это – правильно . \\n – xxmaj не знаешь</th>\n",
       "    <th>neutral</th>\n",
       "  </tr>\n",
       "</table>\n"
      ],
      "text/plain": [
       "<IPython.core.display.HTML object>"
      ]
     },
     "metadata": {},
     "output_type": "display_data"
    }
   ],
   "source": [
    "data_clas.show_batch()"
   ]
  },
  {
   "cell_type": "code",
   "execution_count": 58,
   "metadata": {},
   "outputs": [
    {
     "data": {
      "text/plain": [
       "5"
      ]
     },
     "execution_count": 58,
     "metadata": {},
     "output_type": "execute_result"
    }
   ],
   "source": [
    "# number of classes\n",
    "data_clas.train_ds.c"
   ]
  },
  {
   "cell_type": "code",
   "execution_count": 59,
   "metadata": {},
   "outputs": [
    {
     "data": {
      "text/plain": [
       "['negative', 'neutral', 'positive', 'skip', 'speech']"
      ]
     },
     "execution_count": 59,
     "metadata": {},
     "output_type": "execute_result"
    }
   ],
   "source": [
    "data_clas.train_ds.classes"
   ]
  },
  {
   "cell_type": "code",
   "execution_count": 61,
   "metadata": {},
   "outputs": [
    {
     "data": {
      "text/plain": [
       "TextClasDataBunch;\n",
       "\n",
       "Train: LabelList\n",
       "y: CategoryList (17014 items)\n",
       "[Category positive, Category negative, Category skip, Category neutral, Category neutral]...\n",
       "Path: data/ruSentiment\n",
       "x: TextList (17014 items)\n",
       "[Text xxbos xxup удачи xxup на xxup xxunk xxup xxunk ) ), Text xxbos \n",
       " xxmaj ребята мы ведь можем по 4 часа в день xxunk . нас xxunk используют . xxmaj платят xxunk xxunk или совсем забывают xxunk ., Text xxbos xxmaj купил 5 кг xxunk , хочется xxunk ... ;) © xxmaj xxunk, Text xxbos xxmaj давай встречаться без разрешения xxmaj xxunk ?, Text xxbos xxmaj помогите , пожалуйста , я не знаю , как правильно поступить в такой ситуации , честно говоря , никогда не xxunk : вчера семья из трех человек : мама , папа и ребенок 4-х лет пытались xxunk со стороны xxmaj xxunk - xxmaj xxunk - xxmaj xxunk , но , увы , не смогли , родители xxunk , водитель автомобиля тоже , а девочка осталась xxunk , ей 4 годика , в настоящий момент после xxunk она находится в xxmaj xxunk xxunk , xxunk нет , ее xxup xxunk установить , к сожалению , не возможно , но я верю в то , что остались родственники , которые ищут этого ребенка , давайте поможем найти xxunk xxunk xxrep 4 ! xxmaj умоляю , пожалуйста ! \n",
       "\n",
       " xxmaj завтра xxunk скинуть фото девочки , вдруг xxunk xxunk мы сможем найти ребенку семью , не должна же она в такое время остаться совсем одна ! ! !]...\n",
       "Path: data/ruSentiment;\n",
       "\n",
       "Valid: LabelList\n",
       "y: CategoryList (4254 items)\n",
       "[Category neutral, Category speech, Category skip, Category neutral, Category positive]...\n",
       "Path: data/ruSentiment\n",
       "x: TextList (4254 items)\n",
       "[Text xxbos xxmaj уважаемые xxunk , можете не xxunk мои посты и комментарии и не xxunk меня . я - xxunk xxunk xxunk xxunk и xxunk xxunk в принципе , просто я умею xxunk своё мнение куда подальше в рамках xxunk протеста . xxmaj xxunk ., Text xxbos с xxmaj днём xxmaj рождения ! ! ) ), Text xxbos xxmaj xxunk : р, Text xxbos xxmaj чтобы xxunk xxunk в людях , надо xxunk от xxunk . xxmaj xxunk принимать людей такими , какие они есть . xxmaj xxunk людей не существует . xxmaj можно найти хороших людей , но даже и они xxunk бывают xxunk , xxunk , xxunk и могут xxunk ., Text xxbos xxmaj теперь у меня есть котик , xxmaj xxunk =)]...\n",
       "Path: data/ruSentiment;\n",
       "\n",
       "Test: LabelList\n",
       "y: CategoryList (2967 items)\n",
       "[Category positive, Category positive, Category positive, Category positive, Category positive]...\n",
       "Path: data/ruSentiment\n",
       "x: TextList (2967 items)\n",
       "[Text xxbos xxmaj александр , тебе к xxunk эта пушка :) \n",
       ", Text xxbos xxmaj скоро ты xxunk домой , xxunk , не xxunk но такой любимый ❤, Text xxbos помниш ... ) ), Text xxbos xxmaj мы просто с [ xxunk ] xxunk xxrep 5 ) \n",
       " к новому году в xxunk готовы ! xxrep 6 ) \n",
       " xxmaj да , мы любим молоко ! xxmaj когда xxunk - xxunk на него вместо xxunk воды 🍹, Text xxbos ой , прости забыла поздравить , с xxunk , да ! xxrep 4 )]...\n",
       "Path: data/ruSentiment"
      ]
     },
     "execution_count": 61,
     "metadata": {},
     "output_type": "execute_result"
    }
   ],
   "source": [
    "data_clas"
   ]
  },
  {
   "cell_type": "code",
   "execution_count": 63,
   "metadata": {
    "scrolled": true
   },
   "outputs": [
    {
     "data": {
      "text/plain": [
       "8717"
      ]
     },
     "execution_count": 63,
     "metadata": {},
     "output_type": "execute_result"
    }
   ],
   "source": [
    "len(data_clas.vocab.itos)"
   ]
  },
  {
   "cell_type": "code",
   "execution_count": 62,
   "metadata": {},
   "outputs": [],
   "source": [
    "# save for future use\n",
    "data_clas.save('tmp_clas')"
   ]
  },
  {
   "cell_type": "code",
   "execution_count": 27,
   "metadata": {},
   "outputs": [],
   "source": [
    "data_clas = TextClasDataBunch.load(rusent_data_path, 'tmp_clas', bs=bs)"
   ]
  },
  {
   "cell_type": "code",
   "execution_count": 76,
   "metadata": {},
   "outputs": [],
   "source": [
    "# create learner and train\n",
    "# train classifier as in fastai imdb example\n",
    "learner = text_classifier_learner(data=data_clas, drop_mult=0.5)"
   ]
  },
  {
   "cell_type": "code",
   "execution_count": 77,
   "metadata": {},
   "outputs": [],
   "source": [
    "# load fine tuned encoder\n",
    "learner.load_encoder('fine_tuned_enc')"
   ]
  },
  {
   "cell_type": "code",
   "execution_count": 78,
   "metadata": {},
   "outputs": [],
   "source": [
    "learner.freeze()"
   ]
  },
  {
   "cell_type": "code",
   "execution_count": 79,
   "metadata": {},
   "outputs": [
    {
     "name": "stdout",
     "output_type": "stream",
     "text": [
      "LR Finder is complete, type {learner_name}.recorder.plot() to see the graph.\n"
     ]
    }
   ],
   "source": [
    "learner.lr_find()"
   ]
  },
  {
   "cell_type": "code",
   "execution_count": 80,
   "metadata": {},
   "outputs": [
    {
     "data": {
      "image/png": "[encoded data removed]",
      "text/plain": [
       "<Figure size 432x288 with 1 Axes>"
      ]
     },
     "metadata": {
      "needs_background": "light"
     },
     "output_type": "display_data"
    }
   ],
   "source": [
    "learner.recorder.plot()"
   ]
  },
  {
   "cell_type": "code",
   "execution_count": 69,
   "metadata": {},
   "outputs": [],
   "source": [
    "moms=(0.8,0.7)\n"
   ]
  },
  {
   "cell_type": "code",
   "execution_count": 81,
   "metadata": {},
   "outputs": [
    {
     "data": {
      "text/html": [
       "Total time: 00:31 <p><table style='width:300px; margin-bottom:10px'>\n",
       "  <tr>\n",
       "    <th>epoch</th>\n",
       "    <th>train_loss</th>\n",
       "    <th>valid_loss</th>\n",
       "    <th>accuracy</th>\n",
       "  </tr>\n",
       "  <tr>\n",
       "    <th>1</th>\n",
       "    <th>1.184045</th>\n",
       "    <th>1.175444</th>\n",
       "    <th>0.540197</th>\n",
       "  </tr>\n",
       "  <tr>\n",
       "    <th>2</th>\n",
       "    <th>1.123152</th>\n",
       "    <th>1.127263</th>\n",
       "    <th>0.536201</th>\n",
       "  </tr>\n",
       "  <tr>\n",
       "    <th>3</th>\n",
       "    <th>1.103971</th>\n",
       "    <th>1.075097</th>\n",
       "    <th>0.556182</th>\n",
       "  </tr>\n",
       "</table>\n"
      ],
      "text/plain": [
       "<IPython.core.display.HTML object>"
      ]
     },
     "metadata": {},
     "output_type": "display_data"
    }
   ],
   "source": [
    "learner.fit_one_cycle(3, 1e-2, moms=moms)"
   ]
  },
  {
   "cell_type": "code",
   "execution_count": 82,
   "metadata": {},
   "outputs": [],
   "source": [
    "learner.save('first')"
   ]
  },
  {
   "cell_type": "code",
   "execution_count": 38,
   "metadata": {
    "collapsed": true
   },
   "outputs": [
    {
     "data": {
      "text/plain": [
       "RNNLearner(data=TextClasDataBunch;\n",
       "\n",
       "Train: LabelList\n",
       "y: CategoryList (204089 items)\n",
       "[Category positive, Category positive, Category positive, Category positive, Category positive]...\n",
       "Path: .\n",
       "x: TextList (204089 items)\n",
       "[Text xxbos xxunk хоть я и школота , но поверь , у нас то же самое xxup :d общество xxunk предмет типа ), Text xxbos xxmaj да , все - таки он немного похож на него . xxmaj но мой мальчик все равно лучше : d, Text xxbos xxup rt xxunk : xxmaj ну ты идиотка ) я испугалась за тебя ! ! !, Text xxbos xxup rt xxunk : \" xxmaj кто то в углу сидит и погибает от голода , а мы ещё 2 порции взяли , хотя уже и так жрать не хотим \" : xxup dd http : / / t.co / xxunk …, Text xxbos xxunk xxmaj вот что значит xxunk xxup :d \n",
       " xxmaj но блин , посмотрев все части , у тебя xxunk ощущение , что авторы курили что - то xxup :d]...\n",
       "Path: data/ruSentEval;\n",
       "\n",
       "Valid: LabelList\n",
       "y: CategoryList (22745 items)\n",
       "[Category positive, Category positive, Category positive, Category positive, Category positive]...\n",
       "Path: .\n",
       "x: TextList (22745 items)\n",
       "[Text xxbos xxunk xxunk ... наверное ... вдруг его перед этим xxunk ? xxrep 4 ), Text xxbos я р xxrep 7 а д , ведь сегодня впереди вся ночь , сериалы , фильмы , книга и кофе : ) идеальная ночка : ), Text xxbos xxunk xxunk xxunk xxunk сичас фф xxunk xxunk ) -к xxunk ?  , Text xxbos а еще я просрала xxmaj xxunk все xxunk и теперь она хуй в инстаграмм зайдет : ) ), Text xxbos xxmaj перемен ждала . и дождалась ) \n",
       " xxmaj теперь буду ждать лето]...\n",
       "Path: data/ruSentEval;\n",
       "\n",
       "Test: None, model=SequentialRNN(\n",
       "  (0): MultiBatchRNNCore(\n",
       "    (encoder): Embedding(54221, 400, padding_idx=1)\n",
       "    (encoder_dp): EmbeddingDropout(\n",
       "      (emb): Embedding(54221, 400, padding_idx=1)\n",
       "    )\n",
       "    (rnns): ModuleList(\n",
       "      (0): WeightDropout(\n",
       "        (module): LSTM(400, 1150, batch_first=True)\n",
       "      )\n",
       "      (1): WeightDropout(\n",
       "        (module): LSTM(1150, 1150, batch_first=True)\n",
       "      )\n",
       "      (2): WeightDropout(\n",
       "        (module): LSTM(1150, 400, batch_first=True)\n",
       "      )\n",
       "    )\n",
       "    (input_dp): RNNDropout()\n",
       "    (hidden_dps): ModuleList(\n",
       "      (0): RNNDropout()\n",
       "      (1): RNNDropout()\n",
       "      (2): RNNDropout()\n",
       "    )\n",
       "  )\n",
       "  (1): PoolingLinearClassifier(\n",
       "    (layers): Sequential(\n",
       "      (0): BatchNorm1d(1200, eps=1e-05, momentum=0.1, affine=True, track_running_stats=True)\n",
       "      (1): Dropout(p=0.2)\n",
       "      (2): Linear(in_features=1200, out_features=50, bias=True)\n",
       "      (3): ReLU(inplace)\n",
       "      (4): BatchNorm1d(50, eps=1e-05, momentum=0.1, affine=True, track_running_stats=True)\n",
       "      (5): Dropout(p=0.1)\n",
       "      (6): Linear(in_features=50, out_features=2, bias=True)\n",
       "    )\n",
       "  )\n",
       "), opt_func=functools.partial(<class 'torch.optim.adam.Adam'>, betas=(0.9, 0.99)), loss_func=<fastai.layers.FlattenedLoss object at 0x7f23a41475f8>, metrics=[<function accuracy at 0x7f23e0d8cb70>], true_wd=True, bn_wd=True, wd=0.01, train_bn=True, path=PosixPath('data/ruSentEval'), model_dir='models', callback_fns=[<class 'fastai.basic_train.Recorder'>], callbacks=[RNNTrainer(learn=RNNLearner(data=TextClasDataBunch;\n",
       "\n",
       "Train: LabelList\n",
       "y: CategoryList (204089 items)\n",
       "[Category positive, Category positive, Category positive, Category positive, Category positive]...\n",
       "Path: .\n",
       "x: TextList (204089 items)\n",
       "[Text xxbos xxunk хоть я и школота , но поверь , у нас то же самое xxup :d общество xxunk предмет типа ), Text xxbos xxmaj да , все - таки он немного похож на него . xxmaj но мой мальчик все равно лучше : d, Text xxbos xxup rt xxunk : xxmaj ну ты идиотка ) я испугалась за тебя ! ! !, Text xxbos xxup rt xxunk : \" xxmaj кто то в углу сидит и погибает от голода , а мы ещё 2 порции взяли , хотя уже и так жрать не хотим \" : xxup dd http : / / t.co / xxunk …, Text xxbos xxunk xxmaj вот что значит xxunk xxup :d \n",
       " xxmaj но блин , посмотрев все части , у тебя xxunk ощущение , что авторы курили что - то xxup :d]...\n",
       "Path: data/ruSentEval;\n",
       "\n",
       "Valid: LabelList\n",
       "y: CategoryList (22745 items)\n",
       "[Category positive, Category positive, Category positive, Category positive, Category positive]...\n",
       "Path: .\n",
       "x: TextList (22745 items)\n",
       "[Text xxbos xxunk xxunk ... наверное ... вдруг его перед этим xxunk ? xxrep 4 ), Text xxbos я р xxrep 7 а д , ведь сегодня впереди вся ночь , сериалы , фильмы , книга и кофе : ) идеальная ночка : ), Text xxbos xxunk xxunk xxunk xxunk сичас фф xxunk xxunk ) -к xxunk ?  , Text xxbos а еще я просрала xxmaj xxunk все xxunk и теперь она хуй в инстаграмм зайдет : ) ), Text xxbos xxmaj перемен ждала . и дождалась ) \n",
       " xxmaj теперь буду ждать лето]...\n",
       "Path: data/ruSentEval;\n",
       "\n",
       "Test: None, model=SequentialRNN(\n",
       "  (0): MultiBatchRNNCore(\n",
       "    (encoder): Embedding(54221, 400, padding_idx=1)\n",
       "    (encoder_dp): EmbeddingDropout(\n",
       "      (emb): Embedding(54221, 400, padding_idx=1)\n",
       "    )\n",
       "    (rnns): ModuleList(\n",
       "      (0): WeightDropout(\n",
       "        (module): LSTM(400, 1150, batch_first=True)\n",
       "      )\n",
       "      (1): WeightDropout(\n",
       "        (module): LSTM(1150, 1150, batch_first=True)\n",
       "      )\n",
       "      (2): WeightDropout(\n",
       "        (module): LSTM(1150, 400, batch_first=True)\n",
       "      )\n",
       "    )\n",
       "    (input_dp): RNNDropout()\n",
       "    (hidden_dps): ModuleList(\n",
       "      (0): RNNDropout()\n",
       "      (1): RNNDropout()\n",
       "      (2): RNNDropout()\n",
       "    )\n",
       "  )\n",
       "  (1): PoolingLinearClassifier(\n",
       "    (layers): Sequential(\n",
       "      (0): BatchNorm1d(1200, eps=1e-05, momentum=0.1, affine=True, track_running_stats=True)\n",
       "      (1): Dropout(p=0.2)\n",
       "      (2): Linear(in_features=1200, out_features=50, bias=True)\n",
       "      (3): ReLU(inplace)\n",
       "      (4): BatchNorm1d(50, eps=1e-05, momentum=0.1, affine=True, track_running_stats=True)\n",
       "      (5): Dropout(p=0.1)\n",
       "      (6): Linear(in_features=50, out_features=2, bias=True)\n",
       "    )\n",
       "  )\n",
       "), opt_func=functools.partial(<class 'torch.optim.adam.Adam'>, betas=(0.9, 0.99)), loss_func=<fastai.layers.FlattenedLoss object at 0x7f23a41475f8>, metrics=[<function accuracy at 0x7f23e0d8cb70>], true_wd=True, bn_wd=True, wd=0.01, train_bn=True, path=PosixPath('data/ruSentEval'), model_dir='models', callback_fns=[<class 'fastai.basic_train.Recorder'>], callbacks=[...], layer_groups=[Sequential(\n",
       "  (0): Embedding(54221, 400, padding_idx=1)\n",
       "  (1): EmbeddingDropout(\n",
       "    (emb): Embedding(54221, 400, padding_idx=1)\n",
       "  )\n",
       "), Sequential(\n",
       "  (0): WeightDropout(\n",
       "    (module): LSTM(400, 1150, batch_first=True)\n",
       "  )\n",
       "  (1): RNNDropout()\n",
       "), Sequential(\n",
       "  (0): WeightDropout(\n",
       "    (module): LSTM(1150, 1150, batch_first=True)\n",
       "  )\n",
       "  (1): RNNDropout()\n",
       "), Sequential(\n",
       "  (0): WeightDropout(\n",
       "    (module): LSTM(1150, 400, batch_first=True)\n",
       "  )\n",
       "  (1): RNNDropout()\n",
       "), Sequential(\n",
       "  (0): PoolingLinearClassifier(\n",
       "    (layers): Sequential(\n",
       "      (0): BatchNorm1d(1200, eps=1e-05, momentum=0.1, affine=True, track_running_stats=True)\n",
       "      (1): Dropout(p=0.2)\n",
       "      (2): Linear(in_features=1200, out_features=50, bias=True)\n",
       "      (3): ReLU(inplace)\n",
       "      (4): BatchNorm1d(50, eps=1e-05, momentum=0.1, affine=True, track_running_stats=True)\n",
       "      (5): Dropout(p=0.1)\n",
       "      (6): Linear(in_features=50, out_features=2, bias=True)\n",
       "    )\n",
       "  )\n",
       ")]), bptt=70, alpha=2.0, beta=1.0, adjust=False)], layer_groups=[Sequential(\n",
       "  (0): Embedding(54221, 400, padding_idx=1)\n",
       "  (1): EmbeddingDropout(\n",
       "    (emb): Embedding(54221, 400, padding_idx=1)\n",
       "  )\n",
       "), Sequential(\n",
       "  (0): WeightDropout(\n",
       "    (module): LSTM(400, 1150, batch_first=True)\n",
       "  )\n",
       "  (1): RNNDropout()\n",
       "), Sequential(\n",
       "  (0): WeightDropout(\n",
       "    (module): LSTM(1150, 1150, batch_first=True)\n",
       "  )\n",
       "  (1): RNNDropout()\n",
       "), Sequential(\n",
       "  (0): WeightDropout(\n",
       "    (module): LSTM(1150, 400, batch_first=True)\n",
       "  )\n",
       "  (1): RNNDropout()\n",
       "), Sequential(\n",
       "  (0): PoolingLinearClassifier(\n",
       "    (layers): Sequential(\n",
       "      (0): BatchNorm1d(1200, eps=1e-05, momentum=0.1, affine=True, track_running_stats=True)\n",
       "      (1): Dropout(p=0.2)\n",
       "      (2): Linear(in_features=1200, out_features=50, bias=True)\n",
       "      (3): ReLU(inplace)\n",
       "      (4): BatchNorm1d(50, eps=1e-05, momentum=0.1, affine=True, track_running_stats=True)\n",
       "      (5): Dropout(p=0.1)\n",
       "      (6): Linear(in_features=50, out_features=2, bias=True)\n",
       "    )\n",
       "  )\n",
       ")])"
      ]
     },
     "execution_count": 38,
     "metadata": {},
     "output_type": "execute_result"
    }
   ],
   "source": [
    "learner.load('first')"
   ]
  },
  {
   "cell_type": "code",
   "execution_count": 83,
   "metadata": {},
   "outputs": [
    {
     "data": {
      "text/html": [
       "Total time: 00:36 <p><table style='width:300px; margin-bottom:10px'>\n",
       "  <tr>\n",
       "    <th>epoch</th>\n",
       "    <th>train_loss</th>\n",
       "    <th>valid_loss</th>\n",
       "    <th>accuracy</th>\n",
       "  </tr>\n",
       "  <tr>\n",
       "    <th>1</th>\n",
       "    <th>1.127959</th>\n",
       "    <th>1.106659</th>\n",
       "    <th>0.539492</th>\n",
       "  </tr>\n",
       "  <tr>\n",
       "    <th>2</th>\n",
       "    <th>1.006207</th>\n",
       "    <th>1.020825</th>\n",
       "    <th>0.578044</th>\n",
       "  </tr>\n",
       "  <tr>\n",
       "    <th>3</th>\n",
       "    <th>0.930323</th>\n",
       "    <th>1.002567</th>\n",
       "    <th>0.591208</th>\n",
       "  </tr>\n",
       "</table>\n"
      ],
      "text/plain": [
       "<IPython.core.display.HTML object>"
      ]
     },
     "metadata": {},
     "output_type": "display_data"
    }
   ],
   "source": [
    "learner.freeze_to(-2)\n",
    "learner.fit_one_cycle(3, slice(1e-2/(2.6**4),1e-2), moms=moms)"
   ]
  },
  {
   "cell_type": "code",
   "execution_count": 84,
   "metadata": {},
   "outputs": [],
   "source": [
    "learner.save('second')"
   ]
  },
  {
   "cell_type": "code",
   "execution_count": null,
   "metadata": {},
   "outputs": [],
   "source": [
    "learner.load('second')"
   ]
  },
  {
   "cell_type": "code",
   "execution_count": 85,
   "metadata": {},
   "outputs": [
    {
     "data": {
      "text/html": [
       "Total time: 00:55 <p><table style='width:300px; margin-bottom:10px'>\n",
       "  <tr>\n",
       "    <th>epoch</th>\n",
       "    <th>train_loss</th>\n",
       "    <th>valid_loss</th>\n",
       "    <th>accuracy</th>\n",
       "  </tr>\n",
       "  <tr>\n",
       "    <th>1</th>\n",
       "    <th>0.933650</th>\n",
       "    <th>1.003757</th>\n",
       "    <th>0.605548</th>\n",
       "  </tr>\n",
       "  <tr>\n",
       "    <th>2</th>\n",
       "    <th>0.873215</th>\n",
       "    <th>0.975675</th>\n",
       "    <th>0.608133</th>\n",
       "  </tr>\n",
       "  <tr>\n",
       "    <th>3</th>\n",
       "    <th>0.764439</th>\n",
       "    <th>0.993069</th>\n",
       "    <th>0.610484</th>\n",
       "  </tr>\n",
       "</table>\n"
      ],
      "text/plain": [
       "<IPython.core.display.HTML object>"
      ]
     },
     "metadata": {},
     "output_type": "display_data"
    }
   ],
   "source": [
    "learner.freeze_to(-3)\n",
    "learner.fit_one_cycle(3, slice(5e-3/(2.6**4),5e-3), moms=moms)"
   ]
  },
  {
   "cell_type": "code",
   "execution_count": 86,
   "metadata": {},
   "outputs": [],
   "source": [
    "learner.save('third')"
   ]
  },
  {
   "cell_type": "code",
   "execution_count": null,
   "metadata": {},
   "outputs": [],
   "source": [
    "learner.load('third')"
   ]
  },
  {
   "cell_type": "code",
   "execution_count": 87,
   "metadata": {},
   "outputs": [
    {
     "data": {
      "text/html": [
       "Total time: 02:22 <p><table style='width:300px; margin-bottom:10px'>\n",
       "  <tr>\n",
       "    <th>epoch</th>\n",
       "    <th>train_loss</th>\n",
       "    <th>valid_loss</th>\n",
       "    <th>accuracy</th>\n",
       "  </tr>\n",
       "  <tr>\n",
       "    <th>1</th>\n",
       "    <th>0.757957</th>\n",
       "    <th>1.005746</th>\n",
       "    <th>0.617066</th>\n",
       "  </tr>\n",
       "  <tr>\n",
       "    <th>2</th>\n",
       "    <th>0.755528</th>\n",
       "    <th>1.014587</th>\n",
       "    <th>0.608133</th>\n",
       "  </tr>\n",
       "  <tr>\n",
       "    <th>3</th>\n",
       "    <th>0.726868</th>\n",
       "    <th>1.021247</th>\n",
       "    <th>0.614010</th>\n",
       "  </tr>\n",
       "  <tr>\n",
       "    <th>4</th>\n",
       "    <th>0.703973</th>\n",
       "    <th>1.054351</th>\n",
       "    <th>0.609309</th>\n",
       "  </tr>\n",
       "  <tr>\n",
       "    <th>5</th>\n",
       "    <th>0.677991</th>\n",
       "    <th>1.050328</th>\n",
       "    <th>0.609779</th>\n",
       "  </tr>\n",
       "  <tr>\n",
       "    <th>6</th>\n",
       "    <th>0.662833</th>\n",
       "    <th>1.055494</th>\n",
       "    <th>0.601787</th>\n",
       "  </tr>\n",
       "</table>\n"
      ],
      "text/plain": [
       "<IPython.core.display.HTML object>"
      ]
     },
     "metadata": {},
     "output_type": "display_data"
    }
   ],
   "source": [
    "learner.unfreeze()\n",
    "learner.fit_one_cycle(6, slice(1e-3/(2.6**4),1e-3), moms=moms)"
   ]
  },
  {
   "cell_type": "code",
   "execution_count": 97,
   "metadata": {},
   "outputs": [],
   "source": [
    "# sanity check for accuracy, precision, recall and f1-score\n",
    "preds, targets = learner.get_preds()"
   ]
  },
  {
   "cell_type": "code",
   "execution_count": 98,
   "metadata": {},
   "outputs": [
    {
     "data": {
      "text/plain": [
       "tensor([0, 2, 4, 3, 1])"
      ]
     },
     "execution_count": 98,
     "metadata": {},
     "output_type": "execute_result"
    }
   ],
   "source": [
    "targets.unique()"
   ]
  },
  {
   "cell_type": "code",
   "execution_count": 99,
   "metadata": {},
   "outputs": [],
   "source": [
    "pred_classes = torch.argmax(preds, dim=1)"
   ]
  },
  {
   "cell_type": "code",
   "execution_count": 101,
   "metadata": {},
   "outputs": [],
   "source": [
    "from sklearn.metrics import classification_report"
   ]
  },
  {
   "cell_type": "code",
   "execution_count": 102,
   "metadata": {},
   "outputs": [
    {
     "name": "stdout",
     "output_type": "stream",
     "text": [
      "              precision    recall  f1-score   support\n",
      "\n",
      "    negative       0.45      0.28      0.34       478\n",
      "     neutral       0.65      0.70      0.67      1693\n",
      "    positive       0.56      0.51      0.54       899\n",
      "        skip       0.37      0.46      0.41       604\n",
      "      speech       0.88      0.87      0.88       580\n",
      "\n",
      "   micro avg       0.60      0.60      0.60      4254\n",
      "   macro avg       0.58      0.56      0.57      4254\n",
      "weighted avg       0.60      0.60      0.60      4254\n",
      "\n"
     ]
    }
   ],
   "source": [
    "print(classification_report(targets, pred_classes, target_names=data_clas.train_ds.classes))"
   ]
  },
  {
   "cell_type": "code",
   "execution_count": 104,
   "metadata": {},
   "outputs": [
    {
     "data": {
      "text/plain": [
       "(Category speech, tensor(4), tensor([0.0138, 0.0010, 0.0031, 0.0046, 0.9774]))"
      ]
     },
     "execution_count": 104,
     "metadata": {},
     "output_type": "execute_result"
    }
   ],
   "source": [
    "# check prediction for one example\n",
    "learner.predict('привет всем')"
   ]
  },
  {
   "cell_type": "code",
   "execution_count": null,
   "metadata": {},
   "outputs": [],
   "source": []
  }
 ],
 "metadata": {
  "kernelspec": {
   "display_name": "fastai-py36",
   "language": "python",
   "name": "fastai-py36"
  },
  "language_info": {
   "codemirror_mode": {
    "name": "ipython",
    "version": 3
   },
   "file_extension": ".py",
   "mimetype": "text/x-python",
   "name": "python",
   "nbconvert_exporter": "python",
   "pygments_lexer": "ipython3",
   "version": "3.6.5"
  },
  "toc": {
   "base_numbering": 1,
   "nav_menu": {},
   "number_sections": true,
   "sideBar": true,
   "skip_h1_title": false,
   "title_cell": "Table of Contents",
   "title_sidebar": "Contents",
   "toc_cell": false,
   "toc_position": {},
   "toc_section_display": true,
   "toc_window_display": true
  }
 },
 "nbformat": 4,
 "nbformat_minor": 2
}
