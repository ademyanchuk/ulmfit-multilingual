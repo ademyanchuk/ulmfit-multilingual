{
 "cells": [
  {
   "cell_type": "markdown",
   "metadata": {},
   "source": [
    "### Imports"
   ]
  },
  {
   "cell_type": "code",
   "execution_count": 1,
   "metadata": {},
   "outputs": [
    {
     "name": "stdout",
     "output_type": "stream",
     "text": [
      "/home/ds/DataScience/home/ademyanchuk/Projects/ulmfit-multilingual\n"
     ]
    }
   ],
   "source": [
    "%cd .."
   ]
  },
  {
   "cell_type": "code",
   "execution_count": 2,
   "metadata": {},
   "outputs": [
    {
     "name": "stdout",
     "output_type": "stream",
     "text": [
      "/home/ds/DataScience/home/ademyanchuk/Projects/ulmfit-multilingual\r\n"
     ]
    }
   ],
   "source": [
    "!pwd"
   ]
  },
  {
   "cell_type": "code",
   "execution_count": 3,
   "metadata": {},
   "outputs": [],
   "source": [
    "%reload_ext autoreload\n",
    "%autoreload 2\n",
    "%matplotlib inline"
   ]
  },
  {
   "cell_type": "code",
   "execution_count": 4,
   "metadata": {},
   "outputs": [],
   "source": [
    "from fastai.text import *"
   ]
  },
  {
   "cell_type": "code",
   "execution_count": 5,
   "metadata": {},
   "outputs": [],
   "source": [
    "from ulmfit.pretrain_lm import *"
   ]
  },
  {
   "cell_type": "code",
   "execution_count": 6,
   "metadata": {},
   "outputs": [],
   "source": [
    "cuda_id = 1\n",
    "torch.cuda.set_device(cuda_id)"
   ]
  },
  {
   "cell_type": "markdown",
   "metadata": {},
   "source": [
    "### Preparing data"
   ]
  },
  {
   "cell_type": "code",
   "execution_count": 7,
   "metadata": {},
   "outputs": [],
   "source": [
    "# batch size\n",
    "bs = 30"
   ]
  },
  {
   "cell_type": "code",
   "execution_count": 8,
   "metadata": {},
   "outputs": [],
   "source": [
    "# use data from smaller sample of wiki\n",
    "# data is recieved through prepare_wiki.sh script\n",
    "wiki_data_path = Path('data/wiki/ru-100/')"
   ]
  },
  {
   "cell_type": "code",
   "execution_count": 9,
   "metadata": {},
   "outputs": [
    {
     "data": {
      "text/plain": [
       "[PosixPath('data/wiki/ru-100/ru.wiki.test.tokens'),\n",
       " PosixPath('data/wiki/ru-100/ru.wiki.valid.tokens'),\n",
       " PosixPath('data/wiki/ru-100/ru.wiki.train.tokens'),\n",
       " PosixPath('data/wiki/ru-100/models')]"
      ]
     },
     "execution_count": 9,
     "metadata": {},
     "output_type": "execute_result"
    }
   ],
   "source": [
    "wiki_data_path.ls()"
   ]
  },
  {
   "cell_type": "code",
   "execution_count": 10,
   "metadata": {},
   "outputs": [],
   "source": [
    "# provide train and valid path\n",
    "trn_path = wiki_data_path/'ru.wiki.train.tokens'\n",
    "val_path = wiki_data_path/'ru.wiki.valid.tokens'"
   ]
  },
  {
   "cell_type": "code",
   "execution_count": 11,
   "metadata": {},
   "outputs": [],
   "source": [
    "# create a databunch object from data_frames\n",
    "# data_frames are provided through `read_wiki_articles` function\n",
    "# from `ulmfit.pretrain_lm`\n",
    "data_lm = TextLMDataBunch.from_df(path=wiki_data_path, train_df=read_wiki_articles(trn_path),\n",
    "                                  valid_df=read_wiki_articles(val_path), \n",
    "                                  classes=None, bs=bs, text_cols='texts')"
   ]
  },
  {
   "cell_type": "code",
   "execution_count": 12,
   "metadata": {},
   "outputs": [
    {
     "name": "stdout",
     "output_type": "stream",
     "text": [
      "Size of vocabulary: 60003\n",
      "First 20 words in vocab: ['xxunk', 'xxpad', 'xxbos', 'xxfld', 'xxmaj', 'xxup', 'xxrep', 'xxwrep', ',', '.', 'в', 'и', '\\n\\n', 'на', ')', '(', '\\n', '—', '«', '»']\n"
     ]
    }
   ],
   "source": [
    "itos = data_lm.vocab.itos\n",
    "print('Size of vocabulary:', len(itos))\n",
    "print('First 20 words in vocab:', itos[:20])"
   ]
  },
  {
   "cell_type": "code",
   "execution_count": 13,
   "metadata": {},
   "outputs": [
    {
     "data": {
      "text/plain": [
       "(189786, 447)"
      ]
     },
     "execution_count": 13,
     "metadata": {},
     "output_type": "execute_result"
    }
   ],
   "source": [
    "len(data_lm.train_ds), len(data_lm.valid_ds)"
   ]
  },
  {
   "cell_type": "code",
   "execution_count": 14,
   "metadata": {
    "scrolled": true
   },
   "outputs": [
    {
     "data": {
      "text/plain": [
       "Text xxbos = xxmaj розовая чайка = \n",
       " xxmaj розовая чайка \n",
       "\n",
       " xxmaj розовая чайка ( ) — вид птиц из семейства xxunk ( xxmaj xxunk ) , единственный в роде xxunk xxunk ( & ' xxmaj xxunk & ' ) . \n",
       "\n",
       " xxmaj описание . \n",
       " xxmaj длина тела около 35 см . xxmaj спина и верх крыльев серо - xxunk , голова , грудь и брюшко розовые , на шее узкий чёрный xxunk . xxmaj клюв чёрный , ноги красные . xxmaj хвост xxunk формы . \n",
       "\n",
       " xxmaj полёт розовой чайки лёгкий , напоминающий полёт xxunk . xxmaj по отношению к человеку птица обычно мало xxunk и xxunk . xxmaj на море она главным образом держится на плавающих xxunk , а вот в xxunk , на озёрах , чайка часто садится на воду и даже xxunk . \n",
       "\n",
       " xxmaj xxunk . \n",
       " xxmaj голос этого вида гораздо выше и xxunk , чем у других xxunk , и отличается большим разнообразием . xxmaj чаще всего xxunk крик вроде « э - у , э - у » ; xxunk , они издают короткий крик « xxunk , xxunk , xxunk » , если очень xxunk — « xxunk - xxunk » , а при нападении другой чайки того же вида или xxunk xxunk « э - xxunk , э - xxunk » . \n",
       "\n",
       " xxmaj питание . \n",
       " xxmaj питается насекомыми , мелкими моллюсками , в период xxunk — рыбой и xxunk . \n",
       "\n",
       " xxmaj размножение . \n",
       " xxmaj гнездится розовая чайка в xxunk и xxunk по берегам озёр xxmaj восточной xxmaj сибири в xxunk северных рек — xxmaj xxunk , xxmaj xxunk , xxmaj xxunk , xxmaj xxunk . xxmaj небольшое поселение ( несколько десятков пар ) существует на xxmaj xxunk . xxmaj места xxunk этих птиц находятся в xxunk равнинной xxunk и xxunk , часто на xxunk многочисленных озёр . в кладке 3 , реже 2 яйца . xxmaj xxunk около 3 недель . \n",
       "\n",
       " xxmaj чайка селится небольшими , до 20 пар , xxunk колониями , в которых гнездо от гнезда располагается на расстоянии до 100 метров , часто по соседству с другими xxunk видами — xxunk xxunk и полярной xxunk . \n",
       "\n",
       " xxmaj известный орнитолог xxup с. xxup а. xxmaj xxunk так описывает xxunk церемонии xxunk xxunk : « xxmaj самец всячески выражает xxunk свою xxunk , то как - то xxunk или xxunk ей шею открытым клювом , то время от времени начинает xxunk перед ней xxunk и вперед , несколько xxunk xxunk , и затем с какой - то xxunk или xxunk „ т xxrep 5 р “ xxunk совершенно переднюю половину туловища к земле ( точнее , ко льду и снегу ) , xxunk высоко вверх заднюю половину с хвостом и xxunk крыльями , и продолжает эту xxunk несколько секунд , делая в этом положении несколько шагов туда и сюда . xxmaj иногда этим xxunk xxunk и самка » . \n",
       "\n",
       " xxmaj гнездо чайка строит на земле из сухой травы , старых стеблей xxunk , листьев xxunk xxunk и xxunk . xxmaj так как все сооружение расположено на xxunk участках , в нём обычно xxunk . в кладке 2 — 3 яйца зеленовато - оливкового цвета с xxunk - коричневыми пятнами . xxmaj xxunk кладку обе птицы . xxmaj родители активно защищают своё гнездо от крупных xxunk и xxunk . \n",
       "\n",
       " в конце недолгого полярного лета молодые птицы xxunk на крыло и начинают xxunk вместе с родителями . в это время они частые гости xxunk поселков , на окраинах которых кормятся . с наступлением xxunk чайки xxunk на север , к xxmaj xxunk океану , где и зимуют , xxunk открытых участков воды . xxmaj на xxunk розовые чайки кормятся мелкой рыбой и xxunk в отличие от xxunk периода , когда их рацион состоит в основном из насекомых и их личинок . \n",
       "\n",
       " xxmaj места расположения колоний могут меняться время от времени из - за неблагоприятных погодных условий . \n",
       "\n",
       " xxmaj распространение . \n",
       " xxmaj распространена на северо - востоке xxmaj сибири ( от реки xxmaj xxunk до западной окраины xxmaj чукотского полуострова ) и xxmaj западной xxmaj гренландии . xxmaj зимой xxunk в открытых водах xxmaj северного xxmaj ледовитого океана , xxunk в xxmaj северную xxmaj атлантику и xxmaj xxunk море . \n",
       "\n",
       " в период xxunk розовые чайки иногда xxunk далеко от мест , где они гнездятся или зимуют . xxmaj так , известны случаи появления их в xxmaj xxunk и xxmaj японском морях , xxmaj норвегии , xxmaj франции и xxmaj маньчжурии . xxmaj изредка xxunk xxunk далеко на юг ( xxmaj ирландия , xxmaj калифорния ) . \n",
       "\n",
       " xxmaj xxunk статус . \n",
       " в годы сильных xxunk и наводнений птицы либо не гнездятся совсем , либо у них бывает всего одно яйцо в кладке . xxmaj как известно , численность мелких грызунов — xxunk в xxunk из года в год сильно меняется . xxmaj бывают периоды , когда эти мелкие xxunk , основной корм xxunk , исчезают совсем . xxmaj тогда xxunk xxunk буквально все живое в xxunk . в первую очередь гибнут яйца и птенцы различных видов птиц , в том числе и xxunk xxunk . \n",
       "\n",
       " xxmaj раньше в голодные годы xxunk стреляли xxunk xxunk для xxunk . в начале xxup xx века , когда на xxmaj xxunk довольно часто xxunk американские моряки , xxunk и охотники на морского зверя , местное население xxunk этих экзотических птиц для изготовления xxunk - сувениров . xxmaj тогда один экземпляр xxunk , необычно xxunk чайки стоил до 200 долларов . xxmaj xxunk стад домашних оленей через колонии , xxunk сбор яиц также отрицательно xxunk на численности розовой чайки . xxmaj всё это наряду с тем , что xxunk ареал птиц весьма ограничен , вызывает серьёзное беспокойство за судьбу этого вида . \n",
       "\n",
       " xxmaj сегодня в xxmaj россии добыча этого вида полностью запрещена . xxmaj ученые xxunk наиболее крупные места гнездования розовой чайки с тем , чтобы в дальнейшем ввести там xxunk режим . \n",
       "\n",
       "\n"
      ]
     },
     "execution_count": 14,
     "metadata": {},
     "output_type": "execute_result"
    }
   ],
   "source": [
    "data_lm.train_ds[0][0]"
   ]
  },
  {
   "cell_type": "code",
   "execution_count": 15,
   "metadata": {
    "scrolled": true
   },
   "outputs": [
    {
     "data": {
      "text/html": [
       "<table>  <col width='5%'>  <col width='95%'>  <tr>\n",
       "    <th>idx</th>\n",
       "    <th>text</th>\n",
       "  </tr>\n",
       "  <tr>\n",
       "    <th>0</th>\n",
       "    <th>xxbos \\n = xxmaj xxunk xxmaj xxunk = \\n xxmaj xxunk xxmaj xxunk \\n\\n — японская манга , автором которой является xxmaj xxunk xxmaj кавасаки . xxmaj публиковалась издательством xxmaj xxunk в журнале xxmaj xxunk no xxmaj xxunk xxmaj xxunk . xxmaj манга выиграла 14 премию xxmaj xxunk . xxmaj по мотивам манги студией xxmaj xxunk xxmaj production был выпущен аниме - сериал . xxmaj всего выпущены 104 серии аниме</th>\n",
       "  </tr>\n",
       "  <tr>\n",
       "    <th>1</th>\n",
       "    <th>. \\n\\n xxmaj xxunk . \\n xxmaj xxunk ́ тка ( ) — часть xxunk трубки и дыхательных путей , которая является xxunk звеном между xxunk носа и рта , с одной стороны , и xxunk и xxunk — с другой . xxmaj представляет собой xxunk канал длиной 11 — 12 см , обращённый кверху широким концом и xxunk в xxunk направлении . xxmaj верхняя стенка xxunk с основанием черепа</th>\n",
       "  </tr>\n",
       "  <tr>\n",
       "    <th>2</th>\n",
       "    <th>трамвая 12 xxunk xxmaj xxunk ( нынешний мясокомбинат на аллее xxmaj xxunk ) — xxmaj xxunk xxunk ( & ' , & ' ул . xxmaj xxunk ) . 4 мая того же года открылся маршрут e xxmaj xxunk ворота — пригород xxmaj xxunk ( & ' , & ' пос . xxmaj октябрьское ) . в 1940 или 1941 году для перевозки рабочих к xxunk xxmaj xxunk начал действовать</th>\n",
       "  </tr>\n",
       "  <tr>\n",
       "    <th>3</th>\n",
       "    <th>расположен в 42 км от столицы республики — города xxmaj нальчик . \\n\\n xxmaj все населённые пункты района имеют xxunk xxunk сообщение с районным центром , а также городами xxmaj нальчик и xxmaj xxunk . \\n\\n\\n xxbos \\n = xxmaj кларк , xxmaj билли = \\n xxmaj кларк , xxmaj билли \\n\\n xxmaj уильям ( xxmaj билл ) xxmaj чарльз xxmaj кларк ( ; родился 27 декабря 1987 , xxmaj</th>\n",
       "  </tr>\n",
       "  <tr>\n",
       "    <th>4</th>\n",
       "    <th>м. xxmaj соболев ( xxmaj израиль ) , ( xxmaj великобритания ) , xxup к. xxmaj эмерсон ( xxup сша ) . \\n\\n\\n xxbos \\n = xxmaj карл xxup xiv xxmaj юхан = \\n xxmaj карл xxup xiv xxmaj юхан \\n\\n xxmaj жан - xxmaj xxunk ́ ст xxmaj жюль xxmaj xxunk ́ т ( , впоследствии xxmaj карл xxup xiv ю ́ хан , ; 26 января 1763 ,</th>\n",
       "  </tr>\n",
       "</table>\n"
      ],
      "text/plain": [
       "<IPython.core.display.HTML object>"
      ]
     },
     "metadata": {},
     "output_type": "display_data"
    }
   ],
   "source": [
    "data_lm.show_batch()"
   ]
  },
  {
   "cell_type": "code",
   "execution_count": 16,
   "metadata": {},
   "outputs": [],
   "source": [
    "# save databunch\n",
    "data_lm.save('tmp_lm')"
   ]
  },
  {
   "cell_type": "code",
   "execution_count": 10,
   "metadata": {},
   "outputs": [],
   "source": [
    "# load databunch\n",
    "data_lm = TextLMDataBunch.load(wiki_data_path, 'tmp_lm', bs=bs)"
   ]
  },
  {
   "cell_type": "markdown",
   "metadata": {},
   "source": [
    "#### Create Learner and train Language Model"
   ]
  },
  {
   "cell_type": "code",
   "execution_count": 17,
   "metadata": {},
   "outputs": [],
   "source": [
    "# create learner for training on wiki from scratch\n",
    "learner = language_model_learner(data=data_lm, drop_mult=1.0)"
   ]
  },
  {
   "cell_type": "code",
   "execution_count": 18,
   "metadata": {},
   "outputs": [],
   "source": [
    "# change Adam default params\n",
    "learner.opt_func = partial(optim.Adam, betas=(0.8, 0.99))"
   ]
  },
  {
   "cell_type": "code",
   "execution_count": 19,
   "metadata": {},
   "outputs": [
    {
     "data": {
      "text/plain": [
       "functools.partial(<class 'torch.optim.adam.Adam'>, betas=(0.8, 0.99))"
      ]
     },
     "execution_count": 19,
     "metadata": {},
     "output_type": "execute_result"
    }
   ],
   "source": [
    "learner.opt_func"
   ]
  },
  {
   "cell_type": "code",
   "execution_count": 20,
   "metadata": {},
   "outputs": [
    {
     "data": {
      "text/plain": [
       "[<function fastai.metrics.accuracy(input:torch.Tensor, targs:torch.LongTensor) -> <function NewType.<locals>.new_type at 0x7f2935961d08>>]"
      ]
     },
     "execution_count": 20,
     "metadata": {},
     "output_type": "execute_result"
    }
   ],
   "source": [
    "learner.metrics"
   ]
  },
  {
   "cell_type": "code",
   "execution_count": 21,
   "metadata": {},
   "outputs": [],
   "source": [
    "# add save callback\n",
    "learner.callback_fns += [partial(SaveModelCallback, every='epoch', name='lm'),\n",
    "                         partial(CSVLogger, filename=f\"{learner.model_dir}/lm-history\")]"
   ]
  },
  {
   "cell_type": "code",
   "execution_count": 22,
   "metadata": {},
   "outputs": [
    {
     "data": {
      "text/plain": [
       "[fastai.basic_train.Recorder,\n",
       " functools.partial(<class 'fastai.callbacks.tracker.SaveModelCallback'>, every='epoch', name='lm'),\n",
       " functools.partial(<class 'fastai.callbacks.csv_logger.CSVLogger'>, filename='models/lm-history')]"
      ]
     },
     "execution_count": 22,
     "metadata": {},
     "output_type": "execute_result"
    }
   ],
   "source": [
    "learner.callback_fns"
   ]
  },
  {
   "cell_type": "code",
   "execution_count": 23,
   "metadata": {},
   "outputs": [],
   "source": [
    "# unfreeze all layers\n",
    "learner.unfreeze()"
   ]
  },
  {
   "cell_type": "code",
   "execution_count": 24,
   "metadata": {
    "scrolled": true
   },
   "outputs": [
    {
     "name": "stdout",
     "output_type": "stream",
     "text": [
      "LR Finder is complete, type {learner_name}.recorder.plot() to see the graph.\n"
     ]
    }
   ],
   "source": [
    "learner.lr_find()"
   ]
  },
  {
   "cell_type": "code",
   "execution_count": 25,
   "metadata": {},
   "outputs": [
    {
     "data": {
      "image/png": "[encoded data removed]",
      "text/plain": [
       "<Figure size 432x288 with 1 Axes>"
      ]
     },
     "metadata": {
      "needs_background": "light"
     },
     "output_type": "display_data"
    }
   ],
   "source": [
    "learner.recorder.plot(skip_end=15)"
   ]
  },
  {
   "cell_type": "code",
   "execution_count": 26,
   "metadata": {},
   "outputs": [],
   "source": [
    "# define non-default momentums\n",
    "moms=(0.8,0.7)"
   ]
  },
  {
   "cell_type": "code",
   "execution_count": 27,
   "metadata": {
    "scrolled": true
   },
   "outputs": [
    {
     "data": {
      "text/html": [
       "Total time: 26:02:56 <p><table style='width:300px; margin-bottom:10px'>\n",
       "  <tr>\n",
       "    <th>epoch</th>\n",
       "    <th>train_loss</th>\n",
       "    <th>valid_loss</th>\n",
       "    <th>accuracy</th>\n",
       "  </tr>\n",
       "  <tr>\n",
       "    <th>1</th>\n",
       "    <th>4.415810</th>\n",
       "    <th>4.170653</th>\n",
       "    <th>0.370578</th>\n",
       "  </tr>\n",
       "  <tr>\n",
       "    <th>2</th>\n",
       "    <th>4.064283</th>\n",
       "    <th>3.720713</th>\n",
       "    <th>0.404269</th>\n",
       "  </tr>\n",
       "  <tr>\n",
       "    <th>3</th>\n",
       "    <th>3.860178</th>\n",
       "    <th>3.546426</th>\n",
       "    <th>0.419223</th>\n",
       "  </tr>\n",
       "  <tr>\n",
       "    <th>4</th>\n",
       "    <th>3.726555</th>\n",
       "    <th>3.504621</th>\n",
       "    <th>0.420514</th>\n",
       "  </tr>\n",
       "  <tr>\n",
       "    <th>5</th>\n",
       "    <th>3.746197</th>\n",
       "    <th>3.460210</th>\n",
       "    <th>0.423597</th>\n",
       "  </tr>\n",
       "  <tr>\n",
       "    <th>6</th>\n",
       "    <th>3.770828</th>\n",
       "    <th>3.435968</th>\n",
       "    <th>0.424416</th>\n",
       "  </tr>\n",
       "  <tr>\n",
       "    <th>7</th>\n",
       "    <th>3.705463</th>\n",
       "    <th>3.425619</th>\n",
       "    <th>0.428478</th>\n",
       "  </tr>\n",
       "  <tr>\n",
       "    <th>8</th>\n",
       "    <th>3.736794</th>\n",
       "    <th>3.403164</th>\n",
       "    <th>0.430741</th>\n",
       "  </tr>\n",
       "  <tr>\n",
       "    <th>9</th>\n",
       "    <th>3.607583</th>\n",
       "    <th>3.372716</th>\n",
       "    <th>0.434384</th>\n",
       "  </tr>\n",
       "  <tr>\n",
       "    <th>10</th>\n",
       "    <th>3.662338</th>\n",
       "    <th>3.363870</th>\n",
       "    <th>0.435925</th>\n",
       "  </tr>\n",
       "  <tr>\n",
       "    <th>11</th>\n",
       "    <th>3.729840</th>\n",
       "    <th>3.344341</th>\n",
       "    <th>0.438658</th>\n",
       "  </tr>\n",
       "  <tr>\n",
       "    <th>12</th>\n",
       "    <th>3.579414</th>\n",
       "    <th>3.332994</th>\n",
       "    <th>0.439423</th>\n",
       "  </tr>\n",
       "  <tr>\n",
       "    <th>13</th>\n",
       "    <th>3.602001</th>\n",
       "    <th>3.319165</th>\n",
       "    <th>0.441738</th>\n",
       "  </tr>\n",
       "  <tr>\n",
       "    <th>14</th>\n",
       "    <th>3.707372</th>\n",
       "    <th>3.303881</th>\n",
       "    <th>0.443445</th>\n",
       "  </tr>\n",
       "  <tr>\n",
       "    <th>15</th>\n",
       "    <th>3.678593</th>\n",
       "    <th>3.300218</th>\n",
       "    <th>0.444049</th>\n",
       "  </tr>\n",
       "</table>\n"
      ],
      "text/plain": [
       "<IPython.core.display.HTML object>"
      ]
     },
     "metadata": {},
     "output_type": "display_data"
    }
   ],
   "source": [
    "learner.fit_one_cycle(15, 1e-3, moms=moms)"
   ]
  },
  {
   "cell_type": "code",
   "execution_count": null,
   "metadata": {},
   "outputs": [],
   "source": [
    "# save model\n",
    "learner.save('ru-100-best')"
   ]
  },
  {
   "cell_type": "code",
   "execution_count": null,
   "metadata": {},
   "outputs": [
    {
     "data": {
      "text/html": [
       "<script>Jupyter.notebook.kernel.restart()</script>"
      ],
      "text/plain": [
       "<IPython.core.display.HTML object>"
      ]
     },
     "execution_count": 29,
     "metadata": {},
     "output_type": "execute_result"
    }
   ],
   "source": [
    "# cell to restart notebook kernel from within\n",
    "from IPython.core.display import HTML\n",
    "HTML(\"<script>Jupyter.notebook.kernel.restart()</script>\")"
   ]
  },
  {
   "cell_type": "markdown",
   "metadata": {},
   "source": [
    "### Fine tune on ruSentEval Unsupervised data"
   ]
  },
  {
   "cell_type": "markdown",
   "metadata": {},
   "source": [
    "http://study.mokoron.com/ - I get sample data from ~17M tweets database"
   ]
  },
  {
   "cell_type": "code",
   "execution_count": 7,
   "metadata": {},
   "outputs": [],
   "source": [
    "# path for ruSentiment data\n",
    "rusent_data_path = Path('data/ruSentiment/')"
   ]
  },
  {
   "cell_type": "code",
   "execution_count": 8,
   "metadata": {},
   "outputs": [],
   "source": [
    "bs = 48"
   ]
  },
  {
   "cell_type": "code",
   "execution_count": 9,
   "metadata": {},
   "outputs": [
    {
     "data": {
      "text/plain": [
       "[PosixPath('data/ruSentiment/merg_rusenteval_rusent.csv'),\n",
       " PosixPath('data/ruSentiment/models'),\n",
       " PosixPath('data/ruSentiment/unsup_sample.csv'),\n",
       " PosixPath('data/ruSentiment/rusentiment_random_posts.csv'),\n",
       " PosixPath('data/ruSentiment/unsup-no-null.csv'),\n",
       " PosixPath('data/ruSentiment/rusentiment_test.csv'),\n",
       " PosixPath('data/ruSentiment/rusentiment_preselected_posts.csv')]"
      ]
     },
     "execution_count": 9,
     "metadata": {},
     "output_type": "execute_result"
    }
   ],
   "source": [
    "rusent_data_path.ls()"
   ]
  },
  {
   "cell_type": "code",
   "execution_count": 10,
   "metadata": {},
   "outputs": [],
   "source": [
    "# create LM DataBunch from ruSentEval unsupervised corpus of tweets sample (http://study.mokoron.com/)\n",
    "data1_lm = TextLMDataBunch.from_csv(rusent_data_path, 'unsup_sample.csv', text_cols=0,\n",
    "                                    valid_pct=0.1, bs=bs)"
   ]
  },
  {
   "cell_type": "code",
   "execution_count": 11,
   "metadata": {},
   "outputs": [
    {
     "name": "stdout",
     "output_type": "stream",
     "text": [
      "Size of vocabulary: 60003\n",
      "First 20 words in vocab: ['xxunk', 'xxpad', 'xxbos', 'xxfld', 'xxmaj', 'xxup', 'xxrep', 'xxwrep', '/', ':', ',', 'http', 't.co', '.', 'в', '#', 'rt', 'и', 'не', '-']\n",
      "data/ruSentiment\n"
     ]
    }
   ],
   "source": [
    "itos, stoi, data_path = data1_lm.vocab.itos, data1_lm.vocab.stoi, data1_lm.path\n",
    "print('Size of vocabulary:', len(itos))\n",
    "print('First 20 words in vocab:', itos[:20])\n",
    "print(str(data_path))"
   ]
  },
  {
   "cell_type": "code",
   "execution_count": 12,
   "metadata": {
    "scrolled": true
   },
   "outputs": [
    {
     "data": {
      "text/plain": [
       "[PosixPath('data/ruSentiment/merg_rusenteval_rusent.csv'),\n",
       " PosixPath('data/ruSentiment/models'),\n",
       " PosixPath('data/ruSentiment/unsup_sample.csv'),\n",
       " PosixPath('data/ruSentiment/rusentiment_random_posts.csv'),\n",
       " PosixPath('data/ruSentiment/unsup-no-null.csv'),\n",
       " PosixPath('data/ruSentiment/rusentiment_test.csv'),\n",
       " PosixPath('data/ruSentiment/rusentiment_preselected_posts.csv')]"
      ]
     },
     "execution_count": 12,
     "metadata": {},
     "output_type": "execute_result"
    }
   ],
   "source": [
    "(data1_lm.path).ls()"
   ]
  },
  {
   "cell_type": "code",
   "execution_count": 13,
   "metadata": {
    "scrolled": true
   },
   "outputs": [
    {
     "data": {
      "text/plain": [
       "(1799487, 199944)"
      ]
     },
     "execution_count": 13,
     "metadata": {},
     "output_type": "execute_result"
    }
   ],
   "source": [
    "len(data1_lm.train_ds), len(data1_lm.valid_ds)"
   ]
  },
  {
   "cell_type": "code",
   "execution_count": 14,
   "metadata": {},
   "outputs": [
    {
     "data": {
      "text/html": [
       "<table>  <col width='5%'>  <col width='95%'>  <tr>\n",
       "    <th>idx</th>\n",
       "    <th>text</th>\n",
       "  </tr>\n",
       "  <tr>\n",
       "    <th>0</th>\n",
       "    <th>xxbos я очень надеюсь что этой осенью , у каждого из нас будет тот , кто будет греть нам руки . xxbos @thedaemondevil ты играл в снежки ? xxbos http : / / t.co / xxunk нтв похудение xxbos xxmaj нас затащили в мужскую раздевалку , мы xxunk , как могли xxbos я так люблю xxunk ручкой и бесить всех этим xxbos http : / / t.co / xxunk биология</th>\n",
       "  </tr>\n",
       "  <tr>\n",
       "    <th>1</th>\n",
       "    <th>тот , кого любишь ты , полюби того , кто тебя любит , он будет с тобой всегда и не предаст . xxbos а xxup нет xxup милашка xxup ты xxup мой xxup любимый xxup начал xxup грузить xxbos xxup rt xxunk : xxmaj когда xxmaj чак xxmaj норрис xxunk xxunk барьер , у xxmaj россии не останется выбора xxbos xxmaj курс   — за безопасность ! xxbos xxmaj билл</th>\n",
       "  </tr>\n",
       "  <tr>\n",
       "    <th>2</th>\n",
       "    <th>xxbos xxunk xxunk xxunk ккк . харин тийм юм байна xxbos xxunk поле большое , и слабый состав , время катать рукава xxunk , \\n но не xxunk домашний устав , время подумать камни xxunk xxbos xxup rt xxunk : xxmaj раньше я считал , что люди , xxunk в семь утра на работу - несчастные ебанутые xxunk . \\n xxmaj теперь я встаю в xxunk и знаю … xxbos</th>\n",
       "  </tr>\n",
       "  <tr>\n",
       "    <th>3</th>\n",
       "    <th>в полосу черного отчаяния .    # autofollowback xxbos xxup rt @th_no : xxmaj каждый день мечтаю уехать далеко - далеко от всего . xxbos xxup опг в штабе xxbos « легенды xxunk » с xxunk xxunk ( 2009 ) xxunk xxunk http : / / t.co / xxunk xxbos xxunk подача от xxmaj xxunk xxbos xxup rt @koffboy : xxmaj первый канал : \" в xxmaj киеве на</th>\n",
       "  </tr>\n",
       "  <tr>\n",
       "    <th>4</th>\n",
       "    <th>: xxmaj хочу горячий шоколад . xxbos xxmaj блюз в голове =) xxbos 8 декабря – xxmaj день образования российского казначейства http : / / t.co / xxunk xxbos # хочупровестиновогоднююночьвместес xxunk @after_red_lotus xxunk @zellibaba @diana_yankumi xxunk xxbos ахахах , сидела рассказывала любовный стих смотрю на xxmaj криса на экране : xxup ddd xxbos xxup rt @topcitata : я xxup так xxup хочу xxup спать , что приду и сразу</th>\n",
       "  </tr>\n",
       "</table>\n"
      ],
      "text/plain": [
       "<IPython.core.display.HTML object>"
      ]
     },
     "metadata": {},
     "output_type": "display_data"
    }
   ],
   "source": [
    "data1_lm.show_batch()"
   ]
  },
  {
   "cell_type": "code",
   "execution_count": 15,
   "metadata": {},
   "outputs": [
    {
     "data": {
      "text/plain": [
       "(Text xxbos http : / / t.co / xxunk сколько калорий нужно в день чтобы похудеть,\n",
       " Category 0)"
      ]
     },
     "execution_count": 15,
     "metadata": {},
     "output_type": "execute_result"
    }
   ],
   "source": [
    "data1_lm.train_ds[0]"
   ]
  },
  {
   "cell_type": "code",
   "execution_count": 16,
   "metadata": {},
   "outputs": [],
   "source": [
    "# save data bunch \n",
    "data1_lm.save('tmp_lm')"
   ]
  },
  {
   "cell_type": "code",
   "execution_count": 9,
   "metadata": {},
   "outputs": [],
   "source": [
    "data1_lm = TextLMDataBunch.load(rusent_data_path, 'tmp_lm', bs=bs)"
   ]
  },
  {
   "cell_type": "markdown",
   "metadata": {},
   "source": [
    "#### Create Learner and Finetune model from pretrained fnames"
   ]
  },
  {
   "cell_type": "code",
   "execution_count": 17,
   "metadata": {},
   "outputs": [],
   "source": [
    "# pretrained model and vocab from first step of training LM\n",
    "pretrained_fnames = ['ru-100-best', 'itos']"
   ]
  },
  {
   "cell_type": "code",
   "execution_count": 18,
   "metadata": {},
   "outputs": [
    {
     "name": "stdout",
     "output_type": "stream",
     "text": [
      "Unknown tokens 32951, first 100: ['t.co', 'rt', '\"', 'mtvstars', 'seconds', 'direction', 'гдз', ':)', '\\xa0', ':d', 'gameinsight', ':3', 'решебник', 'androidgames', 'шлюхи', 'имбирем', 'блять', 'блин', 'justin', 'bieber', 'бля', 'ненавижу', 'ахах', 'пойду', '©', 'ахаха', '@youtube', 'євромайдан', 'массаж', 'пиздец', 'твит', '️', 'хд', 'ipadgames', 'сижу', 'похудения', 'твиттер', 'сука', ':(', 'ладно', 'смотрю', 'евромайдан', 'ахахах', 'андроид', 'жду', ';)', 'лол', 'нахуй', 'урока', 'торрент', '❤', '\\xa0 ', 'конспект', 'обожаю', 'хочупровестиновогоднююночьвместес', 'прям', ':-)', 'бесит', 'болит', 'дp', 'щас', '4о', 'майдан', 'о5', 'o5', '4o', '^^', 'бл', 'ищу', '♥', 'проверь', 'ретвит', 'фгос', '11.12.13', '@koffboy', 'боюсь', 'жуйк', 'грядки', 'майдане', 'ох', 'скучаю', '@5umm', ':*', 'ответами', 'чувак', 'любишь', 'тви', 'делаю', 'интим', 'радует', 'янукович', 'ахахаха', 'реферат', '<3', 'лень', 'говно', 'iphonegames', 'хуй', 'follow', '14:15']\n"
     ]
    }
   ],
   "source": [
    "# create learner and provide pretrained files to finetune wiki-LM with ruSentiment data\n",
    "learner = language_model_learner(data1_lm, pretrained_fnames=pretrained_fnames, drop_mult=1.0)"
   ]
  },
  {
   "cell_type": "code",
   "execution_count": 19,
   "metadata": {},
   "outputs": [],
   "source": [
    "learner.callback_fns += [partial(CSVLogger, filename=f\"{learner.model_dir}/lm-history\"),\n",
    "                         partial(SaveModelCallback, every='epoch', name='lm')]"
   ]
  },
  {
   "cell_type": "code",
   "execution_count": 20,
   "metadata": {},
   "outputs": [
    {
     "data": {
      "text/plain": [
       "[fastai.basic_train.Recorder,\n",
       " functools.partial(<class 'fastai.callbacks.csv_logger.CSVLogger'>, filename='models/lm-history'),\n",
       " functools.partial(<class 'fastai.callbacks.tracker.SaveModelCallback'>, every='epoch', name='lm')]"
      ]
     },
     "execution_count": 20,
     "metadata": {},
     "output_type": "execute_result"
    }
   ],
   "source": [
    "learner.callback_fns"
   ]
  },
  {
   "cell_type": "code",
   "execution_count": 21,
   "metadata": {},
   "outputs": [],
   "source": [
    "learner.opt_func = partial(optim.Adam, betas=(0.8, 0.99))"
   ]
  },
  {
   "cell_type": "code",
   "execution_count": 22,
   "metadata": {},
   "outputs": [
    {
     "data": {
      "text/plain": [
       "functools.partial(<class 'torch.optim.adam.Adam'>, betas=(0.8, 0.99))"
      ]
     },
     "execution_count": 22,
     "metadata": {},
     "output_type": "execute_result"
    }
   ],
   "source": [
    "learner.opt_func"
   ]
  },
  {
   "cell_type": "code",
   "execution_count": 23,
   "metadata": {},
   "outputs": [
    {
     "data": {
      "text/plain": [
       "True"
      ]
     },
     "execution_count": 23,
     "metadata": {},
     "output_type": "execute_result"
    }
   ],
   "source": [
    "learner.true_wd"
   ]
  },
  {
   "cell_type": "code",
   "execution_count": 24,
   "metadata": {},
   "outputs": [
    {
     "data": {
      "text/plain": [
       "[<function fastai.metrics.accuracy(input:torch.Tensor, targs:torch.LongTensor) -> <function NewType.<locals>.new_type at 0x7f2974d3ad08>>]"
      ]
     },
     "execution_count": 24,
     "metadata": {},
     "output_type": "execute_result"
    }
   ],
   "source": [
    "learner.metrics"
   ]
  },
  {
   "cell_type": "code",
   "execution_count": 25,
   "metadata": {},
   "outputs": [
    {
     "name": "stdout",
     "output_type": "stream",
     "text": [
      "LR Finder is complete, type {learner_name}.recorder.plot() to see the graph.\n"
     ]
    }
   ],
   "source": [
    "learner.lr_find()"
   ]
  },
  {
   "cell_type": "code",
   "execution_count": 26,
   "metadata": {},
   "outputs": [
    {
     "data": {
      "image/png": "[encoded data removed]",
      "text/plain": [
       "<Figure size 432x288 with 1 Axes>"
      ]
     },
     "metadata": {
      "needs_background": "light"
     },
     "output_type": "display_data"
    }
   ],
   "source": [
    "learner.recorder.plot(skip_end=15)"
   ]
  },
  {
   "cell_type": "code",
   "execution_count": 27,
   "metadata": {},
   "outputs": [],
   "source": [
    "moms = (0.8, 0.7)"
   ]
  },
  {
   "cell_type": "code",
   "execution_count": 28,
   "metadata": {
    "scrolled": false
   },
   "outputs": [
    {
     "data": {
      "text/html": [
       "Total time: 22:47 <p><table style='width:300px; margin-bottom:10px'>\n",
       "  <tr>\n",
       "    <th>epoch</th>\n",
       "    <th>train_loss</th>\n",
       "    <th>valid_loss</th>\n",
       "    <th>accuracy</th>\n",
       "  </tr>\n",
       "  <tr>\n",
       "    <th>1</th>\n",
       "    <th>4.130555</th>\n",
       "    <th>3.831492</th>\n",
       "    <th>0.400419</th>\n",
       "  </tr>\n",
       "</table>\n"
      ],
      "text/plain": [
       "<IPython.core.display.HTML object>"
      ]
     },
     "metadata": {},
     "output_type": "display_data"
    }
   ],
   "source": [
    "# learning the same way as in fastai v1 examples\n",
    "learner.fit_one_cycle(1, 2e-2, moms=moms)"
   ]
  },
  {
   "cell_type": "code",
   "execution_count": 29,
   "metadata": {},
   "outputs": [],
   "source": [
    "learner.save('fit_head')"
   ]
  },
  {
   "cell_type": "code",
   "execution_count": 23,
   "metadata": {
    "collapsed": true
   },
   "outputs": [
    {
     "data": {
      "text/plain": [
       "LanguageLearner(data=TextLMDataBunch;\n",
       "\n",
       "Train: LabelList\n",
       "y: LMLabel (1799487 items)\n",
       "[Category 0, Category 0, Category 0, Category 0, Category 0]...\n",
       "Path: data/ruSentiment\n",
       "x: LMTextList (1799487 items)\n",
       "[Text xxbos xxup rt xxunk : в xxunk дверь , xxunk на пороге , xxunk xxunk походкой xxunk и xxunk ., Text xxbos xxmaj смерть стучится ко всем одинаково ., Text xxbos xxunk похоже ты xxunk :), Text xxbos xxmaj мужчина должен найти правильную цель в жизни , а женщина — мужчину с правильной целью . xxunk xxmaj шоу, Text xxbos xxup rt @dany_belik : xxmaj шизофрения - это удобно . xxmaj всегда есть с кем xxunk]...\n",
       "Path: data/ruSentiment;\n",
       "\n",
       "Valid: LabelList\n",
       "y: LMLabel (199944 items)\n",
       "[Category 0, Category 0, Category 0, Category 0, Category 0]...\n",
       "Path: data/ruSentiment\n",
       "x: LMTextList (199944 items)\n",
       "[Text xxbos xxunk да, Text xxbos @nashka_ya ну ок , я ща выхожу ток, Text xxbos xxup rt xxunk : xxmaj хера я такой ленивый ☺ ️, Text xxbos xxunk не гордиться невозможно ) и все же у меня есть надежда , что еще существуют такие мужчины, Text xxbos xxmaj эта xxmaj люси меня бесит . xxmaj xxunk]...\n",
       "Path: data/ruSentiment;\n",
       "\n",
       "Test: None, model=SequentialRNN(\n",
       "  (0): RNNCore(\n",
       "    (encoder): Embedding(60003, 400, padding_idx=1)\n",
       "    (encoder_dp): EmbeddingDropout(\n",
       "      (emb): Embedding(60003, 400, padding_idx=1)\n",
       "    )\n",
       "    (rnns): ModuleList(\n",
       "      (0): WeightDropout(\n",
       "        (module): LSTM(400, 1150, batch_first=True)\n",
       "      )\n",
       "      (1): WeightDropout(\n",
       "        (module): LSTM(1150, 1150, batch_first=True)\n",
       "      )\n",
       "      (2): WeightDropout(\n",
       "        (module): LSTM(1150, 400, batch_first=True)\n",
       "      )\n",
       "    )\n",
       "    (input_dp): RNNDropout()\n",
       "    (hidden_dps): ModuleList(\n",
       "      (0): RNNDropout()\n",
       "      (1): RNNDropout()\n",
       "      (2): RNNDropout()\n",
       "    )\n",
       "  )\n",
       "  (1): LinearDecoder(\n",
       "    (decoder): Linear(in_features=400, out_features=60003, bias=True)\n",
       "    (output_dp): RNNDropout()\n",
       "  )\n",
       "), opt_func=functools.partial(<class 'torch.optim.adam.Adam'>, betas=(0.8, 0.99)), loss_func=<fastai.layers.FlattenedLoss object at 0x7fd403d8f9b0>, metrics=[<function accuracy at 0x7fd3fd50eb70>], true_wd=True, bn_wd=True, wd=0.01, train_bn=True, path=PosixPath('data/ruSentiment'), model_dir='models', callback_fns=[<class 'fastai.basic_train.Recorder'>, functools.partial(<class 'fastai.callbacks.csv_logger.CSVLogger'>, filename='models/lm-history'), functools.partial(<class 'fastai.callbacks.tracker.SaveModelCallback'>, every='epoch', name='lm')], callbacks=[RNNTrainer(learn=LanguageLearner(data=TextLMDataBunch;\n",
       "\n",
       "Train: LabelList\n",
       "y: LMLabel (1799487 items)\n",
       "[Category 0, Category 0, Category 0, Category 0, Category 0]...\n",
       "Path: data/ruSentiment\n",
       "x: LMTextList (1799487 items)\n",
       "[Text xxbos xxup rt xxunk : в xxunk дверь , xxunk на пороге , xxunk xxunk походкой xxunk и xxunk ., Text xxbos xxmaj смерть стучится ко всем одинаково ., Text xxbos xxunk похоже ты xxunk :), Text xxbos xxmaj мужчина должен найти правильную цель в жизни , а женщина — мужчину с правильной целью . xxunk xxmaj шоу, Text xxbos xxup rt @dany_belik : xxmaj шизофрения - это удобно . xxmaj всегда есть с кем xxunk]...\n",
       "Path: data/ruSentiment;\n",
       "\n",
       "Valid: LabelList\n",
       "y: LMLabel (199944 items)\n",
       "[Category 0, Category 0, Category 0, Category 0, Category 0]...\n",
       "Path: data/ruSentiment\n",
       "x: LMTextList (199944 items)\n",
       "[Text xxbos xxunk да, Text xxbos @nashka_ya ну ок , я ща выхожу ток, Text xxbos xxup rt xxunk : xxmaj хера я такой ленивый ☺ ️, Text xxbos xxunk не гордиться невозможно ) и все же у меня есть надежда , что еще существуют такие мужчины, Text xxbos xxmaj эта xxmaj люси меня бесит . xxmaj xxunk]...\n",
       "Path: data/ruSentiment;\n",
       "\n",
       "Test: None, model=SequentialRNN(\n",
       "  (0): RNNCore(\n",
       "    (encoder): Embedding(60003, 400, padding_idx=1)\n",
       "    (encoder_dp): EmbeddingDropout(\n",
       "      (emb): Embedding(60003, 400, padding_idx=1)\n",
       "    )\n",
       "    (rnns): ModuleList(\n",
       "      (0): WeightDropout(\n",
       "        (module): LSTM(400, 1150, batch_first=True)\n",
       "      )\n",
       "      (1): WeightDropout(\n",
       "        (module): LSTM(1150, 1150, batch_first=True)\n",
       "      )\n",
       "      (2): WeightDropout(\n",
       "        (module): LSTM(1150, 400, batch_first=True)\n",
       "      )\n",
       "    )\n",
       "    (input_dp): RNNDropout()\n",
       "    (hidden_dps): ModuleList(\n",
       "      (0): RNNDropout()\n",
       "      (1): RNNDropout()\n",
       "      (2): RNNDropout()\n",
       "    )\n",
       "  )\n",
       "  (1): LinearDecoder(\n",
       "    (decoder): Linear(in_features=400, out_features=60003, bias=True)\n",
       "    (output_dp): RNNDropout()\n",
       "  )\n",
       "), opt_func=functools.partial(<class 'torch.optim.adam.Adam'>, betas=(0.8, 0.99)), loss_func=<fastai.layers.FlattenedLoss object at 0x7fd403d8f9b0>, metrics=[<function accuracy at 0x7fd3fd50eb70>], true_wd=True, bn_wd=True, wd=0.01, train_bn=True, path=PosixPath('data/ruSentiment'), model_dir='models', callback_fns=[<class 'fastai.basic_train.Recorder'>, functools.partial(<class 'fastai.callbacks.csv_logger.CSVLogger'>, filename='models/lm-history'), functools.partial(<class 'fastai.callbacks.tracker.SaveModelCallback'>, every='epoch', name='lm')], callbacks=[...], layer_groups=[Sequential(\n",
       "  (0): WeightDropout(\n",
       "    (module): LSTM(400, 1150, batch_first=True)\n",
       "  )\n",
       "  (1): RNNDropout()\n",
       "), Sequential(\n",
       "  (0): WeightDropout(\n",
       "    (module): LSTM(1150, 1150, batch_first=True)\n",
       "  )\n",
       "  (1): RNNDropout()\n",
       "), Sequential(\n",
       "  (0): WeightDropout(\n",
       "    (module): LSTM(1150, 400, batch_first=True)\n",
       "  )\n",
       "  (1): RNNDropout()\n",
       "), Sequential(\n",
       "  (0): Embedding(60003, 400, padding_idx=1)\n",
       "  (1): EmbeddingDropout(\n",
       "    (emb): Embedding(60003, 400, padding_idx=1)\n",
       "  )\n",
       "  (2): LinearDecoder(\n",
       "    (decoder): Linear(in_features=400, out_features=60003, bias=True)\n",
       "    (output_dp): RNNDropout()\n",
       "  )\n",
       ")]), bptt=70, alpha=2.0, beta=1.0, adjust=False)], layer_groups=[Sequential(\n",
       "  (0): WeightDropout(\n",
       "    (module): LSTM(400, 1150, batch_first=True)\n",
       "  )\n",
       "  (1): RNNDropout()\n",
       "), Sequential(\n",
       "  (0): WeightDropout(\n",
       "    (module): LSTM(1150, 1150, batch_first=True)\n",
       "  )\n",
       "  (1): RNNDropout()\n",
       "), Sequential(\n",
       "  (0): WeightDropout(\n",
       "    (module): LSTM(1150, 400, batch_first=True)\n",
       "  )\n",
       "  (1): RNNDropout()\n",
       "), Sequential(\n",
       "  (0): Embedding(60003, 400, padding_idx=1)\n",
       "  (1): EmbeddingDropout(\n",
       "    (emb): Embedding(60003, 400, padding_idx=1)\n",
       "  )\n",
       "  (2): LinearDecoder(\n",
       "    (decoder): Linear(in_features=400, out_features=60003, bias=True)\n",
       "    (output_dp): RNNDropout()\n",
       "  )\n",
       ")])"
      ]
     },
     "execution_count": 23,
     "metadata": {},
     "output_type": "execute_result"
    }
   ],
   "source": [
    "learner.load('fit_head')"
   ]
  },
  {
   "cell_type": "code",
   "execution_count": 30,
   "metadata": {},
   "outputs": [],
   "source": [
    "learner.unfreeze()"
   ]
  },
  {
   "cell_type": "code",
   "execution_count": 31,
   "metadata": {},
   "outputs": [
    {
     "name": "stdout",
     "output_type": "stream",
     "text": [
      "LR Finder is complete, type {learner_name}.recorder.plot() to see the graph.\n"
     ]
    }
   ],
   "source": [
    "learner.lr_find()"
   ]
  },
  {
   "cell_type": "code",
   "execution_count": 32,
   "metadata": {},
   "outputs": [
    {
     "data": {
      "image/png": "[encoded data removed]",
      "text/plain": [
       "<Figure size 432x288 with 1 Axes>"
      ]
     },
     "metadata": {
      "needs_background": "light"
     },
     "output_type": "display_data"
    }
   ],
   "source": [
    "learner.recorder.plot(skip_end=15)"
   ]
  },
  {
   "cell_type": "code",
   "execution_count": 33,
   "metadata": {
    "scrolled": false
   },
   "outputs": [
    {
     "data": {
      "text/html": [
       "Total time: 8:31:32 <p><table style='width:300px; margin-bottom:10px'>\n",
       "  <tr>\n",
       "    <th>epoch</th>\n",
       "    <th>train_loss</th>\n",
       "    <th>valid_loss</th>\n",
       "    <th>accuracy</th>\n",
       "  </tr>\n",
       "  <tr>\n",
       "    <th>1</th>\n",
       "    <th>3.731477</th>\n",
       "    <th>3.577709</th>\n",
       "    <th>0.425491</th>\n",
       "  </tr>\n",
       "  <tr>\n",
       "    <th>2</th>\n",
       "    <th>3.602426</th>\n",
       "    <th>3.457837</th>\n",
       "    <th>0.440030</th>\n",
       "  </tr>\n",
       "  <tr>\n",
       "    <th>3</th>\n",
       "    <th>3.510994</th>\n",
       "    <th>3.365776</th>\n",
       "    <th>0.452591</th>\n",
       "  </tr>\n",
       "  <tr>\n",
       "    <th>4</th>\n",
       "    <th>3.449723</th>\n",
       "    <th>3.304654</th>\n",
       "    <th>0.460721</th>\n",
       "  </tr>\n",
       "  <tr>\n",
       "    <th>5</th>\n",
       "    <th>3.415729</th>\n",
       "    <th>3.259692</th>\n",
       "    <th>0.466675</th>\n",
       "  </tr>\n",
       "  <tr>\n",
       "    <th>6</th>\n",
       "    <th>3.371386</th>\n",
       "    <th>3.220406</th>\n",
       "    <th>0.471379</th>\n",
       "  </tr>\n",
       "  <tr>\n",
       "    <th>7</th>\n",
       "    <th>3.314525</th>\n",
       "    <th>3.188998</th>\n",
       "    <th>0.475213</th>\n",
       "  </tr>\n",
       "  <tr>\n",
       "    <th>8</th>\n",
       "    <th>3.294283</th>\n",
       "    <th>3.159852</th>\n",
       "    <th>0.478213</th>\n",
       "  </tr>\n",
       "  <tr>\n",
       "    <th>9</th>\n",
       "    <th>3.270088</th>\n",
       "    <th>3.140334</th>\n",
       "    <th>0.480448</th>\n",
       "  </tr>\n",
       "  <tr>\n",
       "    <th>10</th>\n",
       "    <th>3.244588</th>\n",
       "    <th>3.123124</th>\n",
       "    <th>0.482408</th>\n",
       "  </tr>\n",
       "  <tr>\n",
       "    <th>11</th>\n",
       "    <th>3.235724</th>\n",
       "    <th>3.109357</th>\n",
       "    <th>0.484406</th>\n",
       "  </tr>\n",
       "  <tr>\n",
       "    <th>12</th>\n",
       "    <th>3.187802</th>\n",
       "    <th>3.094015</th>\n",
       "    <th>0.486269</th>\n",
       "  </tr>\n",
       "  <tr>\n",
       "    <th>13</th>\n",
       "    <th>3.197202</th>\n",
       "    <th>3.083654</th>\n",
       "    <th>0.487689</th>\n",
       "  </tr>\n",
       "  <tr>\n",
       "    <th>14</th>\n",
       "    <th>3.179423</th>\n",
       "    <th>3.072839</th>\n",
       "    <th>0.489283</th>\n",
       "  </tr>\n",
       "  <tr>\n",
       "    <th>15</th>\n",
       "    <th>3.182436</th>\n",
       "    <th>3.064126</th>\n",
       "    <th>0.490555</th>\n",
       "  </tr>\n",
       "  <tr>\n",
       "    <th>16</th>\n",
       "    <th>3.159757</th>\n",
       "    <th>3.055903</th>\n",
       "    <th>0.491663</th>\n",
       "  </tr>\n",
       "  <tr>\n",
       "    <th>17</th>\n",
       "    <th>3.144790</th>\n",
       "    <th>3.049931</th>\n",
       "    <th>0.492533</th>\n",
       "  </tr>\n",
       "  <tr>\n",
       "    <th>18</th>\n",
       "    <th>3.116659</th>\n",
       "    <th>3.046092</th>\n",
       "    <th>0.493065</th>\n",
       "  </tr>\n",
       "  <tr>\n",
       "    <th>19</th>\n",
       "    <th>3.116307</th>\n",
       "    <th>3.043933</th>\n",
       "    <th>0.493277</th>\n",
       "  </tr>\n",
       "  <tr>\n",
       "    <th>20</th>\n",
       "    <th>3.089117</th>\n",
       "    <th>3.043481</th>\n",
       "    <th>0.493333</th>\n",
       "  </tr>\n",
       "</table>\n"
      ],
      "text/plain": [
       "<IPython.core.display.HTML object>"
      ]
     },
     "metadata": {},
     "output_type": "display_data"
    }
   ],
   "source": [
    "learner.fit_one_cycle(20, 1e-3, moms=moms)"
   ]
  },
  {
   "cell_type": "code",
   "execution_count": 34,
   "metadata": {},
   "outputs": [],
   "source": [
    "# save fine_tuned model\n",
    "learner.save('fine_tuned')"
   ]
  },
  {
   "cell_type": "code",
   "execution_count": 35,
   "metadata": {},
   "outputs": [],
   "source": [
    "# save finetuned models encoder to use for classification task\n",
    "learner.save_encoder('fine_tuned_enc')"
   ]
  },
  {
   "cell_type": "code",
   "execution_count": null,
   "metadata": {},
   "outputs": [
    {
     "data": {
      "text/html": [
       "<script>Jupyter.notebook.kernel.restart()</script>"
      ],
      "text/plain": [
       "<IPython.core.display.HTML object>"
      ]
     },
     "execution_count": 36,
     "metadata": {},
     "output_type": "execute_result"
    }
   ],
   "source": [
    "# cell to restart notebook kernel from within\n",
    "from IPython.core.display import HTML\n",
    "HTML(\"<script>Jupyter.notebook.kernel.restart()</script>\")"
   ]
  },
  {
   "cell_type": "code",
   "execution_count": 27,
   "metadata": {},
   "outputs": [],
   "source": [
    "# check text generation with LM\n",
    "TEXT = \"сегодня утром я\"\n",
    "N_WORDS = 10\n",
    "N_SENTENCES = 2"
   ]
  },
  {
   "cell_type": "code",
   "execution_count": 28,
   "metadata": {},
   "outputs": [
    {
     "name": "stdout",
     "output_type": "stream",
     "text": [
      "сегодня утром я пороки росомаха снимаю зафиксировали финляндию истинного посадит @homutoov вредно открываются\n",
      "сегодня утром я декабр финансовых кеша фрагмент интимдосуг славе паразит растущие рода @sweetmolko\n"
     ]
    }
   ],
   "source": [
    "print(\"\\n\".join(learner.predict(TEXT, N_WORDS, temperature=0.75) for _ in range(N_SENTENCES)))"
   ]
  },
  {
   "cell_type": "markdown",
   "metadata": {},
   "source": [
    "### Classifier"
   ]
  },
  {
   "cell_type": "markdown",
   "metadata": {},
   "source": [
    "Here we are working on ruSentiment classification task from http://text-machine.cs.uml.edu/projects/rusentiment/"
   ]
  },
  {
   "cell_type": "code",
   "execution_count": 10,
   "metadata": {},
   "outputs": [
    {
     "data": {
      "text/plain": [
       "[PosixPath('data/ruSentiment/merg_rusenteval_rusent.csv'),\n",
       " PosixPath('data/ruSentiment/models'),\n",
       " PosixPath('data/ruSentiment/unsup_sample.csv'),\n",
       " PosixPath('data/ruSentiment/tmp_clas'),\n",
       " PosixPath('data/ruSentiment/tmp_lm'),\n",
       " PosixPath('data/ruSentiment/rusentiment_random_posts.csv'),\n",
       " PosixPath('data/ruSentiment/unsup-no-null.csv'),\n",
       " PosixPath('data/ruSentiment/rusentiment_test.csv'),\n",
       " PosixPath('data/ruSentiment/rusentiment_preselected_posts.csv')]"
      ]
     },
     "execution_count": 10,
     "metadata": {},
     "output_type": "execute_result"
    }
   ],
   "source": [
    "rusent_data_path.ls()"
   ]
  },
  {
   "cell_type": "code",
   "execution_count": 11,
   "metadata": {},
   "outputs": [],
   "source": [
    "rand = pd.read_csv(rusent_data_path/'rusentiment_random_posts.csv')\n",
    "presel = pd.read_csv(rusent_data_path/'rusentiment_preselected_posts.csv')"
   ]
  },
  {
   "cell_type": "code",
   "execution_count": 12,
   "metadata": {},
   "outputs": [],
   "source": [
    "# create classification databunch, please note usage of LM vocab\n",
    "# as a train data we use both random posts and preselected posts\n",
    "# and testset to mesure quality of classifier\n",
    "data_clas = TextClasDataBunch.from_df(path=rusent_data_path,\n",
    "                                      train_df=pd.concat([rand, presel], ignore_index=True),\n",
    "                                      valid_df=pd.read_csv(rusent_data_path/'rusentiment_test.csv'),\n",
    "                                      vocab=data1_lm.vocab, text_cols='text', label_cols='label', bs=bs)"
   ]
  },
  {
   "cell_type": "code",
   "execution_count": 13,
   "metadata": {},
   "outputs": [
    {
     "data": {
      "text/html": [
       "<table>  <col width='90%'>  <col width='10%'>  <tr>\n",
       "    <th>text</th>\n",
       "    <th>target</th>\n",
       "  </tr>\n",
       "  <tr>\n",
       "    <th>xxbos xxmaj xxunk прошлое в огне … xxmaj гори все \\n xxunk … \\n xxmaj не xxunk ни о чем … xxmaj забудьте \\n xxunk ! \\n xxmaj не вспоминайте о плохом … и о \\n хорошем … \\n xxmaj не собирайте под столом … от \\n счастья xxunk … \\n xxmaj ведь вы достойны не кусков … и не \\n xxunk … \\n xxmaj лишь стоит руку xxunk …</th>\n",
       "    <th>neutral</th>\n",
       "  </tr>\n",
       "  <tr>\n",
       "    <th>xxbos [ xxunk ] xxup xxunk ! ! ! \\n\\n [ xxunk ] с xxup пеной у xxup рта xxup написал xxup пост xxup про xxup xxunk xxup движения xxmaj xxunk xxup команды xxup во xxup главе с [ xxunk xxmaj xxunk xxmaj xxunk ] , xxup xxunk xxup против xxup xxunk , в xxup том xxup числе и xxup против xxup самого [ xxunk № 2 xxmaj россии ]</th>\n",
       "    <th>negative</th>\n",
       "  </tr>\n",
       "  <tr>\n",
       "    <th>xxbos , , xxunk сказано ахаха , , \\n\\n xxup вк - не жизнь . \\n xxup сп - не чувства . \\n xxup вк - xxup не xxup жизнь ? xxup нуну xxup блять . xxup тут xxup ты xxup находишь xxup xxunk xxup друзей , xxup подруг . xxup которым xxup можешь xxup xxunk xxup абсолютно xxup всё xxup рассказать и xxup уверена xxup что xxup они xxup</th>\n",
       "    <th>skip</th>\n",
       "  </tr>\n",
       "  <tr>\n",
       "    <th>xxbos xxmaj завтра вечером улетаю в xxmaj израиль . \\n  xxmaj на 3 недели * в этом месте исполняется радостный xxunk \\n  xxmaj буду отдыхать и смотреть красоты . \\n  xxmaj для связи со мной лучше всего использовать ( в порядке уменьшения xxunk ) : \\n 1 . xxmaj почту xxunk . xxmaj буду проверять как можно чаще , по мере доступа . \\n 2 . xxmaj</th>\n",
       "    <th>neutral</th>\n",
       "  </tr>\n",
       "  <tr>\n",
       "    <th>xxbos xxmaj xxunk взгляды . xxmaj всё чаще пофиг . \\n xxmaj уснуть , забыться … xxmaj на утро кофе . \\n xxmaj усталость . xxmaj тошно . xxmaj но кто - то рядом . \\n в подушку xxunk : « xxmaj прошу , не надо ! » \\n\\n xxmaj работа . xxmaj кофе . и дым с xxunk . \\n xxmaj ты стала стервой ? xxmaj да нет …</th>\n",
       "    <th>negative</th>\n",
       "  </tr>\n",
       "</table>\n"
      ],
      "text/plain": [
       "<IPython.core.display.HTML object>"
      ]
     },
     "metadata": {},
     "output_type": "display_data"
    }
   ],
   "source": [
    "data_clas.show_batch()"
   ]
  },
  {
   "cell_type": "code",
   "execution_count": 14,
   "metadata": {},
   "outputs": [
    {
     "data": {
      "text/plain": [
       "5"
      ]
     },
     "execution_count": 14,
     "metadata": {},
     "output_type": "execute_result"
    }
   ],
   "source": [
    "# number of classes\n",
    "data_clas.train_ds.c"
   ]
  },
  {
   "cell_type": "code",
   "execution_count": 15,
   "metadata": {},
   "outputs": [
    {
     "data": {
      "text/plain": [
       "['negative', 'neutral', 'positive', 'skip', 'speech']"
      ]
     },
     "execution_count": 15,
     "metadata": {},
     "output_type": "execute_result"
    }
   ],
   "source": [
    "# classes labels\n",
    "data_clas.train_ds.classes"
   ]
  },
  {
   "cell_type": "code",
   "execution_count": 16,
   "metadata": {},
   "outputs": [
    {
     "data": {
      "text/plain": [
       "TextClasDataBunch;\n",
       "\n",
       "Train: LabelList\n",
       "y: CategoryList (28218 items)\n",
       "[Category negative, Category speech, Category skip, Category negative, Category skip]...\n",
       "Path: data/ruSentiment\n",
       "x: TextList (28218 items)\n",
       "[Text xxbos а попа xxunk давно , что ты с кавказа .. перестану общаться с тобой, Text xxbos з прошедшим xxmaj днем xxmaj ангела xxrep 8 ), Text xxbos xxmaj два дня до xxunk с острова xxrep 7 !, Text xxbos xxmaj блин , почему эта жизнь столь не справедлива xxrep 4 (, Text xxbos где еще встречать свой день рождения как не на кладбище xxrep 4 )]...\n",
       "Path: data/ruSentiment;\n",
       "\n",
       "Valid: LabelList\n",
       "y: CategoryList (2967 items)\n",
       "[Category neutral, Category positive, Category neutral, Category skip, Category speech]...\n",
       "Path: data/ruSentiment\n",
       "x: TextList (2967 items)\n",
       "[Text xxbos xxmaj александр , тебе к лицу эта пушка :) \n",
       ", Text xxbos xxmaj скоро ты вернешься домой , грязный , не xxunk но такой любимый ❤, Text xxbos xxunk ... ) ), Text xxbos xxmaj мы просто с [ xxunk ] xxunk xxrep 5 ) \n",
       " к новому году в xxunk готовы ! xxrep 6 ) \n",
       " xxmaj да , мы любим молоко ! xxmaj когда xxunk - xxunk на него вместо xxunk воды xxunk, Text xxbos ой , прости забыла поздравить , с xxunk , да ! xxrep 4 )]...\n",
       "Path: data/ruSentiment;\n",
       "\n",
       "Test: None"
      ]
     },
     "execution_count": 16,
     "metadata": {},
     "output_type": "execute_result"
    }
   ],
   "source": [
    "data_clas"
   ]
  },
  {
   "cell_type": "code",
   "execution_count": 17,
   "metadata": {
    "scrolled": true
   },
   "outputs": [
    {
     "data": {
      "text/plain": [
       "60003"
      ]
     },
     "execution_count": 17,
     "metadata": {},
     "output_type": "execute_result"
    }
   ],
   "source": [
    "len(data_clas.vocab.itos)"
   ]
  },
  {
   "cell_type": "code",
   "execution_count": 18,
   "metadata": {},
   "outputs": [
    {
     "data": {
      "text/plain": [
       "24"
      ]
     },
     "execution_count": 18,
     "metadata": {},
     "output_type": "execute_result"
    }
   ],
   "source": [
    "data_clas.batch_size"
   ]
  },
  {
   "cell_type": "code",
   "execution_count": 19,
   "metadata": {},
   "outputs": [],
   "source": [
    "# save for future use\n",
    "data_clas.save('tmp_clas')"
   ]
  },
  {
   "cell_type": "code",
   "execution_count": 12,
   "metadata": {},
   "outputs": [],
   "source": [
    "data_clas = TextClasDataBunch.load(rusent_data_path, 'tmp_clas', bs=bs)"
   ]
  },
  {
   "cell_type": "markdown",
   "metadata": {},
   "source": [
    "#### Training"
   ]
  },
  {
   "cell_type": "code",
   "execution_count": 41,
   "metadata": {},
   "outputs": [],
   "source": [
    "# create learner and train\n",
    "# train classifier as in fastai imdb example\n",
    "learner = text_classifier_learner(data=data_clas, drop_mult=0.5)"
   ]
  },
  {
   "cell_type": "code",
   "execution_count": 42,
   "metadata": {},
   "outputs": [],
   "source": [
    "# load fine tuned encoder\n",
    "learner.load_encoder('fine_tuned_enc')"
   ]
  },
  {
   "cell_type": "code",
   "execution_count": 43,
   "metadata": {},
   "outputs": [],
   "source": [
    "learner.callback_fns += [partial(SaveModelCallback, every='epoch', name='cls')]"
   ]
  },
  {
   "cell_type": "code",
   "execution_count": 44,
   "metadata": {},
   "outputs": [],
   "source": [
    "learner.freeze()"
   ]
  },
  {
   "cell_type": "code",
   "execution_count": 45,
   "metadata": {},
   "outputs": [
    {
     "name": "stdout",
     "output_type": "stream",
     "text": [
      "LR Finder is complete, type {learner_name}.recorder.plot() to see the graph.\n"
     ]
    }
   ],
   "source": [
    "learner.lr_find()"
   ]
  },
  {
   "cell_type": "code",
   "execution_count": 46,
   "metadata": {},
   "outputs": [
    {
     "data": {
      "image/png": "[encoded data removed]",
      "text/plain": [
       "<Figure size 432x288 with 1 Axes>"
      ]
     },
     "metadata": {
      "needs_background": "light"
     },
     "output_type": "display_data"
    }
   ],
   "source": [
    "learner.recorder.plot()"
   ]
  },
  {
   "cell_type": "code",
   "execution_count": 47,
   "metadata": {},
   "outputs": [],
   "source": [
    "moms=(0.8,0.7)"
   ]
  },
  {
   "cell_type": "code",
   "execution_count": 48,
   "metadata": {},
   "outputs": [
    {
     "data": {
      "text/html": [
       "Total time: 00:18 <p><table style='width:300px; margin-bottom:10px'>\n",
       "  <tr>\n",
       "    <th>epoch</th>\n",
       "    <th>train_loss</th>\n",
       "    <th>valid_loss</th>\n",
       "    <th>accuracy</th>\n",
       "  </tr>\n",
       "  <tr>\n",
       "    <th>1</th>\n",
       "    <th>1.008391</th>\n",
       "    <th>0.814530</th>\n",
       "    <th>0.683856</th>\n",
       "  </tr>\n",
       "</table>\n"
      ],
      "text/plain": [
       "<IPython.core.display.HTML object>"
      ]
     },
     "metadata": {},
     "output_type": "display_data"
    }
   ],
   "source": [
    "learner.fit_one_cycle(1, 2e-2, moms=moms)"
   ]
  },
  {
   "cell_type": "code",
   "execution_count": 49,
   "metadata": {},
   "outputs": [],
   "source": [
    "learner.save('first')"
   ]
  },
  {
   "cell_type": "code",
   "execution_count": 14,
   "metadata": {
    "collapsed": true
   },
   "outputs": [
    {
     "data": {
      "text/plain": [
       "RNNLearner(data=TextClasDataBunch;\n",
       "\n",
       "Train: LabelList\n",
       "y: CategoryList (21268 items)\n",
       "[Category negative, Category speech, Category skip, Category negative, Category skip]...\n",
       "Path: .\n",
       "x: TextList (21268 items)\n",
       "[Text xxbos а попа подозревала давно , что ты с кавказа .. перестану общаться с тобой, Text xxbos з прошедшим xxmaj днем xxmaj ангела xxrep 8 ), Text xxbos xxmaj два дня до xxunk с острова xxrep 7 !, Text xxbos xxmaj блин , почему эта жизнь столь не справедлива xxrep 4 (, Text xxbos где еще встречать свой день рождения как не на кладбище xxrep 4 )]...\n",
       "Path: data/ruSentiment;\n",
       "\n",
       "Valid: LabelList\n",
       "y: CategoryList (2967 items)\n",
       "[Category neutral, Category positive, Category neutral, Category skip, Category speech]...\n",
       "Path: .\n",
       "x: TextList (2967 items)\n",
       "[Text xxbos xxmaj александр , тебе к лицу эта пушка :) \n",
       ", Text xxbos xxmaj скоро ты вернешься домой , грязный , не xxunk но такой любимый ❤, Text xxbos помниш ... ) ), Text xxbos xxmaj мы просто с [ xxunk ] xxunk xxrep 5 ) \n",
       " к новому году в xxunk готовы ! xxrep 6 ) \n",
       " xxmaj да , мы любим молоко ! xxmaj когда стареешь - xxunk на него вместо xxunk воды 🍹, Text xxbos ой , прости забыла поздравить , с xxunk , да ! xxrep 4 )]...\n",
       "Path: data/ruSentiment;\n",
       "\n",
       "Test: None, model=SequentialRNN(\n",
       "  (0): MultiBatchRNNCore(\n",
       "    (encoder): Embedding(60003, 400, padding_idx=1)\n",
       "    (encoder_dp): EmbeddingDropout(\n",
       "      (emb): Embedding(60003, 400, padding_idx=1)\n",
       "    )\n",
       "    (rnns): ModuleList(\n",
       "      (0): WeightDropout(\n",
       "        (module): LSTM(400, 1150, batch_first=True)\n",
       "      )\n",
       "      (1): WeightDropout(\n",
       "        (module): LSTM(1150, 1150, batch_first=True)\n",
       "      )\n",
       "      (2): WeightDropout(\n",
       "        (module): LSTM(1150, 400, batch_first=True)\n",
       "      )\n",
       "    )\n",
       "    (input_dp): RNNDropout()\n",
       "    (hidden_dps): ModuleList(\n",
       "      (0): RNNDropout()\n",
       "      (1): RNNDropout()\n",
       "      (2): RNNDropout()\n",
       "    )\n",
       "  )\n",
       "  (1): PoolingLinearClassifier(\n",
       "    (layers): Sequential(\n",
       "      (0): BatchNorm1d(1200, eps=1e-05, momentum=0.1, affine=True, track_running_stats=True)\n",
       "      (1): Dropout(p=0.2)\n",
       "      (2): Linear(in_features=1200, out_features=50, bias=True)\n",
       "      (3): ReLU(inplace)\n",
       "      (4): BatchNorm1d(50, eps=1e-05, momentum=0.1, affine=True, track_running_stats=True)\n",
       "      (5): Dropout(p=0.1)\n",
       "      (6): Linear(in_features=50, out_features=5, bias=True)\n",
       "    )\n",
       "  )\n",
       "), opt_func=functools.partial(<class 'torch.optim.adam.Adam'>, betas=(0.9, 0.99)), loss_func=<fastai.layers.FlattenedLoss object at 0x7fdc422bdba8>, metrics=[<function accuracy at 0x7fdc45510950>], true_wd=True, bn_wd=True, wd=0.01, train_bn=True, path=PosixPath('data/ruSentiment'), model_dir='models', callback_fns=[<class 'fastai.basic_train.Recorder'>], callbacks=[RNNTrainer(learn=RNNLearner(data=TextClasDataBunch;\n",
       "\n",
       "Train: LabelList\n",
       "y: CategoryList (21268 items)\n",
       "[Category negative, Category speech, Category skip, Category negative, Category skip]...\n",
       "Path: .\n",
       "x: TextList (21268 items)\n",
       "[Text xxbos а попа подозревала давно , что ты с кавказа .. перестану общаться с тобой, Text xxbos з прошедшим xxmaj днем xxmaj ангела xxrep 8 ), Text xxbos xxmaj два дня до xxunk с острова xxrep 7 !, Text xxbos xxmaj блин , почему эта жизнь столь не справедлива xxrep 4 (, Text xxbos где еще встречать свой день рождения как не на кладбище xxrep 4 )]...\n",
       "Path: data/ruSentiment;\n",
       "\n",
       "Valid: LabelList\n",
       "y: CategoryList (2967 items)\n",
       "[Category neutral, Category positive, Category neutral, Category skip, Category speech]...\n",
       "Path: .\n",
       "x: TextList (2967 items)\n",
       "[Text xxbos xxmaj александр , тебе к лицу эта пушка :) \n",
       ", Text xxbos xxmaj скоро ты вернешься домой , грязный , не xxunk но такой любимый ❤, Text xxbos помниш ... ) ), Text xxbos xxmaj мы просто с [ xxunk ] xxunk xxrep 5 ) \n",
       " к новому году в xxunk готовы ! xxrep 6 ) \n",
       " xxmaj да , мы любим молоко ! xxmaj когда стареешь - xxunk на него вместо xxunk воды 🍹, Text xxbos ой , прости забыла поздравить , с xxunk , да ! xxrep 4 )]...\n",
       "Path: data/ruSentiment;\n",
       "\n",
       "Test: None, model=SequentialRNN(\n",
       "  (0): MultiBatchRNNCore(\n",
       "    (encoder): Embedding(60003, 400, padding_idx=1)\n",
       "    (encoder_dp): EmbeddingDropout(\n",
       "      (emb): Embedding(60003, 400, padding_idx=1)\n",
       "    )\n",
       "    (rnns): ModuleList(\n",
       "      (0): WeightDropout(\n",
       "        (module): LSTM(400, 1150, batch_first=True)\n",
       "      )\n",
       "      (1): WeightDropout(\n",
       "        (module): LSTM(1150, 1150, batch_first=True)\n",
       "      )\n",
       "      (2): WeightDropout(\n",
       "        (module): LSTM(1150, 400, batch_first=True)\n",
       "      )\n",
       "    )\n",
       "    (input_dp): RNNDropout()\n",
       "    (hidden_dps): ModuleList(\n",
       "      (0): RNNDropout()\n",
       "      (1): RNNDropout()\n",
       "      (2): RNNDropout()\n",
       "    )\n",
       "  )\n",
       "  (1): PoolingLinearClassifier(\n",
       "    (layers): Sequential(\n",
       "      (0): BatchNorm1d(1200, eps=1e-05, momentum=0.1, affine=True, track_running_stats=True)\n",
       "      (1): Dropout(p=0.2)\n",
       "      (2): Linear(in_features=1200, out_features=50, bias=True)\n",
       "      (3): ReLU(inplace)\n",
       "      (4): BatchNorm1d(50, eps=1e-05, momentum=0.1, affine=True, track_running_stats=True)\n",
       "      (5): Dropout(p=0.1)\n",
       "      (6): Linear(in_features=50, out_features=5, bias=True)\n",
       "    )\n",
       "  )\n",
       "), opt_func=functools.partial(<class 'torch.optim.adam.Adam'>, betas=(0.9, 0.99)), loss_func=<fastai.layers.FlattenedLoss object at 0x7fdc422bdba8>, metrics=[<function accuracy at 0x7fdc45510950>], true_wd=True, bn_wd=True, wd=0.01, train_bn=True, path=PosixPath('data/ruSentiment'), model_dir='models', callback_fns=[<class 'fastai.basic_train.Recorder'>], callbacks=[...], layer_groups=[Sequential(\n",
       "  (0): Embedding(60003, 400, padding_idx=1)\n",
       "  (1): EmbeddingDropout(\n",
       "    (emb): Embedding(60003, 400, padding_idx=1)\n",
       "  )\n",
       "), Sequential(\n",
       "  (0): WeightDropout(\n",
       "    (module): LSTM(400, 1150, batch_first=True)\n",
       "  )\n",
       "  (1): RNNDropout()\n",
       "), Sequential(\n",
       "  (0): WeightDropout(\n",
       "    (module): LSTM(1150, 1150, batch_first=True)\n",
       "  )\n",
       "  (1): RNNDropout()\n",
       "), Sequential(\n",
       "  (0): WeightDropout(\n",
       "    (module): LSTM(1150, 400, batch_first=True)\n",
       "  )\n",
       "  (1): RNNDropout()\n",
       "), Sequential(\n",
       "  (0): PoolingLinearClassifier(\n",
       "    (layers): Sequential(\n",
       "      (0): BatchNorm1d(1200, eps=1e-05, momentum=0.1, affine=True, track_running_stats=True)\n",
       "      (1): Dropout(p=0.2)\n",
       "      (2): Linear(in_features=1200, out_features=50, bias=True)\n",
       "      (3): ReLU(inplace)\n",
       "      (4): BatchNorm1d(50, eps=1e-05, momentum=0.1, affine=True, track_running_stats=True)\n",
       "      (5): Dropout(p=0.1)\n",
       "      (6): Linear(in_features=50, out_features=5, bias=True)\n",
       "    )\n",
       "  )\n",
       ")]), bptt=70, alpha=2.0, beta=1.0, adjust=False)], layer_groups=[Sequential(\n",
       "  (0): Embedding(60003, 400, padding_idx=1)\n",
       "  (1): EmbeddingDropout(\n",
       "    (emb): Embedding(60003, 400, padding_idx=1)\n",
       "  )\n",
       "), Sequential(\n",
       "  (0): WeightDropout(\n",
       "    (module): LSTM(400, 1150, batch_first=True)\n",
       "  )\n",
       "  (1): RNNDropout()\n",
       "), Sequential(\n",
       "  (0): WeightDropout(\n",
       "    (module): LSTM(1150, 1150, batch_first=True)\n",
       "  )\n",
       "  (1): RNNDropout()\n",
       "), Sequential(\n",
       "  (0): WeightDropout(\n",
       "    (module): LSTM(1150, 400, batch_first=True)\n",
       "  )\n",
       "  (1): RNNDropout()\n",
       "), Sequential(\n",
       "  (0): PoolingLinearClassifier(\n",
       "    (layers): Sequential(\n",
       "      (0): BatchNorm1d(1200, eps=1e-05, momentum=0.1, affine=True, track_running_stats=True)\n",
       "      (1): Dropout(p=0.2)\n",
       "      (2): Linear(in_features=1200, out_features=50, bias=True)\n",
       "      (3): ReLU(inplace)\n",
       "      (4): BatchNorm1d(50, eps=1e-05, momentum=0.1, affine=True, track_running_stats=True)\n",
       "      (5): Dropout(p=0.1)\n",
       "      (6): Linear(in_features=50, out_features=5, bias=True)\n",
       "    )\n",
       "  )\n",
       ")])"
      ]
     },
     "execution_count": 14,
     "metadata": {},
     "output_type": "execute_result"
    }
   ],
   "source": [
    "learner.load('first')"
   ]
  },
  {
   "cell_type": "code",
   "execution_count": 50,
   "metadata": {},
   "outputs": [],
   "source": [
    "learner.freeze_to(-2)"
   ]
  },
  {
   "cell_type": "code",
   "execution_count": 51,
   "metadata": {},
   "outputs": [
    {
     "name": "stdout",
     "output_type": "stream",
     "text": [
      "LR Finder is complete, type {learner_name}.recorder.plot() to see the graph.\n"
     ]
    }
   ],
   "source": [
    "learner.lr_find()"
   ]
  },
  {
   "cell_type": "code",
   "execution_count": 52,
   "metadata": {},
   "outputs": [
    {
     "data": {
      "image/png": "[encoded data removed]",
      "text/plain": [
       "<Figure size 432x288 with 1 Axes>"
      ]
     },
     "metadata": {
      "needs_background": "light"
     },
     "output_type": "display_data"
    }
   ],
   "source": [
    "learner.recorder.plot()"
   ]
  },
  {
   "cell_type": "code",
   "execution_count": 53,
   "metadata": {
    "scrolled": true
   },
   "outputs": [
    {
     "data": {
      "text/html": [
       "Total time: 00:18 <p><table style='width:300px; margin-bottom:10px'>\n",
       "  <tr>\n",
       "    <th>epoch</th>\n",
       "    <th>train_loss</th>\n",
       "    <th>valid_loss</th>\n",
       "    <th>accuracy</th>\n",
       "  </tr>\n",
       "  <tr>\n",
       "    <th>1</th>\n",
       "    <th>0.900239</th>\n",
       "    <th>0.726347</th>\n",
       "    <th>0.716549</th>\n",
       "  </tr>\n",
       "</table>\n"
      ],
      "text/plain": [
       "<IPython.core.display.HTML object>"
      ]
     },
     "metadata": {},
     "output_type": "display_data"
    }
   ],
   "source": [
    "learner.fit_one_cycle(1, slice(1e-2/(2.6**4),1e-2), moms=moms)"
   ]
  },
  {
   "cell_type": "code",
   "execution_count": 54,
   "metadata": {},
   "outputs": [],
   "source": [
    "learner.save('second')"
   ]
  },
  {
   "cell_type": "code",
   "execution_count": 36,
   "metadata": {
    "collapsed": true
   },
   "outputs": [
    {
     "data": {
      "text/plain": [
       "RNNLearner(data=TextClasDataBunch;\n",
       "\n",
       "Train: LabelList\n",
       "y: CategoryList (21268 items)\n",
       "[Category negative, Category speech, Category skip, Category negative, Category skip]...\n",
       "Path: .\n",
       "x: TextList (21268 items)\n",
       "[Text xxbos а попа подозревала давно , что ты с кавказа .. перестану общаться с тобой, Text xxbos з прошедшим xxmaj днем xxmaj ангела xxrep 8 ), Text xxbos xxmaj два дня до xxunk с острова xxrep 7 !, Text xxbos xxmaj блин , почему эта жизнь столь не справедлива xxrep 4 (, Text xxbos где еще встречать свой день рождения как не на кладбище xxrep 4 )]...\n",
       "Path: data/ruSentiment;\n",
       "\n",
       "Valid: LabelList\n",
       "y: CategoryList (2967 items)\n",
       "[Category neutral, Category positive, Category neutral, Category skip, Category speech]...\n",
       "Path: .\n",
       "x: TextList (2967 items)\n",
       "[Text xxbos xxmaj александр , тебе к лицу эта пушка :) \n",
       ", Text xxbos xxmaj скоро ты вернешься домой , грязный , не xxunk но такой любимый ❤, Text xxbos помниш ... ) ), Text xxbos xxmaj мы просто с [ xxunk ] xxunk xxrep 5 ) \n",
       " к новому году в xxunk готовы ! xxrep 6 ) \n",
       " xxmaj да , мы любим молоко ! xxmaj когда стареешь - xxunk на него вместо xxunk воды 🍹, Text xxbos ой , прости забыла поздравить , с xxunk , да ! xxrep 4 )]...\n",
       "Path: data/ruSentiment;\n",
       "\n",
       "Test: None, model=SequentialRNN(\n",
       "  (0): MultiBatchRNNCore(\n",
       "    (encoder): Embedding(60003, 400, padding_idx=1)\n",
       "    (encoder_dp): EmbeddingDropout(\n",
       "      (emb): Embedding(60003, 400, padding_idx=1)\n",
       "    )\n",
       "    (rnns): ModuleList(\n",
       "      (0): WeightDropout(\n",
       "        (module): LSTM(400, 1150, batch_first=True)\n",
       "      )\n",
       "      (1): WeightDropout(\n",
       "        (module): LSTM(1150, 1150, batch_first=True)\n",
       "      )\n",
       "      (2): WeightDropout(\n",
       "        (module): LSTM(1150, 400, batch_first=True)\n",
       "      )\n",
       "    )\n",
       "    (input_dp): RNNDropout()\n",
       "    (hidden_dps): ModuleList(\n",
       "      (0): RNNDropout()\n",
       "      (1): RNNDropout()\n",
       "      (2): RNNDropout()\n",
       "    )\n",
       "  )\n",
       "  (1): PoolingLinearClassifier(\n",
       "    (layers): Sequential(\n",
       "      (0): BatchNorm1d(1200, eps=1e-05, momentum=0.1, affine=True, track_running_stats=True)\n",
       "      (1): Dropout(p=0.2)\n",
       "      (2): Linear(in_features=1200, out_features=50, bias=True)\n",
       "      (3): ReLU(inplace)\n",
       "      (4): BatchNorm1d(50, eps=1e-05, momentum=0.1, affine=True, track_running_stats=True)\n",
       "      (5): Dropout(p=0.1)\n",
       "      (6): Linear(in_features=50, out_features=5, bias=True)\n",
       "    )\n",
       "  )\n",
       "), opt_func=functools.partial(<class 'torch.optim.adam.Adam'>, betas=(0.9, 0.99)), loss_func=<fastai.layers.FlattenedLoss object at 0x7fc2f8099b70>, metrics=[<function accuracy at 0x7fc2fb3a6b70>], true_wd=True, bn_wd=True, wd=0.01, train_bn=True, path=PosixPath('data/ruSentiment'), model_dir='models', callback_fns=[<class 'fastai.basic_train.Recorder'>], callbacks=[RNNTrainer(learn=RNNLearner(data=TextClasDataBunch;\n",
       "\n",
       "Train: LabelList\n",
       "y: CategoryList (21268 items)\n",
       "[Category negative, Category speech, Category skip, Category negative, Category skip]...\n",
       "Path: .\n",
       "x: TextList (21268 items)\n",
       "[Text xxbos а попа подозревала давно , что ты с кавказа .. перестану общаться с тобой, Text xxbos з прошедшим xxmaj днем xxmaj ангела xxrep 8 ), Text xxbos xxmaj два дня до xxunk с острова xxrep 7 !, Text xxbos xxmaj блин , почему эта жизнь столь не справедлива xxrep 4 (, Text xxbos где еще встречать свой день рождения как не на кладбище xxrep 4 )]...\n",
       "Path: data/ruSentiment;\n",
       "\n",
       "Valid: LabelList\n",
       "y: CategoryList (2967 items)\n",
       "[Category neutral, Category positive, Category neutral, Category skip, Category speech]...\n",
       "Path: .\n",
       "x: TextList (2967 items)\n",
       "[Text xxbos xxmaj александр , тебе к лицу эта пушка :) \n",
       ", Text xxbos xxmaj скоро ты вернешься домой , грязный , не xxunk но такой любимый ❤, Text xxbos помниш ... ) ), Text xxbos xxmaj мы просто с [ xxunk ] xxunk xxrep 5 ) \n",
       " к новому году в xxunk готовы ! xxrep 6 ) \n",
       " xxmaj да , мы любим молоко ! xxmaj когда стареешь - xxunk на него вместо xxunk воды 🍹, Text xxbos ой , прости забыла поздравить , с xxunk , да ! xxrep 4 )]...\n",
       "Path: data/ruSentiment;\n",
       "\n",
       "Test: None, model=SequentialRNN(\n",
       "  (0): MultiBatchRNNCore(\n",
       "    (encoder): Embedding(60003, 400, padding_idx=1)\n",
       "    (encoder_dp): EmbeddingDropout(\n",
       "      (emb): Embedding(60003, 400, padding_idx=1)\n",
       "    )\n",
       "    (rnns): ModuleList(\n",
       "      (0): WeightDropout(\n",
       "        (module): LSTM(400, 1150, batch_first=True)\n",
       "      )\n",
       "      (1): WeightDropout(\n",
       "        (module): LSTM(1150, 1150, batch_first=True)\n",
       "      )\n",
       "      (2): WeightDropout(\n",
       "        (module): LSTM(1150, 400, batch_first=True)\n",
       "      )\n",
       "    )\n",
       "    (input_dp): RNNDropout()\n",
       "    (hidden_dps): ModuleList(\n",
       "      (0): RNNDropout()\n",
       "      (1): RNNDropout()\n",
       "      (2): RNNDropout()\n",
       "    )\n",
       "  )\n",
       "  (1): PoolingLinearClassifier(\n",
       "    (layers): Sequential(\n",
       "      (0): BatchNorm1d(1200, eps=1e-05, momentum=0.1, affine=True, track_running_stats=True)\n",
       "      (1): Dropout(p=0.2)\n",
       "      (2): Linear(in_features=1200, out_features=50, bias=True)\n",
       "      (3): ReLU(inplace)\n",
       "      (4): BatchNorm1d(50, eps=1e-05, momentum=0.1, affine=True, track_running_stats=True)\n",
       "      (5): Dropout(p=0.1)\n",
       "      (6): Linear(in_features=50, out_features=5, bias=True)\n",
       "    )\n",
       "  )\n",
       "), opt_func=functools.partial(<class 'torch.optim.adam.Adam'>, betas=(0.9, 0.99)), loss_func=<fastai.layers.FlattenedLoss object at 0x7fc2f8099b70>, metrics=[<function accuracy at 0x7fc2fb3a6b70>], true_wd=True, bn_wd=True, wd=0.01, train_bn=True, path=PosixPath('data/ruSentiment'), model_dir='models', callback_fns=[<class 'fastai.basic_train.Recorder'>], callbacks=[...], layer_groups=[Sequential(\n",
       "  (0): Embedding(60003, 400, padding_idx=1)\n",
       "  (1): EmbeddingDropout(\n",
       "    (emb): Embedding(60003, 400, padding_idx=1)\n",
       "  )\n",
       "), Sequential(\n",
       "  (0): WeightDropout(\n",
       "    (module): LSTM(400, 1150, batch_first=True)\n",
       "  )\n",
       "  (1): RNNDropout()\n",
       "), Sequential(\n",
       "  (0): WeightDropout(\n",
       "    (module): LSTM(1150, 1150, batch_first=True)\n",
       "  )\n",
       "  (1): RNNDropout()\n",
       "), Sequential(\n",
       "  (0): WeightDropout(\n",
       "    (module): LSTM(1150, 400, batch_first=True)\n",
       "  )\n",
       "  (1): RNNDropout()\n",
       "), Sequential(\n",
       "  (0): PoolingLinearClassifier(\n",
       "    (layers): Sequential(\n",
       "      (0): BatchNorm1d(1200, eps=1e-05, momentum=0.1, affine=True, track_running_stats=True)\n",
       "      (1): Dropout(p=0.2)\n",
       "      (2): Linear(in_features=1200, out_features=50, bias=True)\n",
       "      (3): ReLU(inplace)\n",
       "      (4): BatchNorm1d(50, eps=1e-05, momentum=0.1, affine=True, track_running_stats=True)\n",
       "      (5): Dropout(p=0.1)\n",
       "      (6): Linear(in_features=50, out_features=5, bias=True)\n",
       "    )\n",
       "  )\n",
       ")]), bptt=70, alpha=2.0, beta=1.0, adjust=False)], layer_groups=[Sequential(\n",
       "  (0): Embedding(60003, 400, padding_idx=1)\n",
       "  (1): EmbeddingDropout(\n",
       "    (emb): Embedding(60003, 400, padding_idx=1)\n",
       "  )\n",
       "), Sequential(\n",
       "  (0): WeightDropout(\n",
       "    (module): LSTM(400, 1150, batch_first=True)\n",
       "  )\n",
       "  (1): RNNDropout()\n",
       "), Sequential(\n",
       "  (0): WeightDropout(\n",
       "    (module): LSTM(1150, 1150, batch_first=True)\n",
       "  )\n",
       "  (1): RNNDropout()\n",
       "), Sequential(\n",
       "  (0): WeightDropout(\n",
       "    (module): LSTM(1150, 400, batch_first=True)\n",
       "  )\n",
       "  (1): RNNDropout()\n",
       "), Sequential(\n",
       "  (0): PoolingLinearClassifier(\n",
       "    (layers): Sequential(\n",
       "      (0): BatchNorm1d(1200, eps=1e-05, momentum=0.1, affine=True, track_running_stats=True)\n",
       "      (1): Dropout(p=0.2)\n",
       "      (2): Linear(in_features=1200, out_features=50, bias=True)\n",
       "      (3): ReLU(inplace)\n",
       "      (4): BatchNorm1d(50, eps=1e-05, momentum=0.1, affine=True, track_running_stats=True)\n",
       "      (5): Dropout(p=0.1)\n",
       "      (6): Linear(in_features=50, out_features=5, bias=True)\n",
       "    )\n",
       "  )\n",
       ")])"
      ]
     },
     "execution_count": 36,
     "metadata": {},
     "output_type": "execute_result"
    }
   ],
   "source": [
    "learner.load('second')"
   ]
  },
  {
   "cell_type": "code",
   "execution_count": 55,
   "metadata": {},
   "outputs": [],
   "source": [
    "learner.freeze_to(-3)"
   ]
  },
  {
   "cell_type": "code",
   "execution_count": 56,
   "metadata": {},
   "outputs": [
    {
     "name": "stdout",
     "output_type": "stream",
     "text": [
      "LR Finder is complete, type {learner_name}.recorder.plot() to see the graph.\n"
     ]
    }
   ],
   "source": [
    "learner.lr_find()"
   ]
  },
  {
   "cell_type": "code",
   "execution_count": 57,
   "metadata": {},
   "outputs": [
    {
     "data": {
      "image/png": "[encoded data removed]",
      "text/plain": [
       "<Figure size 432x288 with 1 Axes>"
      ]
     },
     "metadata": {
      "needs_background": "light"
     },
     "output_type": "display_data"
    }
   ],
   "source": [
    "learner.recorder.plot()"
   ]
  },
  {
   "cell_type": "code",
   "execution_count": 58,
   "metadata": {},
   "outputs": [
    {
     "data": {
      "text/html": [
       "Total time: 00:27 <p><table style='width:300px; margin-bottom:10px'>\n",
       "  <tr>\n",
       "    <th>epoch</th>\n",
       "    <th>train_loss</th>\n",
       "    <th>valid_loss</th>\n",
       "    <th>accuracy</th>\n",
       "  </tr>\n",
       "  <tr>\n",
       "    <th>1</th>\n",
       "    <th>0.822611</th>\n",
       "    <th>0.694943</th>\n",
       "    <th>0.733064</th>\n",
       "  </tr>\n",
       "</table>\n"
      ],
      "text/plain": [
       "<IPython.core.display.HTML object>"
      ]
     },
     "metadata": {},
     "output_type": "display_data"
    }
   ],
   "source": [
    "learner.fit_one_cycle(1, slice(5e-3/(2.6**4),5e-3), moms=moms)"
   ]
  },
  {
   "cell_type": "code",
   "execution_count": 59,
   "metadata": {},
   "outputs": [],
   "source": [
    "learner.save('third')"
   ]
  },
  {
   "cell_type": "code",
   "execution_count": 36,
   "metadata": {
    "collapsed": true
   },
   "outputs": [
    {
     "data": {
      "text/plain": [
       "RNNLearner(data=TextClasDataBunch;\n",
       "\n",
       "Train: LabelList\n",
       "y: CategoryList (28218 items)\n",
       "[Category negative, Category speech, Category skip, Category negative, Category skip]...\n",
       "Path: .\n",
       "x: TextList (28218 items)\n",
       "[Text xxbos а попа xxunk давно , что ты с кавказа .. перестану общаться с тобой, Text xxbos з прошедшим xxmaj днем xxmaj ангела xxrep 8 ), Text xxbos xxmaj два дня до xxunk с острова xxrep 7 !, Text xxbos xxmaj блин , почему эта жизнь столь не справедлива xxrep 4 (, Text xxbos где еще встречать свой день рождения как не на кладбище xxrep 4 )]...\n",
       "Path: data/ruSentiment;\n",
       "\n",
       "Valid: LabelList\n",
       "y: CategoryList (2967 items)\n",
       "[Category neutral, Category positive, Category neutral, Category skip, Category speech]...\n",
       "Path: .\n",
       "x: TextList (2967 items)\n",
       "[Text xxbos xxmaj александр , тебе к лицу эта пушка :) \n",
       ", Text xxbos xxmaj скоро ты вернешься домой , грязный , не xxunk но такой любимый ❤, Text xxbos xxunk ... ) ), Text xxbos xxmaj мы просто с [ xxunk ] xxunk xxrep 5 ) \n",
       " к новому году в xxunk готовы ! xxrep 6 ) \n",
       " xxmaj да , мы любим молоко ! xxmaj когда xxunk - xxunk на него вместо xxunk воды xxunk, Text xxbos ой , прости забыла поздравить , с xxunk , да ! xxrep 4 )]...\n",
       "Path: data/ruSentiment;\n",
       "\n",
       "Test: None, model=SequentialRNN(\n",
       "  (0): MultiBatchRNNCore(\n",
       "    (encoder): Embedding(60003, 400, padding_idx=1)\n",
       "    (encoder_dp): EmbeddingDropout(\n",
       "      (emb): Embedding(60003, 400, padding_idx=1)\n",
       "    )\n",
       "    (rnns): ModuleList(\n",
       "      (0): WeightDropout(\n",
       "        (module): LSTM(400, 1150, batch_first=True)\n",
       "      )\n",
       "      (1): WeightDropout(\n",
       "        (module): LSTM(1150, 1150, batch_first=True)\n",
       "      )\n",
       "      (2): WeightDropout(\n",
       "        (module): LSTM(1150, 400, batch_first=True)\n",
       "      )\n",
       "    )\n",
       "    (input_dp): RNNDropout()\n",
       "    (hidden_dps): ModuleList(\n",
       "      (0): RNNDropout()\n",
       "      (1): RNNDropout()\n",
       "      (2): RNNDropout()\n",
       "    )\n",
       "  )\n",
       "  (1): PoolingLinearClassifier(\n",
       "    (layers): Sequential(\n",
       "      (0): BatchNorm1d(1200, eps=1e-05, momentum=0.1, affine=True, track_running_stats=True)\n",
       "      (1): Dropout(p=0.2)\n",
       "      (2): Linear(in_features=1200, out_features=50, bias=True)\n",
       "      (3): ReLU(inplace)\n",
       "      (4): BatchNorm1d(50, eps=1e-05, momentum=0.1, affine=True, track_running_stats=True)\n",
       "      (5): Dropout(p=0.1)\n",
       "      (6): Linear(in_features=50, out_features=5, bias=True)\n",
       "    )\n",
       "  )\n",
       "), opt_func=functools.partial(<class 'torch.optim.adam.Adam'>, betas=(0.9, 0.99)), loss_func=<fastai.layers.FlattenedLoss object at 0x7f6570041400>, metrics=[<function accuracy at 0x7f647c351b70>], true_wd=True, bn_wd=True, wd=0.01, train_bn=True, path=PosixPath('data/ruSentiment'), model_dir='models', callback_fns=[<class 'fastai.basic_train.Recorder'>, functools.partial(<class 'fastai.callbacks.tracker.SaveModelCallback'>, every='epoch', name='cls')], callbacks=[RNNTrainer(learn=RNNLearner(data=TextClasDataBunch;\n",
       "\n",
       "Train: LabelList\n",
       "y: CategoryList (28218 items)\n",
       "[Category negative, Category speech, Category skip, Category negative, Category skip]...\n",
       "Path: .\n",
       "x: TextList (28218 items)\n",
       "[Text xxbos а попа xxunk давно , что ты с кавказа .. перестану общаться с тобой, Text xxbos з прошедшим xxmaj днем xxmaj ангела xxrep 8 ), Text xxbos xxmaj два дня до xxunk с острова xxrep 7 !, Text xxbos xxmaj блин , почему эта жизнь столь не справедлива xxrep 4 (, Text xxbos где еще встречать свой день рождения как не на кладбище xxrep 4 )]...\n",
       "Path: data/ruSentiment;\n",
       "\n",
       "Valid: LabelList\n",
       "y: CategoryList (2967 items)\n",
       "[Category neutral, Category positive, Category neutral, Category skip, Category speech]...\n",
       "Path: .\n",
       "x: TextList (2967 items)\n",
       "[Text xxbos xxmaj александр , тебе к лицу эта пушка :) \n",
       ", Text xxbos xxmaj скоро ты вернешься домой , грязный , не xxunk но такой любимый ❤, Text xxbos xxunk ... ) ), Text xxbos xxmaj мы просто с [ xxunk ] xxunk xxrep 5 ) \n",
       " к новому году в xxunk готовы ! xxrep 6 ) \n",
       " xxmaj да , мы любим молоко ! xxmaj когда xxunk - xxunk на него вместо xxunk воды xxunk, Text xxbos ой , прости забыла поздравить , с xxunk , да ! xxrep 4 )]...\n",
       "Path: data/ruSentiment;\n",
       "\n",
       "Test: None, model=SequentialRNN(\n",
       "  (0): MultiBatchRNNCore(\n",
       "    (encoder): Embedding(60003, 400, padding_idx=1)\n",
       "    (encoder_dp): EmbeddingDropout(\n",
       "      (emb): Embedding(60003, 400, padding_idx=1)\n",
       "    )\n",
       "    (rnns): ModuleList(\n",
       "      (0): WeightDropout(\n",
       "        (module): LSTM(400, 1150, batch_first=True)\n",
       "      )\n",
       "      (1): WeightDropout(\n",
       "        (module): LSTM(1150, 1150, batch_first=True)\n",
       "      )\n",
       "      (2): WeightDropout(\n",
       "        (module): LSTM(1150, 400, batch_first=True)\n",
       "      )\n",
       "    )\n",
       "    (input_dp): RNNDropout()\n",
       "    (hidden_dps): ModuleList(\n",
       "      (0): RNNDropout()\n",
       "      (1): RNNDropout()\n",
       "      (2): RNNDropout()\n",
       "    )\n",
       "  )\n",
       "  (1): PoolingLinearClassifier(\n",
       "    (layers): Sequential(\n",
       "      (0): BatchNorm1d(1200, eps=1e-05, momentum=0.1, affine=True, track_running_stats=True)\n",
       "      (1): Dropout(p=0.2)\n",
       "      (2): Linear(in_features=1200, out_features=50, bias=True)\n",
       "      (3): ReLU(inplace)\n",
       "      (4): BatchNorm1d(50, eps=1e-05, momentum=0.1, affine=True, track_running_stats=True)\n",
       "      (5): Dropout(p=0.1)\n",
       "      (6): Linear(in_features=50, out_features=5, bias=True)\n",
       "    )\n",
       "  )\n",
       "), opt_func=functools.partial(<class 'torch.optim.adam.Adam'>, betas=(0.9, 0.99)), loss_func=<fastai.layers.FlattenedLoss object at 0x7f6570041400>, metrics=[<function accuracy at 0x7f647c351b70>], true_wd=True, bn_wd=True, wd=0.01, train_bn=True, path=PosixPath('data/ruSentiment'), model_dir='models', callback_fns=[<class 'fastai.basic_train.Recorder'>, functools.partial(<class 'fastai.callbacks.tracker.SaveModelCallback'>, every='epoch', name='cls')], callbacks=[...], layer_groups=[Sequential(\n",
       "  (0): Embedding(60003, 400, padding_idx=1)\n",
       "  (1): EmbeddingDropout(\n",
       "    (emb): Embedding(60003, 400, padding_idx=1)\n",
       "  )\n",
       "), Sequential(\n",
       "  (0): WeightDropout(\n",
       "    (module): LSTM(400, 1150, batch_first=True)\n",
       "  )\n",
       "  (1): RNNDropout()\n",
       "), Sequential(\n",
       "  (0): WeightDropout(\n",
       "    (module): LSTM(1150, 1150, batch_first=True)\n",
       "  )\n",
       "  (1): RNNDropout()\n",
       "), Sequential(\n",
       "  (0): WeightDropout(\n",
       "    (module): LSTM(1150, 400, batch_first=True)\n",
       "  )\n",
       "  (1): RNNDropout()\n",
       "), Sequential(\n",
       "  (0): PoolingLinearClassifier(\n",
       "    (layers): Sequential(\n",
       "      (0): BatchNorm1d(1200, eps=1e-05, momentum=0.1, affine=True, track_running_stats=True)\n",
       "      (1): Dropout(p=0.2)\n",
       "      (2): Linear(in_features=1200, out_features=50, bias=True)\n",
       "      (3): ReLU(inplace)\n",
       "      (4): BatchNorm1d(50, eps=1e-05, momentum=0.1, affine=True, track_running_stats=True)\n",
       "      (5): Dropout(p=0.1)\n",
       "      (6): Linear(in_features=50, out_features=5, bias=True)\n",
       "    )\n",
       "  )\n",
       ")]), bptt=70, alpha=2.0, beta=1.0, adjust=False)], layer_groups=[Sequential(\n",
       "  (0): Embedding(60003, 400, padding_idx=1)\n",
       "  (1): EmbeddingDropout(\n",
       "    (emb): Embedding(60003, 400, padding_idx=1)\n",
       "  )\n",
       "), Sequential(\n",
       "  (0): WeightDropout(\n",
       "    (module): LSTM(400, 1150, batch_first=True)\n",
       "  )\n",
       "  (1): RNNDropout()\n",
       "), Sequential(\n",
       "  (0): WeightDropout(\n",
       "    (module): LSTM(1150, 1150, batch_first=True)\n",
       "  )\n",
       "  (1): RNNDropout()\n",
       "), Sequential(\n",
       "  (0): WeightDropout(\n",
       "    (module): LSTM(1150, 400, batch_first=True)\n",
       "  )\n",
       "  (1): RNNDropout()\n",
       "), Sequential(\n",
       "  (0): PoolingLinearClassifier(\n",
       "    (layers): Sequential(\n",
       "      (0): BatchNorm1d(1200, eps=1e-05, momentum=0.1, affine=True, track_running_stats=True)\n",
       "      (1): Dropout(p=0.2)\n",
       "      (2): Linear(in_features=1200, out_features=50, bias=True)\n",
       "      (3): ReLU(inplace)\n",
       "      (4): BatchNorm1d(50, eps=1e-05, momentum=0.1, affine=True, track_running_stats=True)\n",
       "      (5): Dropout(p=0.1)\n",
       "      (6): Linear(in_features=50, out_features=5, bias=True)\n",
       "    )\n",
       "  )\n",
       ")])"
      ]
     },
     "execution_count": 36,
     "metadata": {},
     "output_type": "execute_result"
    }
   ],
   "source": [
    "learner.load('third')"
   ]
  },
  {
   "cell_type": "code",
   "execution_count": 60,
   "metadata": {},
   "outputs": [],
   "source": [
    "learner.unfreeze()"
   ]
  },
  {
   "cell_type": "code",
   "execution_count": 61,
   "metadata": {},
   "outputs": [
    {
     "name": "stdout",
     "output_type": "stream",
     "text": [
      "LR Finder is complete, type {learner_name}.recorder.plot() to see the graph.\n"
     ]
    }
   ],
   "source": [
    "learner.lr_find()"
   ]
  },
  {
   "cell_type": "code",
   "execution_count": 62,
   "metadata": {},
   "outputs": [
    {
     "data": {
      "image/png": "[encoded data removed]",
      "text/plain": [
       "<Figure size 432x288 with 1 Axes>"
      ]
     },
     "metadata": {
      "needs_background": "light"
     },
     "output_type": "display_data"
    }
   ],
   "source": [
    "learner.recorder.plot()"
   ]
  },
  {
   "cell_type": "code",
   "execution_count": 63,
   "metadata": {},
   "outputs": [
    {
     "data": {
      "text/html": [
       "Total time: 03:12 <p><table style='width:300px; margin-bottom:10px'>\n",
       "  <tr>\n",
       "    <th>epoch</th>\n",
       "    <th>train_loss</th>\n",
       "    <th>valid_loss</th>\n",
       "    <th>accuracy</th>\n",
       "  </tr>\n",
       "  <tr>\n",
       "    <th>1</th>\n",
       "    <th>0.718630</th>\n",
       "    <th>0.694408</th>\n",
       "    <th>0.729356</th>\n",
       "  </tr>\n",
       "  <tr>\n",
       "    <th>2</th>\n",
       "    <th>0.737847</th>\n",
       "    <th>0.686142</th>\n",
       "    <th>0.732053</th>\n",
       "  </tr>\n",
       "  <tr>\n",
       "    <th>3</th>\n",
       "    <th>0.626939</th>\n",
       "    <th>0.702200</th>\n",
       "    <th>0.726997</th>\n",
       "  </tr>\n",
       "  <tr>\n",
       "    <th>4</th>\n",
       "    <th>0.581366</th>\n",
       "    <th>0.728239</th>\n",
       "    <th>0.720593</th>\n",
       "  </tr>\n",
       "</table>\n"
      ],
      "text/plain": [
       "<IPython.core.display.HTML object>"
      ]
     },
     "metadata": {},
     "output_type": "display_data"
    }
   ],
   "source": [
    "learner.fit_one_cycle(4, slice(1e-3/(2.6**4),1e-3), moms=moms)"
   ]
  },
  {
   "cell_type": "code",
   "execution_count": 64,
   "metadata": {
    "collapsed": true
   },
   "outputs": [
    {
     "data": {
      "text/plain": [
       "RNNLearner(data=TextClasDataBunch;\n",
       "\n",
       "Train: LabelList\n",
       "y: CategoryList (28218 items)\n",
       "[Category negative, Category speech, Category skip, Category negative, Category skip]...\n",
       "Path: .\n",
       "x: TextList (28218 items)\n",
       "[Text xxbos а попа xxunk давно , что ты с кавказа .. перестану общаться с тобой, Text xxbos з прошедшим xxmaj днем xxmaj ангела xxrep 8 ), Text xxbos xxmaj два дня до xxunk с острова xxrep 7 !, Text xxbos xxmaj блин , почему эта жизнь столь не справедлива xxrep 4 (, Text xxbos где еще встречать свой день рождения как не на кладбище xxrep 4 )]...\n",
       "Path: data/ruSentiment;\n",
       "\n",
       "Valid: LabelList\n",
       "y: CategoryList (2967 items)\n",
       "[Category neutral, Category positive, Category neutral, Category skip, Category speech]...\n",
       "Path: .\n",
       "x: TextList (2967 items)\n",
       "[Text xxbos xxmaj александр , тебе к лицу эта пушка :) \n",
       ", Text xxbos xxmaj скоро ты вернешься домой , грязный , не xxunk но такой любимый ❤, Text xxbos xxunk ... ) ), Text xxbos xxmaj мы просто с [ xxunk ] xxunk xxrep 5 ) \n",
       " к новому году в xxunk готовы ! xxrep 6 ) \n",
       " xxmaj да , мы любим молоко ! xxmaj когда xxunk - xxunk на него вместо xxunk воды xxunk, Text xxbos ой , прости забыла поздравить , с xxunk , да ! xxrep 4 )]...\n",
       "Path: data/ruSentiment;\n",
       "\n",
       "Test: None, model=SequentialRNN(\n",
       "  (0): MultiBatchRNNCore(\n",
       "    (encoder): Embedding(60003, 400, padding_idx=1)\n",
       "    (encoder_dp): EmbeddingDropout(\n",
       "      (emb): Embedding(60003, 400, padding_idx=1)\n",
       "    )\n",
       "    (rnns): ModuleList(\n",
       "      (0): WeightDropout(\n",
       "        (module): LSTM(400, 1150, batch_first=True)\n",
       "      )\n",
       "      (1): WeightDropout(\n",
       "        (module): LSTM(1150, 1150, batch_first=True)\n",
       "      )\n",
       "      (2): WeightDropout(\n",
       "        (module): LSTM(1150, 400, batch_first=True)\n",
       "      )\n",
       "    )\n",
       "    (input_dp): RNNDropout()\n",
       "    (hidden_dps): ModuleList(\n",
       "      (0): RNNDropout()\n",
       "      (1): RNNDropout()\n",
       "      (2): RNNDropout()\n",
       "    )\n",
       "  )\n",
       "  (1): PoolingLinearClassifier(\n",
       "    (layers): Sequential(\n",
       "      (0): BatchNorm1d(1200, eps=1e-05, momentum=0.1, affine=True, track_running_stats=True)\n",
       "      (1): Dropout(p=0.2)\n",
       "      (2): Linear(in_features=1200, out_features=50, bias=True)\n",
       "      (3): ReLU(inplace)\n",
       "      (4): BatchNorm1d(50, eps=1e-05, momentum=0.1, affine=True, track_running_stats=True)\n",
       "      (5): Dropout(p=0.1)\n",
       "      (6): Linear(in_features=50, out_features=5, bias=True)\n",
       "    )\n",
       "  )\n",
       "), opt_func=functools.partial(<class 'torch.optim.adam.Adam'>, betas=(0.9, 0.99)), loss_func=<fastai.layers.FlattenedLoss object at 0x7f6570041400>, metrics=[<function accuracy at 0x7f647c351b70>], true_wd=True, bn_wd=True, wd=0.01, train_bn=True, path=PosixPath('data/ruSentiment'), model_dir='models', callback_fns=[<class 'fastai.basic_train.Recorder'>, functools.partial(<class 'fastai.callbacks.tracker.SaveModelCallback'>, every='epoch', name='cls')], callbacks=[RNNTrainer(learn=RNNLearner(data=TextClasDataBunch;\n",
       "\n",
       "Train: LabelList\n",
       "y: CategoryList (28218 items)\n",
       "[Category negative, Category speech, Category skip, Category negative, Category skip]...\n",
       "Path: .\n",
       "x: TextList (28218 items)\n",
       "[Text xxbos а попа xxunk давно , что ты с кавказа .. перестану общаться с тобой, Text xxbos з прошедшим xxmaj днем xxmaj ангела xxrep 8 ), Text xxbos xxmaj два дня до xxunk с острова xxrep 7 !, Text xxbos xxmaj блин , почему эта жизнь столь не справедлива xxrep 4 (, Text xxbos где еще встречать свой день рождения как не на кладбище xxrep 4 )]...\n",
       "Path: data/ruSentiment;\n",
       "\n",
       "Valid: LabelList\n",
       "y: CategoryList (2967 items)\n",
       "[Category neutral, Category positive, Category neutral, Category skip, Category speech]...\n",
       "Path: .\n",
       "x: TextList (2967 items)\n",
       "[Text xxbos xxmaj александр , тебе к лицу эта пушка :) \n",
       ", Text xxbos xxmaj скоро ты вернешься домой , грязный , не xxunk но такой любимый ❤, Text xxbos xxunk ... ) ), Text xxbos xxmaj мы просто с [ xxunk ] xxunk xxrep 5 ) \n",
       " к новому году в xxunk готовы ! xxrep 6 ) \n",
       " xxmaj да , мы любим молоко ! xxmaj когда xxunk - xxunk на него вместо xxunk воды xxunk, Text xxbos ой , прости забыла поздравить , с xxunk , да ! xxrep 4 )]...\n",
       "Path: data/ruSentiment;\n",
       "\n",
       "Test: None, model=SequentialRNN(\n",
       "  (0): MultiBatchRNNCore(\n",
       "    (encoder): Embedding(60003, 400, padding_idx=1)\n",
       "    (encoder_dp): EmbeddingDropout(\n",
       "      (emb): Embedding(60003, 400, padding_idx=1)\n",
       "    )\n",
       "    (rnns): ModuleList(\n",
       "      (0): WeightDropout(\n",
       "        (module): LSTM(400, 1150, batch_first=True)\n",
       "      )\n",
       "      (1): WeightDropout(\n",
       "        (module): LSTM(1150, 1150, batch_first=True)\n",
       "      )\n",
       "      (2): WeightDropout(\n",
       "        (module): LSTM(1150, 400, batch_first=True)\n",
       "      )\n",
       "    )\n",
       "    (input_dp): RNNDropout()\n",
       "    (hidden_dps): ModuleList(\n",
       "      (0): RNNDropout()\n",
       "      (1): RNNDropout()\n",
       "      (2): RNNDropout()\n",
       "    )\n",
       "  )\n",
       "  (1): PoolingLinearClassifier(\n",
       "    (layers): Sequential(\n",
       "      (0): BatchNorm1d(1200, eps=1e-05, momentum=0.1, affine=True, track_running_stats=True)\n",
       "      (1): Dropout(p=0.2)\n",
       "      (2): Linear(in_features=1200, out_features=50, bias=True)\n",
       "      (3): ReLU(inplace)\n",
       "      (4): BatchNorm1d(50, eps=1e-05, momentum=0.1, affine=True, track_running_stats=True)\n",
       "      (5): Dropout(p=0.1)\n",
       "      (6): Linear(in_features=50, out_features=5, bias=True)\n",
       "    )\n",
       "  )\n",
       "), opt_func=functools.partial(<class 'torch.optim.adam.Adam'>, betas=(0.9, 0.99)), loss_func=<fastai.layers.FlattenedLoss object at 0x7f6570041400>, metrics=[<function accuracy at 0x7f647c351b70>], true_wd=True, bn_wd=True, wd=0.01, train_bn=True, path=PosixPath('data/ruSentiment'), model_dir='models', callback_fns=[<class 'fastai.basic_train.Recorder'>, functools.partial(<class 'fastai.callbacks.tracker.SaveModelCallback'>, every='epoch', name='cls')], callbacks=[...], layer_groups=[Sequential(\n",
       "  (0): Embedding(60003, 400, padding_idx=1)\n",
       "  (1): EmbeddingDropout(\n",
       "    (emb): Embedding(60003, 400, padding_idx=1)\n",
       "  )\n",
       "), Sequential(\n",
       "  (0): WeightDropout(\n",
       "    (module): LSTM(400, 1150, batch_first=True)\n",
       "  )\n",
       "  (1): RNNDropout()\n",
       "), Sequential(\n",
       "  (0): WeightDropout(\n",
       "    (module): LSTM(1150, 1150, batch_first=True)\n",
       "  )\n",
       "  (1): RNNDropout()\n",
       "), Sequential(\n",
       "  (0): WeightDropout(\n",
       "    (module): LSTM(1150, 400, batch_first=True)\n",
       "  )\n",
       "  (1): RNNDropout()\n",
       "), Sequential(\n",
       "  (0): PoolingLinearClassifier(\n",
       "    (layers): Sequential(\n",
       "      (0): BatchNorm1d(1200, eps=1e-05, momentum=0.1, affine=True, track_running_stats=True)\n",
       "      (1): Dropout(p=0.2)\n",
       "      (2): Linear(in_features=1200, out_features=50, bias=True)\n",
       "      (3): ReLU(inplace)\n",
       "      (4): BatchNorm1d(50, eps=1e-05, momentum=0.1, affine=True, track_running_stats=True)\n",
       "      (5): Dropout(p=0.1)\n",
       "      (6): Linear(in_features=50, out_features=5, bias=True)\n",
       "    )\n",
       "  )\n",
       ")]), bptt=70, alpha=2.0, beta=1.0, adjust=False)], layer_groups=[Sequential(\n",
       "  (0): Embedding(60003, 400, padding_idx=1)\n",
       "  (1): EmbeddingDropout(\n",
       "    (emb): Embedding(60003, 400, padding_idx=1)\n",
       "  )\n",
       "), Sequential(\n",
       "  (0): WeightDropout(\n",
       "    (module): LSTM(400, 1150, batch_first=True)\n",
       "  )\n",
       "  (1): RNNDropout()\n",
       "), Sequential(\n",
       "  (0): WeightDropout(\n",
       "    (module): LSTM(1150, 1150, batch_first=True)\n",
       "  )\n",
       "  (1): RNNDropout()\n",
       "), Sequential(\n",
       "  (0): WeightDropout(\n",
       "    (module): LSTM(1150, 400, batch_first=True)\n",
       "  )\n",
       "  (1): RNNDropout()\n",
       "), Sequential(\n",
       "  (0): PoolingLinearClassifier(\n",
       "    (layers): Sequential(\n",
       "      (0): BatchNorm1d(1200, eps=1e-05, momentum=0.1, affine=True, track_running_stats=True)\n",
       "      (1): Dropout(p=0.2)\n",
       "      (2): Linear(in_features=1200, out_features=50, bias=True)\n",
       "      (3): ReLU(inplace)\n",
       "      (4): BatchNorm1d(50, eps=1e-05, momentum=0.1, affine=True, track_running_stats=True)\n",
       "      (5): Dropout(p=0.1)\n",
       "      (6): Linear(in_features=50, out_features=5, bias=True)\n",
       "    )\n",
       "  )\n",
       ")])"
      ]
     },
     "execution_count": 64,
     "metadata": {},
     "output_type": "execute_result"
    }
   ],
   "source": [
    "learner.load('cls_2')"
   ]
  },
  {
   "cell_type": "code",
   "execution_count": 65,
   "metadata": {},
   "outputs": [],
   "source": [
    "learner.save('best-classifier')"
   ]
  },
  {
   "cell_type": "code",
   "execution_count": 114,
   "metadata": {
    "collapsed": true
   },
   "outputs": [
    {
     "data": {
      "text/plain": [
       "RNNLearner(data=TextClasDataBunch;\n",
       "\n",
       "Train: LabelList\n",
       "y: CategoryList (28218 items)\n",
       "[Category negative, Category speech, Category skip, Category negative, Category skip]...\n",
       "Path: data/ruSentiment\n",
       "x: TextList (28218 items)\n",
       "[Text xxbos а попа xxunk давно , что ты с кавказа .. перестану общаться с тобой, Text xxbos з прошедшим xxmaj днем xxmaj ангела xxrep 8 ), Text xxbos xxmaj два дня до xxunk с острова xxrep 7 !, Text xxbos xxmaj блин , почему эта жизнь столь не справедлива xxrep 4 (, Text xxbos где еще встречать свой день рождения как не на кладбище xxrep 4 )]...\n",
       "Path: data/ruSentiment;\n",
       "\n",
       "Valid: LabelList\n",
       "y: CategoryList (2967 items)\n",
       "[Category neutral, Category positive, Category neutral, Category skip, Category speech]...\n",
       "Path: data/ruSentiment\n",
       "x: TextList (2967 items)\n",
       "[Text xxbos xxmaj александр , тебе к лицу эта пушка :) \n",
       ", Text xxbos xxmaj скоро ты вернешься домой , грязный , не xxunk но такой любимый ❤, Text xxbos xxunk ... ) ), Text xxbos xxmaj мы просто с [ xxunk ] xxunk xxrep 5 ) \n",
       " к новому году в xxunk готовы ! xxrep 6 ) \n",
       " xxmaj да , мы любим молоко ! xxmaj когда стареешь - xxunk на него вместо xxunk воды xxunk, Text xxbos ой , прости забыла поздравить , с xxunk , да ! xxrep 4 )]...\n",
       "Path: data/ruSentiment;\n",
       "\n",
       "Test: None, model=SequentialRNN(\n",
       "  (0): MultiBatchRNNCore(\n",
       "    (encoder): Embedding(60003, 400, padding_idx=1)\n",
       "    (encoder_dp): EmbeddingDropout(\n",
       "      (emb): Embedding(60003, 400, padding_idx=1)\n",
       "    )\n",
       "    (rnns): ModuleList(\n",
       "      (0): WeightDropout(\n",
       "        (module): LSTM(400, 1150, batch_first=True)\n",
       "      )\n",
       "      (1): WeightDropout(\n",
       "        (module): LSTM(1150, 1150, batch_first=True)\n",
       "      )\n",
       "      (2): WeightDropout(\n",
       "        (module): LSTM(1150, 400, batch_first=True)\n",
       "      )\n",
       "    )\n",
       "    (input_dp): RNNDropout()\n",
       "    (hidden_dps): ModuleList(\n",
       "      (0): RNNDropout()\n",
       "      (1): RNNDropout()\n",
       "      (2): RNNDropout()\n",
       "    )\n",
       "  )\n",
       "  (1): PoolingLinearClassifier(\n",
       "    (layers): Sequential(\n",
       "      (0): BatchNorm1d(1200, eps=1e-05, momentum=0.1, affine=True, track_running_stats=True)\n",
       "      (1): Dropout(p=0.2)\n",
       "      (2): Linear(in_features=1200, out_features=50, bias=True)\n",
       "      (3): ReLU(inplace)\n",
       "      (4): BatchNorm1d(50, eps=1e-05, momentum=0.1, affine=True, track_running_stats=True)\n",
       "      (5): Dropout(p=0.1)\n",
       "      (6): Linear(in_features=50, out_features=5, bias=True)\n",
       "    )\n",
       "  )\n",
       "), opt_func=functools.partial(<class 'torch.optim.adam.Adam'>, betas=(0.9, 0.99)), loss_func=<fastai.layers.FlattenedLoss object at 0x7f64b1d6b3c8>, metrics=[<function accuracy at 0x7f64b6e79950>], true_wd=True, bn_wd=True, wd=0.01, train_bn=True, path=PosixPath('data/ruSentiment'), model_dir='models', callback_fns=[<class 'fastai.basic_train.Recorder'>, functools.partial(<class 'fastai.callbacks.tracker.SaveModelCallback'>, every='epoch', name='cls')], callbacks=[RNNTrainer(learn=RNNLearner(data=TextClasDataBunch;\n",
       "\n",
       "Train: LabelList\n",
       "y: CategoryList (28218 items)\n",
       "[Category negative, Category speech, Category skip, Category negative, Category skip]...\n",
       "Path: data/ruSentiment\n",
       "x: TextList (28218 items)\n",
       "[Text xxbos а попа xxunk давно , что ты с кавказа .. перестану общаться с тобой, Text xxbos з прошедшим xxmaj днем xxmaj ангела xxrep 8 ), Text xxbos xxmaj два дня до xxunk с острова xxrep 7 !, Text xxbos xxmaj блин , почему эта жизнь столь не справедлива xxrep 4 (, Text xxbos где еще встречать свой день рождения как не на кладбище xxrep 4 )]...\n",
       "Path: data/ruSentiment;\n",
       "\n",
       "Valid: LabelList\n",
       "y: CategoryList (2967 items)\n",
       "[Category neutral, Category positive, Category neutral, Category skip, Category speech]...\n",
       "Path: data/ruSentiment\n",
       "x: TextList (2967 items)\n",
       "[Text xxbos xxmaj александр , тебе к лицу эта пушка :) \n",
       ", Text xxbos xxmaj скоро ты вернешься домой , грязный , не xxunk но такой любимый ❤, Text xxbos xxunk ... ) ), Text xxbos xxmaj мы просто с [ xxunk ] xxunk xxrep 5 ) \n",
       " к новому году в xxunk готовы ! xxrep 6 ) \n",
       " xxmaj да , мы любим молоко ! xxmaj когда стареешь - xxunk на него вместо xxunk воды xxunk, Text xxbos ой , прости забыла поздравить , с xxunk , да ! xxrep 4 )]...\n",
       "Path: data/ruSentiment;\n",
       "\n",
       "Test: None, model=SequentialRNN(\n",
       "  (0): MultiBatchRNNCore(\n",
       "    (encoder): Embedding(60003, 400, padding_idx=1)\n",
       "    (encoder_dp): EmbeddingDropout(\n",
       "      (emb): Embedding(60003, 400, padding_idx=1)\n",
       "    )\n",
       "    (rnns): ModuleList(\n",
       "      (0): WeightDropout(\n",
       "        (module): LSTM(400, 1150, batch_first=True)\n",
       "      )\n",
       "      (1): WeightDropout(\n",
       "        (module): LSTM(1150, 1150, batch_first=True)\n",
       "      )\n",
       "      (2): WeightDropout(\n",
       "        (module): LSTM(1150, 400, batch_first=True)\n",
       "      )\n",
       "    )\n",
       "    (input_dp): RNNDropout()\n",
       "    (hidden_dps): ModuleList(\n",
       "      (0): RNNDropout()\n",
       "      (1): RNNDropout()\n",
       "      (2): RNNDropout()\n",
       "    )\n",
       "  )\n",
       "  (1): PoolingLinearClassifier(\n",
       "    (layers): Sequential(\n",
       "      (0): BatchNorm1d(1200, eps=1e-05, momentum=0.1, affine=True, track_running_stats=True)\n",
       "      (1): Dropout(p=0.2)\n",
       "      (2): Linear(in_features=1200, out_features=50, bias=True)\n",
       "      (3): ReLU(inplace)\n",
       "      (4): BatchNorm1d(50, eps=1e-05, momentum=0.1, affine=True, track_running_stats=True)\n",
       "      (5): Dropout(p=0.1)\n",
       "      (6): Linear(in_features=50, out_features=5, bias=True)\n",
       "    )\n",
       "  )\n",
       "), opt_func=functools.partial(<class 'torch.optim.adam.Adam'>, betas=(0.9, 0.99)), loss_func=<fastai.layers.FlattenedLoss object at 0x7f64b1d6b3c8>, metrics=[<function accuracy at 0x7f64b6e79950>], true_wd=True, bn_wd=True, wd=0.01, train_bn=True, path=PosixPath('data/ruSentiment'), model_dir='models', callback_fns=[<class 'fastai.basic_train.Recorder'>, functools.partial(<class 'fastai.callbacks.tracker.SaveModelCallback'>, every='epoch', name='cls')], callbacks=[...], layer_groups=[Sequential(\n",
       "  (0): Embedding(60003, 400, padding_idx=1)\n",
       "  (1): EmbeddingDropout(\n",
       "    (emb): Embedding(60003, 400, padding_idx=1)\n",
       "  )\n",
       "), Sequential(\n",
       "  (0): WeightDropout(\n",
       "    (module): LSTM(400, 1150, batch_first=True)\n",
       "  )\n",
       "  (1): RNNDropout()\n",
       "), Sequential(\n",
       "  (0): WeightDropout(\n",
       "    (module): LSTM(1150, 1150, batch_first=True)\n",
       "  )\n",
       "  (1): RNNDropout()\n",
       "), Sequential(\n",
       "  (0): WeightDropout(\n",
       "    (module): LSTM(1150, 400, batch_first=True)\n",
       "  )\n",
       "  (1): RNNDropout()\n",
       "), Sequential(\n",
       "  (0): PoolingLinearClassifier(\n",
       "    (layers): Sequential(\n",
       "      (0): BatchNorm1d(1200, eps=1e-05, momentum=0.1, affine=True, track_running_stats=True)\n",
       "      (1): Dropout(p=0.2)\n",
       "      (2): Linear(in_features=1200, out_features=50, bias=True)\n",
       "      (3): ReLU(inplace)\n",
       "      (4): BatchNorm1d(50, eps=1e-05, momentum=0.1, affine=True, track_running_stats=True)\n",
       "      (5): Dropout(p=0.1)\n",
       "      (6): Linear(in_features=50, out_features=5, bias=True)\n",
       "    )\n",
       "  )\n",
       ")]), bptt=70, alpha=2.0, beta=1.0, adjust=False)], layer_groups=[Sequential(\n",
       "  (0): Embedding(60003, 400, padding_idx=1)\n",
       "  (1): EmbeddingDropout(\n",
       "    (emb): Embedding(60003, 400, padding_idx=1)\n",
       "  )\n",
       "), Sequential(\n",
       "  (0): WeightDropout(\n",
       "    (module): LSTM(400, 1150, batch_first=True)\n",
       "  )\n",
       "  (1): RNNDropout()\n",
       "), Sequential(\n",
       "  (0): WeightDropout(\n",
       "    (module): LSTM(1150, 1150, batch_first=True)\n",
       "  )\n",
       "  (1): RNNDropout()\n",
       "), Sequential(\n",
       "  (0): WeightDropout(\n",
       "    (module): LSTM(1150, 400, batch_first=True)\n",
       "  )\n",
       "  (1): RNNDropout()\n",
       "), Sequential(\n",
       "  (0): PoolingLinearClassifier(\n",
       "    (layers): Sequential(\n",
       "      (0): BatchNorm1d(1200, eps=1e-05, momentum=0.1, affine=True, track_running_stats=True)\n",
       "      (1): Dropout(p=0.2)\n",
       "      (2): Linear(in_features=1200, out_features=50, bias=True)\n",
       "      (3): ReLU(inplace)\n",
       "      (4): BatchNorm1d(50, eps=1e-05, momentum=0.1, affine=True, track_running_stats=True)\n",
       "      (5): Dropout(p=0.1)\n",
       "      (6): Linear(in_features=50, out_features=5, bias=True)\n",
       "    )\n",
       "  )\n",
       ")])"
      ]
     },
     "execution_count": 114,
     "metadata": {},
     "output_type": "execute_result"
    }
   ],
   "source": [
    "learner.load('best-classifier')"
   ]
  },
  {
   "cell_type": "code",
   "execution_count": 66,
   "metadata": {},
   "outputs": [],
   "source": [
    "# sanity check for accuracy, precision, recall and f1-score\n",
    "preds, targets = learner.get_preds()"
   ]
  },
  {
   "cell_type": "code",
   "execution_count": 67,
   "metadata": {},
   "outputs": [
    {
     "data": {
      "text/plain": [
       "tensor([4, 0, 2, 3, 1])"
      ]
     },
     "execution_count": 67,
     "metadata": {},
     "output_type": "execute_result"
    }
   ],
   "source": [
    "targets.unique()"
   ]
  },
  {
   "cell_type": "code",
   "execution_count": 68,
   "metadata": {},
   "outputs": [],
   "source": [
    "pred_classes = torch.argmax(preds, dim=1)"
   ]
  },
  {
   "cell_type": "code",
   "execution_count": 69,
   "metadata": {},
   "outputs": [],
   "source": [
    "np.set_printoptions(precision=3)"
   ]
  },
  {
   "cell_type": "code",
   "execution_count": 70,
   "metadata": {},
   "outputs": [],
   "source": [
    "from sklearn.metrics import classification_report, confusion_matrix"
   ]
  },
  {
   "cell_type": "code",
   "execution_count": 71,
   "metadata": {},
   "outputs": [
    {
     "name": "stdout",
     "output_type": "stream",
     "text": [
      "              precision    recall  f1-score   support\n",
      "\n",
      "    negative     0.6034    0.5426    0.5714       258\n",
      "     neutral     0.7973    0.7838    0.7905      1420\n",
      "    positive     0.6558    0.6362    0.6458       536\n",
      "        skip     0.4881    0.5347    0.5103       346\n",
      "      speech     0.8932    0.9656    0.9280       407\n",
      "\n",
      "   micro avg     0.7321    0.7321    0.7321      2967\n",
      "   macro avg     0.6876    0.6926    0.6892      2967\n",
      "weighted avg     0.7320    0.7321    0.7315      2967\n",
      "\n"
     ]
    }
   ],
   "source": [
    "print(classification_report(targets, pred_classes, \n",
    "                            target_names=data_clas.train_ds.classes, digits=4))"
   ]
  },
  {
   "cell_type": "code",
   "execution_count": 72,
   "metadata": {},
   "outputs": [
    {
     "data": {
      "text/plain": [
       "(Category neutral, tensor(1), tensor([0.0297, 0.4309, 0.2130, 0.3250, 0.0014]))"
      ]
     },
     "execution_count": 72,
     "metadata": {},
     "output_type": "execute_result"
    }
   ],
   "source": [
    "# check prediction for one example\n",
    "learner.predict('сомнительная перспектива')"
   ]
  },
  {
   "cell_type": "code",
   "execution_count": 73,
   "metadata": {},
   "outputs": [],
   "source": [
    "def plot_confusion_matrix(cm, classes,\n",
    "                          normalize=False,\n",
    "                          title='Confusion matrix',\n",
    "                          cmap=plt.cm.Blues):\n",
    "    \"\"\"\n",
    "    This function prints and plots the confusion matrix.\n",
    "    Normalization can be applied by setting `normalize=True`.\n",
    "    \"\"\"\n",
    "    if normalize:\n",
    "        cm = cm.astype('float') / cm.sum(axis=1)[:, np.newaxis]\n",
    "        print(\"Normalized confusion matrix\")\n",
    "    else:\n",
    "        print('Confusion matrix, without normalization')\n",
    "\n",
    "    print(cm)\n",
    "\n",
    "    plt.imshow(cm, interpolation='nearest', cmap=cmap)\n",
    "    plt.title(title)\n",
    "    plt.colorbar()\n",
    "    tick_marks = np.arange(len(classes))\n",
    "    plt.xticks(tick_marks, classes, rotation=45)\n",
    "    plt.yticks(tick_marks, classes)\n",
    "\n",
    "    fmt = '.2f' if normalize else 'd'\n",
    "    thresh = cm.max() / 2.\n",
    "    for i, j in itertools.product(range(cm.shape[0]), range(cm.shape[1])):\n",
    "        plt.text(j, i, format(cm[i, j], fmt),\n",
    "                 horizontalalignment=\"center\",\n",
    "                 color=\"white\" if cm[i, j] > thresh else \"black\")\n",
    "\n",
    "    plt.ylabel('True label')\n",
    "    plt.xlabel('Predicted label')\n",
    "    plt.tight_layout()"
   ]
  },
  {
   "cell_type": "code",
   "execution_count": 74,
   "metadata": {},
   "outputs": [
    {
     "name": "stdout",
     "output_type": "stream",
     "text": [
      "Confusion matrix, without normalization\n",
      "[[ 140   82   15   21    0]\n",
      " [  56 1113  119  116   16]\n",
      " [   9  114  341   53   19]\n",
      " [  27   83   39  185   12]\n",
      " [   0    4    6    4  393]]\n",
      "Normalized confusion matrix\n",
      "[[0.543 0.318 0.058 0.081 0.   ]\n",
      " [0.039 0.784 0.084 0.082 0.011]\n",
      " [0.017 0.213 0.636 0.099 0.035]\n",
      " [0.078 0.24  0.113 0.535 0.035]\n",
      " [0.    0.01  0.015 0.01  0.966]]\n"
     ]
    },
    {
     "data": {
      "image/png": "[encoded data removed]",
      "text/plain": [
       "<Figure size 432x288 with 2 Axes>"
      ]
     },
     "metadata": {
      "needs_background": "light"
     },
     "output_type": "display_data"
    },
    {
     "data": {
      "image/png": "[encoded data removed]",
      "text/plain": [
       "<Figure size 432x288 with 2 Axes>"
      ]
     },
     "metadata": {
      "needs_background": "light"
     },
     "output_type": "display_data"
    }
   ],
   "source": [
    "# Compute confusion matrix\n",
    "cnf_matrix = confusion_matrix(targets, pred_classes)\n",
    "\n",
    "\n",
    "# Plot non-normalized confusion matrix\n",
    "plt.figure()\n",
    "plot_confusion_matrix(cnf_matrix, classes=data_clas.train_ds.classes,\n",
    "                      title='Confusion matrix, without normalization')\n",
    "# Plot normalized confusion matrix\n",
    "plt.figure()\n",
    "plot_confusion_matrix(cnf_matrix, classes=data_clas.train_ds.classes, normalize=True,\n",
    "                      title='Normalized confusion matrix')\n",
    "\n",
    "plt.show()"
   ]
  },
  {
   "cell_type": "code",
   "execution_count": null,
   "metadata": {},
   "outputs": [],
   "source": []
  }
 ],
 "metadata": {
  "kernelspec": {
   "display_name": "fastai-py36",
   "language": "python",
   "name": "fastai-py36"
  },
  "language_info": {
   "codemirror_mode": {
    "name": "ipython",
    "version": 3
   },
   "file_extension": ".py",
   "mimetype": "text/x-python",
   "name": "python",
   "nbconvert_exporter": "python",
   "pygments_lexer": "ipython3",
   "version": "3.6.5"
  },
  "toc": {
   "base_numbering": 1,
   "nav_menu": {},
   "number_sections": true,
   "sideBar": true,
   "skip_h1_title": false,
   "title_cell": "Table of Contents",
   "title_sidebar": "Contents",
   "toc_cell": false,
   "toc_position": {},
   "toc_section_display": true,
   "toc_window_display": true
  }
 },
 "nbformat": 4,
 "nbformat_minor": 2
}
