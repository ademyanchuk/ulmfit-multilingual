{
 "cells": [
  {
   "cell_type": "markdown",
   "metadata": {},
   "source": [
    "### Imports"
   ]
  },
  {
   "cell_type": "code",
   "execution_count": 1,
   "metadata": {},
   "outputs": [
    {
     "name": "stdout",
     "output_type": "stream",
     "text": [
      "/home/ds/DataScience/home/ademyanchuk/Projects/ulmfit-multilingual\n"
     ]
    }
   ],
   "source": [
    "%cd .."
   ]
  },
  {
   "cell_type": "code",
   "execution_count": 2,
   "metadata": {},
   "outputs": [
    {
     "name": "stdout",
     "output_type": "stream",
     "text": [
      "/home/ds/DataScience/home/ademyanchuk/Projects/ulmfit-multilingual\r\n"
     ]
    }
   ],
   "source": [
    "!pwd"
   ]
  },
  {
   "cell_type": "code",
   "execution_count": 3,
   "metadata": {},
   "outputs": [],
   "source": [
    "%reload_ext autoreload\n",
    "%autoreload 2\n",
    "%matplotlib inline"
   ]
  },
  {
   "cell_type": "code",
   "execution_count": 4,
   "metadata": {},
   "outputs": [],
   "source": [
    "from fastai.text import *"
   ]
  },
  {
   "cell_type": "code",
   "execution_count": 5,
   "metadata": {},
   "outputs": [],
   "source": [
    "from ulmfit.pretrain_lm import *"
   ]
  },
  {
   "cell_type": "code",
   "execution_count": 6,
   "metadata": {},
   "outputs": [],
   "source": [
    "cuda_id = 1\n",
    "torch.cuda.set_device(cuda_id)"
   ]
  },
  {
   "cell_type": "markdown",
   "metadata": {},
   "source": [
    "### Preparing data"
   ]
  },
  {
   "cell_type": "code",
   "execution_count": 7,
   "metadata": {},
   "outputs": [],
   "source": [
    "# batch size\n",
    "bs = 30"
   ]
  },
  {
   "cell_type": "code",
   "execution_count": 8,
   "metadata": {},
   "outputs": [],
   "source": [
    "# use data from smaller sample of wiki\n",
    "# data is recieved through prepare_wiki.sh script\n",
    "wiki_data_path = Path('data/wiki/ru-100-unk/')"
   ]
  },
  {
   "cell_type": "code",
   "execution_count": 9,
   "metadata": {},
   "outputs": [
    {
     "data": {
      "text/plain": [
       "[PosixPath('data/wiki/ru-100-unk/ru.wiki.test.tokens'),\n",
       " PosixPath('data/wiki/ru-100-unk/ru.wiki.valid.tokens'),\n",
       " PosixPath('data/wiki/ru-100-unk/ru.wiki.train.tokens'),\n",
       " PosixPath('data/wiki/ru-100-unk/models'),\n",
       " PosixPath('data/wiki/ru-100-unk/tmp_lm'),\n",
       " PosixPath('data/wiki/ru-100-unk/ru.wiki.train.tokens.temp')]"
      ]
     },
     "execution_count": 9,
     "metadata": {},
     "output_type": "execute_result"
    }
   ],
   "source": [
    "wiki_data_path.ls()"
   ]
  },
  {
   "cell_type": "code",
   "execution_count": 11,
   "metadata": {},
   "outputs": [],
   "source": [
    "# provide train and valid path\n",
    "trn_path = wiki_data_path/'ru.wiki.train.tokens'\n",
    "val_path = wiki_data_path/'ru.wiki.valid.tokens'"
   ]
  },
  {
   "cell_type": "code",
   "execution_count": 12,
   "metadata": {},
   "outputs": [],
   "source": [
    "# create a databunch object from data_frames\n",
    "# data_frames are provided through `read_wiki_articles` function\n",
    "# from `ulmfit.pretrain_lm`\n",
    "data_lm = TextLMDataBunch.from_df(path=wiki_data_path, train_df=read_wiki_articles(trn_path),\n",
    "                                  valid_df=read_wiki_articles(val_path), \n",
    "                                  classes=None, bs=bs, text_cols='texts')"
   ]
  },
  {
   "cell_type": "code",
   "execution_count": 13,
   "metadata": {},
   "outputs": [
    {
     "name": "stdout",
     "output_type": "stream",
     "text": [
      "Size of vocabulary: 60003\n",
      "First 20 words in vocab: ['xxunk', 'xxpad', 'xxbos', 'xxfld', 'xxmaj', 'xxup', 'xxrep', 'xxwrep', ',', '.', 'в', 'и', '\\n \\n ', 'на', ')', '(', '\\n ', '—', '«', '»']\n"
     ]
    }
   ],
   "source": [
    "itos = data_lm.vocab.itos\n",
    "print('Size of vocabulary:', len(itos))\n",
    "print('First 20 words in vocab:', itos[:20])"
   ]
  },
  {
   "cell_type": "code",
   "execution_count": 14,
   "metadata": {},
   "outputs": [
    {
     "data": {
      "text/plain": [
       "(189786, 447)"
      ]
     },
     "execution_count": 14,
     "metadata": {},
     "output_type": "execute_result"
    }
   ],
   "source": [
    "len(data_lm.train_ds), len(data_lm.valid_ds)"
   ]
  },
  {
   "cell_type": "code",
   "execution_count": 15,
   "metadata": {
    "scrolled": true
   },
   "outputs": [
    {
     "data": {
      "text/plain": [
       "Text xxbos = xxmaj розовая чайка = \n",
       "  xxmaj розовая чайка \n",
       " \n",
       "  xxmaj розовая чайка ( ) — вид птиц из семейства xxunk ( xxmaj xxunk ) , единственный в роде xxunk xxunk ( & ' xxmaj xxunk & ' ) . \n",
       " \n",
       "  xxmaj описание . \n",
       "  xxmaj длина тела около 35 см . xxmaj спина и верх крыльев серо - xxunk , голова , грудь и брюшко розовые , на шее узкий чёрный xxunk . xxmaj клюв чёрный , ноги красные . xxmaj хвост xxunk формы . \n",
       " \n",
       "  xxmaj полёт розовой чайки лёгкий , напоминающий полёт xxunk . xxmaj по отношению к человеку птица обычно мало xxunk и xxunk . xxmaj на море она главным образом держится на плавающих xxunk , а вот в xxunk , на озёрах , чайка часто садится на воду и даже xxunk . \n",
       " \n",
       "  xxmaj xxunk . \n",
       "  xxmaj голос этого вида гораздо выше и xxunk , чем у других xxunk , и отличается большим разнообразием . xxmaj чаще всего xxunk крик вроде « э - у , э - у » ; xxunk , они издают короткий крик « xxunk , xxunk , xxunk » , если очень xxunk — « xxunk - xxunk » , а при нападении другой чайки того же вида или xxunk xxunk « э - xxunk , э - xxunk » . \n",
       " \n",
       "  xxmaj питание . \n",
       "  xxmaj питается насекомыми , мелкими моллюсками , в период xxunk — рыбой и xxunk . \n",
       " \n",
       "  xxmaj размножение . \n",
       "  xxmaj гнездится розовая чайка в xxunk и xxunk по берегам озёр xxmaj восточной xxmaj сибири в xxunk северных рек — xxmaj xxunk , xxmaj xxunk , xxmaj xxunk , xxmaj xxunk . xxmaj небольшое поселение ( несколько десятков пар ) существует на xxmaj xxunk . xxmaj места xxunk этих птиц находятся в xxunk равнинной xxunk и xxunk , часто на xxunk многочисленных озёр . в кладке 3 , реже 2 яйца . xxmaj xxunk около 3 недель . \n",
       " \n",
       "  xxmaj чайка селится небольшими , до 20 пар , xxunk колониями , в которых гнездо от гнезда располагается на расстоянии до 100 метров , часто по соседству с другими xxunk видами — xxunk xxunk и полярной xxunk . \n",
       " \n",
       "  xxmaj известный орнитолог xxup с. xxup а. xxmaj xxunk так описывает xxunk церемонии xxunk xxunk : « xxmaj самец всячески выражает xxunk свою xxunk , то как - то xxunk или xxunk ей шею открытым клювом , то время от времени начинает xxunk перед ней xxunk и вперед , несколько xxunk xxunk , и затем с какой - то xxunk или xxunk „ т xxrep 5 р “ xxunk совершенно переднюю половину туловища к земле ( точнее , ко льду и снегу ) , xxunk высоко вверх заднюю половину с хвостом и xxunk крыльями , и продолжает эту xxunk несколько секунд , делая в этом положении несколько шагов туда и сюда . xxmaj иногда этим xxunk xxunk и самка » . \n",
       " \n",
       "  xxmaj гнездо чайка строит на земле из сухой травы , старых стеблей xxunk , листьев xxunk xxunk и xxunk . xxmaj так как все сооружение расположено на xxunk участках , в нём обычно xxunk . в кладке 2 — 3 яйца зеленовато - оливкового цвета с xxunk - коричневыми пятнами . xxmaj xxunk кладку обе птицы . xxmaj родители активно защищают своё гнездо от крупных xxunk и xxunk . \n",
       " \n",
       "  в конце недолгого полярного лета молодые птицы xxunk на крыло и начинают xxunk вместе с родителями . в это время они частые гости xxunk поселков , на окраинах которых кормятся . с наступлением xxunk чайки xxunk на север , к xxmaj xxunk океану , где и зимуют , xxunk открытых участков воды . xxmaj на xxunk розовые чайки кормятся мелкой рыбой и xxunk в отличие от xxunk периода , когда их рацион состоит в основном из насекомых и их личинок . \n",
       " \n",
       "  xxmaj места расположения колоний могут меняться время от времени из - за неблагоприятных погодных условий . \n",
       " \n",
       "  xxmaj распространение . \n",
       "  xxmaj распространена на северо - востоке xxmaj сибири ( от реки xxmaj xxunk до западной окраины xxmaj чукотского полуострова ) и xxmaj западной xxmaj гренландии . xxmaj зимой xxunk в открытых водах xxmaj северного xxmaj ледовитого океана , xxunk в xxmaj северную xxmaj атлантику и xxmaj xxunk море . \n",
       " \n",
       "  в период xxunk розовые чайки иногда xxunk далеко от мест , где они гнездятся или зимуют . xxmaj так , известны случаи появления их в xxmaj xxunk и xxmaj японском морях , xxmaj норвегии , xxmaj франции и xxmaj маньчжурии . xxmaj изредка xxunk xxunk далеко на юг ( xxmaj ирландия , xxmaj калифорния ) . \n",
       " \n",
       "  xxmaj xxunk статус . \n",
       "  в годы сильных xxunk и наводнений птицы либо не гнездятся совсем , либо у них бывает всего одно яйцо в кладке . xxmaj как известно , численность мелких грызунов — xxunk в xxunk из года в год сильно меняется . xxmaj бывают периоды , когда эти мелкие xxunk , основной корм xxunk , исчезают совсем . xxmaj тогда xxunk xxunk буквально все живое в xxunk . в первую очередь гибнут яйца и птенцы различных видов птиц , в том числе и xxunk xxunk . \n",
       " \n",
       "  xxmaj раньше в голодные годы xxunk стреляли xxunk xxunk для xxunk . в начале xxup xx века , когда на xxmaj xxunk довольно часто xxunk американские моряки , xxunk и охотники на морского зверя , местное население xxunk этих экзотических птиц для изготовления xxunk - сувениров . xxmaj тогда один экземпляр xxunk , необычно xxunk чайки стоил до 200 долларов . xxmaj xxunk стад домашних оленей через колонии , xxunk сбор яиц также отрицательно xxunk на численности розовой чайки . xxmaj всё это наряду с тем , что xxunk ареал птиц весьма ограничен , вызывает серьёзное беспокойство за судьбу этого вида . \n",
       " \n",
       "  xxmaj сегодня в xxmaj россии добыча этого вида полностью запрещена . xxmaj ученые xxunk наиболее крупные места гнездования розовой чайки с тем , чтобы в дальнейшем ввести там xxunk режим . \n",
       " \n",
       " \n",
       " "
      ]
     },
     "execution_count": 15,
     "metadata": {},
     "output_type": "execute_result"
    }
   ],
   "source": [
    "data_lm.train_ds[0][0]"
   ]
  },
  {
   "cell_type": "code",
   "execution_count": 11,
   "metadata": {
    "scrolled": true
   },
   "outputs": [
    {
     "data": {
      "text/html": [
       "<table>  <col width='5%'>  <col width='95%'>  <tr>\n",
       "    <th>idx</th>\n",
       "    <th>text</th>\n",
       "  </tr>\n",
       "  <tr>\n",
       "    <th>0</th>\n",
       "    <th>xxbos \\n  = xxmaj xxunk , xxmaj фриц = \\n  xxmaj xxunk , xxmaj фриц \\n \\n  xxmaj фриц xxmaj xxunk ( ; 18 июля 1910 , , xxmaj германская империя — дата смерти неизвестна ) — xxunk xxup сс , руководитель xxunk xxunk , xxunk массовые убийства на xxmaj украине , сотрудник xxup xxunk . \\n \\n  xxmaj биография . \\n  xxmaj его братом</th>\n",
       "  </tr>\n",
       "  <tr>\n",
       "    <th>1</th>\n",
       "    <th>xxmaj после xxunk обратного свода , укладки пути , xxunk и подключения коммуникаций новый xxmaj xxunk тоннель был введён в эксплуатацию . xxmaj сдача тоннеля в эксплуатацию состоялась 25 декабря 2012 года . \\n \\n  xxmaj считается , что строительство нового тоннеля позволит резко увеличить объём железнодорожных перевозок на xxmaj восточном xxunk направлением на xxmaj xxunk и xxmaj советскую xxmaj гавань — с 12 млн т в 2009 году</th>\n",
       "  </tr>\n",
       "  <tr>\n",
       "    <th>2</th>\n",
       "    <th>скульпторы , такие , как xxmaj xxunk , xxmaj xxunk , xxmaj xxunk и многие другие , увидев xxmaj xxunk , просили его xxunk им . xxmaj георг был также любимой моделью известного эстонского скульптора xxmaj xxunk xxmaj xxunk , выпускника xxmaj петербургской xxmaj академии художеств . xxmaj одна из их совместных работ — « xxmaj чемпион » — была удостоена первой премии на всемирной выставке 1904 года в xxmaj</th>\n",
       "  </tr>\n",
       "  <tr>\n",
       "    <th>3</th>\n",
       "    <th>xxmaj грузии xxmaj михаил xxmaj саакашвили в своём xxunk заявил об « освобождении » xxunk структурами xxmaj грузии xxmaj xxunk и xxmaj xxunk районов , сел xxmaj xxunk , xxmaj xxunk и xxmaj xxunk , а также большей части xxmaj xxunk . xxmaj он обвинил xxmaj россию в бомбардировке территории xxmaj грузии , назвав это « классической международной xxunk » . \\n \\n  xxmaj утром 9 августа помощник главкома</th>\n",
       "  </tr>\n",
       "  <tr>\n",
       "    <th>4</th>\n",
       "    <th>1803 году местное население составляло от 5 до 10 тысяч человек . xxmaj из - за xxunk европейцами инфекционных заболеваний , к которым у аборигенов не было иммунитета , войны и преследований коренное население острова сократилось к 1833 году до 300 человек . xxmaj почти все аборигены были переселены xxmaj джорджем xxmaj августом xxmaj xxunk на остров xxmaj xxunk . \\n \\n  xxmaj женщина по имени xxmaj xxunk (</th>\n",
       "  </tr>\n",
       "</table>\n"
      ],
      "text/plain": [
       "<IPython.core.display.HTML object>"
      ]
     },
     "metadata": {},
     "output_type": "display_data"
    }
   ],
   "source": [
    "data_lm.show_batch()"
   ]
  },
  {
   "cell_type": "code",
   "execution_count": 17,
   "metadata": {},
   "outputs": [],
   "source": [
    "# save databunch\n",
    "data_lm.save('tmp_lm')"
   ]
  },
  {
   "cell_type": "code",
   "execution_count": 10,
   "metadata": {},
   "outputs": [],
   "source": [
    "# load databunch\n",
    "data_lm = TextLMDataBunch.load(wiki_data_path, 'tmp_lm', bs=bs)"
   ]
  },
  {
   "cell_type": "markdown",
   "metadata": {},
   "source": [
    "#### Create Learner and train Language Model"
   ]
  },
  {
   "cell_type": "code",
   "execution_count": 12,
   "metadata": {},
   "outputs": [],
   "source": [
    "# create learner for training on wiki from scratch\n",
    "learner = language_model_learner(data=data_lm, drop_mult=1.0)"
   ]
  },
  {
   "cell_type": "code",
   "execution_count": 13,
   "metadata": {
    "collapsed": true
   },
   "outputs": [
    {
     "data": {
      "text/plain": [
       "LanguageLearner(data=TextLMDataBunch;\n",
       "\n",
       "Train: LabelList\n",
       "y: LMLabel (189786 items)\n",
       "[Category 0, Category 0, Category 0, Category 0, Category 0]...\n",
       "Path: data/wiki/ru-100-unk\n",
       "x: LMTextList (189786 items)\n",
       "[Text xxbos = xxmaj розовая чайка = \n",
       "  xxmaj розовая чайка \n",
       " \n",
       "  xxmaj розовая чайка ( ) — вид птиц из семейства xxunk ( xxmaj xxunk ) , единственный в роде xxunk xxunk ( & ' xxmaj xxunk & ' ) . \n",
       " \n",
       "  xxmaj описание . \n",
       "  xxmaj длина тела около 35 см . xxmaj спина и верх крыльев серо - xxunk , голова , грудь и брюшко розовые , на шее узкий чёрный xxunk . xxmaj клюв чёрный , ноги красные . xxmaj хвост xxunk формы . \n",
       " \n",
       "  xxmaj полёт розовой чайки лёгкий , напоминающий полёт xxunk . xxmaj по отношению к человеку птица обычно мало xxunk и xxunk . xxmaj на море она главным образом держится на плавающих xxunk , а вот в xxunk , на озёрах , чайка часто садится на воду и даже xxunk . \n",
       " \n",
       "  xxmaj xxunk . \n",
       "  xxmaj голос этого вида гораздо выше и xxunk , чем у других xxunk , и отличается большим разнообразием . xxmaj чаще всего xxunk крик вроде « э - у , э - у » ; xxunk , они издают короткий крик « xxunk , xxunk , xxunk » , если очень xxunk — « xxunk - xxunk » , а при нападении другой чайки того же вида или xxunk xxunk « э - xxunk , э - xxunk » . \n",
       " \n",
       "  xxmaj питание . \n",
       "  xxmaj питается насекомыми , мелкими моллюсками , в период xxunk — рыбой и xxunk . \n",
       " \n",
       "  xxmaj размножение . \n",
       "  xxmaj гнездится розовая чайка в xxunk и xxunk по берегам озёр xxmaj восточной xxmaj сибири в xxunk северных рек — xxmaj xxunk , xxmaj xxunk , xxmaj xxunk , xxmaj xxunk . xxmaj небольшое поселение ( несколько десятков пар ) существует на xxmaj xxunk . xxmaj места xxunk этих птиц находятся в xxunk равнинной xxunk и xxunk , часто на xxunk многочисленных озёр . в кладке 3 , реже 2 яйца . xxmaj xxunk около 3 недель . \n",
       " \n",
       "  xxmaj чайка селится небольшими , до 20 пар , xxunk колониями , в которых гнездо от гнезда располагается на расстоянии до 100 метров , часто по соседству с другими xxunk видами — xxunk xxunk и полярной xxunk . \n",
       " \n",
       "  xxmaj известный орнитолог xxup с. xxup а. xxmaj xxunk так описывает xxunk церемонии xxunk xxunk : « xxmaj самец всячески выражает xxunk свою xxunk , то как - то xxunk или xxunk ей шею открытым клювом , то время от времени начинает xxunk перед ней xxunk и вперед , несколько xxunk xxunk , и затем с какой - то xxunk или xxunk „ т xxrep 5 р “ xxunk совершенно переднюю половину туловища к земле ( точнее , ко льду и снегу ) , xxunk высоко вверх заднюю половину с хвостом и xxunk крыльями , и продолжает эту xxunk несколько секунд , делая в этом положении несколько шагов туда и сюда . xxmaj иногда этим xxunk xxunk и самка » . \n",
       " \n",
       "  xxmaj гнездо чайка строит на земле из сухой травы , старых стеблей xxunk , листьев xxunk xxunk и xxunk . xxmaj так как все сооружение расположено на xxunk участках , в нём обычно xxunk . в кладке 2 — 3 яйца зеленовато - оливкового цвета с xxunk - коричневыми пятнами . xxmaj xxunk кладку обе птицы . xxmaj родители активно защищают своё гнездо от крупных xxunk и xxunk . \n",
       " \n",
       "  в конце недолгого полярного лета молодые птицы xxunk на крыло и начинают xxunk вместе с родителями . в это время они частые гости xxunk поселков , на окраинах которых кормятся . с наступлением xxunk чайки xxunk на север , к xxmaj xxunk океану , где и зимуют , xxunk открытых участков воды . xxmaj на xxunk розовые чайки кормятся мелкой рыбой и xxunk в отличие от xxunk периода , когда их рацион состоит в основном из насекомых и их личинок . \n",
       " \n",
       "  xxmaj места расположения колоний могут меняться время от времени из - за неблагоприятных погодных условий . \n",
       " \n",
       "  xxmaj распространение . \n",
       "  xxmaj распространена на северо - востоке xxmaj сибири ( от реки xxmaj xxunk до западной окраины xxmaj чукотского полуострова ) и xxmaj западной xxmaj гренландии . xxmaj зимой xxunk в открытых водах xxmaj северного xxmaj ледовитого океана , xxunk в xxmaj северную xxmaj атлантику и xxmaj xxunk море . \n",
       " \n",
       "  в период xxunk розовые чайки иногда xxunk далеко от мест , где они гнездятся или зимуют . xxmaj так , известны случаи появления их в xxmaj xxunk и xxmaj японском морях , xxmaj норвегии , xxmaj франции и xxmaj маньчжурии . xxmaj изредка xxunk xxunk далеко на юг ( xxmaj ирландия , xxmaj калифорния ) . \n",
       " \n",
       "  xxmaj xxunk статус . \n",
       "  в годы сильных xxunk и наводнений птицы либо не гнездятся совсем , либо у них бывает всего одно яйцо в кладке . xxmaj как известно , численность мелких грызунов — xxunk в xxunk из года в год сильно меняется . xxmaj бывают периоды , когда эти мелкие xxunk , основной корм xxunk , исчезают совсем . xxmaj тогда xxunk xxunk буквально все живое в xxunk . в первую очередь гибнут яйца и птенцы различных видов птиц , в том числе и xxunk xxunk . \n",
       " \n",
       "  xxmaj раньше в голодные годы xxunk стреляли xxunk xxunk для xxunk . в начале xxup xx века , когда на xxmaj xxunk довольно часто xxunk американские моряки , xxunk и охотники на морского зверя , местное население xxunk этих экзотических птиц для изготовления xxunk - сувениров . xxmaj тогда один экземпляр xxunk , необычно xxunk чайки стоил до 200 долларов . xxmaj xxunk стад домашних оленей через колонии , xxunk сбор яиц также отрицательно xxunk на численности розовой чайки . xxmaj всё это наряду с тем , что xxunk ареал птиц весьма ограничен , вызывает серьёзное беспокойство за судьбу этого вида . \n",
       " \n",
       "  xxmaj сегодня в xxmaj россии добыча этого вида полностью запрещена . xxmaj ученые xxunk наиболее крупные места гнездования розовой чайки с тем , чтобы в дальнейшем ввести там xxunk режим . \n",
       " \n",
       " \n",
       " \n",
       ", Text xxbos \n",
       "  = xxmaj xxunk , xxmaj никита xxmaj xxunk = \n",
       "  xxmaj xxunk , xxmaj никита xxmaj xxunk \n",
       " \n",
       "  xxmaj ники ́ та xxmaj xxunk ́ тович xxmaj xxunk ́ нко ( 28 мая 1899 года , xxmaj xxunk , xxmaj xxunk уезд , xxmaj херсонская губерния — 16 июня 1956 года , xxmaj москва ) — советский военный деятель , генерал - лейтенант ( 10 апреля 1944 года ) . xxmaj герой xxmaj советского xxmaj союза ( 23 сентября 1944 года ) . \n",
       " \n",
       "  xxmaj начальная биография . \n",
       "  xxmaj никита xxmaj xxunk xxmaj xxunk родился 28 мая 1899 года в селе xxmaj xxunk , ныне село xxmaj xxunk , , xxmaj николаевская область , xxmaj украина . xxmaj вскоре вместе с семьей переехал в село xxmaj новые xxmaj xxunk ( ныне село xxmaj xxunk , xxmaj xxunk район , xxmaj молдавия ) . \n",
       " \n",
       "  xxmaj окончил среднюю школу . \n",
       " \n",
       "  xxmaj военная служба . \n",
       "  xxmaj гражданская война . \n",
       "  в 1917 году вступил xxunk отряд , а в мае 1919 года был призван в ряды xxup ркка , после чего направлен xxunk в состав 17-й кавалерийской дивизии , где служил в 1-м и 15-м кавалерийских дивизионах . в январе 1920 года был переведён во 2-й кавалерийский полк , а с марта служил на должности командира взводом в составе 2-го и xxunk кавалерийских полков , а с апреля 1921 года исполнял должности командира эскадронов 2-го , xxunk и xxunk кавалерийских полков . xxmaj принимал участие в боевых действиях на xxmaj украинском , xxmaj южном и xxmaj западном фронтах . \n",
       " \n",
       "  12 ноября 1919 года xxmaj xxunk возглавил контратаку , в результате чего силы противника были разбиты , xxunk захват артиллерийской батареи , а также взяты в плен 462 человека , за что был награждён орденом xxmaj красного xxmaj знамени . \n",
       " \n",
       "  xxmaj вторым орденом xxmaj красного xxmaj знамени был награждён 30 мая 1922 года за успешно xxunk 17 ноября 1921 года операцию , во время которой многочисленные силы противника были выбиты с занимаемых позиций и впоследствии уничтожены . \n",
       " \n",
       "  xxmaj межвоенное время . \n",
       "  xxmaj после окончания войны xxmaj xxunk служил в составе 17-го кавалерийского полка ( 3-я кавалерийская дивизия ) на должностях помощника командира эскадрона и помощника начальника полковой школы . в декабре 1923 года направлен на учёбу на повторные курсы при 2-м кавалерийском корпусе , которые окончил в ноябре 1924 года . в 1925 году вступил в ряды xxup вкп ( б ) , а в августе того же года направлен на учёбу в xxmaj киевскую объединённую военную школу xxunk , после окончания которой в августе 1927 года назначен на должность начальника полковой школы xxunk кавалерийского полка ( 7-я кавалерийская дивизия ) , а в сентябре 1929 года — на должность командира и комиссара xxunk отдельного кавалерийского эскадрона в составе 3-го кавалерийского корпуса . \n",
       " \n",
       "  в августе 1931 года направлен на учёбу в xxmaj военную академию имени xxup м. xxup в. xxmaj фрунзе , после окончания которой в октябре 1936 года был назначен на должность командира xxunk кавалерийского полка ( xxmaj xxunk - xxmaj монгольская кавалерийская дивизия ) , в ноябре 1937 года — на должность командира 5-й xxmaj забайкальской xxmaj краснознамённой кавалерийской бригады , а в августе 1939 года — на должность командира xxunk стрелковой дивизии , после чего принимал участие в боевых действиях в ходе советско - финской войны . \n",
       " \n",
       "  xxmaj великая xxmaj отечественная война . \n",
       "  с началом войны находился на прежней должности . xxmaj дивизия под командованием xxmaj xxunk находилась в резерве xxmaj ставки xxmaj верховного xxmaj главнокомандования , а после включения в состав 19-й армии с августа 1941 года вела боевые действия в xxmaj смоленском сражении , в ходе которого попала в xxmaj вяземский котёл , после выхода из которого участвовала в боях в районах городов xxmaj xxunk , xxmaj xxunk , а также северо - западнее xxmaj xxunk . \n",
       " \n",
       "  в июне 1942 года назначен на должность командира 50-й стрелковой дивизии , которая вскоре принимала участие в боевых действиях в ходе xxmaj белгородско - xxmaj харьковской , xxmaj запорожской и xxmaj кировоградской наступательных операциях , а также в освобождении городов xxmaj запорожье и xxmaj кировоград , за что ей присвоено почётное наименование « xxmaj запорожская » и « xxmaj xxunk » . \n",
       " \n",
       "  в марте 1944 года назначен на должность командира xxunk гвардейского стрелкового корпуса , который вскоре принимал участие в боевых действиях в ходе xxmaj xxunk - xxmaj xxunk и xxmaj львовско - xxmaj сандомирской наступательных операций . в августе xxmaj xxunk организовал оборону по отражению xxunk , xxunk xxunk танковым корпусом противника в районе города xxmaj xxunk , который был xxunk с целью захвата переправы через xxmaj вислу . \n",
       " \n",
       "  xxmaj указом xxmaj президиума xxmaj верховного xxmaj совета xxup ссср от 23 сентября 1944 года за умелое управление войсками корпуса и проявленные при этом мужество и героизм генерал - лейтенанту xxmaj xxunk xxmaj xxunk xxmaj xxunk присвоено звание xxmaj героя xxmaj советского xxmaj союза с вручением ордена xxmaj ленина и медали « xxmaj золотая xxmaj звезда » . \n",
       " \n",
       "  xxmaj вскоре корпус вёл боевые действия в ходе xxmaj висло - xxmaj одерской , xxmaj xxunk - xxmaj силезской , xxmaj xxunk , xxmaj xxunk и xxmaj берлинской наступательных операций , а также в освобождении городов xxmaj xxunk , xxmaj xxunk , xxmaj xxunk , xxmaj xxunk , xxmaj дрезден и других . \n",
       " \n",
       "  xxmaj послевоенная карьера . \n",
       "  в мае 1945 года был назначен на должность военного коменданта xxmaj дрездена , а в октябре того же года — на аналогичную должность в xxmaj вену . с марта 1948 года находился в распоряжении главнокомандующего xxmaj сухопутными войсками и вскоре направлен на учёбу на xxmaj высшие академические курсы при xxmaj высшей военной академии имени xxup к. xxup е. xxmaj ворошилова , после окончания которых в апреле 1949 года назначен на должность командира 9-го гвардейского стрелкового корпуса . \n",
       " \n",
       "  xxmaj генерал - лейтенант xxmaj никита xxmaj xxunk xxmaj xxunk в мае 1952 года вышел в запас . xxmaj умер 16 июня 1956 года в xxmaj москве . xxmaj похоронен на xxmaj введенском кладбище ( участок 20 ) . \n",
       " \n",
       " \n",
       " \n",
       "  xxmaj память . \n",
       "  xxmaj село , в котором жил генерал - лейтенант xxup н. xxup ф. xxmaj xxunk , сейчас носит имя xxmaj героя . в этом же селе также установлена мемориальная доска . \n",
       " \n",
       "  в честь xxup н. xxup ф. xxmaj xxunk названы улицы в городе xxmaj xxunk ( xxmaj красноярский край ) и в посёлке xxmaj xxunk ( xxmaj xxunk район , xxmaj московская область ) . \n",
       " \n",
       " \n",
       ", Text xxbos \n",
       "  = xxmaj памятник xxmaj карлу xxmaj xxunk ( xxmaj ульяновск ) = \n",
       "  xxmaj памятник xxmaj карлу xxmaj xxunk ( xxmaj ульяновск ) \n",
       " \n",
       "  xxmaj история создания памятника . \n",
       "  12 апреля 1918 года xxmaj совет xxmaj народных xxmaj комиссаров xxup рсфср принял декрет « о памятниках республики » . xxmaj декрет предусматривал снятие памятникам xxunk и , в свою очередь , установку новых памятников . 30 июля 1918 года был утвержден список лиц , которым xxunk поставить памятники . в список входило 66 имен , в том числе и основоположника коммунистического движения xxmaj карла xxmaj маркса . \n",
       " \n",
       "  xxmaj наряду с другими городами в план монументальной пропаганды включился и xxmaj симбирск . xxmaj для начала 12 ноября 1918 года памятник xxup к. xxmaj xxunk установили на бывшем пьедестале xxunk памятника xxmaj александру xxup ii на улице xxmaj xxunk , переименованной к тому времени в улицу xxup к. xxmaj маркса . xxmaj он был xxunk , xxunk под бронзу и рассматривался как временный вариант . \n",
       " \n",
       "  xxmaj председатель xxmaj xxunk xxunk xxup ркп ( б ) xxup и. xxup м. xxmaj xxunk осенью 1918 года выступает инициатором нескольких важных культурных xxunk в городе . xxmaj одним из них является организация сооружения в xxmaj xxunk полноценного памятника xxunk . xxmaj xxunk познакомился с проектом памятника xxunk , выполненным известным в то время скульптором xxup с. xxup д. xxmaj xxunk , и предложил xxmaj xxunk xxunk заключить договор со скульптором на изготовление памятника . \n",
       " \n",
       "  xxmaj для работы над архитектурным оформлением памятника был приглашен академик архитектуры xxup в. xxup а. xxmaj xxunk . xxmaj сначала предполагалось установить памятник к концу 1920 года . xxmaj но фигура для постамента была доставлена в xxmaj симбирск только в мае 1921 года . \n",
       " \n",
       "  xxmaj открытие памятника состоялось 7 ноября 1921 года . xxmaj на xxunk пьедестале из серого гранита расположена чёрная колонна , из которой выступает фигура xxup к. xxmaj маркса . xxmaj полагают , что скульптор использовал миф о xxunk xxmaj атланте , xxunk свод вселенной . xxmaj такую же роль автор xxunk и xxunk , xxunk на своих плечах груз мировых проблем человечества . \n",
       "  xxmaj на лицевой стороне памятника надпись : « xxmaj карлу xxmaj xxunk 1920 г » . xxmaj на xxunk стороне пьедестала слова xxup к. xxmaj маркса : « xxmaj идеи , овладев массами , становятся величайшей движущей xxunk силой » . \n",
       "  xxmaj высота памятника с скульптурой составляет 8 @,@ 5 метров . xxmaj фигура мыслителя выполнена из чёрного гранита . xxmaj целого куска мрамора на скульптуру не нашлось и её пришлось выполнять из отдельных блоков . \n",
       " \n",
       "  xxmaj памятник xxup к. xxmaj xxunk изначально был установлен на территории бывшего xxmaj николаевского сада , получившего своё имя от xxmaj николаевского собора . xxmaj образованный сквер получил также имя xxup к. xxmaj маркса . в связи с началом строительства xxmaj ленинского мемориала в xxmaj ульяновске планировалось перенести памятник , который оказался на xxunk xxunk , соединяющей две площади — xxmaj ленина , ныне xxmaj соборная , и 100-летия со дня рождения xxmaj ленина . xxmaj однако памятник решили оставить на месте , только xxunk его , чтобы он не стоял xxunk к xxunk по xxunk . в апреле 1969 года памятник развернули на 90 градусов , xxunk его лицом на восток . xxmaj когда же xxunk решили продолжить до xxmaj мемориального центра , памятник летом 1985 перенесли в центр xxunk , уничтожив окружающий его xxunk . xxmaj но место оказалось очень неудачным , и памятник опять xxunk . в апреле 1986 года он был перенесен к зданию гимназии , где и находится до настоящего времени . \n",
       " \n",
       "  xxmaj литература . \n",
       "  xxmaj xxunk xxup л. xxup ф. xxmaj памятник xxmaj карлу xxmaj xxunk в xxmaj xxunk - xxmaj ульяновске . — xxmaj ульяновск : xxmaj издательство « xxmaj корпорация технологий продвижения » , xxunk с . , ил . \n",
       "  xxup xxunk - 5 - xxunk - 115 - 1 \n",
       " \n",
       ", Text xxbos \n",
       "  = xxmaj кох , xxmaj вильгельм ( министр ) = \n",
       "  xxmaj кох , xxmaj вильгельм ( министр ) \n",
       " \n",
       "  xxmaj xxunk ́ xxunk xxmaj кох ( ; 3 марта 1877 — 7 марта 1950 ) — немецкий политик времён xxmaj веймарской республики , министр транспорта . \n",
       " \n",
       "  xxmaj биография . \n",
       "  xxmaj по окончании школы в своей деревне xxmaj xxunk , xxmaj кох отправился получать xxunk профессию в xxmaj xxunk . в 1897 после сдачи xxunk экзамена получил звание xxunk . в xxunk году , отправился на военную службу , xxunk унтер - офицером медико - санитарной службы в 69-й xxmaj xxunk пехотный полк . в дальнейшем , несколько лет работал xxunk в разных городах . xxmaj одновременно xxunk квалификацию , занимаясь на экономических и социальных курсах . с 1905 года принимает активное участие в xxunk движении , так с 1908 по 1913 он работает в лютеранском xxmaj рабочем xxunk в xxmaj xxunk , так назывались xxunk центры , в которых оказывалась помощь xxunk по правовым вопросам . а с 1913 по 1921 год xxmaj кох занимает должность руководителя немецкого союза работников xxunk . xxmaj кроме того , тогда же он был редактором газеты & ' « xxmaj xxunk » & ' ( ) . с августа 1914 по июль 1917 — солдат на фронтах xxmaj первой мировой войны . \n",
       "  xxmaj во времена xxmaj веймарской республики xxmaj кох был председателем международной лютеранской ассоциации рабочих и служащих , вторым председателем xxmaj генерального союза работников лютеранских ассоциаций xxmaj германии , а также председателем лютеранской ассоциации рабочих в прусских провинциях xxmaj xxunk и xxmaj вестфалия . в xxunk он занял пост управляющего делами театра xxmaj xxunk в xxmaj xxunk - xxmaj xxunk . \n",
       " \n",
       "  xxmaj депутат , министр . \n",
       "  с 1919 по xxunk , xxmaj кох — депутат городского совета города xxmaj xxunk . в 1919 / 1920 — участник xxmaj xxunk учредительного собрания . xxmaj на выборах в рейхстаг в июне 1920 года вошёл в состав депутатов парламента , среди которых и находился до ноября 1933 года . \n",
       " \n",
       "  1 февраля 1927 xxmaj кох вошёл в состав правительства xxmaj вильгельма xxmaj маркса . xxmaj ему была отведена должность министра транспорта . xxmaj однако после формирования новой коалиции xxup сдпг , xxup xxunk , xxup ндп , xxmaj центр и xxup xxunk он ушёл в отставку вместе с остальными членами четвёртого кабинета xxmaj маркса . \n",
       " \n",
       ", Text xxbos \n",
       "  = xxmaj лопес де xxmaj xxunk , xxmaj xxunk = \n",
       "  xxmaj лопес де xxmaj xxunk , xxmaj xxunk \n",
       " \n",
       "  xxmaj xxunk xxmaj xxunk де xxmaj xxunk ( ; 18 сентября 1978 , xxmaj мадрид ) — испанская киноактриса . \n",
       " \n",
       "  xxmaj лауреат премии « xxmaj xxunk » 2002 года ( « лучшая актриса » ) и « xxmaj серебряной раковины лучшей актрисе » xxup мкф в xxmaj сан - xxmaj xxunk за роль королевы xxmaj xxunk xxmaj кастильской в фильме xxmaj висенте xxmaj xxunk « xxmaj безумие любви » . xxmaj является лауреатом ряда кинематографических наград xxmaj испании . xxmaj предки актрисы по отцовской линии принадлежат испанским xxunk из xxmaj xxunk . xxmaj она прямой потомок xxmaj христофора xxmaj колумба и xxmaj диего xxmaj xxunk . \n",
       " \n",
       "]...\n",
       "Path: data/wiki/ru-100-unk;\n",
       "\n",
       "Valid: LabelList\n",
       "y: LMLabel (447 items)\n",
       "[Category 0, Category 0, Category 0, Category 0, Category 0]...\n",
       "Path: data/wiki/ru-100-unk\n",
       "x: LMTextList (447 items)\n",
       "[Text xxbos = xxmaj xxunk , xxmaj павел xxmaj николаевич = \n",
       "  xxmaj xxunk , xxmaj павел xxmaj николаевич \n",
       " \n",
       "  xxmaj па ́ вел xxmaj никола ́ евич xxmaj xxunk ́ к ( ; род . 1956 ) — советский и украинский поэт , переводчик . \n",
       " \n",
       "  xxmaj биография . \n",
       "  xxmaj родился 30 апреля 1956 года в xxmaj xxunk в семье поэта xxup н. xxup а. xxmaj xxunk ( 1923 — 1981 ) . xxmaj мать xxmaj тамара xxmaj дмитриевна ( 1926 — 1989 ) — этнограф . в 1973 году окончил среднюю школу № 3 в xxmaj xxunk . в 1973 — 1974 годах учился на филологическом факультете педагогического института в xxmaj xxunk - xxmaj подольском . xxmaj после первого курса перевёлся на филологический факультет xxmaj киевского педагогического института , который окончил в 1977 году . xxmaj также окончил xxmaj высшие литературные курсы в xxmaj москве ( учился в 1987 — 1989 годах ) . \n",
       " \n",
       "  xxmaj работал учителем украинского языка и литературы в сельских школах xxmaj винницкой ( село xxmaj xxunk xxmaj xxunk района ) и xxmaj хмельницкой областей ( село xxmaj xxunk xxmaj xxunk района ) , заведующим литературно - драматической частью xxmaj хмельницкого театра кукол . \n",
       " \n",
       "  xxmaj член xxup xxunk с 1984 года . xxmaj впоследствии вышел из него , в 1996 году вступил в xxmaj ассоциацию украинских писателей . в 1990 — 1991 годах — один из трёх xxunk xxmaj хмельницкой областной организации xxmaj народного xxunk xxmaj украины . xxmaj председатель xxmaj хмельницкого областного отделения xxmaj ассоциации писателей xxmaj украины . в 1997 — 1998 годах был председателем xxmaj хмельницкой областной организации xxmaj всеукраинского общества « xxmaj xxunk » . в марте 2006 года был кандидатом в народные депутаты xxmaj украины от xxup xxunk ( xxmaj украинской национальной ассамблеи ) — № 54 в списке . \n",
       " \n",
       "  xxmaj ныне живёт в небольшом городе xxmaj xxunk — районном центре xxmaj хмельницкой области . \n",
       " \n",
       " \n",
       "  xxmaj творчество . \n",
       "  xxmaj для постановки в xxunk театре перевёл на украинский язык произведения xxup с. xxup я. xxmaj xxunk « xxmaj xxunk дом » , « xxmaj xxunk » . xxmaj также переводил произведения xxup д. xxup с. xxmaj самойлова . \n",
       " \n",
       "  в 1985 году в московском издательстве « xxmaj молодая гвардия » в переводе на русский язык вышел сборник xxmaj xxunk « xxmaj xxunk » . \n",
       " \n",
       " \n",
       " \n",
       ", Text xxbos \n",
       "  = xxmaj xxunk - донецкая культура = \n",
       "  xxmaj xxunk - донецкая культура \n",
       " \n",
       "  xxmaj дне ́ про - xxunk ́ xxunk культу ́ рная о ́ xxunk — xxunk xxunk археологическая культура v — xxup iii тыс . до н . э . , xxunk к xxunk . xxmaj название предложено xxup в. xxup н. xxmaj xxunk в 1956 году и позже принято xxup д. xxup я. xxmaj xxunk и другими археологами . \n",
       " \n",
       "  xxmaj экономика и образ жизни . \n",
       "  xxmaj основное занятие носителей культуры — охота и рыболовство . xxmaj хотя на стоянках встречаются кости собак , свиней и крупного рогатого скота , кости диких животных преобладают . xxmaj поселения состояли из xxunk . xxmaj погребения в виде xxunk , чаще не в индивидуальных , а в братских могилах , которые использовались многократно . xxmaj останки xxunk xxunk . \n",
       " \n",
       "  xxmaj xxunk - донецкая керамика xxunk с xxunk западных xxunk культур : xxmaj xxunk , xxmaj xxunk и культур французского xxunk — и отличается от xxunk утвари культуры линейно - xxunk керамики , xxunk в ту эпоху по центральной xxmaj европе с xxmaj xxunk xxunk . \n",
       " \n",
       "  xxmaj генетические связи . \n",
       "  xxmaj xxunk с соседними культурами , xxunk бассейны xxmaj днепра ( xxmaj xxunk культура ) и xxmaj волги , в частности , с xxmaj самарской культурой ( в среднем xxmaj поволжье ) . xxmaj известный специалист в области xxunk археологии xxmaj восточной xxmaj европы xxup д. xxup я. xxmaj xxunk считал , что источником культуры был xxunk юга xxmaj белоруссии , то есть достаточно xxunk связь с предшествующей xxmaj xxunk - xxmaj xxunk культурой . xxmaj культура занимала ареал от xxmaj вислы до xxmaj днепра , но сторонники xxunk гипотезы , xxunk его и на родственные культуры , xxunk до xxmaj волги и xxmaj урала и считают , что носители этого культурного комплекса говорили на xxunk языке . xxmaj xxunk - донецкая культура была xxunk xxunk для культуры xxunk - xxunk керамики , которая распространилась на север , двигаясь через xxmaj xxunk на территорию xxmaj финляндии . \n",
       " \n",
       "  xxmaj xxunk - донецкая культура xxunk в xxunk культуру . \n",
       " \n",
       "  xxmaj xxunk облик . \n",
       "  xxmaj представители xxunk - донецкой культуры были ярко выраженными xxunk , что существенно xxunk их от средиземноморского облика представителей балканского неолита , но xxunk их с представителями мезолита xxmaj северной xxmaj европы ( xxmaj xxunk ) . \n",
       " \n",
       "  xxmaj согласно современным генетическим xxunk , среди населения xxmaj xxunk - донецкой xxunk , вероятнее всего , преобладали носители xxunk гаплогруппы xxmaj xxunk , связывающей их с xxmaj xxunk - xxmaj каспийской xxunk , а также присутствовали носители группы xxup xxunk , xxunk на xxunk связь с xxmaj xxunk . xxmaj впрочем , обе эти гаплогруппы , вполне вероятно , были характерны для этой территории ещё с мезолита или даже верхнего палеолита . \n",
       " \n",
       " \n",
       ", Text xxbos \n",
       "  = xxmaj xxunk , xxmaj виктор xxmaj алексеевич = \n",
       "  xxmaj xxunk , xxmaj виктор xxmaj алексеевич \n",
       " \n",
       "  xxmaj виктор xxmaj алексеевич xxmaj xxunk ( 26 января 1929 , д . xxmaj красная xxmaj горка , xxmaj калужская губерния — 22 мая 2018 ) — советский и белорусский государственный деятель , генерал - лейтенант внутренней службы ( 1984 ) . \n",
       " \n",
       "  xxmaj депутат xxmaj верховного xxmaj совета xxmaj белорусской xxup сср 11 — 12 созывов . \n",
       " \n",
       "  xxmaj биография . \n",
       "  в органах милиции с марта 1951 года . xxmaj начинал службу в xxmaj xxunk районе . \n",
       " \n",
       "  xxmaj выпускник факультета заочного обучения xxmaj академии министерства внутренних дел xxmaj белоруссии . \n",
       " \n",
       "  с июля 1967 по 1978 год — начальник xxmaj управления внутренних дел xxmaj минского горисполкома . с 1978 года заместитель министра внутренних дел xxup бсср . \n",
       " \n",
       "  в 1980 году защитил кандидатскую диссертацию по юридическим наукам в xxmaj академии xxup мвд xxup ссср . в 1983 году назначен начальником xxmaj главного управления xxmaj xxunk xxup мвд xxup ссср . с января 1984 по 1990 год — министр внутренних дел xxmaj белорусской xxup сср . с января 1991 года в отставке . \n",
       " \n",
       "  с ноября 2001 года — председатель xxmaj совета xxmaj белорусской общественной организации ветеранов органов внутренних дел и внутренних войск . \n",
       " \n",
       "  xxmaj заслуженный юрист xxmaj республики xxmaj беларусь . xxmaj награждён двумя орденами xxmaj трудового xxmaj красного xxmaj знамени и другими наградами , почётной грамотой президиума xxmaj верховного xxmaj совета xxup бсср . \n",
       " \n",
       ", Text xxbos \n",
       "  = xxmaj xxunk = \n",
       "  xxmaj xxunk \n",
       " \n",
       "  xxmaj xxunk ( ) — тюркский народный струнный музыкальный инструмент , xxunk в xxmaj азербайджане , xxmaj турции и у народов xxmaj средней xxmaj азии . \n",
       " \n",
       "  xxmaj происхождение . \n",
       "  xxmaj xxunk упоминается в xxunk народном эпосе xxup vii — xxup ix веков xxmaj xxunk xxmaj xxunk xxmaj xxunk . \n",
       " \n",
       "  xxmaj виды xxunk . \n",
       "  в настоящее время наиболее известны и распространены два вида xxunk : « xxmaj xxunk xxunk » или « xxmaj xxunk » и « xxmaj xxunk xxunk » . \n",
       " \n",
       "  xxmaj этимология . \n",
       "  в целом , смысл слова понимается как « волшебное музыкальное звучание » . в переводе с xxunk языка , слово « xxunk » означает — высокий , xxunk , а « уз » — голос . \n",
       " \n",
       ", Text xxbos \n",
       "  = xxmaj московский академический театр имени xxmaj владимира xxmaj маяковского = \n",
       "  xxmaj московский академический театр имени xxmaj владимира xxmaj маяковского \n",
       " \n",
       "  xxmaj московский академический театр имени xxmaj владимира xxmaj маяковского — драматический театр в xxmaj москве , основанный в 1922 году как xxmaj театр xxmaj революции ; с 1943 года назывался xxmaj московским театром драмы , современное название появилось в 1954 году . в 1964 году театру было присвоено звание академического . \n",
       " \n",
       "  xxmaj история . \n",
       "  xxmaj здание театра , в то время известное как « театр xxmaj xxunk » , было построено в 1886 году по проекту архитектора xxup к. xxup в. xxmaj терского ( автор фасада — xxup ф. xxup о. xxmaj шехтель ) . xxmaj поначалу в помещении выступали европейские звезды , xxunk на гастроли ; на этой сцене играли такие всемирно известные артисты , как xxmaj сара xxmaj бернар , xxmaj элеонора xxmaj xxunk , xxmaj xxunk , xxmaj xxunk - xxmaj xxunk , xxmaj xxunk - старший , xxmaj xxunk - младший и другие знаменитости . xxmaj на рубеже xxup xix — xxup xx веков театр даже назывался « xxmaj xxunk » . \n",
       " \n",
       "  1920-е годы . \n",
       "  xxmaj после xxmaj революции гастроли « звёзд » прекратились . в 1920 — 1922 годах в здании размещался xxmaj театр революционной сатиры ( xxmaj xxunk ) xxmaj давида xxmaj xxunk , но в 1922 году xxmaj xxunk был расформирован и часть его труппы , xxunk актёрами других московских театров , образовала xxmaj театр xxmaj революции под руководством xxmaj всеволода xxmaj мейерхольда . xxmaj это название закрепилось до 1943 года . \n",
       " \n",
       "  в 1922 — 1923 годах советская драматургия ещё только xxunk , театр ставил современные зарубежные пьесы : « xxmaj ночь » , « xxmaj xxunk машин » и « xxmaj человек - масса » xxmaj эрнста xxmaj xxunk . xxmaj труппе , xxunk актёров разных школ , поначалу xxunk xxunk , но этот « xxunk » был xxunk в спектаклях « xxmaj xxunk место » xxup а. xxup н. xxmaj островского и « xxmaj озеро xxmaj xxunk » xxmaj алексея xxmaj xxunk , поставленных xxmaj xxunk в 1923 году . « xxmaj xxunk место » xxunk одним из первых образцов xxunk прочтения классической пьесы в советском театре . \n",
       " \n",
       "  xxmaj xxunk руководил xxmaj театром xxmaj революции два года . b 1923 — 1924 годах театр фактически возглавлял xxmaj валерий xxmaj xxunk , в 1924 году , по рекомендации xxmaj мейерхольда , главным режиссёром стал xxmaj алексей xxmaj xxunk , который xxunk театр на современную советскую xxunk . xxmaj ведущими xxunk театра в 20-х годах были xxmaj дмитрий xxmaj орлов , xxmaj константин xxmaj зубов , xxmaj мария xxmaj xxunk , xxmaj ольга xxmaj xxunk , xxmaj сергей xxmaj xxunk , xxmaj михаил xxmaj xxunk , xxmaj георгий xxmaj xxunk , xxmaj михаил xxmaj xxunk . \n",
       " \n",
       "  в 1926 году xxmaj xxunk покинул театр ; на протяжении 1927 — 1930 годов спектакли ставили режиссёры разных школ , в том числе пришедшие из xxunk ученики xxmaj мейерхольда xxmaj владимир xxmaj xxunk и xxmaj василий xxmaj фёдоров ; наиболее значительные постановки этого периода принадлежат xxmaj алексею xxmaj xxunk — « xxmaj человек с xxunk » xxup а. xxmaj xxunk , xxunk xxmaj николаем xxmaj xxunk ( 1928 ) , и « xxmaj первая xxmaj конная » xxmaj вс . xxmaj xxunk ( 1930 ) . \n",
       " \n",
       "  1930-е годы . \n",
       "  в 1931 году xxmaj театр xxmaj революции возглавил xxmaj алексей xxmaj попов . xxmaj xxunk период его руководства стал важным этапом в развитии театра ; по - своему xxunk опыт xxup к. xxup с. xxmaj станиславского и xxup е. xxup б. xxmaj вахтангова , xxmaj попов выдвинул концепцию современного « актёра - мыслителя » , чьё творчество xxunk « xxunk от мысли » . в историю советского театра вошли поставленные им спектакли по ранним пьесам xxmaj николая xxmaj xxunk « xxmaj поэма о xxunk » , « xxmaj мой друг » и « xxmaj после бала » , а также спектакль « xxmaj ромео и xxmaj джульетта » с xxup м. xxmaj xxunk и xxup м. xxmaj xxunk в главных ролях . \n",
       " \n",
       "  xxmaj но в 1935 году xxmaj алексей xxmaj попов был назначен художественным руководителем xxmaj центрального театра xxmaj красной xxmaj армии , и очень скоро xxmaj театр xxmaj революции погрузился в кризис . xxmaj на протяжении недолгого периода в театре сменилось несколько художественных руководителей , в их числе были xxmaj илья xxmaj xxunk и xxmaj николай xxmaj петров , отдельные спектакли ставили xxmaj леонид xxmaj волков , xxmaj андрей xxmaj лобанов и xxmaj юрий xxmaj xxunk , но отсутствие единого руководства и xxunk xxunk политики приводило к xxunk выбору пьес , к xxunk разрушению xxunk и xxunk « xxunk » . xxmaj этот период в истории театра был отмечен лишь отдельными xxunk xxunk , в числе которых прежде всего « xxmaj таня » xxup а. xxmaj xxunk , поставленная в 1939 году xxup а. xxmaj xxunk . \n",
       " \n",
       "  xxmaj но даже в эти , не лучшие для театра годы xxunk актёрские шедевры , такие как xxmaj диана xxmaj марии xxmaj xxunk ( « xxmaj собака на сене » ) , xxmaj елизавета xxmaj xxunk xxmaj xxunk ( « xxmaj мария xxmaj стюарт » ) , xxmaj xxunk xxmaj сергея xxmaj xxunk ( « xxmaj xxunk » ) . \n",
       " \n",
       "  xxmaj театр xxmaj николая xxmaj xxunk . \n",
       "  в 1941 году театр был эвакуирован в xxmaj ташкент ; в его здании xxup н. xxup м. xxmaj горчаков организовал единственный тогда в xxmaj москве драматический театр ( xxmaj московский театр драмы ) с привлечением части труппы xxmaj театра xxmaj ленсовета , где зрители впервые увидели « xxmaj русских людей » xxup к. xxup м. xxmaj симонова и « xxmaj фронт » xxup а. xxup е. xxmaj xxunk . xxmaj после возвращения xxmaj театра xxmaj революции в xxmaj москву в 1943 году эти труппы были объединены с ним под названием « xxmaj московский театр драмы » ; тогда же художественным руководителем был назначен xxmaj николай xxmaj xxunk , возглавлявший театр по 1967 год . \n",
       " \n",
       "  xxmaj театр xxmaj андрея xxmaj гончарова . \n",
       "  с 1967 по 2001 год , до самой смерти руководил театром xxmaj андрей xxmaj александрович xxmaj гончаров . xxmaj придя в театр , xxunk кризис , xxmaj гончаров xxunk в него новую жизнь ; событиями театральной жизни стали поставленные им в первые годы спектакли « xxmaj дети xxmaj xxunk » по пьесе xxup а. xxmaj xxunk и « xxmaj трамвай „ xxmaj желание “ » xxmaj теннесси xxmaj уильямса ( спектакль шёл на сцене театра 24 года и выдержал более 700 представлений ) . xxmaj одним из самых популярных московских спектаклей , наряду с « xxmaj xxunk „ xxmaj желание “ » , стал и « xxmaj разгром » приглашённого xxmaj xxunk xxmaj марка xxmaj захарова . в те годы на сцене xxmaj театра им . xxmaj маяковского выступали xxmaj евгений xxmaj леонов , xxmaj армен xxmaj xxunk , xxmaj владимир xxmaj самойлов , xxmaj татьяна xxmaj xxunk , xxmaj наталья xxmaj xxunk , xxmaj анатолий xxmaj xxunk , xxmaj павел xxmaj xxunk , xxmaj георгий xxmaj xxunk , xxmaj татьяна xxmaj васильева , xxmaj андрей xxmaj xxunk , xxmaj ирина xxmaj xxunk , xxmaj нина xxmaj xxunk , xxmaj людмила xxmaj xxunk , xxmaj александр xxmaj xxunk . \n",
       " \n",
       "  xxmaj выдающиеся постановки . \n",
       "  xxmaj см . также : xxmaj репертуар xxmaj московского академического театра имени xxmaj вл . xxmaj маяковского \n",
       " \n",
       "  xxmaj сегодняшний день театра . \n",
       "  с января 2002 по март 2011 художественным руководителем театра был xxmaj сергей xxmaj николаевич xxmaj xxunk . \n",
       " \n",
       "  14 марта 2011 года артисты театра имени xxmaj маяковского , среди которых xxmaj игорь xxmaj xxunk , xxmaj михаил xxmaj филиппов и xxmaj евгения xxmaj симонова , обратились с открытым письмом к своему художественному руководителю и директору с просьбой о его отставке . xxmaj большая часть театральной труппы была недовольна работой xxunk и « убедительно просила » xxmaj xxunk , xxunk посты руководителя двух театров — на xxmaj xxunk и имени xxmaj маяковского . xxmaj по мнению труппы , это привело к xxunk ухудшению состояния дел в « xxmaj xxunk » . \n",
       " \n",
       "  с 20 мая 2011 года художественный руководитель театра — xxmaj xxunk xxmaj xxunk . xxmaj директор театра с 31 декабря 2011 г . — xxmaj леонид xxmaj xxunk . \n",
       "  xxmaj спектакли в театре ставит также xxmaj юрий xxmaj владимирович xxmaj иоффе . \n",
       " \n",
       " \n",
       " \n",
       " \n",
       " \n",
       " \n",
       "]...\n",
       "Path: data/wiki/ru-100-unk;\n",
       "\n",
       "Test: None, model=SequentialRNN(\n",
       "  (0): RNNCore(\n",
       "    (encoder): Embedding(60003, 400, padding_idx=1)\n",
       "    (encoder_dp): EmbeddingDropout(\n",
       "      (emb): Embedding(60003, 400, padding_idx=1)\n",
       "    )\n",
       "    (rnns): ModuleList(\n",
       "      (0): WeightDropout(\n",
       "        (module): LSTM(400, 1150, batch_first=True)\n",
       "      )\n",
       "      (1): WeightDropout(\n",
       "        (module): LSTM(1150, 1150, batch_first=True)\n",
       "      )\n",
       "      (2): WeightDropout(\n",
       "        (module): LSTM(1150, 400, batch_first=True)\n",
       "      )\n",
       "    )\n",
       "    (input_dp): RNNDropout()\n",
       "    (hidden_dps): ModuleList(\n",
       "      (0): RNNDropout()\n",
       "      (1): RNNDropout()\n",
       "      (2): RNNDropout()\n",
       "    )\n",
       "  )\n",
       "  (1): LinearDecoder(\n",
       "    (decoder): Linear(in_features=400, out_features=60003, bias=True)\n",
       "    (output_dp): RNNDropout()\n",
       "  )\n",
       "), opt_func=functools.partial(<class 'torch.optim.adam.Adam'>, betas=(0.9, 0.99)), loss_func=<fastai.layers.FlattenedLoss object at 0x7fb0d16547b8>, metrics=[<function accuracy at 0x7fb0cadd1b70>], true_wd=True, bn_wd=True, wd=0.01, train_bn=True, path=PosixPath('data/wiki/ru-100-unk'), model_dir='models', callback_fns=[<class 'fastai.basic_train.Recorder'>], callbacks=[RNNTrainer(learn=LanguageLearner(data=TextLMDataBunch;\n",
       "\n",
       "Train: LabelList\n",
       "y: LMLabel (189786 items)\n",
       "[Category 0, Category 0, Category 0, Category 0, Category 0]...\n",
       "Path: data/wiki/ru-100-unk\n",
       "x: LMTextList (189786 items)\n",
       "[Text xxbos = xxmaj розовая чайка = \n",
       "  xxmaj розовая чайка \n",
       " \n",
       "  xxmaj розовая чайка ( ) — вид птиц из семейства xxunk ( xxmaj xxunk ) , единственный в роде xxunk xxunk ( & ' xxmaj xxunk & ' ) . \n",
       " \n",
       "  xxmaj описание . \n",
       "  xxmaj длина тела около 35 см . xxmaj спина и верх крыльев серо - xxunk , голова , грудь и брюшко розовые , на шее узкий чёрный xxunk . xxmaj клюв чёрный , ноги красные . xxmaj хвост xxunk формы . \n",
       " \n",
       "  xxmaj полёт розовой чайки лёгкий , напоминающий полёт xxunk . xxmaj по отношению к человеку птица обычно мало xxunk и xxunk . xxmaj на море она главным образом держится на плавающих xxunk , а вот в xxunk , на озёрах , чайка часто садится на воду и даже xxunk . \n",
       " \n",
       "  xxmaj xxunk . \n",
       "  xxmaj голос этого вида гораздо выше и xxunk , чем у других xxunk , и отличается большим разнообразием . xxmaj чаще всего xxunk крик вроде « э - у , э - у » ; xxunk , они издают короткий крик « xxunk , xxunk , xxunk » , если очень xxunk — « xxunk - xxunk » , а при нападении другой чайки того же вида или xxunk xxunk « э - xxunk , э - xxunk » . \n",
       " \n",
       "  xxmaj питание . \n",
       "  xxmaj питается насекомыми , мелкими моллюсками , в период xxunk — рыбой и xxunk . \n",
       " \n",
       "  xxmaj размножение . \n",
       "  xxmaj гнездится розовая чайка в xxunk и xxunk по берегам озёр xxmaj восточной xxmaj сибири в xxunk северных рек — xxmaj xxunk , xxmaj xxunk , xxmaj xxunk , xxmaj xxunk . xxmaj небольшое поселение ( несколько десятков пар ) существует на xxmaj xxunk . xxmaj места xxunk этих птиц находятся в xxunk равнинной xxunk и xxunk , часто на xxunk многочисленных озёр . в кладке 3 , реже 2 яйца . xxmaj xxunk около 3 недель . \n",
       " \n",
       "  xxmaj чайка селится небольшими , до 20 пар , xxunk колониями , в которых гнездо от гнезда располагается на расстоянии до 100 метров , часто по соседству с другими xxunk видами — xxunk xxunk и полярной xxunk . \n",
       " \n",
       "  xxmaj известный орнитолог xxup с. xxup а. xxmaj xxunk так описывает xxunk церемонии xxunk xxunk : « xxmaj самец всячески выражает xxunk свою xxunk , то как - то xxunk или xxunk ей шею открытым клювом , то время от времени начинает xxunk перед ней xxunk и вперед , несколько xxunk xxunk , и затем с какой - то xxunk или xxunk „ т xxrep 5 р “ xxunk совершенно переднюю половину туловища к земле ( точнее , ко льду и снегу ) , xxunk высоко вверх заднюю половину с хвостом и xxunk крыльями , и продолжает эту xxunk несколько секунд , делая в этом положении несколько шагов туда и сюда . xxmaj иногда этим xxunk xxunk и самка » . \n",
       " \n",
       "  xxmaj гнездо чайка строит на земле из сухой травы , старых стеблей xxunk , листьев xxunk xxunk и xxunk . xxmaj так как все сооружение расположено на xxunk участках , в нём обычно xxunk . в кладке 2 — 3 яйца зеленовато - оливкового цвета с xxunk - коричневыми пятнами . xxmaj xxunk кладку обе птицы . xxmaj родители активно защищают своё гнездо от крупных xxunk и xxunk . \n",
       " \n",
       "  в конце недолгого полярного лета молодые птицы xxunk на крыло и начинают xxunk вместе с родителями . в это время они частые гости xxunk поселков , на окраинах которых кормятся . с наступлением xxunk чайки xxunk на север , к xxmaj xxunk океану , где и зимуют , xxunk открытых участков воды . xxmaj на xxunk розовые чайки кормятся мелкой рыбой и xxunk в отличие от xxunk периода , когда их рацион состоит в основном из насекомых и их личинок . \n",
       " \n",
       "  xxmaj места расположения колоний могут меняться время от времени из - за неблагоприятных погодных условий . \n",
       " \n",
       "  xxmaj распространение . \n",
       "  xxmaj распространена на северо - востоке xxmaj сибири ( от реки xxmaj xxunk до западной окраины xxmaj чукотского полуострова ) и xxmaj западной xxmaj гренландии . xxmaj зимой xxunk в открытых водах xxmaj северного xxmaj ледовитого океана , xxunk в xxmaj северную xxmaj атлантику и xxmaj xxunk море . \n",
       " \n",
       "  в период xxunk розовые чайки иногда xxunk далеко от мест , где они гнездятся или зимуют . xxmaj так , известны случаи появления их в xxmaj xxunk и xxmaj японском морях , xxmaj норвегии , xxmaj франции и xxmaj маньчжурии . xxmaj изредка xxunk xxunk далеко на юг ( xxmaj ирландия , xxmaj калифорния ) . \n",
       " \n",
       "  xxmaj xxunk статус . \n",
       "  в годы сильных xxunk и наводнений птицы либо не гнездятся совсем , либо у них бывает всего одно яйцо в кладке . xxmaj как известно , численность мелких грызунов — xxunk в xxunk из года в год сильно меняется . xxmaj бывают периоды , когда эти мелкие xxunk , основной корм xxunk , исчезают совсем . xxmaj тогда xxunk xxunk буквально все живое в xxunk . в первую очередь гибнут яйца и птенцы различных видов птиц , в том числе и xxunk xxunk . \n",
       " \n",
       "  xxmaj раньше в голодные годы xxunk стреляли xxunk xxunk для xxunk . в начале xxup xx века , когда на xxmaj xxunk довольно часто xxunk американские моряки , xxunk и охотники на морского зверя , местное население xxunk этих экзотических птиц для изготовления xxunk - сувениров . xxmaj тогда один экземпляр xxunk , необычно xxunk чайки стоил до 200 долларов . xxmaj xxunk стад домашних оленей через колонии , xxunk сбор яиц также отрицательно xxunk на численности розовой чайки . xxmaj всё это наряду с тем , что xxunk ареал птиц весьма ограничен , вызывает серьёзное беспокойство за судьбу этого вида . \n",
       " \n",
       "  xxmaj сегодня в xxmaj россии добыча этого вида полностью запрещена . xxmaj ученые xxunk наиболее крупные места гнездования розовой чайки с тем , чтобы в дальнейшем ввести там xxunk режим . \n",
       " \n",
       " \n",
       " \n",
       ", Text xxbos \n",
       "  = xxmaj xxunk , xxmaj никита xxmaj xxunk = \n",
       "  xxmaj xxunk , xxmaj никита xxmaj xxunk \n",
       " \n",
       "  xxmaj ники ́ та xxmaj xxunk ́ тович xxmaj xxunk ́ нко ( 28 мая 1899 года , xxmaj xxunk , xxmaj xxunk уезд , xxmaj херсонская губерния — 16 июня 1956 года , xxmaj москва ) — советский военный деятель , генерал - лейтенант ( 10 апреля 1944 года ) . xxmaj герой xxmaj советского xxmaj союза ( 23 сентября 1944 года ) . \n",
       " \n",
       "  xxmaj начальная биография . \n",
       "  xxmaj никита xxmaj xxunk xxmaj xxunk родился 28 мая 1899 года в селе xxmaj xxunk , ныне село xxmaj xxunk , , xxmaj николаевская область , xxmaj украина . xxmaj вскоре вместе с семьей переехал в село xxmaj новые xxmaj xxunk ( ныне село xxmaj xxunk , xxmaj xxunk район , xxmaj молдавия ) . \n",
       " \n",
       "  xxmaj окончил среднюю школу . \n",
       " \n",
       "  xxmaj военная служба . \n",
       "  xxmaj гражданская война . \n",
       "  в 1917 году вступил xxunk отряд , а в мае 1919 года был призван в ряды xxup ркка , после чего направлен xxunk в состав 17-й кавалерийской дивизии , где служил в 1-м и 15-м кавалерийских дивизионах . в январе 1920 года был переведён во 2-й кавалерийский полк , а с марта служил на должности командира взводом в составе 2-го и xxunk кавалерийских полков , а с апреля 1921 года исполнял должности командира эскадронов 2-го , xxunk и xxunk кавалерийских полков . xxmaj принимал участие в боевых действиях на xxmaj украинском , xxmaj южном и xxmaj западном фронтах . \n",
       " \n",
       "  12 ноября 1919 года xxmaj xxunk возглавил контратаку , в результате чего силы противника были разбиты , xxunk захват артиллерийской батареи , а также взяты в плен 462 человека , за что был награждён орденом xxmaj красного xxmaj знамени . \n",
       " \n",
       "  xxmaj вторым орденом xxmaj красного xxmaj знамени был награждён 30 мая 1922 года за успешно xxunk 17 ноября 1921 года операцию , во время которой многочисленные силы противника были выбиты с занимаемых позиций и впоследствии уничтожены . \n",
       " \n",
       "  xxmaj межвоенное время . \n",
       "  xxmaj после окончания войны xxmaj xxunk служил в составе 17-го кавалерийского полка ( 3-я кавалерийская дивизия ) на должностях помощника командира эскадрона и помощника начальника полковой школы . в декабре 1923 года направлен на учёбу на повторные курсы при 2-м кавалерийском корпусе , которые окончил в ноябре 1924 года . в 1925 году вступил в ряды xxup вкп ( б ) , а в августе того же года направлен на учёбу в xxmaj киевскую объединённую военную школу xxunk , после окончания которой в августе 1927 года назначен на должность начальника полковой школы xxunk кавалерийского полка ( 7-я кавалерийская дивизия ) , а в сентябре 1929 года — на должность командира и комиссара xxunk отдельного кавалерийского эскадрона в составе 3-го кавалерийского корпуса . \n",
       " \n",
       "  в августе 1931 года направлен на учёбу в xxmaj военную академию имени xxup м. xxup в. xxmaj фрунзе , после окончания которой в октябре 1936 года был назначен на должность командира xxunk кавалерийского полка ( xxmaj xxunk - xxmaj монгольская кавалерийская дивизия ) , в ноябре 1937 года — на должность командира 5-й xxmaj забайкальской xxmaj краснознамённой кавалерийской бригады , а в августе 1939 года — на должность командира xxunk стрелковой дивизии , после чего принимал участие в боевых действиях в ходе советско - финской войны . \n",
       " \n",
       "  xxmaj великая xxmaj отечественная война . \n",
       "  с началом войны находился на прежней должности . xxmaj дивизия под командованием xxmaj xxunk находилась в резерве xxmaj ставки xxmaj верховного xxmaj главнокомандования , а после включения в состав 19-й армии с августа 1941 года вела боевые действия в xxmaj смоленском сражении , в ходе которого попала в xxmaj вяземский котёл , после выхода из которого участвовала в боях в районах городов xxmaj xxunk , xxmaj xxunk , а также северо - западнее xxmaj xxunk . \n",
       " \n",
       "  в июне 1942 года назначен на должность командира 50-й стрелковой дивизии , которая вскоре принимала участие в боевых действиях в ходе xxmaj белгородско - xxmaj харьковской , xxmaj запорожской и xxmaj кировоградской наступательных операциях , а также в освобождении городов xxmaj запорожье и xxmaj кировоград , за что ей присвоено почётное наименование « xxmaj запорожская » и « xxmaj xxunk » . \n",
       " \n",
       "  в марте 1944 года назначен на должность командира xxunk гвардейского стрелкового корпуса , который вскоре принимал участие в боевых действиях в ходе xxmaj xxunk - xxmaj xxunk и xxmaj львовско - xxmaj сандомирской наступательных операций . в августе xxmaj xxunk организовал оборону по отражению xxunk , xxunk xxunk танковым корпусом противника в районе города xxmaj xxunk , который был xxunk с целью захвата переправы через xxmaj вислу . \n",
       " \n",
       "  xxmaj указом xxmaj президиума xxmaj верховного xxmaj совета xxup ссср от 23 сентября 1944 года за умелое управление войсками корпуса и проявленные при этом мужество и героизм генерал - лейтенанту xxmaj xxunk xxmaj xxunk xxmaj xxunk присвоено звание xxmaj героя xxmaj советского xxmaj союза с вручением ордена xxmaj ленина и медали « xxmaj золотая xxmaj звезда » . \n",
       " \n",
       "  xxmaj вскоре корпус вёл боевые действия в ходе xxmaj висло - xxmaj одерской , xxmaj xxunk - xxmaj силезской , xxmaj xxunk , xxmaj xxunk и xxmaj берлинской наступательных операций , а также в освобождении городов xxmaj xxunk , xxmaj xxunk , xxmaj xxunk , xxmaj xxunk , xxmaj дрезден и других . \n",
       " \n",
       "  xxmaj послевоенная карьера . \n",
       "  в мае 1945 года был назначен на должность военного коменданта xxmaj дрездена , а в октябре того же года — на аналогичную должность в xxmaj вену . с марта 1948 года находился в распоряжении главнокомандующего xxmaj сухопутными войсками и вскоре направлен на учёбу на xxmaj высшие академические курсы при xxmaj высшей военной академии имени xxup к. xxup е. xxmaj ворошилова , после окончания которых в апреле 1949 года назначен на должность командира 9-го гвардейского стрелкового корпуса . \n",
       " \n",
       "  xxmaj генерал - лейтенант xxmaj никита xxmaj xxunk xxmaj xxunk в мае 1952 года вышел в запас . xxmaj умер 16 июня 1956 года в xxmaj москве . xxmaj похоронен на xxmaj введенском кладбище ( участок 20 ) . \n",
       " \n",
       " \n",
       " \n",
       "  xxmaj память . \n",
       "  xxmaj село , в котором жил генерал - лейтенант xxup н. xxup ф. xxmaj xxunk , сейчас носит имя xxmaj героя . в этом же селе также установлена мемориальная доска . \n",
       " \n",
       "  в честь xxup н. xxup ф. xxmaj xxunk названы улицы в городе xxmaj xxunk ( xxmaj красноярский край ) и в посёлке xxmaj xxunk ( xxmaj xxunk район , xxmaj московская область ) . \n",
       " \n",
       " \n",
       ", Text xxbos \n",
       "  = xxmaj памятник xxmaj карлу xxmaj xxunk ( xxmaj ульяновск ) = \n",
       "  xxmaj памятник xxmaj карлу xxmaj xxunk ( xxmaj ульяновск ) \n",
       " \n",
       "  xxmaj история создания памятника . \n",
       "  12 апреля 1918 года xxmaj совет xxmaj народных xxmaj комиссаров xxup рсфср принял декрет « о памятниках республики » . xxmaj декрет предусматривал снятие памятникам xxunk и , в свою очередь , установку новых памятников . 30 июля 1918 года был утвержден список лиц , которым xxunk поставить памятники . в список входило 66 имен , в том числе и основоположника коммунистического движения xxmaj карла xxmaj маркса . \n",
       " \n",
       "  xxmaj наряду с другими городами в план монументальной пропаганды включился и xxmaj симбирск . xxmaj для начала 12 ноября 1918 года памятник xxup к. xxmaj xxunk установили на бывшем пьедестале xxunk памятника xxmaj александру xxup ii на улице xxmaj xxunk , переименованной к тому времени в улицу xxup к. xxmaj маркса . xxmaj он был xxunk , xxunk под бронзу и рассматривался как временный вариант . \n",
       " \n",
       "  xxmaj председатель xxmaj xxunk xxunk xxup ркп ( б ) xxup и. xxup м. xxmaj xxunk осенью 1918 года выступает инициатором нескольких важных культурных xxunk в городе . xxmaj одним из них является организация сооружения в xxmaj xxunk полноценного памятника xxunk . xxmaj xxunk познакомился с проектом памятника xxunk , выполненным известным в то время скульптором xxup с. xxup д. xxmaj xxunk , и предложил xxmaj xxunk xxunk заключить договор со скульптором на изготовление памятника . \n",
       " \n",
       "  xxmaj для работы над архитектурным оформлением памятника был приглашен академик архитектуры xxup в. xxup а. xxmaj xxunk . xxmaj сначала предполагалось установить памятник к концу 1920 года . xxmaj но фигура для постамента была доставлена в xxmaj симбирск только в мае 1921 года . \n",
       " \n",
       "  xxmaj открытие памятника состоялось 7 ноября 1921 года . xxmaj на xxunk пьедестале из серого гранита расположена чёрная колонна , из которой выступает фигура xxup к. xxmaj маркса . xxmaj полагают , что скульптор использовал миф о xxunk xxmaj атланте , xxunk свод вселенной . xxmaj такую же роль автор xxunk и xxunk , xxunk на своих плечах груз мировых проблем человечества . \n",
       "  xxmaj на лицевой стороне памятника надпись : « xxmaj карлу xxmaj xxunk 1920 г » . xxmaj на xxunk стороне пьедестала слова xxup к. xxmaj маркса : « xxmaj идеи , овладев массами , становятся величайшей движущей xxunk силой » . \n",
       "  xxmaj высота памятника с скульптурой составляет 8 @,@ 5 метров . xxmaj фигура мыслителя выполнена из чёрного гранита . xxmaj целого куска мрамора на скульптуру не нашлось и её пришлось выполнять из отдельных блоков . \n",
       " \n",
       "  xxmaj памятник xxup к. xxmaj xxunk изначально был установлен на территории бывшего xxmaj николаевского сада , получившего своё имя от xxmaj николаевского собора . xxmaj образованный сквер получил также имя xxup к. xxmaj маркса . в связи с началом строительства xxmaj ленинского мемориала в xxmaj ульяновске планировалось перенести памятник , который оказался на xxunk xxunk , соединяющей две площади — xxmaj ленина , ныне xxmaj соборная , и 100-летия со дня рождения xxmaj ленина . xxmaj однако памятник решили оставить на месте , только xxunk его , чтобы он не стоял xxunk к xxunk по xxunk . в апреле 1969 года памятник развернули на 90 градусов , xxunk его лицом на восток . xxmaj когда же xxunk решили продолжить до xxmaj мемориального центра , памятник летом 1985 перенесли в центр xxunk , уничтожив окружающий его xxunk . xxmaj но место оказалось очень неудачным , и памятник опять xxunk . в апреле 1986 года он был перенесен к зданию гимназии , где и находится до настоящего времени . \n",
       " \n",
       "  xxmaj литература . \n",
       "  xxmaj xxunk xxup л. xxup ф. xxmaj памятник xxmaj карлу xxmaj xxunk в xxmaj xxunk - xxmaj ульяновске . — xxmaj ульяновск : xxmaj издательство « xxmaj корпорация технологий продвижения » , xxunk с . , ил . \n",
       "  xxup xxunk - 5 - xxunk - 115 - 1 \n",
       " \n",
       ", Text xxbos \n",
       "  = xxmaj кох , xxmaj вильгельм ( министр ) = \n",
       "  xxmaj кох , xxmaj вильгельм ( министр ) \n",
       " \n",
       "  xxmaj xxunk ́ xxunk xxmaj кох ( ; 3 марта 1877 — 7 марта 1950 ) — немецкий политик времён xxmaj веймарской республики , министр транспорта . \n",
       " \n",
       "  xxmaj биография . \n",
       "  xxmaj по окончании школы в своей деревне xxmaj xxunk , xxmaj кох отправился получать xxunk профессию в xxmaj xxunk . в 1897 после сдачи xxunk экзамена получил звание xxunk . в xxunk году , отправился на военную службу , xxunk унтер - офицером медико - санитарной службы в 69-й xxmaj xxunk пехотный полк . в дальнейшем , несколько лет работал xxunk в разных городах . xxmaj одновременно xxunk квалификацию , занимаясь на экономических и социальных курсах . с 1905 года принимает активное участие в xxunk движении , так с 1908 по 1913 он работает в лютеранском xxmaj рабочем xxunk в xxmaj xxunk , так назывались xxunk центры , в которых оказывалась помощь xxunk по правовым вопросам . а с 1913 по 1921 год xxmaj кох занимает должность руководителя немецкого союза работников xxunk . xxmaj кроме того , тогда же он был редактором газеты & ' « xxmaj xxunk » & ' ( ) . с августа 1914 по июль 1917 — солдат на фронтах xxmaj первой мировой войны . \n",
       "  xxmaj во времена xxmaj веймарской республики xxmaj кох был председателем международной лютеранской ассоциации рабочих и служащих , вторым председателем xxmaj генерального союза работников лютеранских ассоциаций xxmaj германии , а также председателем лютеранской ассоциации рабочих в прусских провинциях xxmaj xxunk и xxmaj вестфалия . в xxunk он занял пост управляющего делами театра xxmaj xxunk в xxmaj xxunk - xxmaj xxunk . \n",
       " \n",
       "  xxmaj депутат , министр . \n",
       "  с 1919 по xxunk , xxmaj кох — депутат городского совета города xxmaj xxunk . в 1919 / 1920 — участник xxmaj xxunk учредительного собрания . xxmaj на выборах в рейхстаг в июне 1920 года вошёл в состав депутатов парламента , среди которых и находился до ноября 1933 года . \n",
       " \n",
       "  1 февраля 1927 xxmaj кох вошёл в состав правительства xxmaj вильгельма xxmaj маркса . xxmaj ему была отведена должность министра транспорта . xxmaj однако после формирования новой коалиции xxup сдпг , xxup xxunk , xxup ндп , xxmaj центр и xxup xxunk он ушёл в отставку вместе с остальными членами четвёртого кабинета xxmaj маркса . \n",
       " \n",
       ", Text xxbos \n",
       "  = xxmaj лопес де xxmaj xxunk , xxmaj xxunk = \n",
       "  xxmaj лопес де xxmaj xxunk , xxmaj xxunk \n",
       " \n",
       "  xxmaj xxunk xxmaj xxunk де xxmaj xxunk ( ; 18 сентября 1978 , xxmaj мадрид ) — испанская киноактриса . \n",
       " \n",
       "  xxmaj лауреат премии « xxmaj xxunk » 2002 года ( « лучшая актриса » ) и « xxmaj серебряной раковины лучшей актрисе » xxup мкф в xxmaj сан - xxmaj xxunk за роль королевы xxmaj xxunk xxmaj кастильской в фильме xxmaj висенте xxmaj xxunk « xxmaj безумие любви » . xxmaj является лауреатом ряда кинематографических наград xxmaj испании . xxmaj предки актрисы по отцовской линии принадлежат испанским xxunk из xxmaj xxunk . xxmaj она прямой потомок xxmaj христофора xxmaj колумба и xxmaj диего xxmaj xxunk . \n",
       " \n",
       "]...\n",
       "Path: data/wiki/ru-100-unk;\n",
       "\n",
       "Valid: LabelList\n",
       "y: LMLabel (447 items)\n",
       "[Category 0, Category 0, Category 0, Category 0, Category 0]...\n",
       "Path: data/wiki/ru-100-unk\n",
       "x: LMTextList (447 items)\n",
       "[Text xxbos = xxmaj xxunk , xxmaj павел xxmaj николаевич = \n",
       "  xxmaj xxunk , xxmaj павел xxmaj николаевич \n",
       " \n",
       "  xxmaj па ́ вел xxmaj никола ́ евич xxmaj xxunk ́ к ( ; род . 1956 ) — советский и украинский поэт , переводчик . \n",
       " \n",
       "  xxmaj биография . \n",
       "  xxmaj родился 30 апреля 1956 года в xxmaj xxunk в семье поэта xxup н. xxup а. xxmaj xxunk ( 1923 — 1981 ) . xxmaj мать xxmaj тамара xxmaj дмитриевна ( 1926 — 1989 ) — этнограф . в 1973 году окончил среднюю школу № 3 в xxmaj xxunk . в 1973 — 1974 годах учился на филологическом факультете педагогического института в xxmaj xxunk - xxmaj подольском . xxmaj после первого курса перевёлся на филологический факультет xxmaj киевского педагогического института , который окончил в 1977 году . xxmaj также окончил xxmaj высшие литературные курсы в xxmaj москве ( учился в 1987 — 1989 годах ) . \n",
       " \n",
       "  xxmaj работал учителем украинского языка и литературы в сельских школах xxmaj винницкой ( село xxmaj xxunk xxmaj xxunk района ) и xxmaj хмельницкой областей ( село xxmaj xxunk xxmaj xxunk района ) , заведующим литературно - драматической частью xxmaj хмельницкого театра кукол . \n",
       " \n",
       "  xxmaj член xxup xxunk с 1984 года . xxmaj впоследствии вышел из него , в 1996 году вступил в xxmaj ассоциацию украинских писателей . в 1990 — 1991 годах — один из трёх xxunk xxmaj хмельницкой областной организации xxmaj народного xxunk xxmaj украины . xxmaj председатель xxmaj хмельницкого областного отделения xxmaj ассоциации писателей xxmaj украины . в 1997 — 1998 годах был председателем xxmaj хмельницкой областной организации xxmaj всеукраинского общества « xxmaj xxunk » . в марте 2006 года был кандидатом в народные депутаты xxmaj украины от xxup xxunk ( xxmaj украинской национальной ассамблеи ) — № 54 в списке . \n",
       " \n",
       "  xxmaj ныне живёт в небольшом городе xxmaj xxunk — районном центре xxmaj хмельницкой области . \n",
       " \n",
       " \n",
       "  xxmaj творчество . \n",
       "  xxmaj для постановки в xxunk театре перевёл на украинский язык произведения xxup с. xxup я. xxmaj xxunk « xxmaj xxunk дом » , « xxmaj xxunk » . xxmaj также переводил произведения xxup д. xxup с. xxmaj самойлова . \n",
       " \n",
       "  в 1985 году в московском издательстве « xxmaj молодая гвардия » в переводе на русский язык вышел сборник xxmaj xxunk « xxmaj xxunk » . \n",
       " \n",
       " \n",
       " \n",
       ", Text xxbos \n",
       "  = xxmaj xxunk - донецкая культура = \n",
       "  xxmaj xxunk - донецкая культура \n",
       " \n",
       "  xxmaj дне ́ про - xxunk ́ xxunk культу ́ рная о ́ xxunk — xxunk xxunk археологическая культура v — xxup iii тыс . до н . э . , xxunk к xxunk . xxmaj название предложено xxup в. xxup н. xxmaj xxunk в 1956 году и позже принято xxup д. xxup я. xxmaj xxunk и другими археологами . \n",
       " \n",
       "  xxmaj экономика и образ жизни . \n",
       "  xxmaj основное занятие носителей культуры — охота и рыболовство . xxmaj хотя на стоянках встречаются кости собак , свиней и крупного рогатого скота , кости диких животных преобладают . xxmaj поселения состояли из xxunk . xxmaj погребения в виде xxunk , чаще не в индивидуальных , а в братских могилах , которые использовались многократно . xxmaj останки xxunk xxunk . \n",
       " \n",
       "  xxmaj xxunk - донецкая керамика xxunk с xxunk западных xxunk культур : xxmaj xxunk , xxmaj xxunk и культур французского xxunk — и отличается от xxunk утвари культуры линейно - xxunk керамики , xxunk в ту эпоху по центральной xxmaj европе с xxmaj xxunk xxunk . \n",
       " \n",
       "  xxmaj генетические связи . \n",
       "  xxmaj xxunk с соседними культурами , xxunk бассейны xxmaj днепра ( xxmaj xxunk культура ) и xxmaj волги , в частности , с xxmaj самарской культурой ( в среднем xxmaj поволжье ) . xxmaj известный специалист в области xxunk археологии xxmaj восточной xxmaj европы xxup д. xxup я. xxmaj xxunk считал , что источником культуры был xxunk юга xxmaj белоруссии , то есть достаточно xxunk связь с предшествующей xxmaj xxunk - xxmaj xxunk культурой . xxmaj культура занимала ареал от xxmaj вислы до xxmaj днепра , но сторонники xxunk гипотезы , xxunk его и на родственные культуры , xxunk до xxmaj волги и xxmaj урала и считают , что носители этого культурного комплекса говорили на xxunk языке . xxmaj xxunk - донецкая культура была xxunk xxunk для культуры xxunk - xxunk керамики , которая распространилась на север , двигаясь через xxmaj xxunk на территорию xxmaj финляндии . \n",
       " \n",
       "  xxmaj xxunk - донецкая культура xxunk в xxunk культуру . \n",
       " \n",
       "  xxmaj xxunk облик . \n",
       "  xxmaj представители xxunk - донецкой культуры были ярко выраженными xxunk , что существенно xxunk их от средиземноморского облика представителей балканского неолита , но xxunk их с представителями мезолита xxmaj северной xxmaj европы ( xxmaj xxunk ) . \n",
       " \n",
       "  xxmaj согласно современным генетическим xxunk , среди населения xxmaj xxunk - донецкой xxunk , вероятнее всего , преобладали носители xxunk гаплогруппы xxmaj xxunk , связывающей их с xxmaj xxunk - xxmaj каспийской xxunk , а также присутствовали носители группы xxup xxunk , xxunk на xxunk связь с xxmaj xxunk . xxmaj впрочем , обе эти гаплогруппы , вполне вероятно , были характерны для этой территории ещё с мезолита или даже верхнего палеолита . \n",
       " \n",
       " \n",
       ", Text xxbos \n",
       "  = xxmaj xxunk , xxmaj виктор xxmaj алексеевич = \n",
       "  xxmaj xxunk , xxmaj виктор xxmaj алексеевич \n",
       " \n",
       "  xxmaj виктор xxmaj алексеевич xxmaj xxunk ( 26 января 1929 , д . xxmaj красная xxmaj горка , xxmaj калужская губерния — 22 мая 2018 ) — советский и белорусский государственный деятель , генерал - лейтенант внутренней службы ( 1984 ) . \n",
       " \n",
       "  xxmaj депутат xxmaj верховного xxmaj совета xxmaj белорусской xxup сср 11 — 12 созывов . \n",
       " \n",
       "  xxmaj биография . \n",
       "  в органах милиции с марта 1951 года . xxmaj начинал службу в xxmaj xxunk районе . \n",
       " \n",
       "  xxmaj выпускник факультета заочного обучения xxmaj академии министерства внутренних дел xxmaj белоруссии . \n",
       " \n",
       "  с июля 1967 по 1978 год — начальник xxmaj управления внутренних дел xxmaj минского горисполкома . с 1978 года заместитель министра внутренних дел xxup бсср . \n",
       " \n",
       "  в 1980 году защитил кандидатскую диссертацию по юридическим наукам в xxmaj академии xxup мвд xxup ссср . в 1983 году назначен начальником xxmaj главного управления xxmaj xxunk xxup мвд xxup ссср . с января 1984 по 1990 год — министр внутренних дел xxmaj белорусской xxup сср . с января 1991 года в отставке . \n",
       " \n",
       "  с ноября 2001 года — председатель xxmaj совета xxmaj белорусской общественной организации ветеранов органов внутренних дел и внутренних войск . \n",
       " \n",
       "  xxmaj заслуженный юрист xxmaj республики xxmaj беларусь . xxmaj награждён двумя орденами xxmaj трудового xxmaj красного xxmaj знамени и другими наградами , почётной грамотой президиума xxmaj верховного xxmaj совета xxup бсср . \n",
       " \n",
       ", Text xxbos \n",
       "  = xxmaj xxunk = \n",
       "  xxmaj xxunk \n",
       " \n",
       "  xxmaj xxunk ( ) — тюркский народный струнный музыкальный инструмент , xxunk в xxmaj азербайджане , xxmaj турции и у народов xxmaj средней xxmaj азии . \n",
       " \n",
       "  xxmaj происхождение . \n",
       "  xxmaj xxunk упоминается в xxunk народном эпосе xxup vii — xxup ix веков xxmaj xxunk xxmaj xxunk xxmaj xxunk . \n",
       " \n",
       "  xxmaj виды xxunk . \n",
       "  в настоящее время наиболее известны и распространены два вида xxunk : « xxmaj xxunk xxunk » или « xxmaj xxunk » и « xxmaj xxunk xxunk » . \n",
       " \n",
       "  xxmaj этимология . \n",
       "  в целом , смысл слова понимается как « волшебное музыкальное звучание » . в переводе с xxunk языка , слово « xxunk » означает — высокий , xxunk , а « уз » — голос . \n",
       " \n",
       ", Text xxbos \n",
       "  = xxmaj московский академический театр имени xxmaj владимира xxmaj маяковского = \n",
       "  xxmaj московский академический театр имени xxmaj владимира xxmaj маяковского \n",
       " \n",
       "  xxmaj московский академический театр имени xxmaj владимира xxmaj маяковского — драматический театр в xxmaj москве , основанный в 1922 году как xxmaj театр xxmaj революции ; с 1943 года назывался xxmaj московским театром драмы , современное название появилось в 1954 году . в 1964 году театру было присвоено звание академического . \n",
       " \n",
       "  xxmaj история . \n",
       "  xxmaj здание театра , в то время известное как « театр xxmaj xxunk » , было построено в 1886 году по проекту архитектора xxup к. xxup в. xxmaj терского ( автор фасада — xxup ф. xxup о. xxmaj шехтель ) . xxmaj поначалу в помещении выступали европейские звезды , xxunk на гастроли ; на этой сцене играли такие всемирно известные артисты , как xxmaj сара xxmaj бернар , xxmaj элеонора xxmaj xxunk , xxmaj xxunk , xxmaj xxunk - xxmaj xxunk , xxmaj xxunk - старший , xxmaj xxunk - младший и другие знаменитости . xxmaj на рубеже xxup xix — xxup xx веков театр даже назывался « xxmaj xxunk » . \n",
       " \n",
       "  1920-е годы . \n",
       "  xxmaj после xxmaj революции гастроли « звёзд » прекратились . в 1920 — 1922 годах в здании размещался xxmaj театр революционной сатиры ( xxmaj xxunk ) xxmaj давида xxmaj xxunk , но в 1922 году xxmaj xxunk был расформирован и часть его труппы , xxunk актёрами других московских театров , образовала xxmaj театр xxmaj революции под руководством xxmaj всеволода xxmaj мейерхольда . xxmaj это название закрепилось до 1943 года . \n",
       " \n",
       "  в 1922 — 1923 годах советская драматургия ещё только xxunk , театр ставил современные зарубежные пьесы : « xxmaj ночь » , « xxmaj xxunk машин » и « xxmaj человек - масса » xxmaj эрнста xxmaj xxunk . xxmaj труппе , xxunk актёров разных школ , поначалу xxunk xxunk , но этот « xxunk » был xxunk в спектаклях « xxmaj xxunk место » xxup а. xxup н. xxmaj островского и « xxmaj озеро xxmaj xxunk » xxmaj алексея xxmaj xxunk , поставленных xxmaj xxunk в 1923 году . « xxmaj xxunk место » xxunk одним из первых образцов xxunk прочтения классической пьесы в советском театре . \n",
       " \n",
       "  xxmaj xxunk руководил xxmaj театром xxmaj революции два года . b 1923 — 1924 годах театр фактически возглавлял xxmaj валерий xxmaj xxunk , в 1924 году , по рекомендации xxmaj мейерхольда , главным режиссёром стал xxmaj алексей xxmaj xxunk , который xxunk театр на современную советскую xxunk . xxmaj ведущими xxunk театра в 20-х годах были xxmaj дмитрий xxmaj орлов , xxmaj константин xxmaj зубов , xxmaj мария xxmaj xxunk , xxmaj ольга xxmaj xxunk , xxmaj сергей xxmaj xxunk , xxmaj михаил xxmaj xxunk , xxmaj георгий xxmaj xxunk , xxmaj михаил xxmaj xxunk . \n",
       " \n",
       "  в 1926 году xxmaj xxunk покинул театр ; на протяжении 1927 — 1930 годов спектакли ставили режиссёры разных школ , в том числе пришедшие из xxunk ученики xxmaj мейерхольда xxmaj владимир xxmaj xxunk и xxmaj василий xxmaj фёдоров ; наиболее значительные постановки этого периода принадлежат xxmaj алексею xxmaj xxunk — « xxmaj человек с xxunk » xxup а. xxmaj xxunk , xxunk xxmaj николаем xxmaj xxunk ( 1928 ) , и « xxmaj первая xxmaj конная » xxmaj вс . xxmaj xxunk ( 1930 ) . \n",
       " \n",
       "  1930-е годы . \n",
       "  в 1931 году xxmaj театр xxmaj революции возглавил xxmaj алексей xxmaj попов . xxmaj xxunk период его руководства стал важным этапом в развитии театра ; по - своему xxunk опыт xxup к. xxup с. xxmaj станиславского и xxup е. xxup б. xxmaj вахтангова , xxmaj попов выдвинул концепцию современного « актёра - мыслителя » , чьё творчество xxunk « xxunk от мысли » . в историю советского театра вошли поставленные им спектакли по ранним пьесам xxmaj николая xxmaj xxunk « xxmaj поэма о xxunk » , « xxmaj мой друг » и « xxmaj после бала » , а также спектакль « xxmaj ромео и xxmaj джульетта » с xxup м. xxmaj xxunk и xxup м. xxmaj xxunk в главных ролях . \n",
       " \n",
       "  xxmaj но в 1935 году xxmaj алексей xxmaj попов был назначен художественным руководителем xxmaj центрального театра xxmaj красной xxmaj армии , и очень скоро xxmaj театр xxmaj революции погрузился в кризис . xxmaj на протяжении недолгого периода в театре сменилось несколько художественных руководителей , в их числе были xxmaj илья xxmaj xxunk и xxmaj николай xxmaj петров , отдельные спектакли ставили xxmaj леонид xxmaj волков , xxmaj андрей xxmaj лобанов и xxmaj юрий xxmaj xxunk , но отсутствие единого руководства и xxunk xxunk политики приводило к xxunk выбору пьес , к xxunk разрушению xxunk и xxunk « xxunk » . xxmaj этот период в истории театра был отмечен лишь отдельными xxunk xxunk , в числе которых прежде всего « xxmaj таня » xxup а. xxmaj xxunk , поставленная в 1939 году xxup а. xxmaj xxunk . \n",
       " \n",
       "  xxmaj но даже в эти , не лучшие для театра годы xxunk актёрские шедевры , такие как xxmaj диана xxmaj марии xxmaj xxunk ( « xxmaj собака на сене » ) , xxmaj елизавета xxmaj xxunk xxmaj xxunk ( « xxmaj мария xxmaj стюарт » ) , xxmaj xxunk xxmaj сергея xxmaj xxunk ( « xxmaj xxunk » ) . \n",
       " \n",
       "  xxmaj театр xxmaj николая xxmaj xxunk . \n",
       "  в 1941 году театр был эвакуирован в xxmaj ташкент ; в его здании xxup н. xxup м. xxmaj горчаков организовал единственный тогда в xxmaj москве драматический театр ( xxmaj московский театр драмы ) с привлечением части труппы xxmaj театра xxmaj ленсовета , где зрители впервые увидели « xxmaj русских людей » xxup к. xxup м. xxmaj симонова и « xxmaj фронт » xxup а. xxup е. xxmaj xxunk . xxmaj после возвращения xxmaj театра xxmaj революции в xxmaj москву в 1943 году эти труппы были объединены с ним под названием « xxmaj московский театр драмы » ; тогда же художественным руководителем был назначен xxmaj николай xxmaj xxunk , возглавлявший театр по 1967 год . \n",
       " \n",
       "  xxmaj театр xxmaj андрея xxmaj гончарова . \n",
       "  с 1967 по 2001 год , до самой смерти руководил театром xxmaj андрей xxmaj александрович xxmaj гончаров . xxmaj придя в театр , xxunk кризис , xxmaj гончаров xxunk в него новую жизнь ; событиями театральной жизни стали поставленные им в первые годы спектакли « xxmaj дети xxmaj xxunk » по пьесе xxup а. xxmaj xxunk и « xxmaj трамвай „ xxmaj желание “ » xxmaj теннесси xxmaj уильямса ( спектакль шёл на сцене театра 24 года и выдержал более 700 представлений ) . xxmaj одним из самых популярных московских спектаклей , наряду с « xxmaj xxunk „ xxmaj желание “ » , стал и « xxmaj разгром » приглашённого xxmaj xxunk xxmaj марка xxmaj захарова . в те годы на сцене xxmaj театра им . xxmaj маяковского выступали xxmaj евгений xxmaj леонов , xxmaj армен xxmaj xxunk , xxmaj владимир xxmaj самойлов , xxmaj татьяна xxmaj xxunk , xxmaj наталья xxmaj xxunk , xxmaj анатолий xxmaj xxunk , xxmaj павел xxmaj xxunk , xxmaj георгий xxmaj xxunk , xxmaj татьяна xxmaj васильева , xxmaj андрей xxmaj xxunk , xxmaj ирина xxmaj xxunk , xxmaj нина xxmaj xxunk , xxmaj людмила xxmaj xxunk , xxmaj александр xxmaj xxunk . \n",
       " \n",
       "  xxmaj выдающиеся постановки . \n",
       "  xxmaj см . также : xxmaj репертуар xxmaj московского академического театра имени xxmaj вл . xxmaj маяковского \n",
       " \n",
       "  xxmaj сегодняшний день театра . \n",
       "  с января 2002 по март 2011 художественным руководителем театра был xxmaj сергей xxmaj николаевич xxmaj xxunk . \n",
       " \n",
       "  14 марта 2011 года артисты театра имени xxmaj маяковского , среди которых xxmaj игорь xxmaj xxunk , xxmaj михаил xxmaj филиппов и xxmaj евгения xxmaj симонова , обратились с открытым письмом к своему художественному руководителю и директору с просьбой о его отставке . xxmaj большая часть театральной труппы была недовольна работой xxunk и « убедительно просила » xxmaj xxunk , xxunk посты руководителя двух театров — на xxmaj xxunk и имени xxmaj маяковского . xxmaj по мнению труппы , это привело к xxunk ухудшению состояния дел в « xxmaj xxunk » . \n",
       " \n",
       "  с 20 мая 2011 года художественный руководитель театра — xxmaj xxunk xxmaj xxunk . xxmaj директор театра с 31 декабря 2011 г . — xxmaj леонид xxmaj xxunk . \n",
       "  xxmaj спектакли в театре ставит также xxmaj юрий xxmaj владимирович xxmaj иоффе . \n",
       " \n",
       " \n",
       " \n",
       " \n",
       " \n",
       " \n",
       "]...\n",
       "Path: data/wiki/ru-100-unk;\n",
       "\n",
       "Test: None, model=SequentialRNN(\n",
       "  (0): RNNCore(\n",
       "    (encoder): Embedding(60003, 400, padding_idx=1)\n",
       "    (encoder_dp): EmbeddingDropout(\n",
       "      (emb): Embedding(60003, 400, padding_idx=1)\n",
       "    )\n",
       "    (rnns): ModuleList(\n",
       "      (0): WeightDropout(\n",
       "        (module): LSTM(400, 1150, batch_first=True)\n",
       "      )\n",
       "      (1): WeightDropout(\n",
       "        (module): LSTM(1150, 1150, batch_first=True)\n",
       "      )\n",
       "      (2): WeightDropout(\n",
       "        (module): LSTM(1150, 400, batch_first=True)\n",
       "      )\n",
       "    )\n",
       "    (input_dp): RNNDropout()\n",
       "    (hidden_dps): ModuleList(\n",
       "      (0): RNNDropout()\n",
       "      (1): RNNDropout()\n",
       "      (2): RNNDropout()\n",
       "    )\n",
       "  )\n",
       "  (1): LinearDecoder(\n",
       "    (decoder): Linear(in_features=400, out_features=60003, bias=True)\n",
       "    (output_dp): RNNDropout()\n",
       "  )\n",
       "), opt_func=functools.partial(<class 'torch.optim.adam.Adam'>, betas=(0.9, 0.99)), loss_func=<fastai.layers.FlattenedLoss object at 0x7fb0d16547b8>, metrics=[<function accuracy at 0x7fb0cadd1b70>], true_wd=True, bn_wd=True, wd=0.01, train_bn=True, path=PosixPath('data/wiki/ru-100-unk'), model_dir='models', callback_fns=[<class 'fastai.basic_train.Recorder'>], callbacks=[...], layer_groups=[Sequential(\n",
       "  (0): WeightDropout(\n",
       "    (module): LSTM(400, 1150, batch_first=True)\n",
       "  )\n",
       "  (1): RNNDropout()\n",
       "), Sequential(\n",
       "  (0): WeightDropout(\n",
       "    (module): LSTM(1150, 1150, batch_first=True)\n",
       "  )\n",
       "  (1): RNNDropout()\n",
       "), Sequential(\n",
       "  (0): WeightDropout(\n",
       "    (module): LSTM(1150, 400, batch_first=True)\n",
       "  )\n",
       "  (1): RNNDropout()\n",
       "), Sequential(\n",
       "  (0): Embedding(60003, 400, padding_idx=1)\n",
       "  (1): EmbeddingDropout(\n",
       "    (emb): Embedding(60003, 400, padding_idx=1)\n",
       "  )\n",
       "  (2): LinearDecoder(\n",
       "    (decoder): Linear(in_features=400, out_features=60003, bias=True)\n",
       "    (output_dp): RNNDropout()\n",
       "  )\n",
       ")]), bptt=70, alpha=2.0, beta=1.0, adjust=False)], layer_groups=[Sequential(\n",
       "  (0): WeightDropout(\n",
       "    (module): LSTM(400, 1150, batch_first=True)\n",
       "  )\n",
       "  (1): RNNDropout()\n",
       "), Sequential(\n",
       "  (0): WeightDropout(\n",
       "    (module): LSTM(1150, 1150, batch_first=True)\n",
       "  )\n",
       "  (1): RNNDropout()\n",
       "), Sequential(\n",
       "  (0): WeightDropout(\n",
       "    (module): LSTM(1150, 400, batch_first=True)\n",
       "  )\n",
       "  (1): RNNDropout()\n",
       "), Sequential(\n",
       "  (0): Embedding(60003, 400, padding_idx=1)\n",
       "  (1): EmbeddingDropout(\n",
       "    (emb): Embedding(60003, 400, padding_idx=1)\n",
       "  )\n",
       "  (2): LinearDecoder(\n",
       "    (decoder): Linear(in_features=400, out_features=60003, bias=True)\n",
       "    (output_dp): RNNDropout()\n",
       "  )\n",
       ")])"
      ]
     },
     "execution_count": 13,
     "metadata": {},
     "output_type": "execute_result"
    }
   ],
   "source": [
    "learner.load('ru-100-unk-best')"
   ]
  },
  {
   "cell_type": "code",
   "execution_count": 14,
   "metadata": {},
   "outputs": [],
   "source": [
    "# change Adam default params\n",
    "learner.opt_func = partial(optim.Adam, betas=(0.8, 0.99))"
   ]
  },
  {
   "cell_type": "code",
   "execution_count": 15,
   "metadata": {},
   "outputs": [
    {
     "data": {
      "text/plain": [
       "functools.partial(<class 'torch.optim.adam.Adam'>, betas=(0.8, 0.99))"
      ]
     },
     "execution_count": 15,
     "metadata": {},
     "output_type": "execute_result"
    }
   ],
   "source": [
    "learner.opt_func"
   ]
  },
  {
   "cell_type": "code",
   "execution_count": 16,
   "metadata": {},
   "outputs": [
    {
     "data": {
      "text/plain": [
       "[<function fastai.metrics.accuracy(input:torch.Tensor, targs:torch.LongTensor) -> <function NewType.<locals>.new_type at 0x7fb0d165cf28>>]"
      ]
     },
     "execution_count": 16,
     "metadata": {},
     "output_type": "execute_result"
    }
   ],
   "source": [
    "learner.metrics"
   ]
  },
  {
   "cell_type": "code",
   "execution_count": 17,
   "metadata": {},
   "outputs": [],
   "source": [
    "# add save callback\n",
    "learner.callback_fns += [partial(SaveModelCallback, every='epoch', name='lm')]"
   ]
  },
  {
   "cell_type": "code",
   "execution_count": 18,
   "metadata": {},
   "outputs": [
    {
     "data": {
      "text/plain": [
       "[fastai.basic_train.Recorder,\n",
       " functools.partial(<class 'fastai.callbacks.tracker.SaveModelCallback'>, every='epoch', name='lm')]"
      ]
     },
     "execution_count": 18,
     "metadata": {},
     "output_type": "execute_result"
    }
   ],
   "source": [
    "learner.callback_fns"
   ]
  },
  {
   "cell_type": "code",
   "execution_count": 19,
   "metadata": {},
   "outputs": [],
   "source": [
    "# unfreeze all layers\n",
    "learner.unfreeze()"
   ]
  },
  {
   "cell_type": "code",
   "execution_count": 25,
   "metadata": {
    "scrolled": true
   },
   "outputs": [
    {
     "name": "stdout",
     "output_type": "stream",
     "text": [
      "LR Finder is complete, type {learner_name}.recorder.plot() to see the graph.\n"
     ]
    }
   ],
   "source": [
    "learner.lr_find()"
   ]
  },
  {
   "cell_type": "code",
   "execution_count": 26,
   "metadata": {},
   "outputs": [
    {
     "data": {
      "image/png": "[encoded data removed]",
      "text/plain": [
       "<Figure size 432x288 with 1 Axes>"
      ]
     },
     "metadata": {
      "needs_background": "light"
     },
     "output_type": "display_data"
    }
   ],
   "source": [
    "learner.recorder.plot(skip_end=15)"
   ]
  },
  {
   "cell_type": "code",
   "execution_count": 22,
   "metadata": {},
   "outputs": [],
   "source": [
    "# define non-default momentums\n",
    "moms=(0.8,0.7)"
   ]
  },
  {
   "cell_type": "code",
   "execution_count": 23,
   "metadata": {
    "scrolled": true
   },
   "outputs": [
    {
     "data": {
      "text/html": [
       "Total time: 6:57:42 <p><table style='width:300px; margin-bottom:10px'>\n",
       "  <tr>\n",
       "    <th>epoch</th>\n",
       "    <th>train_loss</th>\n",
       "    <th>valid_loss</th>\n",
       "    <th>accuracy</th>\n",
       "  </tr>\n",
       "  <tr>\n",
       "    <th>1</th>\n",
       "    <th>3.650695</th>\n",
       "    <th>3.406265</th>\n",
       "    <th>0.428821</th>\n",
       "  </tr>\n",
       "  <tr>\n",
       "    <th>2</th>\n",
       "    <th>3.780002</th>\n",
       "    <th>3.396528</th>\n",
       "    <th>0.429244</th>\n",
       "  </tr>\n",
       "  <tr>\n",
       "    <th>3</th>\n",
       "    <th>3.829076</th>\n",
       "    <th>3.364912</th>\n",
       "    <th>0.435912</th>\n",
       "  </tr>\n",
       "  <tr>\n",
       "    <th>4</th>\n",
       "    <th>3.584365</th>\n",
       "    <th>3.340251</th>\n",
       "    <th>0.439377</th>\n",
       "  </tr>\n",
       "</table>\n"
      ],
      "text/plain": [
       "<IPython.core.display.HTML object>"
      ]
     },
     "metadata": {},
     "output_type": "display_data"
    }
   ],
   "source": [
    "learner.fit_one_cycle(4, 1e-3, moms=moms)"
   ]
  },
  {
   "cell_type": "code",
   "execution_count": 24,
   "metadata": {},
   "outputs": [],
   "source": [
    "# save model\n",
    "learner.save('ru-100-unk-best')"
   ]
  },
  {
   "cell_type": "code",
   "execution_count": null,
   "metadata": {},
   "outputs": [
    {
     "data": {
      "text/html": [
       "<script>Jupyter.notebook.kernel.restart()</script>"
      ],
      "text/plain": [
       "<IPython.core.display.HTML object>"
      ]
     },
     "execution_count": 25,
     "metadata": {},
     "output_type": "execute_result"
    }
   ],
   "source": [
    "# cell to restart notebook kernel from within\n",
    "from IPython.core.display import HTML\n",
    "HTML(\"<script>Jupyter.notebook.kernel.restart()</script>\")"
   ]
  },
  {
   "cell_type": "markdown",
   "metadata": {},
   "source": [
    "### Fine tune on ruSentEval Unsupervised data"
   ]
  },
  {
   "cell_type": "markdown",
   "metadata": {},
   "source": [
    "http://study.mokoron.com/ - I get sample data from ~17M tweets database"
   ]
  },
  {
   "cell_type": "code",
   "execution_count": 7,
   "metadata": {},
   "outputs": [],
   "source": [
    "# path for ruSentiment data\n",
    "rusent_data_path = Path('data/ruSentiment/')"
   ]
  },
  {
   "cell_type": "code",
   "execution_count": 8,
   "metadata": {},
   "outputs": [],
   "source": [
    "bs = 48"
   ]
  },
  {
   "cell_type": "code",
   "execution_count": 9,
   "metadata": {},
   "outputs": [
    {
     "data": {
      "text/plain": [
       "[PosixPath('data/ruSentiment/merg_rusenteval_rusent.csv'),\n",
       " PosixPath('data/ruSentiment/models'),\n",
       " PosixPath('data/ruSentiment/unsup_sample.csv'),\n",
       " PosixPath('data/ruSentiment/tmp_clas'),\n",
       " PosixPath('data/ruSentiment/tmp_lm'),\n",
       " PosixPath('data/ruSentiment/rusentiment_random_posts.csv'),\n",
       " PosixPath('data/ruSentiment/unsup-no-null.csv'),\n",
       " PosixPath('data/ruSentiment/rusentiment_test.csv'),\n",
       " PosixPath('data/ruSentiment/rusentiment_preselected_posts.csv')]"
      ]
     },
     "execution_count": 9,
     "metadata": {},
     "output_type": "execute_result"
    }
   ],
   "source": [
    "rusent_data_path.ls()"
   ]
  },
  {
   "cell_type": "code",
   "execution_count": 10,
   "metadata": {},
   "outputs": [],
   "source": [
    "# create LM DataBunch from ruSentEval unsupervised corpus of tweets sample (http://study.mokoron.com/)\n",
    "data1_lm = TextLMDataBunch.from_csv(rusent_data_path, 'unsup_sample.csv', text_cols=0,\n",
    "                                    valid_pct=0.1, bs=bs)"
   ]
  },
  {
   "cell_type": "code",
   "execution_count": 11,
   "metadata": {},
   "outputs": [
    {
     "name": "stdout",
     "output_type": "stream",
     "text": [
      "Size of vocabulary: 60003\n",
      "First 20 words in vocab: ['xxunk', 'xxpad', 'xxbos', 'xxfld', 'xxmaj', 'xxup', 'xxrep', 'xxwrep', '/', ':', ',', 'http', 't.co', '.', 'в', '#', 'rt', 'и', 'не', '-']\n",
      "data/ruSentiment\n"
     ]
    }
   ],
   "source": [
    "itos, stoi, data_path = data1_lm.vocab.itos, data1_lm.vocab.stoi, data1_lm.path\n",
    "print('Size of vocabulary:', len(itos))\n",
    "print('First 20 words in vocab:', itos[:20])\n",
    "print(str(data_path))"
   ]
  },
  {
   "cell_type": "code",
   "execution_count": 12,
   "metadata": {
    "scrolled": true
   },
   "outputs": [
    {
     "data": {
      "text/plain": [
       "[PosixPath('data/ruSentiment/merg_rusenteval_rusent.csv'),\n",
       " PosixPath('data/ruSentiment/train'),\n",
       " PosixPath('data/ruSentiment/valid'),\n",
       " PosixPath('data/ruSentiment/models'),\n",
       " PosixPath('data/ruSentiment/unsup_sample.csv'),\n",
       " PosixPath('data/ruSentiment/tmp_clas'),\n",
       " PosixPath('data/ruSentiment/tmp_lm'),\n",
       " PosixPath('data/ruSentiment/rusentiment_random_posts.csv'),\n",
       " PosixPath('data/ruSentiment/unsup-no-null.csv'),\n",
       " PosixPath('data/ruSentiment/rusentiment_test.csv'),\n",
       " PosixPath('data/ruSentiment/rusentiment_preselected_posts.csv')]"
      ]
     },
     "execution_count": 12,
     "metadata": {},
     "output_type": "execute_result"
    }
   ],
   "source": [
    "(data1_lm.path).ls()"
   ]
  },
  {
   "cell_type": "code",
   "execution_count": 13,
   "metadata": {
    "scrolled": true
   },
   "outputs": [
    {
     "data": {
      "text/plain": [
       "(1799487, 199944)"
      ]
     },
     "execution_count": 13,
     "metadata": {},
     "output_type": "execute_result"
    }
   ],
   "source": [
    "len(data1_lm.train_ds), len(data1_lm.valid_ds)"
   ]
  },
  {
   "cell_type": "code",
   "execution_count": 10,
   "metadata": {},
   "outputs": [
    {
     "data": {
      "text/html": [
       "<table>  <col width='5%'>  <col width='95%'>  <tr>\n",
       "    <th>idx</th>\n",
       "    <th>text</th>\n",
       "  </tr>\n",
       "  <tr>\n",
       "    <th>0</th>\n",
       "    <th>xxbos xxmaj страны - члены xxup вто договорились о реформе организации xxbos xxmaj всегда говорю , что нормально все будет и никто не умрет xxbos чай , таблетки , теплые носки и шарф \\n опять простуда ( ( xxbos сын зашел к матери а у матери упало полотенце видео http : / / t.co / xxunk xxbos xxmaj скажите вслух не xxunk - xxmaj миша , xxmaj xxunk , медведь</th>\n",
       "  </tr>\n",
       "  <tr>\n",
       "    <th>1</th>\n",
       "    <th>xxmaj марьино для моряков xxbos xxmaj снукер   -   xxmaj чемпионат xxmaj британии   -   xxmaj трое в пути . xxmaj чемпионат xxmaj британии & … xxbos xxmaj хахаха http : / / t.co / xxunk xxbos xxmaj не совсем понимаю зачем вы смотрите этот xxunk престарелых пидарасов , ребята . # xxunk xxbos отличие 8 часов . xxmaj так что в 18.00 по белорусскому времени должен быть</th>\n",
       "  </tr>\n",
       "  <tr>\n",
       "    <th>2</th>\n",
       "    <th>с ним , \\n xxmaj чтоб каждый увидел и понял суть : \\n xxmaj успей любить . xxmaj годы не вернуть , время не вернуть ♥ xxbos xxunk no \\n xxunk лицо группы xdd xxbos xxmaj можно ли завоевать свободу при помощи насилия ? xxbos xxmaj глава xxmaj московской xxmaj хельсинкской группы рассказала lifenews о своих впечатлениях от неожиданной встречи с xxunk xxmaj администрации ... xxbos xxup rt @no_4_u :</th>\n",
       "  </tr>\n",
       "  <tr>\n",
       "    <th>3</th>\n",
       "    <th>- http : / / t.co / xxunk xxbos xxup rt @olka_luchik : xxunk вкуснятина * о * спасибо:3 xxbos этот тупой апрель все лезет к нам обоим в душу xxbos http : / / t.co / xxunk как приготовить зеленый кофе с имбирем для похудения в домашних условиях xxbos xxup rt xxunk : # хочупровестиновогоднююночьвместес xxunk http : / / t.co / xxunk xxbos xxup rt xxunk : xxmaj</th>\n",
       "  </tr>\n",
       "  <tr>\n",
       "    <th>4</th>\n",
       "    <th>твит # mtvstars xxmaj one xxmaj direction http : / / t.co / xxunk m xxbos xxmaj снукер   -   xxmaj чемпионат xxmaj британии   -   xxmaj кто же первый на турнире и в рейтинге ? xxbos xxmaj это был xxmaj xxunk xxmaj xxunk , рыцарь кисти , аналитик , xxunk , философ , гражданин и член . xxmaj элиты , в смысле . xxbos грубо . \\n</th>\n",
       "  </tr>\n",
       "</table>\n"
      ],
      "text/plain": [
       "<IPython.core.display.HTML object>"
      ]
     },
     "metadata": {},
     "output_type": "display_data"
    }
   ],
   "source": [
    "data1_lm.show_batch()"
   ]
  },
  {
   "cell_type": "code",
   "execution_count": 16,
   "metadata": {},
   "outputs": [
    {
     "data": {
      "text/plain": [
       "(Text xxbos xxup rt xxunk : в xxunk дверь , xxunk на пороге , xxunk xxunk походкой xxunk и xxunk .,\n",
       " Category 0)"
      ]
     },
     "execution_count": 16,
     "metadata": {},
     "output_type": "execute_result"
    }
   ],
   "source": [
    "data1_lm.train_ds[0]"
   ]
  },
  {
   "cell_type": "code",
   "execution_count": 17,
   "metadata": {},
   "outputs": [],
   "source": [
    "# save data bunch \n",
    "data1_lm.save('tmp_lm')"
   ]
  },
  {
   "cell_type": "code",
   "execution_count": 10,
   "metadata": {},
   "outputs": [],
   "source": [
    "data1_lm = TextLMDataBunch.load(rusent_data_path, 'tmp_lm', bs=bs)"
   ]
  },
  {
   "cell_type": "markdown",
   "metadata": {},
   "source": [
    "#### Create Learner and Finetune model from pretrained fnames"
   ]
  },
  {
   "cell_type": "code",
   "execution_count": 11,
   "metadata": {},
   "outputs": [],
   "source": [
    "# pretrained model and vocab from first step of training LM\n",
    "pretrained_fnames = ['ru-100-unk-best', 'itos']"
   ]
  },
  {
   "cell_type": "code",
   "execution_count": 12,
   "metadata": {},
   "outputs": [
    {
     "name": "stdout",
     "output_type": "stream",
     "text": [
      "Unknown tokens 32987, first 100: ['t.co', 'rt', '\"', 'mtvstars', 'seconds', 'direction', 'гдз', ':)', '\\xa0', ':d', 'gameinsight', '\\n\\n', ':3', 'решебник', 'androidgames', 'шлюхи', 'имбирем', 'блять', 'блин', 'бля', 'justin', 'bieber', 'ахах', 'ненавижу', 'пойду', 'ахаха', '©', '@youtube', 'євромайдан', 'массаж', 'пиздец', 'твит', '️', 'хд', 'ipadgames', 'сижу', 'похудения', 'сука', 'твиттер', ':(', 'ладно', 'смотрю', 'евромайдан', 'ахахах', 'андроид', '\\n\\n ', 'жду', ';)', 'нахуй', 'лол', 'урока', 'торрент', 'конспект', '\\xa0 ', '❤', 'обожаю', 'прям', 'хочупровестиновогоднююночьвместес', 'бесит', 'болит', ':-)', 'майдан', 'щас', 'дp', '4о', 'o5', 'о5', '^^', 'ретвит', 'ищу', '4o', 'бл', '♥', 'фгос', '11.12.13', 'проверь', '@koffboy', 'боюсь', 'ох', 'скучаю', 'жуйк', 'майдане', 'грядки', '@5umm', 'чувак', 'ответами', 'радует', ':*', 'любишь', 'тви', 'делаю', 'янукович', 'интим', 'ахахаха', 'реферат', '<3', 'говно', 'лень', 'iphonegames', 'хуй']\n"
     ]
    }
   ],
   "source": [
    "# create learner and provide pretrained files to finetune wiki-LM with ruSentiment data\n",
    "learner = language_model_learner(data1_lm, pretrained_fnames=pretrained_fnames, drop_mult=1.0)"
   ]
  },
  {
   "cell_type": "code",
   "execution_count": 13,
   "metadata": {},
   "outputs": [],
   "source": [
    "learner.callback_fns += [partial(CSVLogger, filename=f\"{learner.model_dir}/lm-history\"),\n",
    "                         partial(SaveModelCallback, every='epoch', name='lm')]"
   ]
  },
  {
   "cell_type": "code",
   "execution_count": 14,
   "metadata": {},
   "outputs": [
    {
     "data": {
      "text/plain": [
       "[fastai.basic_train.Recorder,\n",
       " functools.partial(<class 'fastai.callbacks.csv_logger.CSVLogger'>, filename='models/lm-history'),\n",
       " functools.partial(<class 'fastai.callbacks.tracker.SaveModelCallback'>, every='epoch', name='lm')]"
      ]
     },
     "execution_count": 14,
     "metadata": {},
     "output_type": "execute_result"
    }
   ],
   "source": [
    "learner.callback_fns"
   ]
  },
  {
   "cell_type": "code",
   "execution_count": 15,
   "metadata": {},
   "outputs": [],
   "source": [
    "learner.opt_func = partial(optim.Adam, betas=(0.8, 0.99))"
   ]
  },
  {
   "cell_type": "code",
   "execution_count": 16,
   "metadata": {},
   "outputs": [
    {
     "data": {
      "text/plain": [
       "functools.partial(<class 'torch.optim.adam.Adam'>, betas=(0.8, 0.99))"
      ]
     },
     "execution_count": 16,
     "metadata": {},
     "output_type": "execute_result"
    }
   ],
   "source": [
    "learner.opt_func"
   ]
  },
  {
   "cell_type": "code",
   "execution_count": 17,
   "metadata": {},
   "outputs": [
    {
     "data": {
      "text/plain": [
       "True"
      ]
     },
     "execution_count": 17,
     "metadata": {},
     "output_type": "execute_result"
    }
   ],
   "source": [
    "learner.true_wd"
   ]
  },
  {
   "cell_type": "code",
   "execution_count": 18,
   "metadata": {},
   "outputs": [
    {
     "data": {
      "text/plain": [
       "[<function fastai.metrics.accuracy(input:torch.Tensor, targs:torch.LongTensor) -> <function NewType.<locals>.new_type at 0x7fa75f4e4f28>>]"
      ]
     },
     "execution_count": 18,
     "metadata": {},
     "output_type": "execute_result"
    }
   ],
   "source": [
    "learner.metrics"
   ]
  },
  {
   "cell_type": "code",
   "execution_count": 18,
   "metadata": {},
   "outputs": [
    {
     "name": "stdout",
     "output_type": "stream",
     "text": [
      "LR Finder is complete, type {learner_name}.recorder.plot() to see the graph.\n"
     ]
    }
   ],
   "source": [
    "learner.lr_find()"
   ]
  },
  {
   "cell_type": "code",
   "execution_count": 19,
   "metadata": {},
   "outputs": [
    {
     "data": {
      "image/png": "[encoded data removed]",
      "text/plain": [
       "<Figure size 432x288 with 1 Axes>"
      ]
     },
     "metadata": {
      "needs_background": "light"
     },
     "output_type": "display_data"
    }
   ],
   "source": [
    "learner.recorder.plot(skip_end=15)"
   ]
  },
  {
   "cell_type": "code",
   "execution_count": 19,
   "metadata": {},
   "outputs": [],
   "source": [
    "moms = (0.8, 0.7)"
   ]
  },
  {
   "cell_type": "code",
   "execution_count": 21,
   "metadata": {
    "scrolled": false
   },
   "outputs": [
    {
     "data": {
      "text/html": [
       "Total time: 22:43 <p><table style='width:300px; margin-bottom:10px'>\n",
       "  <tr>\n",
       "    <th>epoch</th>\n",
       "    <th>train_loss</th>\n",
       "    <th>valid_loss</th>\n",
       "    <th>accuracy</th>\n",
       "  </tr>\n",
       "  <tr>\n",
       "    <th>1</th>\n",
       "    <th>4.199973</th>\n",
       "    <th>3.885408</th>\n",
       "    <th>0.395484</th>\n",
       "  </tr>\n",
       "</table>\n"
      ],
      "text/plain": [
       "<IPython.core.display.HTML object>"
      ]
     },
     "metadata": {},
     "output_type": "display_data"
    }
   ],
   "source": [
    "# learning the same way as in fastai v1 examples\n",
    "learner.fit_one_cycle(1, 2e-2, moms=moms)"
   ]
  },
  {
   "cell_type": "code",
   "execution_count": 22,
   "metadata": {},
   "outputs": [],
   "source": [
    "learner.save('fit_head')"
   ]
  },
  {
   "cell_type": "code",
   "execution_count": 23,
   "metadata": {
    "collapsed": true
   },
   "outputs": [
    {
     "data": {
      "text/plain": [
       "LanguageLearner(data=TextLMDataBunch;\n",
       "\n",
       "Train: LabelList\n",
       "y: LMLabel (1799487 items)\n",
       "[Category 0, Category 0, Category 0, Category 0, Category 0]...\n",
       "Path: data/ruSentiment\n",
       "x: LMTextList (1799487 items)\n",
       "[Text xxbos xxup rt xxunk : в xxunk дверь , xxunk на пороге , xxunk xxunk походкой xxunk и xxunk ., Text xxbos xxmaj смерть стучится ко всем одинаково ., Text xxbos xxunk похоже ты xxunk :), Text xxbos xxmaj мужчина должен найти правильную цель в жизни , а женщина — мужчину с правильной целью . xxunk xxmaj шоу, Text xxbos xxup rt @dany_belik : xxmaj шизофрения - это удобно . xxmaj всегда есть с кем xxunk]...\n",
       "Path: data/ruSentiment;\n",
       "\n",
       "Valid: LabelList\n",
       "y: LMLabel (199944 items)\n",
       "[Category 0, Category 0, Category 0, Category 0, Category 0]...\n",
       "Path: data/ruSentiment\n",
       "x: LMTextList (199944 items)\n",
       "[Text xxbos xxunk да, Text xxbos @nashka_ya ну ок , я ща выхожу ток, Text xxbos xxup rt xxunk : xxmaj хера я такой ленивый ☺ ️, Text xxbos xxunk не гордиться невозможно ) и все же у меня есть надежда , что еще существуют такие мужчины, Text xxbos xxmaj эта xxmaj люси меня бесит . xxmaj xxunk]...\n",
       "Path: data/ruSentiment;\n",
       "\n",
       "Test: None, model=SequentialRNN(\n",
       "  (0): RNNCore(\n",
       "    (encoder): Embedding(60003, 400, padding_idx=1)\n",
       "    (encoder_dp): EmbeddingDropout(\n",
       "      (emb): Embedding(60003, 400, padding_idx=1)\n",
       "    )\n",
       "    (rnns): ModuleList(\n",
       "      (0): WeightDropout(\n",
       "        (module): LSTM(400, 1150, batch_first=True)\n",
       "      )\n",
       "      (1): WeightDropout(\n",
       "        (module): LSTM(1150, 1150, batch_first=True)\n",
       "      )\n",
       "      (2): WeightDropout(\n",
       "        (module): LSTM(1150, 400, batch_first=True)\n",
       "      )\n",
       "    )\n",
       "    (input_dp): RNNDropout()\n",
       "    (hidden_dps): ModuleList(\n",
       "      (0): RNNDropout()\n",
       "      (1): RNNDropout()\n",
       "      (2): RNNDropout()\n",
       "    )\n",
       "  )\n",
       "  (1): LinearDecoder(\n",
       "    (decoder): Linear(in_features=400, out_features=60003, bias=True)\n",
       "    (output_dp): RNNDropout()\n",
       "  )\n",
       "), opt_func=functools.partial(<class 'torch.optim.adam.Adam'>, betas=(0.8, 0.99)), loss_func=<fastai.layers.FlattenedLoss object at 0x7fd403d8f9b0>, metrics=[<function accuracy at 0x7fd3fd50eb70>], true_wd=True, bn_wd=True, wd=0.01, train_bn=True, path=PosixPath('data/ruSentiment'), model_dir='models', callback_fns=[<class 'fastai.basic_train.Recorder'>, functools.partial(<class 'fastai.callbacks.csv_logger.CSVLogger'>, filename='models/lm-history'), functools.partial(<class 'fastai.callbacks.tracker.SaveModelCallback'>, every='epoch', name='lm')], callbacks=[RNNTrainer(learn=LanguageLearner(data=TextLMDataBunch;\n",
       "\n",
       "Train: LabelList\n",
       "y: LMLabel (1799487 items)\n",
       "[Category 0, Category 0, Category 0, Category 0, Category 0]...\n",
       "Path: data/ruSentiment\n",
       "x: LMTextList (1799487 items)\n",
       "[Text xxbos xxup rt xxunk : в xxunk дверь , xxunk на пороге , xxunk xxunk походкой xxunk и xxunk ., Text xxbos xxmaj смерть стучится ко всем одинаково ., Text xxbos xxunk похоже ты xxunk :), Text xxbos xxmaj мужчина должен найти правильную цель в жизни , а женщина — мужчину с правильной целью . xxunk xxmaj шоу, Text xxbos xxup rt @dany_belik : xxmaj шизофрения - это удобно . xxmaj всегда есть с кем xxunk]...\n",
       "Path: data/ruSentiment;\n",
       "\n",
       "Valid: LabelList\n",
       "y: LMLabel (199944 items)\n",
       "[Category 0, Category 0, Category 0, Category 0, Category 0]...\n",
       "Path: data/ruSentiment\n",
       "x: LMTextList (199944 items)\n",
       "[Text xxbos xxunk да, Text xxbos @nashka_ya ну ок , я ща выхожу ток, Text xxbos xxup rt xxunk : xxmaj хера я такой ленивый ☺ ️, Text xxbos xxunk не гордиться невозможно ) и все же у меня есть надежда , что еще существуют такие мужчины, Text xxbos xxmaj эта xxmaj люси меня бесит . xxmaj xxunk]...\n",
       "Path: data/ruSentiment;\n",
       "\n",
       "Test: None, model=SequentialRNN(\n",
       "  (0): RNNCore(\n",
       "    (encoder): Embedding(60003, 400, padding_idx=1)\n",
       "    (encoder_dp): EmbeddingDropout(\n",
       "      (emb): Embedding(60003, 400, padding_idx=1)\n",
       "    )\n",
       "    (rnns): ModuleList(\n",
       "      (0): WeightDropout(\n",
       "        (module): LSTM(400, 1150, batch_first=True)\n",
       "      )\n",
       "      (1): WeightDropout(\n",
       "        (module): LSTM(1150, 1150, batch_first=True)\n",
       "      )\n",
       "      (2): WeightDropout(\n",
       "        (module): LSTM(1150, 400, batch_first=True)\n",
       "      )\n",
       "    )\n",
       "    (input_dp): RNNDropout()\n",
       "    (hidden_dps): ModuleList(\n",
       "      (0): RNNDropout()\n",
       "      (1): RNNDropout()\n",
       "      (2): RNNDropout()\n",
       "    )\n",
       "  )\n",
       "  (1): LinearDecoder(\n",
       "    (decoder): Linear(in_features=400, out_features=60003, bias=True)\n",
       "    (output_dp): RNNDropout()\n",
       "  )\n",
       "), opt_func=functools.partial(<class 'torch.optim.adam.Adam'>, betas=(0.8, 0.99)), loss_func=<fastai.layers.FlattenedLoss object at 0x7fd403d8f9b0>, metrics=[<function accuracy at 0x7fd3fd50eb70>], true_wd=True, bn_wd=True, wd=0.01, train_bn=True, path=PosixPath('data/ruSentiment'), model_dir='models', callback_fns=[<class 'fastai.basic_train.Recorder'>, functools.partial(<class 'fastai.callbacks.csv_logger.CSVLogger'>, filename='models/lm-history'), functools.partial(<class 'fastai.callbacks.tracker.SaveModelCallback'>, every='epoch', name='lm')], callbacks=[...], layer_groups=[Sequential(\n",
       "  (0): WeightDropout(\n",
       "    (module): LSTM(400, 1150, batch_first=True)\n",
       "  )\n",
       "  (1): RNNDropout()\n",
       "), Sequential(\n",
       "  (0): WeightDropout(\n",
       "    (module): LSTM(1150, 1150, batch_first=True)\n",
       "  )\n",
       "  (1): RNNDropout()\n",
       "), Sequential(\n",
       "  (0): WeightDropout(\n",
       "    (module): LSTM(1150, 400, batch_first=True)\n",
       "  )\n",
       "  (1): RNNDropout()\n",
       "), Sequential(\n",
       "  (0): Embedding(60003, 400, padding_idx=1)\n",
       "  (1): EmbeddingDropout(\n",
       "    (emb): Embedding(60003, 400, padding_idx=1)\n",
       "  )\n",
       "  (2): LinearDecoder(\n",
       "    (decoder): Linear(in_features=400, out_features=60003, bias=True)\n",
       "    (output_dp): RNNDropout()\n",
       "  )\n",
       ")]), bptt=70, alpha=2.0, beta=1.0, adjust=False)], layer_groups=[Sequential(\n",
       "  (0): WeightDropout(\n",
       "    (module): LSTM(400, 1150, batch_first=True)\n",
       "  )\n",
       "  (1): RNNDropout()\n",
       "), Sequential(\n",
       "  (0): WeightDropout(\n",
       "    (module): LSTM(1150, 1150, batch_first=True)\n",
       "  )\n",
       "  (1): RNNDropout()\n",
       "), Sequential(\n",
       "  (0): WeightDropout(\n",
       "    (module): LSTM(1150, 400, batch_first=True)\n",
       "  )\n",
       "  (1): RNNDropout()\n",
       "), Sequential(\n",
       "  (0): Embedding(60003, 400, padding_idx=1)\n",
       "  (1): EmbeddingDropout(\n",
       "    (emb): Embedding(60003, 400, padding_idx=1)\n",
       "  )\n",
       "  (2): LinearDecoder(\n",
       "    (decoder): Linear(in_features=400, out_features=60003, bias=True)\n",
       "    (output_dp): RNNDropout()\n",
       "  )\n",
       ")])"
      ]
     },
     "execution_count": 23,
     "metadata": {},
     "output_type": "execute_result"
    }
   ],
   "source": [
    "learner.load('fit_head')"
   ]
  },
  {
   "cell_type": "code",
   "execution_count": 24,
   "metadata": {},
   "outputs": [],
   "source": [
    "learner.unfreeze()"
   ]
  },
  {
   "cell_type": "code",
   "execution_count": 25,
   "metadata": {},
   "outputs": [
    {
     "name": "stdout",
     "output_type": "stream",
     "text": [
      "LR Finder is complete, type {learner_name}.recorder.plot() to see the graph.\n"
     ]
    }
   ],
   "source": [
    "learner.lr_find()"
   ]
  },
  {
   "cell_type": "code",
   "execution_count": 26,
   "metadata": {},
   "outputs": [
    {
     "data": {
      "image/png": "[encoded data removed]",
      "text/plain": [
       "<Figure size 432x288 with 1 Axes>"
      ]
     },
     "metadata": {
      "needs_background": "light"
     },
     "output_type": "display_data"
    }
   ],
   "source": [
    "learner.recorder.plot(skip_end=15)"
   ]
  },
  {
   "cell_type": "code",
   "execution_count": 27,
   "metadata": {
    "scrolled": true
   },
   "outputs": [
    {
     "data": {
      "text/html": [
       "Total time: 4:15:25 <p><table style='width:300px; margin-bottom:10px'>\n",
       "  <tr>\n",
       "    <th>epoch</th>\n",
       "    <th>train_loss</th>\n",
       "    <th>valid_loss</th>\n",
       "    <th>accuracy</th>\n",
       "  </tr>\n",
       "  <tr>\n",
       "    <th>1</th>\n",
       "    <th>3.735216</th>\n",
       "    <th>3.585653</th>\n",
       "    <th>0.424639</th>\n",
       "  </tr>\n",
       "  <tr>\n",
       "    <th>2</th>\n",
       "    <th>3.587598</th>\n",
       "    <th>3.429011</th>\n",
       "    <th>0.444064</th>\n",
       "  </tr>\n",
       "  <tr>\n",
       "    <th>3</th>\n",
       "    <th>3.509658</th>\n",
       "    <th>3.332727</th>\n",
       "    <th>0.457225</th>\n",
       "  </tr>\n",
       "  <tr>\n",
       "    <th>4</th>\n",
       "    <th>3.427868</th>\n",
       "    <th>3.272593</th>\n",
       "    <th>0.464458</th>\n",
       "  </tr>\n",
       "  <tr>\n",
       "    <th>5</th>\n",
       "    <th>3.369173</th>\n",
       "    <th>3.226294</th>\n",
       "    <th>0.470309</th>\n",
       "  </tr>\n",
       "  <tr>\n",
       "    <th>6</th>\n",
       "    <th>3.315650</th>\n",
       "    <th>3.187328</th>\n",
       "    <th>0.474733</th>\n",
       "  </tr>\n",
       "  <tr>\n",
       "    <th>7</th>\n",
       "    <th>3.284205</th>\n",
       "    <th>3.163924</th>\n",
       "    <th>0.477787</th>\n",
       "  </tr>\n",
       "  <tr>\n",
       "    <th>8</th>\n",
       "    <th>3.273819</th>\n",
       "    <th>3.146281</th>\n",
       "    <th>0.480194</th>\n",
       "  </tr>\n",
       "  <tr>\n",
       "    <th>9</th>\n",
       "    <th>3.245285</th>\n",
       "    <th>3.137547</th>\n",
       "    <th>0.481321</th>\n",
       "  </tr>\n",
       "  <tr>\n",
       "    <th>10</th>\n",
       "    <th>3.226189</th>\n",
       "    <th>3.135052</th>\n",
       "    <th>0.481679</th>\n",
       "  </tr>\n",
       "</table>\n"
      ],
      "text/plain": [
       "<IPython.core.display.HTML object>"
      ]
     },
     "metadata": {},
     "output_type": "display_data"
    }
   ],
   "source": [
    "learner.fit_one_cycle(10, 1e-3, moms=moms)"
   ]
  },
  {
   "cell_type": "code",
   "execution_count": 28,
   "metadata": {},
   "outputs": [],
   "source": [
    "# save fine_tuned model\n",
    "learner.save('fine_tuned')"
   ]
  },
  {
   "cell_type": "code",
   "execution_count": 29,
   "metadata": {},
   "outputs": [],
   "source": [
    "# save finetuned models encoder to use for classification task\n",
    "learner.save_encoder('fine_tuned_enc')"
   ]
  },
  {
   "cell_type": "code",
   "execution_count": 20,
   "metadata": {
    "collapsed": true
   },
   "outputs": [
    {
     "data": {
      "text/plain": [
       "LanguageLearner(data=TextLMDataBunch;\n",
       "\n",
       "Train: LabelList\n",
       "y: LMLabel (1799487 items)\n",
       "[Category 0, Category 0, Category 0, Category 0, Category 0]...\n",
       "Path: data/ruSentiment\n",
       "x: LMTextList (1799487 items)\n",
       "[Text xxbos xxup rt xxunk : в xxunk дверь , xxunk на пороге , xxunk xxunk походкой xxunk и xxunk ., Text xxbos xxmaj смерть стучится ко всем одинаково ., Text xxbos xxunk похоже ты xxunk :), Text xxbos xxmaj мужчина должен найти правильную цель в жизни , а женщина — мужчину с правильной целью . xxunk xxmaj шоу, Text xxbos xxup rt @dany_belik : xxmaj шизофрения - это удобно . xxmaj всегда есть с кем xxunk]...\n",
       "Path: data/ruSentiment;\n",
       "\n",
       "Valid: LabelList\n",
       "y: LMLabel (199944 items)\n",
       "[Category 0, Category 0, Category 0, Category 0, Category 0]...\n",
       "Path: data/ruSentiment\n",
       "x: LMTextList (199944 items)\n",
       "[Text xxbos xxunk да, Text xxbos @nashka_ya ну ок , я ща выхожу ток, Text xxbos xxup rt xxunk : xxmaj хера я такой ленивый ☺ ️, Text xxbos xxunk не гордиться невозможно ) и все же у меня есть надежда , что еще существуют такие мужчины, Text xxbos xxmaj эта xxmaj люси меня бесит . xxmaj xxunk]...\n",
       "Path: data/ruSentiment;\n",
       "\n",
       "Test: None, model=SequentialRNN(\n",
       "  (0): RNNCore(\n",
       "    (encoder): Embedding(60003, 400, padding_idx=1)\n",
       "    (encoder_dp): EmbeddingDropout(\n",
       "      (emb): Embedding(60003, 400, padding_idx=1)\n",
       "    )\n",
       "    (rnns): ModuleList(\n",
       "      (0): WeightDropout(\n",
       "        (module): LSTM(400, 1150, batch_first=True)\n",
       "      )\n",
       "      (1): WeightDropout(\n",
       "        (module): LSTM(1150, 1150, batch_first=True)\n",
       "      )\n",
       "      (2): WeightDropout(\n",
       "        (module): LSTM(1150, 400, batch_first=True)\n",
       "      )\n",
       "    )\n",
       "    (input_dp): RNNDropout()\n",
       "    (hidden_dps): ModuleList(\n",
       "      (0): RNNDropout()\n",
       "      (1): RNNDropout()\n",
       "      (2): RNNDropout()\n",
       "    )\n",
       "  )\n",
       "  (1): LinearDecoder(\n",
       "    (decoder): Linear(in_features=400, out_features=60003, bias=True)\n",
       "    (output_dp): RNNDropout()\n",
       "  )\n",
       "), opt_func=functools.partial(<class 'torch.optim.adam.Adam'>, betas=(0.8, 0.99)), loss_func=<fastai.layers.FlattenedLoss object at 0x7fa75f4d99b0>, metrics=[<function accuracy at 0x7fa758c58b70>], true_wd=True, bn_wd=True, wd=0.01, train_bn=True, path=PosixPath('data/ruSentiment'), model_dir='models', callback_fns=[<class 'fastai.basic_train.Recorder'>, functools.partial(<class 'fastai.callbacks.csv_logger.CSVLogger'>, filename='models/lm-history'), functools.partial(<class 'fastai.callbacks.tracker.SaveModelCallback'>, every='epoch', name='lm')], callbacks=[RNNTrainer(learn=LanguageLearner(data=TextLMDataBunch;\n",
       "\n",
       "Train: LabelList\n",
       "y: LMLabel (1799487 items)\n",
       "[Category 0, Category 0, Category 0, Category 0, Category 0]...\n",
       "Path: data/ruSentiment\n",
       "x: LMTextList (1799487 items)\n",
       "[Text xxbos xxup rt xxunk : в xxunk дверь , xxunk на пороге , xxunk xxunk походкой xxunk и xxunk ., Text xxbos xxmaj смерть стучится ко всем одинаково ., Text xxbos xxunk похоже ты xxunk :), Text xxbos xxmaj мужчина должен найти правильную цель в жизни , а женщина — мужчину с правильной целью . xxunk xxmaj шоу, Text xxbos xxup rt @dany_belik : xxmaj шизофрения - это удобно . xxmaj всегда есть с кем xxunk]...\n",
       "Path: data/ruSentiment;\n",
       "\n",
       "Valid: LabelList\n",
       "y: LMLabel (199944 items)\n",
       "[Category 0, Category 0, Category 0, Category 0, Category 0]...\n",
       "Path: data/ruSentiment\n",
       "x: LMTextList (199944 items)\n",
       "[Text xxbos xxunk да, Text xxbos @nashka_ya ну ок , я ща выхожу ток, Text xxbos xxup rt xxunk : xxmaj хера я такой ленивый ☺ ️, Text xxbos xxunk не гордиться невозможно ) и все же у меня есть надежда , что еще существуют такие мужчины, Text xxbos xxmaj эта xxmaj люси меня бесит . xxmaj xxunk]...\n",
       "Path: data/ruSentiment;\n",
       "\n",
       "Test: None, model=SequentialRNN(\n",
       "  (0): RNNCore(\n",
       "    (encoder): Embedding(60003, 400, padding_idx=1)\n",
       "    (encoder_dp): EmbeddingDropout(\n",
       "      (emb): Embedding(60003, 400, padding_idx=1)\n",
       "    )\n",
       "    (rnns): ModuleList(\n",
       "      (0): WeightDropout(\n",
       "        (module): LSTM(400, 1150, batch_first=True)\n",
       "      )\n",
       "      (1): WeightDropout(\n",
       "        (module): LSTM(1150, 1150, batch_first=True)\n",
       "      )\n",
       "      (2): WeightDropout(\n",
       "        (module): LSTM(1150, 400, batch_first=True)\n",
       "      )\n",
       "    )\n",
       "    (input_dp): RNNDropout()\n",
       "    (hidden_dps): ModuleList(\n",
       "      (0): RNNDropout()\n",
       "      (1): RNNDropout()\n",
       "      (2): RNNDropout()\n",
       "    )\n",
       "  )\n",
       "  (1): LinearDecoder(\n",
       "    (decoder): Linear(in_features=400, out_features=60003, bias=True)\n",
       "    (output_dp): RNNDropout()\n",
       "  )\n",
       "), opt_func=functools.partial(<class 'torch.optim.adam.Adam'>, betas=(0.8, 0.99)), loss_func=<fastai.layers.FlattenedLoss object at 0x7fa75f4d99b0>, metrics=[<function accuracy at 0x7fa758c58b70>], true_wd=True, bn_wd=True, wd=0.01, train_bn=True, path=PosixPath('data/ruSentiment'), model_dir='models', callback_fns=[<class 'fastai.basic_train.Recorder'>, functools.partial(<class 'fastai.callbacks.csv_logger.CSVLogger'>, filename='models/lm-history'), functools.partial(<class 'fastai.callbacks.tracker.SaveModelCallback'>, every='epoch', name='lm')], callbacks=[...], layer_groups=[Sequential(\n",
       "  (0): WeightDropout(\n",
       "    (module): LSTM(400, 1150, batch_first=True)\n",
       "  )\n",
       "  (1): RNNDropout()\n",
       "), Sequential(\n",
       "  (0): WeightDropout(\n",
       "    (module): LSTM(1150, 1150, batch_first=True)\n",
       "  )\n",
       "  (1): RNNDropout()\n",
       "), Sequential(\n",
       "  (0): WeightDropout(\n",
       "    (module): LSTM(1150, 400, batch_first=True)\n",
       "  )\n",
       "  (1): RNNDropout()\n",
       "), Sequential(\n",
       "  (0): Embedding(60003, 400, padding_idx=1)\n",
       "  (1): EmbeddingDropout(\n",
       "    (emb): Embedding(60003, 400, padding_idx=1)\n",
       "  )\n",
       "  (2): LinearDecoder(\n",
       "    (decoder): Linear(in_features=400, out_features=60003, bias=True)\n",
       "    (output_dp): RNNDropout()\n",
       "  )\n",
       ")]), bptt=70, alpha=2.0, beta=1.0, adjust=False)], layer_groups=[Sequential(\n",
       "  (0): WeightDropout(\n",
       "    (module): LSTM(400, 1150, batch_first=True)\n",
       "  )\n",
       "  (1): RNNDropout()\n",
       "), Sequential(\n",
       "  (0): WeightDropout(\n",
       "    (module): LSTM(1150, 1150, batch_first=True)\n",
       "  )\n",
       "  (1): RNNDropout()\n",
       "), Sequential(\n",
       "  (0): WeightDropout(\n",
       "    (module): LSTM(1150, 400, batch_first=True)\n",
       "  )\n",
       "  (1): RNNDropout()\n",
       "), Sequential(\n",
       "  (0): Embedding(60003, 400, padding_idx=1)\n",
       "  (1): EmbeddingDropout(\n",
       "    (emb): Embedding(60003, 400, padding_idx=1)\n",
       "  )\n",
       "  (2): LinearDecoder(\n",
       "    (decoder): Linear(in_features=400, out_features=60003, bias=True)\n",
       "    (output_dp): RNNDropout()\n",
       "  )\n",
       ")])"
      ]
     },
     "execution_count": 20,
     "metadata": {},
     "output_type": "execute_result"
    }
   ],
   "source": [
    "learner.load('fine_tuned')"
   ]
  },
  {
   "cell_type": "code",
   "execution_count": 21,
   "metadata": {},
   "outputs": [],
   "source": [
    "learner.unfreeze()"
   ]
  },
  {
   "cell_type": "code",
   "execution_count": 22,
   "metadata": {},
   "outputs": [
    {
     "name": "stdout",
     "output_type": "stream",
     "text": [
      "LR Finder is complete, type {learner_name}.recorder.plot() to see the graph.\n"
     ]
    }
   ],
   "source": [
    "learner.lr_find()"
   ]
  },
  {
   "cell_type": "code",
   "execution_count": 23,
   "metadata": {},
   "outputs": [
    {
     "data": {
      "image/png": "[encoded data removed]",
      "text/plain": [
       "<Figure size 432x288 with 1 Axes>"
      ]
     },
     "metadata": {
      "needs_background": "light"
     },
     "output_type": "display_data"
    }
   ],
   "source": [
    "learner.recorder.plot(skip_end=15)"
   ]
  },
  {
   "cell_type": "code",
   "execution_count": 24,
   "metadata": {
    "scrolled": false
   },
   "outputs": [
    {
     "data": {
      "text/html": [
       "Total time: 4:15:19 <p><table style='width:300px; margin-bottom:10px'>\n",
       "  <tr>\n",
       "    <th>epoch</th>\n",
       "    <th>train_loss</th>\n",
       "    <th>valid_loss</th>\n",
       "    <th>accuracy</th>\n",
       "  </tr>\n",
       "  <tr>\n",
       "    <th>1</th>\n",
       "    <th>3.231057</th>\n",
       "    <th>3.140359</th>\n",
       "    <th>0.481063</th>\n",
       "  </tr>\n",
       "  <tr>\n",
       "    <th>2</th>\n",
       "    <th>3.269537</th>\n",
       "    <th>3.151430</th>\n",
       "    <th>0.479394</th>\n",
       "  </tr>\n",
       "  <tr>\n",
       "    <th>3</th>\n",
       "    <th>3.294204</th>\n",
       "    <th>3.152580</th>\n",
       "    <th>0.478704</th>\n",
       "  </tr>\n",
       "  <tr>\n",
       "    <th>4</th>\n",
       "    <th>3.283042</th>\n",
       "    <th>3.139181</th>\n",
       "    <th>0.480054</th>\n",
       "  </tr>\n",
       "  <tr>\n",
       "    <th>5</th>\n",
       "    <th>3.252020</th>\n",
       "    <th>3.123043</th>\n",
       "    <th>0.482185</th>\n",
       "  </tr>\n",
       "  <tr>\n",
       "    <th>6</th>\n",
       "    <th>3.229360</th>\n",
       "    <th>3.104628</th>\n",
       "    <th>0.484357</th>\n",
       "  </tr>\n",
       "  <tr>\n",
       "    <th>7</th>\n",
       "    <th>3.189149</th>\n",
       "    <th>3.088255</th>\n",
       "    <th>0.486624</th>\n",
       "  </tr>\n",
       "  <tr>\n",
       "    <th>8</th>\n",
       "    <th>3.189629</th>\n",
       "    <th>3.076576</th>\n",
       "    <th>0.488203</th>\n",
       "  </tr>\n",
       "  <tr>\n",
       "    <th>9</th>\n",
       "    <th>3.175652</th>\n",
       "    <th>3.069256</th>\n",
       "    <th>0.489264</th>\n",
       "  </tr>\n",
       "  <tr>\n",
       "    <th>10</th>\n",
       "    <th>3.124987</th>\n",
       "    <th>3.067669</th>\n",
       "    <th>0.489498</th>\n",
       "  </tr>\n",
       "</table>\n"
      ],
      "text/plain": [
       "<IPython.core.display.HTML object>"
      ]
     },
     "metadata": {},
     "output_type": "display_data"
    }
   ],
   "source": [
    "# trying 10 more iterations to fintune\n",
    "learner.fit_one_cycle(10, 1e-3, moms=moms)"
   ]
  },
  {
   "cell_type": "code",
   "execution_count": 25,
   "metadata": {},
   "outputs": [],
   "source": [
    "# save fine_tuned model\n",
    "learner.save('fine_tuned')"
   ]
  },
  {
   "cell_type": "code",
   "execution_count": 26,
   "metadata": {},
   "outputs": [],
   "source": [
    "# save finetuned models encoder to use for classification task\n",
    "learner.save_encoder('fine_tuned_enc')"
   ]
  },
  {
   "cell_type": "code",
   "execution_count": null,
   "metadata": {},
   "outputs": [
    {
     "data": {
      "text/html": [
       "<script>Jupyter.notebook.kernel.restart()</script>"
      ],
      "text/plain": [
       "<IPython.core.display.HTML object>"
      ]
     },
     "execution_count": 33,
     "metadata": {},
     "output_type": "execute_result"
    }
   ],
   "source": [
    "# cell to restart notebook kernel from within\n",
    "from IPython.core.display import HTML\n",
    "HTML(\"<script>Jupyter.notebook.kernel.restart()</script>\")"
   ]
  },
  {
   "cell_type": "code",
   "execution_count": 27,
   "metadata": {},
   "outputs": [],
   "source": [
    "# check text generation with LM\n",
    "TEXT = \"сегодня утром я\"\n",
    "N_WORDS = 10\n",
    "N_SENTENCES = 2"
   ]
  },
  {
   "cell_type": "code",
   "execution_count": 28,
   "metadata": {},
   "outputs": [
    {
     "name": "stdout",
     "output_type": "stream",
     "text": [
      "сегодня утром я пороки росомаха снимаю зафиксировали финляндию истинного посадит @homutoov вредно открываются\n",
      "сегодня утром я декабр финансовых кеша фрагмент интимдосуг славе паразит растущие рода @sweetmolko\n"
     ]
    }
   ],
   "source": [
    "print(\"\\n\".join(learner.predict(TEXT, N_WORDS, temperature=0.75) for _ in range(N_SENTENCES)))"
   ]
  },
  {
   "cell_type": "markdown",
   "metadata": {},
   "source": [
    "### Classifier"
   ]
  },
  {
   "cell_type": "markdown",
   "metadata": {},
   "source": [
    "Here we are working on ruSentiment classification task from http://text-machine.cs.uml.edu/projects/rusentiment/"
   ]
  },
  {
   "cell_type": "code",
   "execution_count": 11,
   "metadata": {},
   "outputs": [
    {
     "data": {
      "text/plain": [
       "[PosixPath('data/ruSentiment/merg_rusenteval_rusent.csv'),\n",
       " PosixPath('data/ruSentiment/models'),\n",
       " PosixPath('data/ruSentiment/unsup_sample.csv'),\n",
       " PosixPath('data/ruSentiment/tmp_clas'),\n",
       " PosixPath('data/ruSentiment/tmp_lm'),\n",
       " PosixPath('data/ruSentiment/rusentiment_random_posts.csv'),\n",
       " PosixPath('data/ruSentiment/unsup-no-null.csv'),\n",
       " PosixPath('data/ruSentiment/rusentiment_test.csv'),\n",
       " PosixPath('data/ruSentiment/rusentiment_preselected_posts.csv')]"
      ]
     },
     "execution_count": 11,
     "metadata": {},
     "output_type": "execute_result"
    }
   ],
   "source": [
    "rusent_data_path.ls()"
   ]
  },
  {
   "cell_type": "code",
   "execution_count": 12,
   "metadata": {},
   "outputs": [],
   "source": [
    "rand = pd.read_csv(rusent_data_path/'rusentiment_random_posts.csv')\n",
    "presel = pd.read_csv(rusent_data_path/'rusentiment_preselected_posts.csv')"
   ]
  },
  {
   "cell_type": "code",
   "execution_count": 13,
   "metadata": {},
   "outputs": [],
   "source": [
    "# create classification databunch, please note usage of LM vocab\n",
    "# as a train data we use both random posts and preselected posts\n",
    "# and testset to mesure quality of classifier\n",
    "data_clas = TextClasDataBunch.from_df(path=rusent_data_path,\n",
    "                                      train_df=pd.concat([rand, presel], ignore_index=True),\n",
    "                                      valid_df=pd.read_csv(rusent_data_path/'rusentiment_test.csv'),\n",
    "                                      vocab=data1_lm.vocab, text_cols='text', label_cols='label', bs=bs)"
   ]
  },
  {
   "cell_type": "code",
   "execution_count": 14,
   "metadata": {},
   "outputs": [
    {
     "data": {
      "text/html": [
       "<table>  <col width='90%'>  <col width='10%'>  <tr>\n",
       "    <th>text</th>\n",
       "    <th>target</th>\n",
       "  </tr>\n",
       "  <tr>\n",
       "    <th>xxbos - xxmaj отдать тебе любовь ? \\n - xxmaj отдай . \\n - xxmaj она в грязи . \\n - xxmaj отдай в грязи . \\n - я xxunk хочу . \\n - xxmaj гадай \\n - xxmaj еще спросить хочу . \\n - xxmaj спроси . \\n - xxmaj допустим , xxunk . \\n - xxmaj xxunk . \\n - xxmaj допустим , позову . \\n - xxmaj</th>\n",
       "    <th>neutral</th>\n",
       "  </tr>\n",
       "  <tr>\n",
       "    <th>xxbos xxmaj xxunk прошлое в огне … xxmaj гори все \\n xxunk … \\n xxmaj не xxunk ни о чем … xxmaj забудьте \\n xxunk ! \\n xxmaj не вспоминайте о плохом … и о \\n хорошем … \\n xxmaj не собирайте под столом … от \\n счастья xxunk … \\n xxmaj ведь вы достойны не кусков … и не \\n xxunk … \\n xxmaj лишь стоит руку протянуть …</th>\n",
       "    <th>neutral</th>\n",
       "  </tr>\n",
       "  <tr>\n",
       "    <th>xxbos xxmaj xxunk : \\n я люблю свою работу , \\n я приду сюда в субботу \\n и конечно в воскресенье . \\n xxmaj здесь я встречу день рожденье , \\n xxmaj новый год , 8 xxmaj марта , \\n xxmaj ночевать здесь буду завтра ! \\n xxmaj если я не заболею , \\n xxmaj не сорвусь , не xxunk , \\n xxmaj здесь я встречу все рассветы , \\n</th>\n",
       "    <th>neutral</th>\n",
       "  </tr>\n",
       "  <tr>\n",
       "    <th>xxbos - xxmaj привет . \\n - xxmaj ага \\n - xxmaj ты что делаешь ? \\n - xxmaj по комнате бегаю . \\n - xxmaj почему ? \\n - xxmaj потому что соседи твои идиоты . \\n - xxmaj причём тут соседи ? \\n - xxmaj потому что они краску не любят . \\n - xxmaj какую краску ? \\n - xxmaj видимо xxunk . \\n - xxmaj как</th>\n",
       "    <th>skip</th>\n",
       "  </tr>\n",
       "  <tr>\n",
       "    <th>xxbos xxmaj друг - это … . xxmaj тот , который узнает тебя издалека и при виде твоего xxunk xxunk уже xxunk в улыбке … . xxunk xxmaj друг - тот , который хочет быть с тобой , когда тебе трудно … . и хочет , чтобы ты был с ним , когда ему хорошо … . xxunk xxmaj лучший друг - это тот , с которым ты можешь сидеть</th>\n",
       "    <th>neutral</th>\n",
       "  </tr>\n",
       "</table>\n"
      ],
      "text/plain": [
       "<IPython.core.display.HTML object>"
      ]
     },
     "metadata": {},
     "output_type": "display_data"
    }
   ],
   "source": [
    "data_clas.show_batch()"
   ]
  },
  {
   "cell_type": "code",
   "execution_count": 15,
   "metadata": {},
   "outputs": [
    {
     "data": {
      "text/plain": [
       "5"
      ]
     },
     "execution_count": 15,
     "metadata": {},
     "output_type": "execute_result"
    }
   ],
   "source": [
    "# number of classes\n",
    "data_clas.train_ds.c"
   ]
  },
  {
   "cell_type": "code",
   "execution_count": 16,
   "metadata": {},
   "outputs": [
    {
     "data": {
      "text/plain": [
       "['negative', 'neutral', 'positive', 'skip', 'speech']"
      ]
     },
     "execution_count": 16,
     "metadata": {},
     "output_type": "execute_result"
    }
   ],
   "source": [
    "# classes labels\n",
    "data_clas.train_ds.classes"
   ]
  },
  {
   "cell_type": "code",
   "execution_count": 17,
   "metadata": {},
   "outputs": [
    {
     "data": {
      "text/plain": [
       "TextClasDataBunch;\n",
       "\n",
       "Train: LabelList\n",
       "y: CategoryList (28218 items)\n",
       "[Category negative, Category speech, Category skip, Category negative, Category skip]...\n",
       "Path: data/ruSentiment\n",
       "x: TextList (28218 items)\n",
       "[Text xxbos а попа xxunk давно , что ты с кавказа .. перестану общаться с тобой, Text xxbos з прошедшим xxmaj днем xxmaj ангела xxrep 8 ), Text xxbos xxmaj два дня до xxunk с острова xxrep 7 !, Text xxbos xxmaj блин , почему эта жизнь столь не справедлива xxrep 4 (, Text xxbos где еще встречать свой день рождения как не на кладбище xxrep 4 )]...\n",
       "Path: data/ruSentiment;\n",
       "\n",
       "Valid: LabelList\n",
       "y: CategoryList (2967 items)\n",
       "[Category neutral, Category positive, Category neutral, Category skip, Category speech]...\n",
       "Path: data/ruSentiment\n",
       "x: TextList (2967 items)\n",
       "[Text xxbos xxmaj александр , тебе к лицу эта пушка :) \n",
       ", Text xxbos xxmaj скоро ты вернешься домой , грязный , не xxunk но такой любимый ❤, Text xxbos xxunk ... ) ), Text xxbos xxmaj мы просто с [ xxunk ] xxunk xxrep 5 ) \n",
       " к новому году в xxunk готовы ! xxrep 6 ) \n",
       " xxmaj да , мы любим молоко ! xxmaj когда стареешь - xxunk на него вместо xxunk воды xxunk, Text xxbos ой , прости забыла поздравить , с xxunk , да ! xxrep 4 )]...\n",
       "Path: data/ruSentiment;\n",
       "\n",
       "Test: None"
      ]
     },
     "execution_count": 17,
     "metadata": {},
     "output_type": "execute_result"
    }
   ],
   "source": [
    "data_clas"
   ]
  },
  {
   "cell_type": "code",
   "execution_count": 18,
   "metadata": {
    "scrolled": true
   },
   "outputs": [
    {
     "data": {
      "text/plain": [
       "60003"
      ]
     },
     "execution_count": 18,
     "metadata": {},
     "output_type": "execute_result"
    }
   ],
   "source": [
    "len(data_clas.vocab.itos)"
   ]
  },
  {
   "cell_type": "code",
   "execution_count": 19,
   "metadata": {},
   "outputs": [
    {
     "data": {
      "text/plain": [
       "24"
      ]
     },
     "execution_count": 19,
     "metadata": {},
     "output_type": "execute_result"
    }
   ],
   "source": [
    "data_clas.batch_size"
   ]
  },
  {
   "cell_type": "code",
   "execution_count": 20,
   "metadata": {},
   "outputs": [],
   "source": [
    "# save for future use\n",
    "data_clas.save('tmp_clas')"
   ]
  },
  {
   "cell_type": "code",
   "execution_count": 10,
   "metadata": {},
   "outputs": [],
   "source": [
    "data_clas = TextClasDataBunch.load(rusent_data_path, 'tmp_clas', bs=bs)"
   ]
  },
  {
   "cell_type": "markdown",
   "metadata": {},
   "source": [
    "#### Training"
   ]
  },
  {
   "cell_type": "code",
   "execution_count": 21,
   "metadata": {},
   "outputs": [],
   "source": [
    "# create learner and train\n",
    "# train classifier as in fastai imdb example\n",
    "learner = text_classifier_learner(data=data_clas, drop_mult=0.5)"
   ]
  },
  {
   "cell_type": "code",
   "execution_count": 22,
   "metadata": {},
   "outputs": [],
   "source": [
    "# load fine tuned encoder\n",
    "learner.load_encoder('fine_tuned_enc')"
   ]
  },
  {
   "cell_type": "code",
   "execution_count": 23,
   "metadata": {},
   "outputs": [],
   "source": [
    "learner.callback_fns += [partial(SaveModelCallback, every='epoch', name='cls')]"
   ]
  },
  {
   "cell_type": "code",
   "execution_count": 24,
   "metadata": {},
   "outputs": [],
   "source": [
    "learner.freeze()"
   ]
  },
  {
   "cell_type": "code",
   "execution_count": 25,
   "metadata": {},
   "outputs": [
    {
     "name": "stdout",
     "output_type": "stream",
     "text": [
      "LR Finder is complete, type {learner_name}.recorder.plot() to see the graph.\n"
     ]
    }
   ],
   "source": [
    "learner.lr_find()"
   ]
  },
  {
   "cell_type": "code",
   "execution_count": 26,
   "metadata": {},
   "outputs": [
    {
     "data": {
      "image/png": "[encoded data removed]",
      "text/plain": [
       "<Figure size 432x288 with 1 Axes>"
      ]
     },
     "metadata": {
      "needs_background": "light"
     },
     "output_type": "display_data"
    }
   ],
   "source": [
    "learner.recorder.plot()"
   ]
  },
  {
   "cell_type": "code",
   "execution_count": 27,
   "metadata": {},
   "outputs": [],
   "source": [
    "moms=(0.8,0.7)"
   ]
  },
  {
   "cell_type": "code",
   "execution_count": 28,
   "metadata": {},
   "outputs": [
    {
     "data": {
      "text/html": [
       "Total time: 00:16 <p><table style='width:300px; margin-bottom:10px'>\n",
       "  <tr>\n",
       "    <th>epoch</th>\n",
       "    <th>train_loss</th>\n",
       "    <th>valid_loss</th>\n",
       "    <th>accuracy</th>\n",
       "  </tr>\n",
       "  <tr>\n",
       "    <th>1</th>\n",
       "    <th>1.058190</th>\n",
       "    <th>0.838331</th>\n",
       "    <th>0.664644</th>\n",
       "  </tr>\n",
       "</table>\n"
      ],
      "text/plain": [
       "<IPython.core.display.HTML object>"
      ]
     },
     "metadata": {},
     "output_type": "display_data"
    }
   ],
   "source": [
    "learner.fit_one_cycle(1, 2e-2, moms=moms)"
   ]
  },
  {
   "cell_type": "code",
   "execution_count": 29,
   "metadata": {},
   "outputs": [],
   "source": [
    "learner.save('first')"
   ]
  },
  {
   "cell_type": "code",
   "execution_count": 14,
   "metadata": {
    "collapsed": true
   },
   "outputs": [
    {
     "data": {
      "text/plain": [
       "RNNLearner(data=TextClasDataBunch;\n",
       "\n",
       "Train: LabelList\n",
       "y: CategoryList (21268 items)\n",
       "[Category negative, Category speech, Category skip, Category negative, Category skip]...\n",
       "Path: .\n",
       "x: TextList (21268 items)\n",
       "[Text xxbos а попа подозревала давно , что ты с кавказа .. перестану общаться с тобой, Text xxbos з прошедшим xxmaj днем xxmaj ангела xxrep 8 ), Text xxbos xxmaj два дня до xxunk с острова xxrep 7 !, Text xxbos xxmaj блин , почему эта жизнь столь не справедлива xxrep 4 (, Text xxbos где еще встречать свой день рождения как не на кладбище xxrep 4 )]...\n",
       "Path: data/ruSentiment;\n",
       "\n",
       "Valid: LabelList\n",
       "y: CategoryList (2967 items)\n",
       "[Category neutral, Category positive, Category neutral, Category skip, Category speech]...\n",
       "Path: .\n",
       "x: TextList (2967 items)\n",
       "[Text xxbos xxmaj александр , тебе к лицу эта пушка :) \n",
       ", Text xxbos xxmaj скоро ты вернешься домой , грязный , не xxunk но такой любимый ❤, Text xxbos помниш ... ) ), Text xxbos xxmaj мы просто с [ xxunk ] xxunk xxrep 5 ) \n",
       " к новому году в xxunk готовы ! xxrep 6 ) \n",
       " xxmaj да , мы любим молоко ! xxmaj когда стареешь - xxunk на него вместо xxunk воды 🍹, Text xxbos ой , прости забыла поздравить , с xxunk , да ! xxrep 4 )]...\n",
       "Path: data/ruSentiment;\n",
       "\n",
       "Test: None, model=SequentialRNN(\n",
       "  (0): MultiBatchRNNCore(\n",
       "    (encoder): Embedding(60003, 400, padding_idx=1)\n",
       "    (encoder_dp): EmbeddingDropout(\n",
       "      (emb): Embedding(60003, 400, padding_idx=1)\n",
       "    )\n",
       "    (rnns): ModuleList(\n",
       "      (0): WeightDropout(\n",
       "        (module): LSTM(400, 1150, batch_first=True)\n",
       "      )\n",
       "      (1): WeightDropout(\n",
       "        (module): LSTM(1150, 1150, batch_first=True)\n",
       "      )\n",
       "      (2): WeightDropout(\n",
       "        (module): LSTM(1150, 400, batch_first=True)\n",
       "      )\n",
       "    )\n",
       "    (input_dp): RNNDropout()\n",
       "    (hidden_dps): ModuleList(\n",
       "      (0): RNNDropout()\n",
       "      (1): RNNDropout()\n",
       "      (2): RNNDropout()\n",
       "    )\n",
       "  )\n",
       "  (1): PoolingLinearClassifier(\n",
       "    (layers): Sequential(\n",
       "      (0): BatchNorm1d(1200, eps=1e-05, momentum=0.1, affine=True, track_running_stats=True)\n",
       "      (1): Dropout(p=0.2)\n",
       "      (2): Linear(in_features=1200, out_features=50, bias=True)\n",
       "      (3): ReLU(inplace)\n",
       "      (4): BatchNorm1d(50, eps=1e-05, momentum=0.1, affine=True, track_running_stats=True)\n",
       "      (5): Dropout(p=0.1)\n",
       "      (6): Linear(in_features=50, out_features=5, bias=True)\n",
       "    )\n",
       "  )\n",
       "), opt_func=functools.partial(<class 'torch.optim.adam.Adam'>, betas=(0.9, 0.99)), loss_func=<fastai.layers.FlattenedLoss object at 0x7fdc422bdba8>, metrics=[<function accuracy at 0x7fdc45510950>], true_wd=True, bn_wd=True, wd=0.01, train_bn=True, path=PosixPath('data/ruSentiment'), model_dir='models', callback_fns=[<class 'fastai.basic_train.Recorder'>], callbacks=[RNNTrainer(learn=RNNLearner(data=TextClasDataBunch;\n",
       "\n",
       "Train: LabelList\n",
       "y: CategoryList (21268 items)\n",
       "[Category negative, Category speech, Category skip, Category negative, Category skip]...\n",
       "Path: .\n",
       "x: TextList (21268 items)\n",
       "[Text xxbos а попа подозревала давно , что ты с кавказа .. перестану общаться с тобой, Text xxbos з прошедшим xxmaj днем xxmaj ангела xxrep 8 ), Text xxbos xxmaj два дня до xxunk с острова xxrep 7 !, Text xxbos xxmaj блин , почему эта жизнь столь не справедлива xxrep 4 (, Text xxbos где еще встречать свой день рождения как не на кладбище xxrep 4 )]...\n",
       "Path: data/ruSentiment;\n",
       "\n",
       "Valid: LabelList\n",
       "y: CategoryList (2967 items)\n",
       "[Category neutral, Category positive, Category neutral, Category skip, Category speech]...\n",
       "Path: .\n",
       "x: TextList (2967 items)\n",
       "[Text xxbos xxmaj александр , тебе к лицу эта пушка :) \n",
       ", Text xxbos xxmaj скоро ты вернешься домой , грязный , не xxunk но такой любимый ❤, Text xxbos помниш ... ) ), Text xxbos xxmaj мы просто с [ xxunk ] xxunk xxrep 5 ) \n",
       " к новому году в xxunk готовы ! xxrep 6 ) \n",
       " xxmaj да , мы любим молоко ! xxmaj когда стареешь - xxunk на него вместо xxunk воды 🍹, Text xxbos ой , прости забыла поздравить , с xxunk , да ! xxrep 4 )]...\n",
       "Path: data/ruSentiment;\n",
       "\n",
       "Test: None, model=SequentialRNN(\n",
       "  (0): MultiBatchRNNCore(\n",
       "    (encoder): Embedding(60003, 400, padding_idx=1)\n",
       "    (encoder_dp): EmbeddingDropout(\n",
       "      (emb): Embedding(60003, 400, padding_idx=1)\n",
       "    )\n",
       "    (rnns): ModuleList(\n",
       "      (0): WeightDropout(\n",
       "        (module): LSTM(400, 1150, batch_first=True)\n",
       "      )\n",
       "      (1): WeightDropout(\n",
       "        (module): LSTM(1150, 1150, batch_first=True)\n",
       "      )\n",
       "      (2): WeightDropout(\n",
       "        (module): LSTM(1150, 400, batch_first=True)\n",
       "      )\n",
       "    )\n",
       "    (input_dp): RNNDropout()\n",
       "    (hidden_dps): ModuleList(\n",
       "      (0): RNNDropout()\n",
       "      (1): RNNDropout()\n",
       "      (2): RNNDropout()\n",
       "    )\n",
       "  )\n",
       "  (1): PoolingLinearClassifier(\n",
       "    (layers): Sequential(\n",
       "      (0): BatchNorm1d(1200, eps=1e-05, momentum=0.1, affine=True, track_running_stats=True)\n",
       "      (1): Dropout(p=0.2)\n",
       "      (2): Linear(in_features=1200, out_features=50, bias=True)\n",
       "      (3): ReLU(inplace)\n",
       "      (4): BatchNorm1d(50, eps=1e-05, momentum=0.1, affine=True, track_running_stats=True)\n",
       "      (5): Dropout(p=0.1)\n",
       "      (6): Linear(in_features=50, out_features=5, bias=True)\n",
       "    )\n",
       "  )\n",
       "), opt_func=functools.partial(<class 'torch.optim.adam.Adam'>, betas=(0.9, 0.99)), loss_func=<fastai.layers.FlattenedLoss object at 0x7fdc422bdba8>, metrics=[<function accuracy at 0x7fdc45510950>], true_wd=True, bn_wd=True, wd=0.01, train_bn=True, path=PosixPath('data/ruSentiment'), model_dir='models', callback_fns=[<class 'fastai.basic_train.Recorder'>], callbacks=[...], layer_groups=[Sequential(\n",
       "  (0): Embedding(60003, 400, padding_idx=1)\n",
       "  (1): EmbeddingDropout(\n",
       "    (emb): Embedding(60003, 400, padding_idx=1)\n",
       "  )\n",
       "), Sequential(\n",
       "  (0): WeightDropout(\n",
       "    (module): LSTM(400, 1150, batch_first=True)\n",
       "  )\n",
       "  (1): RNNDropout()\n",
       "), Sequential(\n",
       "  (0): WeightDropout(\n",
       "    (module): LSTM(1150, 1150, batch_first=True)\n",
       "  )\n",
       "  (1): RNNDropout()\n",
       "), Sequential(\n",
       "  (0): WeightDropout(\n",
       "    (module): LSTM(1150, 400, batch_first=True)\n",
       "  )\n",
       "  (1): RNNDropout()\n",
       "), Sequential(\n",
       "  (0): PoolingLinearClassifier(\n",
       "    (layers): Sequential(\n",
       "      (0): BatchNorm1d(1200, eps=1e-05, momentum=0.1, affine=True, track_running_stats=True)\n",
       "      (1): Dropout(p=0.2)\n",
       "      (2): Linear(in_features=1200, out_features=50, bias=True)\n",
       "      (3): ReLU(inplace)\n",
       "      (4): BatchNorm1d(50, eps=1e-05, momentum=0.1, affine=True, track_running_stats=True)\n",
       "      (5): Dropout(p=0.1)\n",
       "      (6): Linear(in_features=50, out_features=5, bias=True)\n",
       "    )\n",
       "  )\n",
       ")]), bptt=70, alpha=2.0, beta=1.0, adjust=False)], layer_groups=[Sequential(\n",
       "  (0): Embedding(60003, 400, padding_idx=1)\n",
       "  (1): EmbeddingDropout(\n",
       "    (emb): Embedding(60003, 400, padding_idx=1)\n",
       "  )\n",
       "), Sequential(\n",
       "  (0): WeightDropout(\n",
       "    (module): LSTM(400, 1150, batch_first=True)\n",
       "  )\n",
       "  (1): RNNDropout()\n",
       "), Sequential(\n",
       "  (0): WeightDropout(\n",
       "    (module): LSTM(1150, 1150, batch_first=True)\n",
       "  )\n",
       "  (1): RNNDropout()\n",
       "), Sequential(\n",
       "  (0): WeightDropout(\n",
       "    (module): LSTM(1150, 400, batch_first=True)\n",
       "  )\n",
       "  (1): RNNDropout()\n",
       "), Sequential(\n",
       "  (0): PoolingLinearClassifier(\n",
       "    (layers): Sequential(\n",
       "      (0): BatchNorm1d(1200, eps=1e-05, momentum=0.1, affine=True, track_running_stats=True)\n",
       "      (1): Dropout(p=0.2)\n",
       "      (2): Linear(in_features=1200, out_features=50, bias=True)\n",
       "      (3): ReLU(inplace)\n",
       "      (4): BatchNorm1d(50, eps=1e-05, momentum=0.1, affine=True, track_running_stats=True)\n",
       "      (5): Dropout(p=0.1)\n",
       "      (6): Linear(in_features=50, out_features=5, bias=True)\n",
       "    )\n",
       "  )\n",
       ")])"
      ]
     },
     "execution_count": 14,
     "metadata": {},
     "output_type": "execute_result"
    }
   ],
   "source": [
    "learner.load('first')"
   ]
  },
  {
   "cell_type": "code",
   "execution_count": 30,
   "metadata": {},
   "outputs": [],
   "source": [
    "learner.freeze_to(-2)"
   ]
  },
  {
   "cell_type": "code",
   "execution_count": 31,
   "metadata": {},
   "outputs": [
    {
     "name": "stdout",
     "output_type": "stream",
     "text": [
      "LR Finder is complete, type {learner_name}.recorder.plot() to see the graph.\n"
     ]
    }
   ],
   "source": [
    "learner.lr_find()"
   ]
  },
  {
   "cell_type": "code",
   "execution_count": 32,
   "metadata": {},
   "outputs": [
    {
     "data": {
      "image/png": "[encoded data removed]",
      "text/plain": [
       "<Figure size 432x288 with 1 Axes>"
      ]
     },
     "metadata": {
      "needs_background": "light"
     },
     "output_type": "display_data"
    }
   ],
   "source": [
    "learner.recorder.plot()"
   ]
  },
  {
   "cell_type": "code",
   "execution_count": 33,
   "metadata": {
    "scrolled": true
   },
   "outputs": [
    {
     "data": {
      "text/html": [
       "Total time: 00:19 <p><table style='width:300px; margin-bottom:10px'>\n",
       "  <tr>\n",
       "    <th>epoch</th>\n",
       "    <th>train_loss</th>\n",
       "    <th>valid_loss</th>\n",
       "    <th>accuracy</th>\n",
       "  </tr>\n",
       "  <tr>\n",
       "    <th>1</th>\n",
       "    <th>0.924162</th>\n",
       "    <th>0.778857</th>\n",
       "    <th>0.697337</th>\n",
       "  </tr>\n",
       "</table>\n"
      ],
      "text/plain": [
       "<IPython.core.display.HTML object>"
      ]
     },
     "metadata": {},
     "output_type": "display_data"
    }
   ],
   "source": [
    "learner.fit_one_cycle(1, slice(1e-2/(2.6**4),1e-2), moms=moms)"
   ]
  },
  {
   "cell_type": "code",
   "execution_count": 34,
   "metadata": {},
   "outputs": [],
   "source": [
    "learner.save('second')"
   ]
  },
  {
   "cell_type": "code",
   "execution_count": 36,
   "metadata": {
    "collapsed": true
   },
   "outputs": [
    {
     "data": {
      "text/plain": [
       "RNNLearner(data=TextClasDataBunch;\n",
       "\n",
       "Train: LabelList\n",
       "y: CategoryList (21268 items)\n",
       "[Category negative, Category speech, Category skip, Category negative, Category skip]...\n",
       "Path: .\n",
       "x: TextList (21268 items)\n",
       "[Text xxbos а попа подозревала давно , что ты с кавказа .. перестану общаться с тобой, Text xxbos з прошедшим xxmaj днем xxmaj ангела xxrep 8 ), Text xxbos xxmaj два дня до xxunk с острова xxrep 7 !, Text xxbos xxmaj блин , почему эта жизнь столь не справедлива xxrep 4 (, Text xxbos где еще встречать свой день рождения как не на кладбище xxrep 4 )]...\n",
       "Path: data/ruSentiment;\n",
       "\n",
       "Valid: LabelList\n",
       "y: CategoryList (2967 items)\n",
       "[Category neutral, Category positive, Category neutral, Category skip, Category speech]...\n",
       "Path: .\n",
       "x: TextList (2967 items)\n",
       "[Text xxbos xxmaj александр , тебе к лицу эта пушка :) \n",
       ", Text xxbos xxmaj скоро ты вернешься домой , грязный , не xxunk но такой любимый ❤, Text xxbos помниш ... ) ), Text xxbos xxmaj мы просто с [ xxunk ] xxunk xxrep 5 ) \n",
       " к новому году в xxunk готовы ! xxrep 6 ) \n",
       " xxmaj да , мы любим молоко ! xxmaj когда стареешь - xxunk на него вместо xxunk воды 🍹, Text xxbos ой , прости забыла поздравить , с xxunk , да ! xxrep 4 )]...\n",
       "Path: data/ruSentiment;\n",
       "\n",
       "Test: None, model=SequentialRNN(\n",
       "  (0): MultiBatchRNNCore(\n",
       "    (encoder): Embedding(60003, 400, padding_idx=1)\n",
       "    (encoder_dp): EmbeddingDropout(\n",
       "      (emb): Embedding(60003, 400, padding_idx=1)\n",
       "    )\n",
       "    (rnns): ModuleList(\n",
       "      (0): WeightDropout(\n",
       "        (module): LSTM(400, 1150, batch_first=True)\n",
       "      )\n",
       "      (1): WeightDropout(\n",
       "        (module): LSTM(1150, 1150, batch_first=True)\n",
       "      )\n",
       "      (2): WeightDropout(\n",
       "        (module): LSTM(1150, 400, batch_first=True)\n",
       "      )\n",
       "    )\n",
       "    (input_dp): RNNDropout()\n",
       "    (hidden_dps): ModuleList(\n",
       "      (0): RNNDropout()\n",
       "      (1): RNNDropout()\n",
       "      (2): RNNDropout()\n",
       "    )\n",
       "  )\n",
       "  (1): PoolingLinearClassifier(\n",
       "    (layers): Sequential(\n",
       "      (0): BatchNorm1d(1200, eps=1e-05, momentum=0.1, affine=True, track_running_stats=True)\n",
       "      (1): Dropout(p=0.2)\n",
       "      (2): Linear(in_features=1200, out_features=50, bias=True)\n",
       "      (3): ReLU(inplace)\n",
       "      (4): BatchNorm1d(50, eps=1e-05, momentum=0.1, affine=True, track_running_stats=True)\n",
       "      (5): Dropout(p=0.1)\n",
       "      (6): Linear(in_features=50, out_features=5, bias=True)\n",
       "    )\n",
       "  )\n",
       "), opt_func=functools.partial(<class 'torch.optim.adam.Adam'>, betas=(0.9, 0.99)), loss_func=<fastai.layers.FlattenedLoss object at 0x7fc2f8099b70>, metrics=[<function accuracy at 0x7fc2fb3a6b70>], true_wd=True, bn_wd=True, wd=0.01, train_bn=True, path=PosixPath('data/ruSentiment'), model_dir='models', callback_fns=[<class 'fastai.basic_train.Recorder'>], callbacks=[RNNTrainer(learn=RNNLearner(data=TextClasDataBunch;\n",
       "\n",
       "Train: LabelList\n",
       "y: CategoryList (21268 items)\n",
       "[Category negative, Category speech, Category skip, Category negative, Category skip]...\n",
       "Path: .\n",
       "x: TextList (21268 items)\n",
       "[Text xxbos а попа подозревала давно , что ты с кавказа .. перестану общаться с тобой, Text xxbos з прошедшим xxmaj днем xxmaj ангела xxrep 8 ), Text xxbos xxmaj два дня до xxunk с острова xxrep 7 !, Text xxbos xxmaj блин , почему эта жизнь столь не справедлива xxrep 4 (, Text xxbos где еще встречать свой день рождения как не на кладбище xxrep 4 )]...\n",
       "Path: data/ruSentiment;\n",
       "\n",
       "Valid: LabelList\n",
       "y: CategoryList (2967 items)\n",
       "[Category neutral, Category positive, Category neutral, Category skip, Category speech]...\n",
       "Path: .\n",
       "x: TextList (2967 items)\n",
       "[Text xxbos xxmaj александр , тебе к лицу эта пушка :) \n",
       ", Text xxbos xxmaj скоро ты вернешься домой , грязный , не xxunk но такой любимый ❤, Text xxbos помниш ... ) ), Text xxbos xxmaj мы просто с [ xxunk ] xxunk xxrep 5 ) \n",
       " к новому году в xxunk готовы ! xxrep 6 ) \n",
       " xxmaj да , мы любим молоко ! xxmaj когда стареешь - xxunk на него вместо xxunk воды 🍹, Text xxbos ой , прости забыла поздравить , с xxunk , да ! xxrep 4 )]...\n",
       "Path: data/ruSentiment;\n",
       "\n",
       "Test: None, model=SequentialRNN(\n",
       "  (0): MultiBatchRNNCore(\n",
       "    (encoder): Embedding(60003, 400, padding_idx=1)\n",
       "    (encoder_dp): EmbeddingDropout(\n",
       "      (emb): Embedding(60003, 400, padding_idx=1)\n",
       "    )\n",
       "    (rnns): ModuleList(\n",
       "      (0): WeightDropout(\n",
       "        (module): LSTM(400, 1150, batch_first=True)\n",
       "      )\n",
       "      (1): WeightDropout(\n",
       "        (module): LSTM(1150, 1150, batch_first=True)\n",
       "      )\n",
       "      (2): WeightDropout(\n",
       "        (module): LSTM(1150, 400, batch_first=True)\n",
       "      )\n",
       "    )\n",
       "    (input_dp): RNNDropout()\n",
       "    (hidden_dps): ModuleList(\n",
       "      (0): RNNDropout()\n",
       "      (1): RNNDropout()\n",
       "      (2): RNNDropout()\n",
       "    )\n",
       "  )\n",
       "  (1): PoolingLinearClassifier(\n",
       "    (layers): Sequential(\n",
       "      (0): BatchNorm1d(1200, eps=1e-05, momentum=0.1, affine=True, track_running_stats=True)\n",
       "      (1): Dropout(p=0.2)\n",
       "      (2): Linear(in_features=1200, out_features=50, bias=True)\n",
       "      (3): ReLU(inplace)\n",
       "      (4): BatchNorm1d(50, eps=1e-05, momentum=0.1, affine=True, track_running_stats=True)\n",
       "      (5): Dropout(p=0.1)\n",
       "      (6): Linear(in_features=50, out_features=5, bias=True)\n",
       "    )\n",
       "  )\n",
       "), opt_func=functools.partial(<class 'torch.optim.adam.Adam'>, betas=(0.9, 0.99)), loss_func=<fastai.layers.FlattenedLoss object at 0x7fc2f8099b70>, metrics=[<function accuracy at 0x7fc2fb3a6b70>], true_wd=True, bn_wd=True, wd=0.01, train_bn=True, path=PosixPath('data/ruSentiment'), model_dir='models', callback_fns=[<class 'fastai.basic_train.Recorder'>], callbacks=[...], layer_groups=[Sequential(\n",
       "  (0): Embedding(60003, 400, padding_idx=1)\n",
       "  (1): EmbeddingDropout(\n",
       "    (emb): Embedding(60003, 400, padding_idx=1)\n",
       "  )\n",
       "), Sequential(\n",
       "  (0): WeightDropout(\n",
       "    (module): LSTM(400, 1150, batch_first=True)\n",
       "  )\n",
       "  (1): RNNDropout()\n",
       "), Sequential(\n",
       "  (0): WeightDropout(\n",
       "    (module): LSTM(1150, 1150, batch_first=True)\n",
       "  )\n",
       "  (1): RNNDropout()\n",
       "), Sequential(\n",
       "  (0): WeightDropout(\n",
       "    (module): LSTM(1150, 400, batch_first=True)\n",
       "  )\n",
       "  (1): RNNDropout()\n",
       "), Sequential(\n",
       "  (0): PoolingLinearClassifier(\n",
       "    (layers): Sequential(\n",
       "      (0): BatchNorm1d(1200, eps=1e-05, momentum=0.1, affine=True, track_running_stats=True)\n",
       "      (1): Dropout(p=0.2)\n",
       "      (2): Linear(in_features=1200, out_features=50, bias=True)\n",
       "      (3): ReLU(inplace)\n",
       "      (4): BatchNorm1d(50, eps=1e-05, momentum=0.1, affine=True, track_running_stats=True)\n",
       "      (5): Dropout(p=0.1)\n",
       "      (6): Linear(in_features=50, out_features=5, bias=True)\n",
       "    )\n",
       "  )\n",
       ")]), bptt=70, alpha=2.0, beta=1.0, adjust=False)], layer_groups=[Sequential(\n",
       "  (0): Embedding(60003, 400, padding_idx=1)\n",
       "  (1): EmbeddingDropout(\n",
       "    (emb): Embedding(60003, 400, padding_idx=1)\n",
       "  )\n",
       "), Sequential(\n",
       "  (0): WeightDropout(\n",
       "    (module): LSTM(400, 1150, batch_first=True)\n",
       "  )\n",
       "  (1): RNNDropout()\n",
       "), Sequential(\n",
       "  (0): WeightDropout(\n",
       "    (module): LSTM(1150, 1150, batch_first=True)\n",
       "  )\n",
       "  (1): RNNDropout()\n",
       "), Sequential(\n",
       "  (0): WeightDropout(\n",
       "    (module): LSTM(1150, 400, batch_first=True)\n",
       "  )\n",
       "  (1): RNNDropout()\n",
       "), Sequential(\n",
       "  (0): PoolingLinearClassifier(\n",
       "    (layers): Sequential(\n",
       "      (0): BatchNorm1d(1200, eps=1e-05, momentum=0.1, affine=True, track_running_stats=True)\n",
       "      (1): Dropout(p=0.2)\n",
       "      (2): Linear(in_features=1200, out_features=50, bias=True)\n",
       "      (3): ReLU(inplace)\n",
       "      (4): BatchNorm1d(50, eps=1e-05, momentum=0.1, affine=True, track_running_stats=True)\n",
       "      (5): Dropout(p=0.1)\n",
       "      (6): Linear(in_features=50, out_features=5, bias=True)\n",
       "    )\n",
       "  )\n",
       ")])"
      ]
     },
     "execution_count": 36,
     "metadata": {},
     "output_type": "execute_result"
    }
   ],
   "source": [
    "learner.load('second')"
   ]
  },
  {
   "cell_type": "code",
   "execution_count": 35,
   "metadata": {},
   "outputs": [],
   "source": [
    "learner.freeze_to(-3)"
   ]
  },
  {
   "cell_type": "code",
   "execution_count": 36,
   "metadata": {},
   "outputs": [
    {
     "name": "stdout",
     "output_type": "stream",
     "text": [
      "LR Finder is complete, type {learner_name}.recorder.plot() to see the graph.\n"
     ]
    }
   ],
   "source": [
    "learner.lr_find()"
   ]
  },
  {
   "cell_type": "code",
   "execution_count": 37,
   "metadata": {},
   "outputs": [
    {
     "data": {
      "image/png": "[encoded data removed]",
      "text/plain": [
       "<Figure size 432x288 with 1 Axes>"
      ]
     },
     "metadata": {
      "needs_background": "light"
     },
     "output_type": "display_data"
    }
   ],
   "source": [
    "learner.recorder.plot()"
   ]
  },
  {
   "cell_type": "code",
   "execution_count": 38,
   "metadata": {},
   "outputs": [
    {
     "data": {
      "text/html": [
       "Total time: 00:30 <p><table style='width:300px; margin-bottom:10px'>\n",
       "  <tr>\n",
       "    <th>epoch</th>\n",
       "    <th>train_loss</th>\n",
       "    <th>valid_loss</th>\n",
       "    <th>accuracy</th>\n",
       "  </tr>\n",
       "  <tr>\n",
       "    <th>1</th>\n",
       "    <th>0.819542</th>\n",
       "    <th>0.728567</th>\n",
       "    <th>0.721267</th>\n",
       "  </tr>\n",
       "</table>\n"
      ],
      "text/plain": [
       "<IPython.core.display.HTML object>"
      ]
     },
     "metadata": {},
     "output_type": "display_data"
    }
   ],
   "source": [
    "learner.fit_one_cycle(1, slice(5e-3/(2.6**4),5e-3), moms=moms)"
   ]
  },
  {
   "cell_type": "code",
   "execution_count": 39,
   "metadata": {},
   "outputs": [],
   "source": [
    "learner.save('third')"
   ]
  },
  {
   "cell_type": "code",
   "execution_count": 40,
   "metadata": {},
   "outputs": [],
   "source": [
    "learner.unfreeze()"
   ]
  },
  {
   "cell_type": "code",
   "execution_count": 41,
   "metadata": {},
   "outputs": [
    {
     "name": "stdout",
     "output_type": "stream",
     "text": [
      "LR Finder is complete, type {learner_name}.recorder.plot() to see the graph.\n"
     ]
    }
   ],
   "source": [
    "learner.lr_find()"
   ]
  },
  {
   "cell_type": "code",
   "execution_count": 42,
   "metadata": {},
   "outputs": [
    {
     "data": {
      "image/png": "[encoded data removed]",
      "text/plain": [
       "<Figure size 432x288 with 1 Axes>"
      ]
     },
     "metadata": {
      "needs_background": "light"
     },
     "output_type": "display_data"
    }
   ],
   "source": [
    "learner.recorder.plot()"
   ]
  },
  {
   "cell_type": "code",
   "execution_count": 43,
   "metadata": {},
   "outputs": [
    {
     "data": {
      "text/html": [
       "Total time: 01:38 <p><table style='width:300px; margin-bottom:10px'>\n",
       "  <tr>\n",
       "    <th>epoch</th>\n",
       "    <th>train_loss</th>\n",
       "    <th>valid_loss</th>\n",
       "    <th>accuracy</th>\n",
       "  </tr>\n",
       "  <tr>\n",
       "    <th>1</th>\n",
       "    <th>0.735982</th>\n",
       "    <th>0.717970</th>\n",
       "    <th>0.720256</th>\n",
       "  </tr>\n",
       "  <tr>\n",
       "    <th>2</th>\n",
       "    <th>0.691754</th>\n",
       "    <th>0.706860</th>\n",
       "    <th>0.725312</th>\n",
       "  </tr>\n",
       "</table>\n"
      ],
      "text/plain": [
       "<IPython.core.display.HTML object>"
      ]
     },
     "metadata": {},
     "output_type": "display_data"
    }
   ],
   "source": [
    "learner.fit_one_cycle(2, slice(1e-3/(2.6**4),1e-3), moms=moms)"
   ]
  },
  {
   "cell_type": "code",
   "execution_count": 45,
   "metadata": {},
   "outputs": [
    {
     "data": {
      "text/html": [
       "Total time: 01:37 <p><table style='width:300px; margin-bottom:10px'>\n",
       "  <tr>\n",
       "    <th>epoch</th>\n",
       "    <th>train_loss</th>\n",
       "    <th>valid_loss</th>\n",
       "    <th>accuracy</th>\n",
       "  </tr>\n",
       "  <tr>\n",
       "    <th>1</th>\n",
       "    <th>0.668335</th>\n",
       "    <th>0.728310</th>\n",
       "    <th>0.716212</th>\n",
       "  </tr>\n",
       "  <tr>\n",
       "    <th>2</th>\n",
       "    <th>0.611837</th>\n",
       "    <th>0.708961</th>\n",
       "    <th>0.729693</th>\n",
       "  </tr>\n",
       "</table>\n"
      ],
      "text/plain": [
       "<IPython.core.display.HTML object>"
      ]
     },
     "metadata": {},
     "output_type": "display_data"
    }
   ],
   "source": [
    "learner.fit_one_cycle(2, slice(1e-3/(2.6**4),1e-3), moms=moms)"
   ]
  },
  {
   "cell_type": "code",
   "execution_count": 46,
   "metadata": {},
   "outputs": [],
   "source": [
    "learner.save('best-classifier')"
   ]
  },
  {
   "cell_type": "code",
   "execution_count": 114,
   "metadata": {
    "collapsed": true
   },
   "outputs": [
    {
     "data": {
      "text/plain": [
       "RNNLearner(data=TextClasDataBunch;\n",
       "\n",
       "Train: LabelList\n",
       "y: CategoryList (28218 items)\n",
       "[Category negative, Category speech, Category skip, Category negative, Category skip]...\n",
       "Path: data/ruSentiment\n",
       "x: TextList (28218 items)\n",
       "[Text xxbos а попа xxunk давно , что ты с кавказа .. перестану общаться с тобой, Text xxbos з прошедшим xxmaj днем xxmaj ангела xxrep 8 ), Text xxbos xxmaj два дня до xxunk с острова xxrep 7 !, Text xxbos xxmaj блин , почему эта жизнь столь не справедлива xxrep 4 (, Text xxbos где еще встречать свой день рождения как не на кладбище xxrep 4 )]...\n",
       "Path: data/ruSentiment;\n",
       "\n",
       "Valid: LabelList\n",
       "y: CategoryList (2967 items)\n",
       "[Category neutral, Category positive, Category neutral, Category skip, Category speech]...\n",
       "Path: data/ruSentiment\n",
       "x: TextList (2967 items)\n",
       "[Text xxbos xxmaj александр , тебе к лицу эта пушка :) \n",
       ", Text xxbos xxmaj скоро ты вернешься домой , грязный , не xxunk но такой любимый ❤, Text xxbos xxunk ... ) ), Text xxbos xxmaj мы просто с [ xxunk ] xxunk xxrep 5 ) \n",
       " к новому году в xxunk готовы ! xxrep 6 ) \n",
       " xxmaj да , мы любим молоко ! xxmaj когда стареешь - xxunk на него вместо xxunk воды xxunk, Text xxbos ой , прости забыла поздравить , с xxunk , да ! xxrep 4 )]...\n",
       "Path: data/ruSentiment;\n",
       "\n",
       "Test: None, model=SequentialRNN(\n",
       "  (0): MultiBatchRNNCore(\n",
       "    (encoder): Embedding(60003, 400, padding_idx=1)\n",
       "    (encoder_dp): EmbeddingDropout(\n",
       "      (emb): Embedding(60003, 400, padding_idx=1)\n",
       "    )\n",
       "    (rnns): ModuleList(\n",
       "      (0): WeightDropout(\n",
       "        (module): LSTM(400, 1150, batch_first=True)\n",
       "      )\n",
       "      (1): WeightDropout(\n",
       "        (module): LSTM(1150, 1150, batch_first=True)\n",
       "      )\n",
       "      (2): WeightDropout(\n",
       "        (module): LSTM(1150, 400, batch_first=True)\n",
       "      )\n",
       "    )\n",
       "    (input_dp): RNNDropout()\n",
       "    (hidden_dps): ModuleList(\n",
       "      (0): RNNDropout()\n",
       "      (1): RNNDropout()\n",
       "      (2): RNNDropout()\n",
       "    )\n",
       "  )\n",
       "  (1): PoolingLinearClassifier(\n",
       "    (layers): Sequential(\n",
       "      (0): BatchNorm1d(1200, eps=1e-05, momentum=0.1, affine=True, track_running_stats=True)\n",
       "      (1): Dropout(p=0.2)\n",
       "      (2): Linear(in_features=1200, out_features=50, bias=True)\n",
       "      (3): ReLU(inplace)\n",
       "      (4): BatchNorm1d(50, eps=1e-05, momentum=0.1, affine=True, track_running_stats=True)\n",
       "      (5): Dropout(p=0.1)\n",
       "      (6): Linear(in_features=50, out_features=5, bias=True)\n",
       "    )\n",
       "  )\n",
       "), opt_func=functools.partial(<class 'torch.optim.adam.Adam'>, betas=(0.9, 0.99)), loss_func=<fastai.layers.FlattenedLoss object at 0x7f64b1d6b3c8>, metrics=[<function accuracy at 0x7f64b6e79950>], true_wd=True, bn_wd=True, wd=0.01, train_bn=True, path=PosixPath('data/ruSentiment'), model_dir='models', callback_fns=[<class 'fastai.basic_train.Recorder'>, functools.partial(<class 'fastai.callbacks.tracker.SaveModelCallback'>, every='epoch', name='cls')], callbacks=[RNNTrainer(learn=RNNLearner(data=TextClasDataBunch;\n",
       "\n",
       "Train: LabelList\n",
       "y: CategoryList (28218 items)\n",
       "[Category negative, Category speech, Category skip, Category negative, Category skip]...\n",
       "Path: data/ruSentiment\n",
       "x: TextList (28218 items)\n",
       "[Text xxbos а попа xxunk давно , что ты с кавказа .. перестану общаться с тобой, Text xxbos з прошедшим xxmaj днем xxmaj ангела xxrep 8 ), Text xxbos xxmaj два дня до xxunk с острова xxrep 7 !, Text xxbos xxmaj блин , почему эта жизнь столь не справедлива xxrep 4 (, Text xxbos где еще встречать свой день рождения как не на кладбище xxrep 4 )]...\n",
       "Path: data/ruSentiment;\n",
       "\n",
       "Valid: LabelList\n",
       "y: CategoryList (2967 items)\n",
       "[Category neutral, Category positive, Category neutral, Category skip, Category speech]...\n",
       "Path: data/ruSentiment\n",
       "x: TextList (2967 items)\n",
       "[Text xxbos xxmaj александр , тебе к лицу эта пушка :) \n",
       ", Text xxbos xxmaj скоро ты вернешься домой , грязный , не xxunk но такой любимый ❤, Text xxbos xxunk ... ) ), Text xxbos xxmaj мы просто с [ xxunk ] xxunk xxrep 5 ) \n",
       " к новому году в xxunk готовы ! xxrep 6 ) \n",
       " xxmaj да , мы любим молоко ! xxmaj когда стареешь - xxunk на него вместо xxunk воды xxunk, Text xxbos ой , прости забыла поздравить , с xxunk , да ! xxrep 4 )]...\n",
       "Path: data/ruSentiment;\n",
       "\n",
       "Test: None, model=SequentialRNN(\n",
       "  (0): MultiBatchRNNCore(\n",
       "    (encoder): Embedding(60003, 400, padding_idx=1)\n",
       "    (encoder_dp): EmbeddingDropout(\n",
       "      (emb): Embedding(60003, 400, padding_idx=1)\n",
       "    )\n",
       "    (rnns): ModuleList(\n",
       "      (0): WeightDropout(\n",
       "        (module): LSTM(400, 1150, batch_first=True)\n",
       "      )\n",
       "      (1): WeightDropout(\n",
       "        (module): LSTM(1150, 1150, batch_first=True)\n",
       "      )\n",
       "      (2): WeightDropout(\n",
       "        (module): LSTM(1150, 400, batch_first=True)\n",
       "      )\n",
       "    )\n",
       "    (input_dp): RNNDropout()\n",
       "    (hidden_dps): ModuleList(\n",
       "      (0): RNNDropout()\n",
       "      (1): RNNDropout()\n",
       "      (2): RNNDropout()\n",
       "    )\n",
       "  )\n",
       "  (1): PoolingLinearClassifier(\n",
       "    (layers): Sequential(\n",
       "      (0): BatchNorm1d(1200, eps=1e-05, momentum=0.1, affine=True, track_running_stats=True)\n",
       "      (1): Dropout(p=0.2)\n",
       "      (2): Linear(in_features=1200, out_features=50, bias=True)\n",
       "      (3): ReLU(inplace)\n",
       "      (4): BatchNorm1d(50, eps=1e-05, momentum=0.1, affine=True, track_running_stats=True)\n",
       "      (5): Dropout(p=0.1)\n",
       "      (6): Linear(in_features=50, out_features=5, bias=True)\n",
       "    )\n",
       "  )\n",
       "), opt_func=functools.partial(<class 'torch.optim.adam.Adam'>, betas=(0.9, 0.99)), loss_func=<fastai.layers.FlattenedLoss object at 0x7f64b1d6b3c8>, metrics=[<function accuracy at 0x7f64b6e79950>], true_wd=True, bn_wd=True, wd=0.01, train_bn=True, path=PosixPath('data/ruSentiment'), model_dir='models', callback_fns=[<class 'fastai.basic_train.Recorder'>, functools.partial(<class 'fastai.callbacks.tracker.SaveModelCallback'>, every='epoch', name='cls')], callbacks=[...], layer_groups=[Sequential(\n",
       "  (0): Embedding(60003, 400, padding_idx=1)\n",
       "  (1): EmbeddingDropout(\n",
       "    (emb): Embedding(60003, 400, padding_idx=1)\n",
       "  )\n",
       "), Sequential(\n",
       "  (0): WeightDropout(\n",
       "    (module): LSTM(400, 1150, batch_first=True)\n",
       "  )\n",
       "  (1): RNNDropout()\n",
       "), Sequential(\n",
       "  (0): WeightDropout(\n",
       "    (module): LSTM(1150, 1150, batch_first=True)\n",
       "  )\n",
       "  (1): RNNDropout()\n",
       "), Sequential(\n",
       "  (0): WeightDropout(\n",
       "    (module): LSTM(1150, 400, batch_first=True)\n",
       "  )\n",
       "  (1): RNNDropout()\n",
       "), Sequential(\n",
       "  (0): PoolingLinearClassifier(\n",
       "    (layers): Sequential(\n",
       "      (0): BatchNorm1d(1200, eps=1e-05, momentum=0.1, affine=True, track_running_stats=True)\n",
       "      (1): Dropout(p=0.2)\n",
       "      (2): Linear(in_features=1200, out_features=50, bias=True)\n",
       "      (3): ReLU(inplace)\n",
       "      (4): BatchNorm1d(50, eps=1e-05, momentum=0.1, affine=True, track_running_stats=True)\n",
       "      (5): Dropout(p=0.1)\n",
       "      (6): Linear(in_features=50, out_features=5, bias=True)\n",
       "    )\n",
       "  )\n",
       ")]), bptt=70, alpha=2.0, beta=1.0, adjust=False)], layer_groups=[Sequential(\n",
       "  (0): Embedding(60003, 400, padding_idx=1)\n",
       "  (1): EmbeddingDropout(\n",
       "    (emb): Embedding(60003, 400, padding_idx=1)\n",
       "  )\n",
       "), Sequential(\n",
       "  (0): WeightDropout(\n",
       "    (module): LSTM(400, 1150, batch_first=True)\n",
       "  )\n",
       "  (1): RNNDropout()\n",
       "), Sequential(\n",
       "  (0): WeightDropout(\n",
       "    (module): LSTM(1150, 1150, batch_first=True)\n",
       "  )\n",
       "  (1): RNNDropout()\n",
       "), Sequential(\n",
       "  (0): WeightDropout(\n",
       "    (module): LSTM(1150, 400, batch_first=True)\n",
       "  )\n",
       "  (1): RNNDropout()\n",
       "), Sequential(\n",
       "  (0): PoolingLinearClassifier(\n",
       "    (layers): Sequential(\n",
       "      (0): BatchNorm1d(1200, eps=1e-05, momentum=0.1, affine=True, track_running_stats=True)\n",
       "      (1): Dropout(p=0.2)\n",
       "      (2): Linear(in_features=1200, out_features=50, bias=True)\n",
       "      (3): ReLU(inplace)\n",
       "      (4): BatchNorm1d(50, eps=1e-05, momentum=0.1, affine=True, track_running_stats=True)\n",
       "      (5): Dropout(p=0.1)\n",
       "      (6): Linear(in_features=50, out_features=5, bias=True)\n",
       "    )\n",
       "  )\n",
       ")])"
      ]
     },
     "execution_count": 114,
     "metadata": {},
     "output_type": "execute_result"
    }
   ],
   "source": [
    "learner.load('best-classifier')"
   ]
  },
  {
   "cell_type": "code",
   "execution_count": 47,
   "metadata": {},
   "outputs": [],
   "source": [
    "# sanity check for accuracy, precision, recall and f1-score\n",
    "preds, targets = learner.get_preds()"
   ]
  },
  {
   "cell_type": "code",
   "execution_count": 48,
   "metadata": {},
   "outputs": [
    {
     "data": {
      "text/plain": [
       "tensor([4, 0, 2, 3, 1])"
      ]
     },
     "execution_count": 48,
     "metadata": {},
     "output_type": "execute_result"
    }
   ],
   "source": [
    "targets.unique()"
   ]
  },
  {
   "cell_type": "code",
   "execution_count": 49,
   "metadata": {},
   "outputs": [],
   "source": [
    "pred_classes = torch.argmax(preds, dim=1)"
   ]
  },
  {
   "cell_type": "code",
   "execution_count": 50,
   "metadata": {},
   "outputs": [],
   "source": [
    "np.set_printoptions(precision=3)"
   ]
  },
  {
   "cell_type": "code",
   "execution_count": 51,
   "metadata": {},
   "outputs": [],
   "source": [
    "from sklearn.metrics import classification_report, confusion_matrix"
   ]
  },
  {
   "cell_type": "code",
   "execution_count": 53,
   "metadata": {},
   "outputs": [
    {
     "name": "stdout",
     "output_type": "stream",
     "text": [
      "              precision    recall  f1-score   support\n",
      "\n",
      "    negative     0.5871    0.6008    0.5939       258\n",
      "     neutral     0.8018    0.7606    0.7806      1420\n",
      "    positive     0.6252    0.7034    0.6620       536\n",
      "        skip     0.5110    0.4682    0.4887       346\n",
      "      speech     0.8968    0.9607    0.9276       407\n",
      "\n",
      "   micro avg     0.7297    0.7297    0.7297      2967\n",
      "   macro avg     0.6844    0.6987    0.6906      2967\n",
      "weighted avg     0.7303    0.7297    0.7291      2967\n",
      "\n"
     ]
    }
   ],
   "source": [
    "print(classification_report(targets, pred_classes, \n",
    "                            target_names=data_clas.train_ds.classes, digits=4))"
   ]
  },
  {
   "cell_type": "code",
   "execution_count": 54,
   "metadata": {},
   "outputs": [
    {
     "data": {
      "text/plain": [
       "(Category neutral,\n",
       " tensor(1),\n",
       " tensor([6.0323e-02, 5.8972e-01, 2.2328e-01, 1.2659e-01, 8.7127e-05]))"
      ]
     },
     "execution_count": 54,
     "metadata": {},
     "output_type": "execute_result"
    }
   ],
   "source": [
    "# check prediction for one example\n",
    "learner.predict('сомнительная перспектива')"
   ]
  },
  {
   "cell_type": "code",
   "execution_count": 55,
   "metadata": {},
   "outputs": [],
   "source": [
    "def plot_confusion_matrix(cm, classes,\n",
    "                          normalize=False,\n",
    "                          title='Confusion matrix',\n",
    "                          cmap=plt.cm.Blues):\n",
    "    \"\"\"\n",
    "    This function prints and plots the confusion matrix.\n",
    "    Normalization can be applied by setting `normalize=True`.\n",
    "    \"\"\"\n",
    "    if normalize:\n",
    "        cm = cm.astype('float') / cm.sum(axis=1)[:, np.newaxis]\n",
    "        print(\"Normalized confusion matrix\")\n",
    "    else:\n",
    "        print('Confusion matrix, without normalization')\n",
    "\n",
    "    print(cm)\n",
    "\n",
    "    plt.imshow(cm, interpolation='nearest', cmap=cmap)\n",
    "    plt.title(title)\n",
    "    plt.colorbar()\n",
    "    tick_marks = np.arange(len(classes))\n",
    "    plt.xticks(tick_marks, classes, rotation=45)\n",
    "    plt.yticks(tick_marks, classes)\n",
    "\n",
    "    fmt = '.2f' if normalize else 'd'\n",
    "    thresh = cm.max() / 2.\n",
    "    for i, j in itertools.product(range(cm.shape[0]), range(cm.shape[1])):\n",
    "        plt.text(j, i, format(cm[i, j], fmt),\n",
    "                 horizontalalignment=\"center\",\n",
    "                 color=\"white\" if cm[i, j] > thresh else \"black\")\n",
    "\n",
    "    plt.ylabel('True label')\n",
    "    plt.xlabel('Predicted label')\n",
    "    plt.tight_layout()"
   ]
  },
  {
   "cell_type": "code",
   "execution_count": 56,
   "metadata": {},
   "outputs": [
    {
     "name": "stdout",
     "output_type": "stream",
     "text": [
      "Confusion matrix, without normalization\n",
      "[[ 155   68   15   19    1]\n",
      " [  74 1080  160   93   13]\n",
      " [  11   88  377   39   21]\n",
      " [  24  105   45  162   10]\n",
      " [   0    6    6    4  391]]\n",
      "Normalized confusion matrix\n",
      "[[0.601 0.264 0.058 0.074 0.004]\n",
      " [0.052 0.761 0.113 0.065 0.009]\n",
      " [0.021 0.164 0.703 0.073 0.039]\n",
      " [0.069 0.303 0.13  0.468 0.029]\n",
      " [0.    0.015 0.015 0.01  0.961]]\n"
     ]
    },
    {
     "data": {
      "image/png": "[encoded data removed]",
      "text/plain": [
       "<Figure size 432x288 with 2 Axes>"
      ]
     },
     "metadata": {
      "needs_background": "light"
     },
     "output_type": "display_data"
    },
    {
     "data": {
      "image/png": "[encoded data removed]",
      "text/plain": [
       "<Figure size 432x288 with 2 Axes>"
      ]
     },
     "metadata": {
      "needs_background": "light"
     },
     "output_type": "display_data"
    }
   ],
   "source": [
    "# Compute confusion matrix\n",
    "cnf_matrix = confusion_matrix(targets, pred_classes)\n",
    "\n",
    "\n",
    "# Plot non-normalized confusion matrix\n",
    "plt.figure()\n",
    "plot_confusion_matrix(cnf_matrix, classes=data_clas.train_ds.classes,\n",
    "                      title='Confusion matrix, without normalization')\n",
    "# Plot normalized confusion matrix\n",
    "plt.figure()\n",
    "plot_confusion_matrix(cnf_matrix, classes=data_clas.train_ds.classes, normalize=True,\n",
    "                      title='Normalized confusion matrix')\n",
    "\n",
    "plt.show()"
   ]
  },
  {
   "cell_type": "code",
   "execution_count": null,
   "metadata": {},
   "outputs": [],
   "source": []
  }
 ],
 "metadata": {
  "kernelspec": {
   "display_name": "fastai-py36",
   "language": "python",
   "name": "fastai-py36"
  },
  "language_info": {
   "codemirror_mode": {
    "name": "ipython",
    "version": 3
   },
   "file_extension": ".py",
   "mimetype": "text/x-python",
   "name": "python",
   "nbconvert_exporter": "python",
   "pygments_lexer": "ipython3",
   "version": "3.6.5"
  },
  "toc": {
   "base_numbering": 1,
   "nav_menu": {},
   "number_sections": true,
   "sideBar": true,
   "skip_h1_title": false,
   "title_cell": "Table of Contents",
   "title_sidebar": "Contents",
   "toc_cell": false,
   "toc_position": {},
   "toc_section_display": true,
   "toc_window_display": true
  }
 },
 "nbformat": 4,
 "nbformat_minor": 2
}
