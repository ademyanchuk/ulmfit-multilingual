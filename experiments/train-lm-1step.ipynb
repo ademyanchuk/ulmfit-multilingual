{
 "cells": [
  {
   "cell_type": "code",
   "execution_count": 1,
   "metadata": {},
   "outputs": [],
   "source": [
    "%reload_ext autoreload\n",
    "%autoreload 2\n",
    "%matplotlib inline"
   ]
  },
  {
   "cell_type": "code",
   "execution_count": 2,
   "metadata": {},
   "outputs": [
    {
     "name": "stdout",
     "output_type": "stream",
     "text": [
      "/home/ds/DataScience/home/ademyanchuk/Projects/ulmfit-multilingual\n"
     ]
    }
   ],
   "source": [
    "%cd .."
   ]
  },
  {
   "cell_type": "code",
   "execution_count": 3,
   "metadata": {},
   "outputs": [],
   "source": [
    "from fastai import *\n",
    "from fastai.text import *"
   ]
  },
  {
   "cell_type": "code",
   "execution_count": 4,
   "metadata": {},
   "outputs": [],
   "source": [
    "from ulmfit.pretrain_lm import *"
   ]
  },
  {
   "cell_type": "code",
   "execution_count": 5,
   "metadata": {},
   "outputs": [
    {
     "name": "stdout",
     "output_type": "stream",
     "text": [
      "Max vocab: 60000\n",
      "Cache dir: data/wiki/ru-100/models/v60k\n",
      "Model dir: data/wiki/ru-100/models/v60k/lstm_russian.m\n"
     ]
    }
   ],
   "source": [
    "exp = LMHyperParams(dataset_path='data/wiki/ru-100/', qrnn=False, tokenizer='v',\n",
    "                    lang='ru', name='russian')"
   ]
  },
  {
   "cell_type": "code",
   "execution_count": 6,
   "metadata": {},
   "outputs": [
    {
     "name": "stdout",
     "output_type": "stream",
     "text": [
      "Size of vocabulary: 60007\n",
      "First 20 words in vocab: ['xxunk', 'xxpad', 'xxbos', 'xxfld', 'xxmaj', 'xxup', 'xxrep', 'xxwrep', ',', 'в', '.', 'и', '(', ')', 'на', '—', '»', '«', 'с', 'года']\n"
     ]
    }
   ],
   "source": [
    "data_lm = exp.load_wiki_data(bs=20)"
   ]
  },
  {
   "cell_type": "code",
   "execution_count": 7,
   "metadata": {
    "scrolled": true
   },
   "outputs": [
    {
     "data": {
      "text/plain": [
       "20"
      ]
     },
     "execution_count": 7,
     "metadata": {},
     "output_type": "execute_result"
    }
   ],
   "source": [
    "data_lm.train_dl.batch_size"
   ]
  },
  {
   "cell_type": "code",
   "execution_count": 8,
   "metadata": {},
   "outputs": [
    {
     "data": {
      "text/plain": [
       "66131"
      ]
     },
     "execution_count": 8,
     "metadata": {},
     "output_type": "execute_result"
    }
   ],
   "source": [
    "len(data_lm.train_dl)"
   ]
  },
  {
   "cell_type": "code",
   "execution_count": 9,
   "metadata": {},
   "outputs": [
    {
     "data": {
      "text/html": [
       "<table>  <col width='5%'>  <col width='95%'>  <tr>\n",
       "    <th>idx</th>\n",
       "    <th>text</th>\n",
       "  </tr>\n",
       "  <tr>\n",
       "    <th>0</th>\n",
       "    <th>xxbos \\n= Теория Маркуса xxunk xxunk конце 50-х — начале 60-х годов XX века Р. Маркус предложил теорию , xxunk перенос электрона в xxunk xxunk в рамках xxunk приближения . Затем теория Маркуса , известная также как теория переходного состояния ( ) , xxunk на xxunk процессы xxunk вклад Маркуса заключался в xxunk влияния растворителя на перенос электрона . Он рассмотрел движение электрона по поверхности потенциальной энергии , координатами которой</th>\n",
       "  </tr>\n",
       "  <tr>\n",
       "    <th>1</th>\n",
       "    <th>его подготовку к xxunk в марафоне « Париж — Дакар » 1978 года . Две xxunk xxunk . xxunk « xxunk » оказались в числе трети xxunk участников , благополучно xxunk в этом соревновании . В 1981 году французская команда , выступавшая на этих автомобилях , сумела занять третье место , а в сезоне 1982 года — второе . В дальнейшем французским xxunk неоднократно удавалось занимать призовые места на xxunk</th>\n",
       "  </tr>\n",
       "  <tr>\n",
       "    <th>2</th>\n",
       "    <th>, никогда не живших даже близко к Москве .\\n\\nПоявление и становление Москвы .\\nРека Москва представляла собой xxunk звено между важными торговыми путями . Её верхнее течение почти xxunk к северной части xxunk торгового пути , xxunk далее через озеро xxunk и Великий Новгород ( либо через Западную Двину и Полоцк ) в Балтику . С верхней Волги вниз по Днепру через Смоленск и Киев можно было попасть в Чёрное море</th>\n",
       "  </tr>\n",
       "  <tr>\n",
       "    <th>3</th>\n",
       "    <th>среднее учтено в xxunk , которая обязательно присутствует в числе факторов , а возможная xxunk xxunk учитывается за счет соответствующего xxunk всех коэффициентов b .\\n\\nКак и в общем случае модели xxunk выбора в основе модели лежит предположение о наличии некоторой скрытой ( не xxunk ) переменной formula _ 12 , в зависимости от значений которой xxunk переменная formula _ 2 принимает значение formula _ 4 или formula _ 3 xxunk</th>\n",
       "  </tr>\n",
       "  <tr>\n",
       "    <th>4</th>\n",
       "    <th>xxunk на территории современных Европы , Северной Америки и Центральной Азии , в xxunk периоде в Австралии и Антарктиде . В России обнаружены в верхнем xxunk Амурской области .\\n\\nСистематика .\\nКлассификация .\\nПо данным сайта xxunk , на сентябрь 2017 года в xxunk включают следующие таксоны xxunk больше десятка родов включают в xxunk в статусе &quot; xxunk xxunk &quot; : xxunk xxunk представлена Ричардом xxunk и его коллегами в 2011 году :\\n\\n\\n</th>\n",
       "  </tr>\n",
       "</table>\n"
      ],
      "text/plain": [
       "<IPython.core.display.HTML object>"
      ]
     },
     "metadata": {},
     "output_type": "display_data"
    }
   ],
   "source": [
    "data_lm.show_batch()"
   ]
  },
  {
   "cell_type": "code",
   "execution_count": 10,
   "metadata": {},
   "outputs": [
    {
     "name": "stdout",
     "output_type": "stream",
     "text": [
      "Training args:  {'tie_weights': True, 'clip': 0.12, 'bptt': 70, 'pretrained_fnames': None, 'pretrained_model': None} dps:  [0.25 0.1  0.2  0.02 0.15]\n"
     ]
    }
   ],
   "source": [
    "learn = exp.create_lm_learner(data_lm=data_lm)"
   ]
  },
  {
   "cell_type": "code",
   "execution_count": 14,
   "metadata": {},
   "outputs": [
    {
     "name": "stdout",
     "output_type": "stream",
     "text": [
      "LR Finder is complete, type {learner_name}.recorder.plot() to see the graph.\n"
     ]
    }
   ],
   "source": [
    "learn.lr_find()"
   ]
  },
  {
   "cell_type": "code",
   "execution_count": 15,
   "metadata": {},
   "outputs": [
    {
     "data": {
      "image/png": "[encoded data removed]",
      "text/plain": [
       "<Figure size 432x288 with 1 Axes>"
      ]
     },
     "metadata": {
      "needs_background": "light"
     },
     "output_type": "display_data"
    }
   ],
   "source": [
    "learn.recorder.plot(skip_end=15)"
   ]
  },
  {
   "cell_type": "code",
   "execution_count": 13,
   "metadata": {},
   "outputs": [],
   "source": [
    "learn.unfreeze()"
   ]
  },
  {
   "cell_type": "code",
   "execution_count": 16,
   "metadata": {
    "scrolled": false
   },
   "outputs": [
    {
     "data": {
      "text/html": [
       "Total time: 16:58:21 <p><table style='width:300px; margin-bottom:10px'>\n",
       "  <tr>\n",
       "    <th>epoch</th>\n",
       "    <th>train_loss</th>\n",
       "    <th>valid_loss</th>\n",
       "    <th>accuracy</th>\n",
       "  </tr>\n",
       "  <tr>\n",
       "    <th>1</th>\n",
       "    <th>4.790559</th>\n",
       "    <th>4.490133</th>\n",
       "    <th>0.323604</th>\n",
       "  </tr>\n",
       "  <tr>\n",
       "    <th>2</th>\n",
       "    <th>4.864450</th>\n",
       "    <th>4.500994</th>\n",
       "    <th>0.319487</th>\n",
       "  </tr>\n",
       "  <tr>\n",
       "    <th>3</th>\n",
       "    <th>4.748384</th>\n",
       "    <th>4.529564</th>\n",
       "    <th>0.316132</th>\n",
       "  </tr>\n",
       "  <tr>\n",
       "    <th>4</th>\n",
       "    <th>4.849702</th>\n",
       "    <th>4.508623</th>\n",
       "    <th>0.316207</th>\n",
       "  </tr>\n",
       "  <tr>\n",
       "    <th>5</th>\n",
       "    <th>4.770301</th>\n",
       "    <th>4.496254</th>\n",
       "    <th>0.319752</th>\n",
       "  </tr>\n",
       "  <tr>\n",
       "    <th>6</th>\n",
       "    <th>4.720208</th>\n",
       "    <th>4.406010</th>\n",
       "    <th>0.327390</th>\n",
       "  </tr>\n",
       "  <tr>\n",
       "    <th>7</th>\n",
       "    <th>4.711561</th>\n",
       "    <th>4.319860</th>\n",
       "    <th>0.332331</th>\n",
       "  </tr>\n",
       "  <tr>\n",
       "    <th>8</th>\n",
       "    <th>4.501110</th>\n",
       "    <th>4.232864</th>\n",
       "    <th>0.340277</th>\n",
       "  </tr>\n",
       "  <tr>\n",
       "    <th>9</th>\n",
       "    <th>4.592453</th>\n",
       "    <th>4.178996</th>\n",
       "    <th>0.348836</th>\n",
       "  </tr>\n",
       "  <tr>\n",
       "    <th>10</th>\n",
       "    <th>4.533059</th>\n",
       "    <th>4.158452</th>\n",
       "    <th>0.351359</th>\n",
       "  </tr>\n",
       "</table>\n"
      ],
      "text/plain": [
       "<IPython.core.display.HTML object>"
      ]
     },
     "metadata": {},
     "output_type": "display_data"
    }
   ],
   "source": [
    "learn.fit_one_cycle(10, 5e-3, moms=(0.8,0.7))"
   ]
  },
  {
   "cell_type": "code",
   "execution_count": 17,
   "metadata": {},
   "outputs": [],
   "source": [
    "learn.save(\"lm_10i\")"
   ]
  },
  {
   "cell_type": "code",
   "execution_count": 18,
   "metadata": {},
   "outputs": [
    {
     "data": {
      "text/html": [
       "Total time: 16:55:56 <p><table style='width:300px; margin-bottom:10px'>\n",
       "  <tr>\n",
       "    <th>epoch</th>\n",
       "    <th>train_loss</th>\n",
       "    <th>valid_loss</th>\n",
       "    <th>accuracy</th>\n",
       "  </tr>\n",
       "  <tr>\n",
       "    <th>1</th>\n",
       "    <th>4.472561</th>\n",
       "    <th>4.172580</th>\n",
       "    <th>0.347433</th>\n",
       "  </tr>\n",
       "  <tr>\n",
       "    <th>2</th>\n",
       "    <th>4.535592</th>\n",
       "    <th>4.231564</th>\n",
       "    <th>0.345258</th>\n",
       "  </tr>\n",
       "  <tr>\n",
       "    <th>3</th>\n",
       "    <th>4.665092</th>\n",
       "    <th>4.226340</th>\n",
       "    <th>0.340519</th>\n",
       "  </tr>\n",
       "  <tr>\n",
       "    <th>4</th>\n",
       "    <th>4.571750</th>\n",
       "    <th>4.222316</th>\n",
       "    <th>0.344372</th>\n",
       "  </tr>\n",
       "  <tr>\n",
       "    <th>5</th>\n",
       "    <th>4.577867</th>\n",
       "    <th>4.177708</th>\n",
       "    <th>0.344268</th>\n",
       "  </tr>\n",
       "  <tr>\n",
       "    <th>6</th>\n",
       "    <th>4.619215</th>\n",
       "    <th>4.155945</th>\n",
       "    <th>0.351058</th>\n",
       "  </tr>\n",
       "  <tr>\n",
       "    <th>7</th>\n",
       "    <th>4.584020</th>\n",
       "    <th>4.134072</th>\n",
       "    <th>0.352429</th>\n",
       "  </tr>\n",
       "  <tr>\n",
       "    <th>8</th>\n",
       "    <th>4.325761</th>\n",
       "    <th>4.128910</th>\n",
       "    <th>0.353810</th>\n",
       "  </tr>\n",
       "  <tr>\n",
       "    <th>9</th>\n",
       "    <th>4.486596</th>\n",
       "    <th>4.115236</th>\n",
       "    <th>0.356344</th>\n",
       "  </tr>\n",
       "  <tr>\n",
       "    <th>10</th>\n",
       "    <th>4.508442</th>\n",
       "    <th>4.109302</th>\n",
       "    <th>0.357113</th>\n",
       "  </tr>\n",
       "</table>\n"
      ],
      "text/plain": [
       "<IPython.core.display.HTML object>"
      ]
     },
     "metadata": {},
     "output_type": "display_data"
    }
   ],
   "source": [
    "learn.fit_one_cycle(10, 1e-3, moms=(0.8,0.7))"
   ]
  },
  {
   "cell_type": "code",
   "execution_count": 19,
   "metadata": {},
   "outputs": [],
   "source": [
    "learn.save(\"lm_20i\")"
   ]
  },
  {
   "cell_type": "code",
   "execution_count": null,
   "metadata": {},
   "outputs": [],
   "source": []
  }
 ],
 "metadata": {
  "kernelspec": {
   "display_name": "fastai-py36",
   "language": "python",
   "name": "fastai-py36"
  },
  "language_info": {
   "codemirror_mode": {
    "name": "ipython",
    "version": 3
   },
   "file_extension": ".py",
   "mimetype": "text/x-python",
   "name": "python",
   "nbconvert_exporter": "python",
   "pygments_lexer": "ipython3",
   "version": "3.6.5"
  }
 },
 "nbformat": 4,
 "nbformat_minor": 2
}
