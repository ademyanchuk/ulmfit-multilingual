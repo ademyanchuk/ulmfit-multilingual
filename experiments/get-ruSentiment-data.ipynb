{
 "cells": [
  {
   "cell_type": "markdown",
   "metadata": {},
   "source": [
    "**this file is for downloading ruSentiment data (http://text-machine.cs.uml.edu/projects/rusentiment/)**"
   ]
  },
  {
   "cell_type": "code",
   "execution_count": 2,
   "metadata": {},
   "outputs": [
    {
     "name": "stdout",
     "output_type": "stream",
     "text": [
      "/Users/alexeydemyanchuk/Projects/ulmfit-multilingual\n"
     ]
    }
   ],
   "source": [
    "%cd .."
   ]
  },
  {
   "cell_type": "code",
   "execution_count": 12,
   "metadata": {},
   "outputs": [],
   "source": [
    "import os\n",
    "import requests\n",
    "from pathlib import Path"
   ]
  },
  {
   "cell_type": "code",
   "execution_count": 4,
   "metadata": {},
   "outputs": [],
   "source": [
    "os.makedirs('data/ruSentiment', exist_ok=True)"
   ]
  },
  {
   "cell_type": "code",
   "execution_count": 13,
   "metadata": {},
   "outputs": [],
   "source": [
    "ru_sent_path = Path('data/ruSentiment/')"
   ]
  },
  {
   "cell_type": "code",
   "execution_count": 6,
   "metadata": {},
   "outputs": [],
   "source": [
    "BASE_URL = 'https://raw.githubusercontent.com/text-machine-lab/rusentiment/master/Dataset/'"
   ]
  },
  {
   "cell_type": "code",
   "execution_count": 14,
   "metadata": {},
   "outputs": [],
   "source": [
    "f_names = ['rusentiment_preselected_posts.csv', 'rusentiment_random_posts.csv','rusentiment_test.csv']"
   ]
  },
  {
   "cell_type": "code",
   "execution_count": 15,
   "metadata": {},
   "outputs": [],
   "source": [
    "urls = [BASE_URL + name for name in f_names]"
   ]
  },
  {
   "cell_type": "code",
   "execution_count": 18,
   "metadata": {},
   "outputs": [
    {
     "name": "stdout",
     "output_type": "stream",
     "text": [
      "200\n",
      "text/plain; charset=utf-8\n",
      "utf-8\n",
      "200\n",
      "text/plain; charset=utf-8\n",
      "utf-8\n",
      "200\n",
      "text/plain; charset=utf-8\n",
      "utf-8\n"
     ]
    }
   ],
   "source": [
    "for url, fname in zip(urls, f_names):\n",
    "    r = requests.get(url)\n",
    "\n",
    "    with open(ru_sent_path/fname, 'wb') as f:  \n",
    "        f.write(r.content)\n",
    "\n",
    "    # Retrieve HTTP meta-data\n",
    "    print(r.status_code)  \n",
    "    print(r.headers['content-type'])  \n",
    "    print(r.encoding)  "
   ]
  },
  {
   "cell_type": "code",
   "execution_count": null,
   "metadata": {},
   "outputs": [],
   "source": []
  }
 ],
 "metadata": {
  "kernelspec": {
   "display_name": "Python 3",
   "language": "python",
   "name": "python3"
  },
  "language_info": {
   "codemirror_mode": {
    "name": "ipython",
    "version": 3
   },
   "file_extension": ".py",
   "mimetype": "text/x-python",
   "name": "python",
   "nbconvert_exporter": "python",
   "pygments_lexer": "ipython3",
   "version": "3.6.5"
  },
  "toc": {
   "base_numbering": 1,
   "nav_menu": {},
   "number_sections": true,
   "sideBar": true,
   "skip_h1_title": false,
   "title_cell": "Table of Contents",
   "title_sidebar": "Contents",
   "toc_cell": false,
   "toc_position": {},
   "toc_section_display": true,
   "toc_window_display": false
  }
 },
 "nbformat": 4,
 "nbformat_minor": 2
}
